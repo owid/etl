{
 "cells": [
  {
   "cell_type": "code",
   "execution_count": 2,
   "id": "ca9cfb57-1a03-4c9f-9289-6502d6e66351",
   "metadata": {},
   "outputs": [],
   "source": [
    "import pandas as pd"
   ]
  },
  {
   "cell_type": "code",
   "execution_count": 5,
   "id": "541fd061-0770-4010-b4ba-3c7b9c7194ee",
   "metadata": {},
   "outputs": [],
   "source": [
    "df = pd.DataFrame.from_dict({\"a\": [\"test\", \"3\", \"4\"]})"
   ]
  },
  {
   "cell_type": "code",
   "execution_count": 9,
   "id": "fe7d4d2f-fd7a-4704-ae67-6b7a85ce48e2",
   "metadata": {},
   "outputs": [
    {
     "data": {
      "text/plain": [
       "0    test\n",
       "1       3\n",
       "2       4\n",
       "Name: a, dtype: object"
      ]
     },
     "execution_count": 9,
     "metadata": {},
     "output_type": "execute_result"
    }
   ],
   "source": [
    "df.a"
   ]
  },
  {
   "cell_type": "code",
   "execution_count": 8,
   "id": "10c40ac8-4e14-46bc-8869-8aca622e7303",
   "metadata": {},
   "outputs": [
    {
     "data": {
      "text/plain": [
       "0    test\n",
       "1       3\n",
       "2       4\n",
       "Name: a, dtype: object"
      ]
     },
     "execution_count": 8,
     "metadata": {},
     "output_type": "execute_result"
    }
   ],
   "source": [
    "bla = df.a.astype(float, errors=\"ignore\")\n",
    "bla"
   ]
  },
  {
   "cell_type": "code",
   "execution_count": 11,
   "id": "6cfe20c6-9571-4597-9df9-db38878f1ede",
   "metadata": {},
   "outputs": [
    {
     "ename": "TypeError",
     "evalue": "can only concatenate str (not \"int\") to str",
     "output_type": "error",
     "traceback": [
      "\u001b[0;31m---------------------------------------------------------------------------\u001b[0m",
      "\u001b[0;31mTypeError\u001b[0m                                 Traceback (most recent call last)",
      "\u001b[0;32m/tmp/ipykernel_5583/4276869761.py\u001b[0m in \u001b[0;36m<cell line: 1>\u001b[0;34m()\u001b[0m\n\u001b[0;32m----> 1\u001b[0;31m \u001b[0mbla\u001b[0m\u001b[0;34m[\u001b[0m\u001b[0;36m1\u001b[0m\u001b[0;34m]\u001b[0m \u001b[0;34m+\u001b[0m \u001b[0;36m4\u001b[0m\u001b[0;34m\u001b[0m\u001b[0;34m\u001b[0m\u001b[0m\n\u001b[0m",
      "\u001b[0;31mTypeError\u001b[0m: can only concatenate str (not \"int\") to str"
     ]
    }
   ],
   "source": [
    "bla[1] + 4"
   ]
  },
  {
   "cell_type": "code",
   "execution_count": null,
   "id": "1e63aefa-63bf-4fef-89e8-964d58b50f13",
   "metadata": {},
   "outputs": [],
   "source": []
  }
 ],
 "metadata": {
  "kernelspec": {
   "display_name": "Python 3 (ipykernel)",
   "language": "python",
   "name": "python3"
  },
  "language_info": {
   "codemirror_mode": {
    "name": "ipython",
    "version": 3
   },
   "file_extension": ".py",
   "mimetype": "text/x-python",
   "name": "python",
   "nbconvert_exporter": "python",
   "pygments_lexer": "ipython3",
   "version": "3.9.5"
  }
 },
 "nbformat": 4,
 "nbformat_minor": 5
}
