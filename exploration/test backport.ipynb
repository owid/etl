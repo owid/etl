{
 "cells": [
  {
   "cell_type": "code",
   "execution_count": 1,
   "id": "9ce346f1-7e93-44f3-b95d-81045b5c8b81",
   "metadata": {},
   "outputs": [],
   "source": [
    "import pandas as pd\n",
    "from owid import catalog"
   ]
  },
  {
   "cell_type": "code",
   "execution_count": 2,
   "id": "2d3194e4-17e1-4549-bf4e-e6a262731db8",
   "metadata": {},
   "outputs": [],
   "source": [
    "import matplotlib as mp"
   ]
  },
  {
   "cell_type": "code",
   "execution_count": 3,
   "id": "80218726-7685-463d-9e14-fea5e52a6551",
   "metadata": {},
   "outputs": [],
   "source": [
    "ds_backport = catalog.Dataset(\"../data/backport/owid/latest/dataset_324_global_education__oecd_plus_iiasa__2016\")"
   ]
  },
  {
   "cell_type": "code",
   "execution_count": 6,
   "id": "37614fae-4c25-4e00-b8b5-e58fee1b7e58",
   "metadata": {},
   "outputs": [
    {
     "data": {
      "text/plain": [
       "['dataset_324_global_education__oecd_plus_iiasa__2016']"
      ]
     },
     "execution_count": 6,
     "metadata": {},
     "output_type": "execute_result"
    }
   ],
   "source": [
    "ds_backport.table_names"
   ]
  },
  {
   "cell_type": "code",
   "execution_count": 7,
   "id": "f3ca6d75-71ea-499e-accf-452973d13d18",
   "metadata": {},
   "outputs": [
    {
     "data": {
      "text/html": [
       "<div>\n",
       "<style scoped>\n",
       "    .dataframe tbody tr th:only-of-type {\n",
       "        vertical-align: middle;\n",
       "    }\n",
       "\n",
       "    .dataframe tbody tr th {\n",
       "        vertical-align: top;\n",
       "    }\n",
       "\n",
       "    .dataframe thead th {\n",
       "        text-align: right;\n",
       "    }\n",
       "</style>\n",
       "<table border=\"1\" class=\"dataframe\">\n",
       "  <thead>\n",
       "    <tr style=\"text-align: right;\">\n",
       "      <th></th>\n",
       "      <th></th>\n",
       "      <th>share_that_has_at_least_some_formal_basic_education__oecd_plus_iiasa__2016</th>\n",
       "      <th>share_without_any_formal_education__oecd_plus_iiasa__2016</th>\n",
       "    </tr>\n",
       "    <tr>\n",
       "      <th>entity_name</th>\n",
       "      <th>year</th>\n",
       "      <th></th>\n",
       "      <th></th>\n",
       "    </tr>\n",
       "  </thead>\n",
       "  <tbody>\n",
       "    <tr>\n",
       "      <th rowspan=\"21\" valign=\"top\">World</th>\n",
       "      <th>1820</th>\n",
       "      <td>17.200001</td>\n",
       "      <td>82.800003</td>\n",
       "    </tr>\n",
       "    <tr>\n",
       "      <th>1870</th>\n",
       "      <td>23.900000</td>\n",
       "      <td>76.099998</td>\n",
       "    </tr>\n",
       "    <tr>\n",
       "      <th>1880</th>\n",
       "      <td>26.700001</td>\n",
       "      <td>73.300003</td>\n",
       "    </tr>\n",
       "    <tr>\n",
       "      <th>1890</th>\n",
       "      <td>29.600000</td>\n",
       "      <td>70.400002</td>\n",
       "    </tr>\n",
       "    <tr>\n",
       "      <th>1900</th>\n",
       "      <td>33.200001</td>\n",
       "      <td>66.800003</td>\n",
       "    </tr>\n",
       "    <tr>\n",
       "      <th>1910</th>\n",
       "      <td>35.599998</td>\n",
       "      <td>64.400002</td>\n",
       "    </tr>\n",
       "    <tr>\n",
       "      <th>1920</th>\n",
       "      <td>38.599998</td>\n",
       "      <td>61.400002</td>\n",
       "    </tr>\n",
       "    <tr>\n",
       "      <th>1930</th>\n",
       "      <td>40.900002</td>\n",
       "      <td>59.099998</td>\n",
       "    </tr>\n",
       "    <tr>\n",
       "      <th>1940</th>\n",
       "      <td>45.900002</td>\n",
       "      <td>54.099998</td>\n",
       "    </tr>\n",
       "    <tr>\n",
       "      <th>1950</th>\n",
       "      <td>49.000000</td>\n",
       "      <td>51.000000</td>\n",
       "    </tr>\n",
       "    <tr>\n",
       "      <th>1960</th>\n",
       "      <td>53.700001</td>\n",
       "      <td>46.299999</td>\n",
       "    </tr>\n",
       "    <tr>\n",
       "      <th>1970</th>\n",
       "      <td>63.000000</td>\n",
       "      <td>37.000000</td>\n",
       "    </tr>\n",
       "    <tr>\n",
       "      <th>1975</th>\n",
       "      <td>66.000000</td>\n",
       "      <td>34.000000</td>\n",
       "    </tr>\n",
       "    <tr>\n",
       "      <th>1980</th>\n",
       "      <td>70.000000</td>\n",
       "      <td>30.000000</td>\n",
       "    </tr>\n",
       "    <tr>\n",
       "      <th>1985</th>\n",
       "      <td>73.000000</td>\n",
       "      <td>27.000000</td>\n",
       "    </tr>\n",
       "    <tr>\n",
       "      <th>1990</th>\n",
       "      <td>75.000000</td>\n",
       "      <td>25.000000</td>\n",
       "    </tr>\n",
       "    <tr>\n",
       "      <th>1995</th>\n",
       "      <td>78.000000</td>\n",
       "      <td>22.000000</td>\n",
       "    </tr>\n",
       "    <tr>\n",
       "      <th>2000</th>\n",
       "      <td>80.000000</td>\n",
       "      <td>20.000000</td>\n",
       "    </tr>\n",
       "    <tr>\n",
       "      <th>2005</th>\n",
       "      <td>82.000000</td>\n",
       "      <td>18.000000</td>\n",
       "    </tr>\n",
       "    <tr>\n",
       "      <th>2010</th>\n",
       "      <td>84.000000</td>\n",
       "      <td>16.000000</td>\n",
       "    </tr>\n",
       "    <tr>\n",
       "      <th>2015</th>\n",
       "      <td>86.000000</td>\n",
       "      <td>14.000000</td>\n",
       "    </tr>\n",
       "  </tbody>\n",
       "</table>\n",
       "</div>"
      ],
      "text/plain": [
       "                  share_that_has_at_least_some_formal_basic_education__oecd_plus_iiasa__2016  \\\n",
       "entity_name year                                                                               \n",
       "World       1820                                          17.200001                            \n",
       "            1870                                          23.900000                            \n",
       "            1880                                          26.700001                            \n",
       "            1890                                          29.600000                            \n",
       "            1900                                          33.200001                            \n",
       "            1910                                          35.599998                            \n",
       "            1920                                          38.599998                            \n",
       "            1930                                          40.900002                            \n",
       "            1940                                          45.900002                            \n",
       "            1950                                          49.000000                            \n",
       "            1960                                          53.700001                            \n",
       "            1970                                          63.000000                            \n",
       "            1975                                          66.000000                            \n",
       "            1980                                          70.000000                            \n",
       "            1985                                          73.000000                            \n",
       "            1990                                          75.000000                            \n",
       "            1995                                          78.000000                            \n",
       "            2000                                          80.000000                            \n",
       "            2005                                          82.000000                            \n",
       "            2010                                          84.000000                            \n",
       "            2015                                          86.000000                            \n",
       "\n",
       "                  share_without_any_formal_education__oecd_plus_iiasa__2016  \n",
       "entity_name year                                                             \n",
       "World       1820                                          82.800003          \n",
       "            1870                                          76.099998          \n",
       "            1880                                          73.300003          \n",
       "            1890                                          70.400002          \n",
       "            1900                                          66.800003          \n",
       "            1910                                          64.400002          \n",
       "            1920                                          61.400002          \n",
       "            1930                                          59.099998          \n",
       "            1940                                          54.099998          \n",
       "            1950                                          51.000000          \n",
       "            1960                                          46.299999          \n",
       "            1970                                          37.000000          \n",
       "            1975                                          34.000000          \n",
       "            1980                                          30.000000          \n",
       "            1985                                          27.000000          \n",
       "            1990                                          25.000000          \n",
       "            1995                                          22.000000          \n",
       "            2000                                          20.000000          \n",
       "            2005                                          18.000000          \n",
       "            2010                                          16.000000          \n",
       "            2015                                          14.000000          "
      ]
     },
     "execution_count": 7,
     "metadata": {},
     "output_type": "execute_result"
    }
   ],
   "source": [
    "df = ds_backport[\"dataset_324_global_education__oecd_plus_iiasa__2016\"]\n",
    "df"
   ]
  },
  {
   "cell_type": "code",
   "execution_count": 21,
   "id": "464b6f58-4f00-4eef-afcc-6f3134a1fcef",
   "metadata": {},
   "outputs": [],
   "source": [
    "df.reset_index(inplace=True)"
   ]
  },
  {
   "cell_type": "code",
   "execution_count": 23,
   "id": "ff6dc960-3c9c-4982-97d5-c6fd5582e239",
   "metadata": {},
   "outputs": [
    {
     "data": {
      "text/plain": [
       "<AxesSubplot:xlabel='year'>"
      ]
     },
     "execution_count": 23,
     "metadata": {},
     "output_type": "execute_result"
    },
    {
     "data": {
      "image/png": "[encoded data removed]",
      "text/plain": [
       "<Figure size 432x288 with 1 Axes>"
      ]
     },
     "metadata": {
      "needs_background": "light"
     },
     "output_type": "display_data"
    }
   ],
   "source": [
    "df.plot(x=\"year\", y=\"children_that_survived_past_5_years_of_age_per_woman__based_on_gapminder__2017\")"
   ]
  },
  {
   "cell_type": "code",
   "execution_count": 30,
   "id": "eb088238-7ec6-4889-afb3-3125d8c665bc",
   "metadata": {},
   "outputs": [],
   "source": [
    "ds_backport = catalog.Dataset(\"data/backport/owid/latest/dataset_997_decomposition_of_gender_wage_gap_2010__blau_and_kahn__2017\")"
   ]
  },
  {
   "cell_type": "code",
   "execution_count": 31,
   "id": "551b3283-e1aa-4e6d-883a-5b27d68a57ee",
   "metadata": {},
   "outputs": [
    {
     "data": {
      "text/plain": [
       "['dataset_997_decomposition_of_gender_wage_gap_2010__blau_and_kahn__2017']"
      ]
     },
     "execution_count": 31,
     "metadata": {},
     "output_type": "execute_result"
    }
   ],
   "source": [
    "ds_backport.table_names"
   ]
  },
  {
   "cell_type": "code",
   "execution_count": null,
   "id": "bca1e400-c481-434b-8a9d-74a014b560d5",
   "metadata": {},
   "outputs": [],
   "source": []
  }
 ],
 "metadata": {
  "kernelspec": {
   "display_name": "Python 3 (ipykernel)",
   "language": "python",
   "name": "python3"
  },
  "language_info": {
   "codemirror_mode": {
    "name": "ipython",
    "version": 3
   },
   "file_extension": ".py",
   "mimetype": "text/x-python",
   "name": "python",
   "nbconvert_exporter": "python",
   "pygments_lexer": "ipython3",
   "version": "3.9.5"
  }
 },
 "nbformat": 4,
 "nbformat_minor": 5
}
