{
 "cells": [
  {
   "cell_type": "markdown",
   "id": "2ea80cfc",
   "metadata": {},
   "source": [
    "# Food supply of world regions"
   ]
  },
  {
   "cell_type": "markdown",
   "id": "a69e27c1",
   "metadata": {},
   "source": [
    "This notebook explains how we generated the data on food supply of world regions, shown in this data insight.\n",
    "\n",
    "You can run this notebook on [Google Colab](https://colab.research.google.com/github/owid/etl/blob/docs-technical-publication-agriculturalindicators/docs/analyses/food_supply_of_world_regions/food_supply_of_world_regions.ipynb), or download the folder to run it on your computer: [this notebook](food_supply_of_world_regions.ipynb) | [full folder](https://catalog.owid.io/analyses/food-supply-of-world-regions.zip) (including notebook, input data and results).\n",
    "\n",
    "* TODO: Add link to data insight once published.\n",
    "* TODO: Replace branch with master before merging."
   ]
  },
  {
   "cell_type": "markdown",
   "id": "4530449d",
   "metadata": {},
   "source": [
    "## Initial setup\n",
    "### Install and import requirements\n",
    "\n",
    "To be able to run the code, there are some libraries you may need to install."
   ]
  },
  {
   "cell_type": "markdown",
   "id": "339a350e",
   "metadata": {},
   "source": [
    "* TODO: Decide if we need to import modules (possibly a subset of FAOSTAT data), and update link to point to master."
   ]
  },
  {
   "cell_type": "code",
   "execution_count": 3,
   "id": "01d97fa0",
   "metadata": {
    "tags": [
     "collapsed"
    ]
   },
   "outputs": [
    {
     "name": "stdout",
     "output_type": "stream",
     "text": [
      "/Users/prosado/Documents/owid/repos/etl/.venv/bin/python: No module named pip\n",
      "Note: you may need to restart the kernel to use updated packages.\n"
     ]
    }
   ],
   "source": [
    "# Install dependencies\n",
    "%pip install -q pandas==2.2.2 plotly==6.3.0 kaleido==1.1.0\n",
    "# Fetch adjacent modules and files if running in Colab\n",
    "import urllib.request, os, sys\n",
    "if \"google.colab\" in sys.modules:\n",
    "    for file in [\"resouces/faostat_qcl_selected_data.csv\"]:\n",
    "        os.makedirs(os.path.dirname(file) or \".\", exist_ok=True)\n",
    "        urllib.request.urlretrieve(f\"https://raw.githubusercontent.com/owid/etl/blob/docs-technical-publication-agriculturalindicators/docs/analyses/food_supply_of_world_regions/{file}\", file)"
   ]
  },
  {
   "cell_type": "markdown",
   "id": "6566cb9d",
   "metadata": {},
   "source": [
    "Import necessary libraries."
   ]
  },
  {
   "cell_type": "code",
   "execution_count": 1,
   "id": "7a6beeed",
   "metadata": {},
   "outputs": [],
   "source": [
    "import pandas as pd\n",
    "import plotly.express as px"
   ]
  },
  {
   "cell_type": "markdown",
   "id": "8f959d1e",
   "metadata": {},
   "source": [
    "### Set common variables\n",
    "\n",
    "There are some parameters you need to set before the analysis can be run:\n",
    "- <code>VERBOSE</code>: If True, the script will output some information on its progress and intermediary results"
   ]
  },
  {
   "cell_type": "code",
   "execution_count": 2,
   "id": "e218a319",
   "metadata": {},
   "outputs": [],
   "source": [
    "# True to re-run the code; False to load the exported data files.\n",
    "USE_SAVED_RESULTS = False\n",
    "\n",
    "# True to overwrite the output data files.\n",
    "OVERWRITE = True"
   ]
  },
  {
   "cell_type": "markdown",
   "id": "3c3bbd48",
   "metadata": {},
   "source": [
    "## Data processing\n",
    "### Get deaths for each cause of death\n",
    "\n",
    "This data comes from two files, both downloaded from the CDC Wonder database \"[Underlying Cause of Death Data](https://wonder.cdc.gov/deaths-by-underlying-cause.html)\" and hosted on the Our World in Data R2 storage.\n",
    "\n",
    "- The leading causes file is the result when selecting \"Group results by\" - \"15 leading causes of death\" and selecting the year 2023\n",
    "- The external factors file is the result when selecting \"Group result by\" - \"Cause of death\", selecting the year 2023 and only selecting cause of death \"V01-Y89 (External causes of mobidity and mortality)\""
   ]
  }
 ],
 "metadata": {
  "kernelspec": {
   "display_name": "etl",
   "language": "python",
   "name": "python3"
  },
  "language_info": {
   "codemirror_mode": {
    "name": "ipython",
    "version": 3
   },
   "file_extension": ".py",
   "mimetype": "text/x-python",
   "name": "python",
   "nbconvert_exporter": "python",
   "pygments_lexer": "ipython3",
   "version": "3.11.5"
  }
 },
 "nbformat": 4,
 "nbformat_minor": 5
}
