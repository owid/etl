{
 "cells": [
  {
   "cell_type": "markdown",
   "id": "c32d0f47",
   "metadata": {},
   "source": [
    "# Example analysis data pipeline\n",
    "\n",
    "This is a minimal example showing how to integrate tables and charts into Read the Docs documentation using Jupyter notebooks."
   ]
  },
  {
   "cell_type": "code",
   "execution_count": 1,
   "id": "47ca31d1",
   "metadata": {},
   "outputs": [],
   "source": [
    "import pandas as pd"
   ]
  },
  {
   "cell_type": "code",
   "execution_count": 2,
   "id": "f34d8a5c",
   "metadata": {},
   "outputs": [
    {
     "data": {
      "text/html": [
       "<div>\n",
       "<style scoped>\n",
       "    .dataframe tbody tr th:only-of-type {\n",
       "        vertical-align: middle;\n",
       "    }\n",
       "\n",
       "    .dataframe tbody tr th {\n",
       "        vertical-align: top;\n",
       "    }\n",
       "\n",
       "    .dataframe thead th {\n",
       "        text-align: right;\n",
       "    }\n",
       "</style>\n",
       "<table border=\"1\" class=\"dataframe\">\n",
       "  <thead>\n",
       "    <tr style=\"text-align: right;\">\n",
       "      <th></th>\n",
       "      <th>Country</th>\n",
       "      <th>FAO production tonnage</th>\n",
       "      <th>Numbers (lower)in millions</th>\n",
       "      <th>Numbers (upper)in millions</th>\n",
       "      <th>Numbers (midpoint)in millions</th>\n",
       "      <th>year</th>\n",
       "    </tr>\n",
       "  </thead>\n",
       "  <tbody>\n",
       "    <tr>\n",
       "      <th>0</th>\n",
       "      <td>China</td>\n",
       "      <td>6032862</td>\n",
       "      <td>170000</td>\n",
       "      <td>400000</td>\n",
       "      <td>290000</td>\n",
       "      <td>2020</td>\n",
       "    </tr>\n",
       "    <tr>\n",
       "      <th>1</th>\n",
       "      <td>India</td>\n",
       "      <td>944041</td>\n",
       "      <td>19000</td>\n",
       "      <td>84000</td>\n",
       "      <td>51000</td>\n",
       "      <td>2020</td>\n",
       "    </tr>\n",
       "    <tr>\n",
       "      <th>2</th>\n",
       "      <td>Viet Nam</td>\n",
       "      <td>1019752</td>\n",
       "      <td>22000</td>\n",
       "      <td>76000</td>\n",
       "      <td>49000</td>\n",
       "      <td>2020</td>\n",
       "    </tr>\n",
       "    <tr>\n",
       "      <th>3</th>\n",
       "      <td>Indonesia</td>\n",
       "      <td>892590</td>\n",
       "      <td>21000</td>\n",
       "      <td>75000</td>\n",
       "      <td>48000</td>\n",
       "      <td>2020</td>\n",
       "    </tr>\n",
       "    <tr>\n",
       "      <th>4</th>\n",
       "      <td>Ecuador</td>\n",
       "      <td>760879</td>\n",
       "      <td>15000</td>\n",
       "      <td>69000</td>\n",
       "      <td>42000</td>\n",
       "      <td>2020</td>\n",
       "    </tr>\n",
       "  </tbody>\n",
       "</table>\n",
       "</div>"
      ],
      "text/plain": [
       "     Country FAO production tonnage Numbers (lower)in millions  \\\n",
       "0      China                6032862                     170000   \n",
       "1      India                 944041                      19000   \n",
       "2   Viet Nam                1019752                      22000   \n",
       "3  Indonesia                 892590                      21000   \n",
       "4    Ecuador                 760879                      15000   \n",
       "\n",
       "  Numbers (upper)in millions Numbers (midpoint)in millions  year  \n",
       "0                     400000                        290000  2020  \n",
       "1                      84000                         51000  2020  \n",
       "2                      76000                         49000  2020  \n",
       "3                      75000                         48000  2020  \n",
       "4                      69000                         42000  2020  "
      ]
     },
     "metadata": {},
     "output_type": "display_data"
    }
   ],
   "source": [
    "# Read some snapshots data:\n",
    "df = pd.read_csv(\"https://snapshots.owid.io/ac/b0fffcb0625beb5fcb60dd3fcac5df\")\n",
    "# NOTE: You can also read data for any ETL data step as follows:\n",
    "# df = pd.read_feather(\"https://catalog.owid.io/garden/animal_welfare/2025-01-23/number_of_farmed_crustaceans/number_of_farmed_crustaceans.feather\")\n",
    "display(df.head())"
   ]
  },
  {
   "cell_type": "markdown",
   "id": "38d21b13",
   "metadata": {},
   "source": [
    "## Data Visualization\n",
    "\n",
    "This chart shows the relationship between total GDP and GDP per capita, with bubble sizes representing population:"
   ]
  },
  {
   "cell_type": "code",
   "execution_count": 3,
   "id": "3c2470bb",
   "metadata": {},
   "outputs": [
    {
     "data": {
      "image/png": "[encoded data removed]",
      "text/plain": [
       "<Figure size 1000x600 with 1 Axes>"
      ]
     },
     "metadata": {},
     "output_type": "display_data"
    }
   ],
   "source": [
    "# Create a simple bar chart\n",
    "import matplotlib.pyplot as plt\n",
    "\n",
    "plt.figure(figsize=(10, 6))\n",
    "\n",
    "# Bar chart of FAO production tonnage by country.\n",
    "df_plot = df[df[\"Country\"].isin([\"China\", \"Indonesia\"])].reset_index(drop=True)\n",
    "plt.bar(df_plot['Country'], df_plot['FAO production tonnage'])\n",
    "plt.xlabel('Country')\n",
    "plt.ylabel('Some numbers')\n",
    "plt.title('Some title')\n",
    "plt.xticks(rotation=45)\n",
    "plt.tight_layout()\n",
    "plt.show()"
   ]
  }
 ],
 "metadata": {
  "kernelspec": {
   "display_name": "etl",
   "language": "python",
   "name": "python3"
  },
  "language_info": {
   "codemirror_mode": {
    "name": "ipython",
    "version": 3
   },
   "file_extension": ".py",
   "mimetype": "text/x-python",
   "name": "python",
   "nbconvert_exporter": "python",
   "pygments_lexer": "ipython3",
   "version": "3.11.5"
  }
 },
 "nbformat": 4,
 "nbformat_minor": 5
}
