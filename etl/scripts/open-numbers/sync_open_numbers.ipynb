{
 "cells": [
  {
   "cell_type": "markdown",
   "id": "bafc324a-4e4b-44c7-9428-a6ff1ec453e1",
   "metadata": {},
   "source": [
    "# Sync open numbers"
   ]
  },
  {
   "cell_type": "markdown",
   "id": "4a59a2b0-13d7-4011-8034-cb535a2dce00",
   "metadata": {},
   "source": [
    "## Purpose"
   ]
  },
  {
   "cell_type": "markdown",
   "id": "23746f41-83a5-4260-a9cb-a0eddea38a54",
   "metadata": {},
   "source": [
    "Add all ddf datasets published by open numbers to the ETL automatically, both as github steps and as open numbers steps."
   ]
  },
  {
   "cell_type": "markdown",
   "id": "1c7b6e3c-64c9-4589-ad63-b0e3daa0f43a",
   "metadata": {},
   "source": [
    "## Find all repos"
   ]
  },
  {
   "cell_type": "code",
   "execution_count": null,
   "id": "b4b02901-e047-4bd0-b468-339c32a9c920",
   "metadata": {},
   "outputs": [],
   "source": [
    "import json"
   ]
  },
  {
   "cell_type": "code",
   "execution_count": null,
   "id": "6092ed51-c0b1-462e-8c6b-14a89086c5f4",
   "metadata": {},
   "outputs": [],
   "source": [
    "(repos_json,) = !gh repo list -L 1000 --json url open-numbers"
   ]
  },
  {
   "cell_type": "code",
   "execution_count": null,
   "id": "adf7bea5-09f5-4b91-8bc0-d9aa2bae1dbe",
   "metadata": {},
   "outputs": [],
   "source": [
    "repos = [r[\"url\"].split(\"/\")[-1] for r in json.loads(repos_json) if \"ddf--\" in r[\"url\"]]"
   ]
  },
  {
   "cell_type": "code",
   "execution_count": null,
   "id": "0daeacf5-ba1e-4ccd-8470-113ef50882c4",
   "metadata": {},
   "outputs": [],
   "source": [
    "repos"
   ]
  },
  {
   "cell_type": "markdown",
   "id": "72fcb29c-5bac-4ae1-b70a-d634e9f6effa",
   "metadata": {},
   "source": [
    "## For each repo"
   ]
  },
  {
   "cell_type": "code",
   "execution_count": null,
   "id": "827fe703-ddc7-4cbd-97be-b8cdfacb2b3e",
   "metadata": {},
   "outputs": [],
   "source": [
    "import yaml"
   ]
  },
  {
   "cell_type": "code",
   "execution_count": null,
   "id": "2cefa44f-4a76-45bb-a264-9630f174753e",
   "metadata": {},
   "outputs": [],
   "source": [
    "import os"
   ]
  },
  {
   "cell_type": "code",
   "execution_count": null,
   "id": "cc8e6fc5-e8cb-4ff5-9181-ae3546bdbe1c",
   "metadata": {},
   "outputs": [],
   "source": [
    "from pathlib import Path"
   ]
  },
  {
   "cell_type": "code",
   "execution_count": null,
   "id": "c14051da-1ac1-4593-b836-9eecece4cb9a",
   "metadata": {},
   "outputs": [],
   "source": [
    "from etl import paths"
   ]
  },
  {
   "cell_type": "code",
   "execution_count": null,
   "id": "2c892d8f-d99f-43b6-a115-118d36e3ce1c",
   "metadata": {},
   "outputs": [],
   "source": [
    "with open(paths.DAG_FILE) as istream:\n",
    "    dag = yaml.safe_load(istream)"
   ]
  },
  {
   "cell_type": "code",
   "execution_count": null,
   "id": "449e1e5f-7f41-4c0e-b710-54674a0bbfd9",
   "metadata": {},
   "outputs": [],
   "source": [
    "dag[\"steps\"]"
   ]
  },
  {
   "cell_type": "code",
   "execution_count": null,
   "id": "cb567e87-b502-401d-88a2-dd0407a5f7f7",
   "metadata": {},
   "outputs": [],
   "source": [
    "import sh"
   ]
  },
  {
   "cell_type": "code",
   "execution_count": null,
   "id": "20acb4e4-fa8b-40d4-b02b-092dc9ba0ffd",
   "metadata": {},
   "outputs": [],
   "source": [
    "for repo in repos:\n",
    "    assert repo.startswith(\"ddf--\")\n",
    "    short_repo = repo[5:].replace(\"-\", \"_\")\n",
    "\n",
    "    # modify the DAG\n",
    "    github_step = f\"github://open-numbers/{repo}\"\n",
    "    open_numbers_step = f\"data://open_numbers/open_numbers/latest/{short_repo}\"\n",
    "    dag[\"steps\"][open_numbers_step] = [github_step]\n",
    "\n",
    "    # symlink the matching python modules\n",
    "    module_path = paths.STEP_DIR / \"data/open_numbers/open_numbers/latest\"\n",
    "    module_path.mkdir(parents=True, exist_ok=True)\n",
    "    module_file = module_path / f\"{short_repo}.py\"\n",
    "\n",
    "    base_file = paths.BASE_DIR / \"etl/open_numbers.py\"\n",
    "    sh.rm(\"-f\", module_file.as_posix())\n",
    "    sh.ln(\"-s\", \"../../../../open_numbers.py\", module_file.name, _cwd=module_file.parent)"
   ]
  },
  {
   "cell_type": "code",
   "execution_count": null,
   "id": "2e004df8-229e-4871-af31-ddfc67fc34ec",
   "metadata": {},
   "outputs": [],
   "source": [
    "dag"
   ]
  },
  {
   "cell_type": "markdown",
   "id": "458bdf21-b250-46e9-9336-4fc442478968",
   "metadata": {},
   "source": [
    "## Save the DAG"
   ]
  },
  {
   "cell_type": "code",
   "execution_count": null,
   "id": "15c3af3f-4c0d-4827-bbac-48a563a6a3e1",
   "metadata": {},
   "outputs": [],
   "source": [
    "with open(paths.DAG_FILE.as_posix(), \"w\") as ostream:\n",
    "    yaml.safe_dump(dag, ostream)"
   ]
  },
  {
   "cell_type": "code",
   "execution_count": null,
   "id": "6bbd20b0-6c5f-473c-89d9-af2027ac3fa4",
   "metadata": {},
   "outputs": [],
   "source": []
  }
 ],
 "metadata": {
  "kernelspec": {
   "display_name": "Python 3 (ipykernel)",
   "language": "python",
   "name": "python3"
  },
  "language_info": {
   "codemirror_mode": {
    "name": "ipython",
    "version": 3
   },
   "file_extension": ".py",
   "mimetype": "text/x-python",
   "name": "python",
   "nbconvert_exporter": "python",
   "pygments_lexer": "ipython3",
   "version": "3.9.7"
  }
 },
 "nbformat": 4,
 "nbformat_minor": 5
}
