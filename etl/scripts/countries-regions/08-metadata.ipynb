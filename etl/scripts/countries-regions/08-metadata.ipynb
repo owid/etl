{
 "cells": [
  {
   "cell_type": "code",
   "execution_count": null,
   "id": "5c69db85",
   "metadata": {},
   "outputs": [],
   "source": [
    "from init import *"
   ]
  },
  {
   "cell_type": "code",
   "execution_count": null,
   "id": "06573b06",
   "metadata": {},
   "outputs": [],
   "source": [
    "from owid.catalog import Dataset\n",
    "from owid.catalog.meta import *\n",
    "from owid.catalog.variables import Variable\n",
    "from owid.catalog.tables import Table"
   ]
  },
  {
   "cell_type": "code",
   "execution_count": null,
   "id": "15de756c",
   "metadata": {},
   "outputs": [],
   "source": [
    "import pandas as pd"
   ]
  },
  {
   "cell_type": "code",
   "execution_count": null,
   "id": "d4b545c5",
   "metadata": {},
   "outputs": [],
   "source": [
    "target_dataset_path = \"../../../data/reference\""
   ]
  },
  {
   "cell_type": "code",
   "execution_count": null,
   "id": "da47c0a8",
   "metadata": {},
   "outputs": [],
   "source": [
    "df = pd.read_feather(\"intermediate/04-countries-with-continents.feather\")"
   ]
  },
  {
   "cell_type": "code",
   "execution_count": null,
   "id": "8cd1a5ee",
   "metadata": {},
   "outputs": [],
   "source": [
    "df"
   ]
  },
  {
   "cell_type": "code",
   "execution_count": null,
   "id": "6b42136d",
   "metadata": {},
   "outputs": [],
   "source": [
    "countries_regions = Table(df)"
   ]
  },
  {
   "cell_type": "code",
   "execution_count": null,
   "id": "b42e9d82",
   "metadata": {},
   "outputs": [],
   "source": [
    "isinstance(countries_regions, Table)"
   ]
  },
  {
   "cell_type": "code",
   "execution_count": null,
   "id": "be49194b",
   "metadata": {},
   "outputs": [],
   "source": [
    "isinstance(countries_regions.name, Variable)"
   ]
  },
  {
   "cell_type": "code",
   "execution_count": null,
   "id": "cbef39bd",
   "metadata": {
    "collapsed": true,
    "jupyter": {
     "outputs_hidden": true
    },
    "tags": []
   },
   "outputs": [],
   "source": [
    "countries_regions.head()"
   ]
  },
  {
   "cell_type": "code",
   "execution_count": null,
   "id": "c8b31c8c",
   "metadata": {},
   "outputs": [],
   "source": [
    "countries_regions.columns"
   ]
  },
  {
   "cell_type": "code",
   "execution_count": null,
   "id": "f7fe908b",
   "metadata": {},
   "outputs": [],
   "source": [
    "def add_variable_metadata(table: Table, column_name: str, title: str, description: str) -> None:\n",
    "    table[column_name].metadata.name = column_name\n",
    "    table[column_name].metadata.title = title\n",
    "    table[column_name].metadata.description = description"
   ]
  },
  {
   "cell_type": "code",
   "execution_count": null,
   "id": "1db28714",
   "metadata": {
    "collapsed": true,
    "jupyter": {
     "outputs_hidden": true
    },
    "tags": []
   },
   "outputs": [],
   "source": [
    "add_variable_metadata(\n",
    "    countries_regions,\n",
    "    \"code\",\n",
    "    \"OWID geo code\",\n",
    "    \"\"\"The primary identifier for geographic entities at Our World In Data. Based on ISO alpha 3 country codes but extended with custom identifiers where necessary.\"\"\",\n",
    ")"
   ]
  },
  {
   "cell_type": "code",
   "execution_count": null,
   "id": "5e529ac0",
   "metadata": {},
   "outputs": [],
   "source": [
    "add_variable_metadata(countries_regions, \"name\", \"Name\", \"\"\"The preferred name for a country/region\"\"\")"
   ]
  },
  {
   "cell_type": "code",
   "execution_count": null,
   "id": "e47935d4",
   "metadata": {},
   "outputs": [],
   "source": [
    "add_variable_metadata(\n",
    "    countries_regions,\n",
    "    \"iso_alpha2\",\n",
    "    \"ISO 3166-1 alpha-2 code\",\n",
    "    \"\"\"International 2 letter ISO country code\"\"\",\n",
    ")"
   ]
  },
  {
   "cell_type": "code",
   "execution_count": null,
   "id": "674fa297",
   "metadata": {},
   "outputs": [],
   "source": [
    "add_variable_metadata(\n",
    "    countries_regions,\n",
    "    \"iso_alpha3\",\n",
    "    \"ISO 3166-1 alpha-3 code\",\n",
    "    \"\"\"International 3 letter ISO country code\"\"\",\n",
    ")"
   ]
  },
  {
   "cell_type": "code",
   "execution_count": null,
   "id": "7fdc86e7",
   "metadata": {},
   "outputs": [],
   "source": [
    "add_variable_metadata(countries_regions, \"imf_code\", \"IMF code\", \"\"\"IMF country code\"\"\")"
   ]
  },
  {
   "cell_type": "code",
   "execution_count": null,
   "id": "c573a565",
   "metadata": {},
   "outputs": [],
   "source": [
    "add_variable_metadata(\n",
    "    countries_regions,\n",
    "    \"cow_letter\",\n",
    "    \"Correlates of War country code\",\n",
    "    \"\"\"Correlates of War project country code (StateAbb)\"\"\",\n",
    ")"
   ]
  },
  {
   "cell_type": "code",
   "execution_count": null,
   "id": "6c0808e3",
   "metadata": {},
   "outputs": [],
   "source": [
    "add_variable_metadata(\n",
    "    countries_regions,\n",
    "    \"cow_code\",\n",
    "    \"Correlates of War country id\",\n",
    "    \"\"\"Correlates of War project country identifier (CCode)\"\"\",\n",
    ")"
   ]
  },
  {
   "cell_type": "code",
   "execution_count": null,
   "id": "d807eae0",
   "metadata": {},
   "outputs": [],
   "source": [
    "add_variable_metadata(\n",
    "    countries_regions,\n",
    "    \"unctad_code\",\n",
    "    \"UN CTAD code\",\n",
    "    \"\"\"United Nations Conference on Trade and Development country code\"\"\",\n",
    ")"
   ]
  },
  {
   "cell_type": "code",
   "execution_count": null,
   "id": "c554c62f",
   "metadata": {},
   "outputs": [],
   "source": [
    "add_variable_metadata(\n",
    "    countries_regions,\n",
    "    \"marc_code\",\n",
    "    \"MARC code\",\n",
    "    \"\"\"Library of Congress MARC project country code\"\"\",\n",
    ")"
   ]
  },
  {
   "cell_type": "code",
   "execution_count": null,
   "id": "d42b4411",
   "metadata": {},
   "outputs": [],
   "source": [
    "add_variable_metadata(countries_regions, \"kansas_code\", \"kansas_code\", \"\"\"\"\"\")"
   ]
  },
  {
   "cell_type": "code",
   "execution_count": null,
   "id": "4cbba059",
   "metadata": {},
   "outputs": [],
   "source": [
    "add_variable_metadata(\n",
    "    countries_regions,\n",
    "    \"penn_code\",\n",
    "    \"PENN world table country code\",\n",
    "    \"\"\"Country code for the PENN World Talbe project by the University of Groningen\"\"\",\n",
    ")"
   ]
  },
  {
   "cell_type": "code",
   "execution_count": null,
   "id": "dd99b5ec",
   "metadata": {},
   "outputs": [],
   "source": [
    "add_variable_metadata(\n",
    "    countries_regions,\n",
    "    \"wikidata_uri\",\n",
    "    \"Wikidata id\",\n",
    "    \"\"\"The Wikidata identifier for this country/region\"\"\",\n",
    ")"
   ]
  },
  {
   "cell_type": "code",
   "execution_count": null,
   "id": "7dbc69c5",
   "metadata": {},
   "outputs": [],
   "source": [
    "add_variable_metadata(\n",
    "    countries_regions,\n",
    "    \"wikidata_label\",\n",
    "    \"Wikidata label\",\n",
    "    \"\"\"The Wikidata label (english language)\"\"\",\n",
    ")"
   ]
  },
  {
   "cell_type": "code",
   "execution_count": null,
   "id": "b5153d31",
   "metadata": {},
   "outputs": [],
   "source": [
    "add_variable_metadata(\n",
    "    countries_regions,\n",
    "    \"legacy_country_id\",\n",
    "    \"Legacy OWID country table id\",\n",
    "    \"\"\"Used for matching legacy data that contained ids from the Our World In Data mysql country_name_tool_countrydata table\"\"\",\n",
    ")"
   ]
  },
  {
   "cell_type": "code",
   "execution_count": null,
   "id": "e9ca5341",
   "metadata": {},
   "outputs": [],
   "source": [
    "add_variable_metadata(\n",
    "    countries_regions,\n",
    "    \"legacy_entity_id\",\n",
    "    \"Legacy OWID entity table id\",\n",
    "    \"\"\"Used for matching legacy data that contained ids from the Our World In Data mysql entity table\"\"\",\n",
    ")"
   ]
  },
  {
   "cell_type": "code",
   "execution_count": null,
   "id": "85ab82b8",
   "metadata": {},
   "outputs": [],
   "source": [
    "add_variable_metadata(\n",
    "    countries_regions,\n",
    "    \"members\",\n",
    "    \"List of members of each region/country\",\n",
    "    \"\"\"An optional json encoded array of strings referencing other rows in this table by 'code'. Rows that have entries here are understood to 'contain' other entries, e.g. continents list the contained countries or a country could list the contained subnational regions. \"\"\",\n",
    ")"
   ]
  },
  {
   "cell_type": "code",
   "execution_count": null,
   "id": "a08d6a65",
   "metadata": {
    "tags": []
   },
   "outputs": [],
   "source": [
    "countries_regions.set_index(\"code\", inplace=True)"
   ]
  },
  {
   "cell_type": "code",
   "execution_count": null,
   "id": "97b35383",
   "metadata": {},
   "outputs": [],
   "source": [
    "countries_regions.metadata.short_name = \"countries_regions\"\n",
    "countries_regions.metadata.title = \"Countries and regions\"\n",
    "countries_regions.metadata.description = \"Our World In Data countries and geo-regions harmonisation dataset. Contains various identifiers for all current sovereign nations, overseas territories, some historic countries as well as common groupings like continents like world\""
   ]
  },
  {
   "cell_type": "code",
   "execution_count": null,
   "id": "f084a725",
   "metadata": {},
   "outputs": [],
   "source": [
    "ds = Dataset.create_empty(target_dataset_path)"
   ]
  },
  {
   "cell_type": "code",
   "execution_count": null,
   "id": "725001ae",
   "metadata": {},
   "outputs": [],
   "source": [
    "ds.add(countries_regions, formats=[\"csv\"])"
   ]
  },
  {
   "cell_type": "code",
   "execution_count": null,
   "id": "ed01d955",
   "metadata": {},
   "outputs": [],
   "source": [
    "countries_regions.penn_code.metadata"
   ]
  },
  {
   "cell_type": "code",
   "execution_count": null,
   "id": "3387003a",
   "metadata": {},
   "outputs": [],
   "source": [
    "ds.metadata.short_name = \"owid_reference\"\n",
    "ds.metadata.description = \"\"\"Our World In Data reference datasets. These datasets define the vocabulary for important dimensions that we harmonized across different datasets. \n",
    "Every table represents the vocabulary for one dimensions and can include additional columns like third party identifiers, hierarchical grouping etc.\"\"\""
   ]
  },
  {
   "cell_type": "code",
   "execution_count": null,
   "id": "c83f273b",
   "metadata": {},
   "outputs": [],
   "source": [
    "ds.save()"
   ]
  },
  {
   "cell_type": "code",
   "execution_count": null,
   "id": "90f2218a",
   "metadata": {},
   "outputs": [],
   "source": [
    "readme_text = \"\"\"# Countries and regions\n",
    "\n",
    "This dataset is used for harmonizing countries and world regions across datasets. The columns are mostly \n",
    "identifiers from various sources that can be helpful in linking data. The main \n",
    "\"\"\""
   ]
  },
  {
   "cell_type": "code",
   "execution_count": null,
   "id": "8264f5b1",
   "metadata": {},
   "outputs": [],
   "source": []
  }
 ],
 "metadata": {
  "interpreter": {
   "hash": "bfee9b694fe04c946c13f91f59877f323f209df7eaba52b3079ace55470be701"
  },
  "kernelspec": {
   "display_name": "Python 3.9.5 64-bit ('.venv': poetry)",
   "name": "python3"
  },
  "language_info": {
   "codemirror_mode": {
    "name": "ipython",
    "version": 3
   },
   "file_extension": ".py",
   "mimetype": "text/x-python",
   "name": "python",
   "nbconvert_exporter": "python",
   "pygments_lexer": "ipython3",
   "version": "3.9.10"
  }
 },
 "nbformat": 4,
 "nbformat_minor": 5
}
