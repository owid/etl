{
 "cells": [
  {
   "cell_type": "code",
   "execution_count": 1,
   "id": "5322c479-96fd-4ee3-bd6b-d07f33bfaf1f",
   "metadata": {},
   "outputs": [
    {
     "name": "stdout",
     "output_type": "stream",
     "text": [
      "['population']\n"
     ]
    }
   ],
   "source": [
    "from owid.catalog import Dataset\n",
    "from etl.paths import DATA_DIR\n",
    "import pandas as pd\n",
    "\n",
    "ds = Dataset(DATA_DIR / \"garden\" / \"demography\" / \"2022-12-08\" / \"population\")\n",
    "print(ds.table_names)"
   ]
  },
  {
   "cell_type": "code",
   "execution_count": 2,
   "id": "09a381be-646d-4623-8b4c-601e25ebb7a3",
   "metadata": {},
   "outputs": [],
   "source": [
    "df = ds[\"population\"].reset_index()"
   ]
  },
  {
   "cell_type": "code",
   "execution_count": 3,
   "id": "56c80d5d-2d6a-471f-ae7b-1f45885152fd",
   "metadata": {},
   "outputs": [
    {
     "data": {
      "text/plain": [
       "['HYDE v3.2 (https://dataportaal.pbl.nl/downloads/HYDE/)',\n",
       " 'Gapminder v6 (https://www.gapminder.org/data/documentation/gd003/)',\n",
       " 'United Nations - Population Division 2022 (https://population.un.org/wpp/Download/Standard/Population/)',\n",
       " 'Gapminder - Systema Globalis (https://github.com/open-numbers/ddf--gapminder--systema_globalis); Gapminder v6 (https://www.gapminder.org/data/documentation/gd003/); HYDE v3.2 (https://dataportaal.pbl.nl/downloads/HYDE/); United Nations - Population Division 2022 (https://population.un.org/wpp/Download/Standard/Population/)',\n",
       " 'Gapminder - Systema Globalis (https://github.com/open-numbers/ddf--gapminder--systema_globalis)',\n",
       " 'Gapminder v6 (https://www.gapminder.org/data/documentation/gd003/); HYDE v3.2 (https://dataportaal.pbl.nl/downloads/HYDE/); United Nations - Population Division 2022 (https://population.un.org/wpp/Download/Standard/Population/)']"
      ]
     },
     "execution_count": 3,
     "metadata": {},
     "output_type": "execute_result"
    }
   ],
   "source": [
    "list(df.source.unique())"
   ]
  },
  {
   "cell_type": "code",
   "execution_count": 4,
   "id": "e943ddc0-12e5-418f-a82a-358b3d18ea96",
   "metadata": {},
   "outputs": [],
   "source": [
    "def print_source_details(source_name):\n",
    "    x = df[df.source == source_name]\n",
    "    print(source_name)\n",
    "    print(x.year.min(), x.year.max())"
   ]
  },
  {
   "cell_type": "code",
   "execution_count": 5,
   "id": "cf78bef0-81f2-4015-aae2-09c778c462b0",
   "metadata": {},
   "outputs": [],
   "source": [
    "source_names = [\n",
    "    \"Gapminder - Systema Globalis (https://github.com/open-numbers/ddf--gapminder--systema_globalis)\",\n",
    "    \"Gapminder v6 (https://www.gapminder.org/data/documentation/gd003/)\",\n",
    "    \"HYDE v3.2 (https://dataportaal.pbl.nl/downloads/HYDE/)\",\n",
    "    \"United Nations - Population Division 2022 (https://population.un.org/wpp/Download/Standard/Population/)\",\n",
    "]"
   ]
  },
  {
   "cell_type": "code",
   "execution_count": 6,
   "id": "93d268a3-a0bb-4fd5-b827-3b13ba3a4901",
   "metadata": {},
   "outputs": [
    {
     "name": "stdout",
     "output_type": "stream",
     "text": [
      "Gapminder - Systema Globalis (https://github.com/open-numbers/ddf--gapminder--systema_globalis)\n",
      "1555 2008\n",
      "['Akrotiri and Dhekelia', 'Czechoslovakia', 'East Germany', 'Eritrea and Ethiopia', 'Serbia and Montenegro', 'USSR', 'West Germany', 'Yemen Arab Republic', 'Yemen People's Republic', 'Yugoslavia']\n",
      "Categories (267, object): ['Afghanistan', 'Africa', 'Africa (UN)', 'Akrotiri and Dhekelia', ..., 'Yemen People's Republic', 'Yugoslavia', 'Zambia', 'Zimbabwe']\n",
      "\n",
      "Gapminder v6 (https://www.gapminder.org/data/documentation/gd003/)\n",
      "1800 2100\n",
      "['Vatican']\n",
      "Categories (267, object): ['Afghanistan', 'Africa', 'Africa (UN)', 'Akrotiri and Dhekelia', ..., 'Yemen People's Republic', 'Yugoslavia', 'Zambia', 'Zimbabwe']\n",
      "\n",
      "HYDE v3.2 (https://dataportaal.pbl.nl/downloads/HYDE/)\n",
      "-10000 2017\n",
      "['Netherlands Antilles', 'Svalbard and Jan Mayen']\n",
      "Categories (267, object): ['Afghanistan', 'Africa', 'Africa (UN)', 'Akrotiri and Dhekelia', ..., 'Yemen People's Republic', 'Yugoslavia', 'Zambia', 'Zimbabwe']\n",
      "\n",
      "United Nations - Population Division 2022 (https://population.un.org/wpp/Download/Standard/Population/)\n",
      "1950 2100\n",
      "['Afghanistan', 'Africa (UN)', 'Albania', 'Algeria', 'American Samoa', ..., 'Wallis and Futuna', 'Western Sahara', 'Yemen', 'Zambia', 'Zimbabwe']\n",
      "Length: 242\n",
      "Categories (267, object): ['Afghanistan', 'Africa', 'Africa (UN)', 'Akrotiri and Dhekelia', ..., 'Yemen People's Republic', 'Yugoslavia', 'Zambia', 'Zimbabwe']\n",
      "\n"
     ]
    }
   ],
   "source": [
    "for source in source_names:\n",
    "    print_source_details(source)\n",
    "    print(df[(df.source == source) & (df.year > 1950)].country.unique())\n",
    "    print()"
   ]
  },
  {
   "cell_type": "code",
   "execution_count": 7,
   "id": "579a98f7-7e00-4450-883b-7cb5a14a6db5",
   "metadata": {},
   "outputs": [
    {
     "data": {
      "text/html": [
       "<div>\n",
       "<style scoped>\n",
       "    .dataframe tbody tr th:only-of-type {\n",
       "        vertical-align: middle;\n",
       "    }\n",
       "\n",
       "    .dataframe tbody tr th {\n",
       "        vertical-align: top;\n",
       "    }\n",
       "\n",
       "    .dataframe thead th {\n",
       "        text-align: right;\n",
       "    }\n",
       "</style>\n",
       "<table border=\"1\" class=\"dataframe\">\n",
       "  <thead>\n",
       "    <tr style=\"text-align: right;\">\n",
       "      <th></th>\n",
       "      <th>country</th>\n",
       "      <th>year</th>\n",
       "      <th>population</th>\n",
       "      <th>world_pop_share</th>\n",
       "      <th>source</th>\n",
       "    </tr>\n",
       "  </thead>\n",
       "  <tbody>\n",
       "    <tr>\n",
       "      <th>75456</th>\n",
       "      <td>Vatican</td>\n",
       "      <td>1800</td>\n",
       "      <td>905</td>\n",
       "      <td>0.0</td>\n",
       "      <td>Gapminder v6 (https://www.gapminder.org/data/d...</td>\n",
       "    </tr>\n",
       "    <tr>\n",
       "      <th>75457</th>\n",
       "      <td>Vatican</td>\n",
       "      <td>1801</td>\n",
       "      <td>905</td>\n",
       "      <td>0.0</td>\n",
       "      <td>Gapminder v6 (https://www.gapminder.org/data/d...</td>\n",
       "    </tr>\n",
       "    <tr>\n",
       "      <th>75458</th>\n",
       "      <td>Vatican</td>\n",
       "      <td>1802</td>\n",
       "      <td>905</td>\n",
       "      <td>0.0</td>\n",
       "      <td>Gapminder v6 (https://www.gapminder.org/data/d...</td>\n",
       "    </tr>\n",
       "    <tr>\n",
       "      <th>75459</th>\n",
       "      <td>Vatican</td>\n",
       "      <td>1803</td>\n",
       "      <td>905</td>\n",
       "      <td>0.0</td>\n",
       "      <td>Gapminder v6 (https://www.gapminder.org/data/d...</td>\n",
       "    </tr>\n",
       "    <tr>\n",
       "      <th>75460</th>\n",
       "      <td>Vatican</td>\n",
       "      <td>1804</td>\n",
       "      <td>905</td>\n",
       "      <td>0.0</td>\n",
       "      <td>Gapminder v6 (https://www.gapminder.org/data/d...</td>\n",
       "    </tr>\n",
       "    <tr>\n",
       "      <th>...</th>\n",
       "      <td>...</td>\n",
       "      <td>...</td>\n",
       "      <td>...</td>\n",
       "      <td>...</td>\n",
       "      <td>...</td>\n",
       "    </tr>\n",
       "    <tr>\n",
       "      <th>75752</th>\n",
       "      <td>Vatican</td>\n",
       "      <td>2096</td>\n",
       "      <td>793</td>\n",
       "      <td>0.0</td>\n",
       "      <td>Gapminder v6 (https://www.gapminder.org/data/d...</td>\n",
       "    </tr>\n",
       "    <tr>\n",
       "      <th>75753</th>\n",
       "      <td>Vatican</td>\n",
       "      <td>2097</td>\n",
       "      <td>796</td>\n",
       "      <td>0.0</td>\n",
       "      <td>Gapminder v6 (https://www.gapminder.org/data/d...</td>\n",
       "    </tr>\n",
       "    <tr>\n",
       "      <th>75754</th>\n",
       "      <td>Vatican</td>\n",
       "      <td>2098</td>\n",
       "      <td>796</td>\n",
       "      <td>0.0</td>\n",
       "      <td>Gapminder v6 (https://www.gapminder.org/data/d...</td>\n",
       "    </tr>\n",
       "    <tr>\n",
       "      <th>75755</th>\n",
       "      <td>Vatican</td>\n",
       "      <td>2099</td>\n",
       "      <td>795</td>\n",
       "      <td>0.0</td>\n",
       "      <td>Gapminder v6 (https://www.gapminder.org/data/d...</td>\n",
       "    </tr>\n",
       "    <tr>\n",
       "      <th>75756</th>\n",
       "      <td>Vatican</td>\n",
       "      <td>2100</td>\n",
       "      <td>797</td>\n",
       "      <td>0.0</td>\n",
       "      <td>Gapminder v6 (https://www.gapminder.org/data/d...</td>\n",
       "    </tr>\n",
       "  </tbody>\n",
       "</table>\n",
       "<p>301 rows × 5 columns</p>\n",
       "</div>"
      ],
      "text/plain": [
       "       country  year  population  world_pop_share  \\\n",
       "75456  Vatican  1800         905              0.0   \n",
       "75457  Vatican  1801         905              0.0   \n",
       "75458  Vatican  1802         905              0.0   \n",
       "75459  Vatican  1803         905              0.0   \n",
       "75460  Vatican  1804         905              0.0   \n",
       "...        ...   ...         ...              ...   \n",
       "75752  Vatican  2096         793              0.0   \n",
       "75753  Vatican  2097         796              0.0   \n",
       "75754  Vatican  2098         796              0.0   \n",
       "75755  Vatican  2099         795              0.0   \n",
       "75756  Vatican  2100         797              0.0   \n",
       "\n",
       "                                                  source  \n",
       "75456  Gapminder v6 (https://www.gapminder.org/data/d...  \n",
       "75457  Gapminder v6 (https://www.gapminder.org/data/d...  \n",
       "75458  Gapminder v6 (https://www.gapminder.org/data/d...  \n",
       "75459  Gapminder v6 (https://www.gapminder.org/data/d...  \n",
       "75460  Gapminder v6 (https://www.gapminder.org/data/d...  \n",
       "...                                                  ...  \n",
       "75752  Gapminder v6 (https://www.gapminder.org/data/d...  \n",
       "75753  Gapminder v6 (https://www.gapminder.org/data/d...  \n",
       "75754  Gapminder v6 (https://www.gapminder.org/data/d...  \n",
       "75755  Gapminder v6 (https://www.gapminder.org/data/d...  \n",
       "75756  Gapminder v6 (https://www.gapminder.org/data/d...  \n",
       "\n",
       "[301 rows x 5 columns]"
      ]
     },
     "execution_count": 7,
     "metadata": {},
     "output_type": "execute_result"
    }
   ],
   "source": [
    "df[df.country == \"Vatican\"]"
   ]
  },
  {
   "cell_type": "code",
   "execution_count": 8,
   "id": "6dd1eb7d-7631-4a25-8882-c132e79c150c",
   "metadata": {},
   "outputs": [
    {
     "data": {
      "text/plain": [
       "VariableMeta(title='Population', description='Population by country, available from 10,000 BCE to 2100 based on Gapminder data, HYDE, and UN Population Division (2022) estimates.\\n\\n* 10,000 BCE - 1799: Historical estimates by HYDE (v3.2). Includes some datapoints from Gapminder (Systema Globalis).\\n* 1800-1949: Historical estimates by Gapminder. Includes some datapoints from HYDE (v3.2) and Gapminder (Systema Globalis).\\n* 1950-2021: Population records by the United Nations - Population Division (2022). Includes some datapoints from HYDE (v3.2), Gapminder (Systema Globalis) and Gapminder (v6).\\n* 2022-2100: Projections based on Medium variant by the United Nations - Population Division (2022).\\n', sources=[Source(name='Gapminder (v6)', description=None, url='https://www.gapminder.org/data/documentation/gd003/', source_data_url=None, owid_data_url=None, date_accessed='October 8, 2021', publication_date=None, publication_year=None, published_by='Gapminder (v6)', publisher_source=None), Source(name='UN (2022)', description=None, url='https://population.un.org/wpp/Download/Standard/Population/', source_data_url=None, owid_data_url=None, date_accessed='September 10, 2022', publication_date=None, publication_year=None, published_by='United Nations - Population Division (2022)', publisher_source=None), Source(name='HYDE (v3.2)', description=None, url='https://dataportaal.pbl.nl/downloads/HYDE/', source_data_url=None, owid_data_url=None, date_accessed='October 8, 2021', publication_date=None, publication_year=None, published_by='HYDE (v3.2)', publisher_source=None), Source(name='Gapminder (Systema Globalis)', description=None, url='https://github.com/open-numbers/ddf--gapminder--systema_globalis', source_data_url=None, owid_data_url=None, date_accessed='December 12, 2022', publication_date=None, publication_year=None, published_by='Gapminder (Systema Globalis)', publisher_source=None)], licenses=[], unit='persons', short_unit=None, display={'name': 'Population', 'includeInTable': True}, additional_info=None)"
      ]
     },
     "execution_count": 8,
     "metadata": {},
     "output_type": "execute_result"
    }
   ],
   "source": [
    "df.population.metadata"
   ]
  },
  {
   "cell_type": "code",
   "execution_count": 9,
   "id": "b8c18340-5c92-47e8-b263-ab1597bcbd74",
   "metadata": {},
   "outputs": [
    {
     "data": {
      "text/plain": [
       "VariableMeta(title=None, description=None, sources=[], licenses=[], unit=None, short_unit=None, display=None, additional_info=None)"
      ]
     },
     "execution_count": 9,
     "metadata": {},
     "output_type": "execute_result"
    }
   ],
   "source": [
    "df.source.metadata"
   ]
  },
  {
   "cell_type": "code",
   "execution_count": 10,
   "id": "db0a5876-bfe0-4e2b-9fa3-96c7232329ff",
   "metadata": {},
   "outputs": [],
   "source": [
    "import re"
   ]
  },
  {
   "cell_type": "code",
   "execution_count": 11,
   "id": "76d36fb4-9182-4da7-910b-1975fdd334d5",
   "metadata": {},
   "outputs": [],
   "source": [
    "description = df.population.metadata.description"
   ]
  },
  {
   "cell_type": "code",
   "execution_count": 12,
   "id": "4d5e42f4-ba7c-4c1a-9d6a-7ef99de2b9f6",
   "metadata": {},
   "outputs": [
    {
     "name": "stdout",
     "output_type": "stream",
     "text": [
      " 10,000 BCE - 1799\n",
      " 1800-1949\n",
      " 1950-2021\n",
      " 2022-2100\n"
     ]
    }
   ],
   "source": [
    "new_description = []\n",
    "for line in description.split(\"\\n\"):\n",
    "    match = re.search(\"([\\d\\-BCE,\\s]*):.*\", line)\n",
    "    if match:\n",
    "        print(match.group(1))"
   ]
  },
  {
   "cell_type": "code",
   "execution_count": 57,
   "id": "1f2e8d1b-e7ff-4a23-a2aa-3a2bcd318f96",
   "metadata": {},
   "outputs": [],
   "source": [
    "s = \"2022-2100: Projections based on Medium variant by the United Nations - Population Division (2022).\""
   ]
  },
  {
   "cell_type": "code",
   "execution_count": 72,
   "id": "4d1c3a2e-1174-4280-b32a-531fe45bf7b5",
   "metadata": {},
   "outputs": [],
   "source": [
    "match = re.search(\"([\\d\\-BCE,\\s]*):.*\", s)"
   ]
  },
  {
   "cell_type": "code",
   "execution_count": 14,
   "id": "33684005-12a4-4f70-bc1e-a86776bbfdf2",
   "metadata": {},
   "outputs": [
    {
     "data": {
      "text/html": [
       "<div>\n",
       "<style scoped>\n",
       "    .dataframe tbody tr th:only-of-type {\n",
       "        vertical-align: middle;\n",
       "    }\n",
       "\n",
       "    .dataframe tbody tr th {\n",
       "        vertical-align: top;\n",
       "    }\n",
       "\n",
       "    .dataframe thead th {\n",
       "        text-align: right;\n",
       "    }\n",
       "</style>\n",
       "<table border=\"1\" class=\"dataframe\">\n",
       "  <thead>\n",
       "    <tr style=\"text-align: right;\">\n",
       "      <th></th>\n",
       "      <th>country</th>\n",
       "      <th>year</th>\n",
       "      <th>population</th>\n",
       "      <th>world_pop_share</th>\n",
       "      <th>source</th>\n",
       "    </tr>\n",
       "  </thead>\n",
       "  <tbody>\n",
       "    <tr>\n",
       "      <th>48654</th>\n",
       "      <td>Netherlands Antilles</td>\n",
       "      <td>200</td>\n",
       "      <td>0</td>\n",
       "      <td>0.0</td>\n",
       "      <td>HYDE v3.2 (https://dataportaal.pbl.nl/download...</td>\n",
       "    </tr>\n",
       "    <tr>\n",
       "      <th>48655</th>\n",
       "      <td>Netherlands Antilles</td>\n",
       "      <td>300</td>\n",
       "      <td>0</td>\n",
       "      <td>0.0</td>\n",
       "      <td>HYDE v3.2 (https://dataportaal.pbl.nl/download...</td>\n",
       "    </tr>\n",
       "    <tr>\n",
       "      <th>48656</th>\n",
       "      <td>Netherlands Antilles</td>\n",
       "      <td>400</td>\n",
       "      <td>0</td>\n",
       "      <td>0.0</td>\n",
       "      <td>HYDE v3.2 (https://dataportaal.pbl.nl/download...</td>\n",
       "    </tr>\n",
       "    <tr>\n",
       "      <th>48657</th>\n",
       "      <td>Netherlands Antilles</td>\n",
       "      <td>500</td>\n",
       "      <td>1</td>\n",
       "      <td>0.0</td>\n",
       "      <td>HYDE v3.2 (https://dataportaal.pbl.nl/download...</td>\n",
       "    </tr>\n",
       "    <tr>\n",
       "      <th>48658</th>\n",
       "      <td>Netherlands Antilles</td>\n",
       "      <td>600</td>\n",
       "      <td>3</td>\n",
       "      <td>0.0</td>\n",
       "      <td>HYDE v3.2 (https://dataportaal.pbl.nl/download...</td>\n",
       "    </tr>\n",
       "    <tr>\n",
       "      <th>...</th>\n",
       "      <td>...</td>\n",
       "      <td>...</td>\n",
       "      <td>...</td>\n",
       "      <td>...</td>\n",
       "      <td>...</td>\n",
       "    </tr>\n",
       "    <tr>\n",
       "      <th>48712</th>\n",
       "      <td>Netherlands Antilles</td>\n",
       "      <td>2013</td>\n",
       "      <td>315716</td>\n",
       "      <td>0.0</td>\n",
       "      <td>HYDE v3.2 (https://dataportaal.pbl.nl/download...</td>\n",
       "    </tr>\n",
       "    <tr>\n",
       "      <th>48713</th>\n",
       "      <td>Netherlands Antilles</td>\n",
       "      <td>2014</td>\n",
       "      <td>317110</td>\n",
       "      <td>0.0</td>\n",
       "      <td>HYDE v3.2 (https://dataportaal.pbl.nl/download...</td>\n",
       "    </tr>\n",
       "    <tr>\n",
       "      <th>48714</th>\n",
       "      <td>Netherlands Antilles</td>\n",
       "      <td>2015</td>\n",
       "      <td>318504</td>\n",
       "      <td>0.0</td>\n",
       "      <td>HYDE v3.2 (https://dataportaal.pbl.nl/download...</td>\n",
       "    </tr>\n",
       "    <tr>\n",
       "      <th>48715</th>\n",
       "      <td>Netherlands Antilles</td>\n",
       "      <td>2016</td>\n",
       "      <td>319898</td>\n",
       "      <td>0.0</td>\n",
       "      <td>HYDE v3.2 (https://dataportaal.pbl.nl/download...</td>\n",
       "    </tr>\n",
       "    <tr>\n",
       "      <th>48716</th>\n",
       "      <td>Netherlands Antilles</td>\n",
       "      <td>2017</td>\n",
       "      <td>321292</td>\n",
       "      <td>0.0</td>\n",
       "      <td>HYDE v3.2 (https://dataportaal.pbl.nl/download...</td>\n",
       "    </tr>\n",
       "  </tbody>\n",
       "</table>\n",
       "<p>63 rows × 5 columns</p>\n",
       "</div>"
      ],
      "text/plain": [
       "                    country  year  population  world_pop_share  \\\n",
       "48654  Netherlands Antilles   200           0              0.0   \n",
       "48655  Netherlands Antilles   300           0              0.0   \n",
       "48656  Netherlands Antilles   400           0              0.0   \n",
       "48657  Netherlands Antilles   500           1              0.0   \n",
       "48658  Netherlands Antilles   600           3              0.0   \n",
       "...                     ...   ...         ...              ...   \n",
       "48712  Netherlands Antilles  2013      315716              0.0   \n",
       "48713  Netherlands Antilles  2014      317110              0.0   \n",
       "48714  Netherlands Antilles  2015      318504              0.0   \n",
       "48715  Netherlands Antilles  2016      319898              0.0   \n",
       "48716  Netherlands Antilles  2017      321292              0.0   \n",
       "\n",
       "                                                  source  \n",
       "48654  HYDE v3.2 (https://dataportaal.pbl.nl/download...  \n",
       "48655  HYDE v3.2 (https://dataportaal.pbl.nl/download...  \n",
       "48656  HYDE v3.2 (https://dataportaal.pbl.nl/download...  \n",
       "48657  HYDE v3.2 (https://dataportaal.pbl.nl/download...  \n",
       "48658  HYDE v3.2 (https://dataportaal.pbl.nl/download...  \n",
       "...                                                  ...  \n",
       "48712  HYDE v3.2 (https://dataportaal.pbl.nl/download...  \n",
       "48713  HYDE v3.2 (https://dataportaal.pbl.nl/download...  \n",
       "48714  HYDE v3.2 (https://dataportaal.pbl.nl/download...  \n",
       "48715  HYDE v3.2 (https://dataportaal.pbl.nl/download...  \n",
       "48716  HYDE v3.2 (https://dataportaal.pbl.nl/download...  \n",
       "\n",
       "[63 rows x 5 columns]"
      ]
     },
     "execution_count": 14,
     "metadata": {},
     "output_type": "execute_result"
    }
   ],
   "source": [
    "df[df.country == \"Netherlands Antilles\"]"
   ]
  },
  {
   "cell_type": "code",
   "execution_count": null,
   "id": "00f16bd7-a773-40d4-990c-aa9df3f764d8",
   "metadata": {},
   "outputs": [],
   "source": []
  }
 ],
 "metadata": {
  "kernelspec": {
   "display_name": "Python 3 (ipykernel)",
   "language": "python",
   "name": "python3"
  },
  "language_info": {
   "codemirror_mode": {
    "name": "ipython",
    "version": 3
   },
   "file_extension": ".py",
   "mimetype": "text/x-python",
   "name": "python",
   "nbconvert_exporter": "python",
   "pygments_lexer": "ipython3",
   "version": "3.10.9"
  }
 },
 "nbformat": 4,
 "nbformat_minor": 5
}
