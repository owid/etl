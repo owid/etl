{
 "cells": [
  {
   "cell_type": "code",
   "execution_count": null,
   "metadata": {
    "tags": [
     "parameters"
    ]
   },
   "outputs": [],
   "source": [
    "dest_dir = \"/tmp/notebook_example\""
   ]
  },
  {
   "cell_type": "markdown",
   "metadata": {},
   "source": [
    "# Notebook example\n",
    "\n",
    "_Read more details about notebooks in README.md_\n",
    "\n",
    "Your notebook must contain a cell of parameters, containing `dest_dir`, like this:\n",
    "\n",
    "```python\n",
    "dest_dir = '/tmp/my_dataset'\n",
    "```\n",
    "\n",
    "If we tag this cell correctly, at runtime `dest_dir` will get filled in by the ETL system. To tag the cell, click on the cell, then the cog on the top right of the Jupyter interface. Add the tag `parameters` to the cell."
   ]
  },
  {
   "cell_type": "markdown",
   "metadata": {},
   "source": [
    "## Get data"
   ]
  },
  {
   "cell_type": "code",
   "execution_count": null,
   "metadata": {},
   "outputs": [],
   "source": [
    "from owid.catalog import Dataset, Table, utils\n",
    "\n",
    "from etl.paths import DATA_DIR\n",
    "\n",
    "dataset = Dataset(DATA_DIR / \"garden/ggdc/2020-10-01/ggdc_maddison\")\n",
    "table = dataset[\"maddison_gdp\"]"
   ]
  },
  {
   "cell_type": "markdown",
   "metadata": {},
   "source": [
    "## Clean data"
   ]
  },
  {
   "cell_type": "code",
   "execution_count": null,
   "metadata": {},
   "outputs": [],
   "source": [
    "table = table.dropna(subset=[\"gdp\"]).query(\"year >= 2020\")"
   ]
  },
  {
   "cell_type": "code",
   "execution_count": null,
   "metadata": {},
   "outputs": [],
   "source": [
    "from owid.catalog import Dataset, Table\n",
    "\n",
    "ds = Dataset.create_empty(dest_dir)\n",
    "ds.metadata.short_name = \"jupytext_example\"\n",
    "ds.metadata.namespace = \"examples\"\n",
    "\n",
    "t = Table(table.reset_index(drop=True))\n",
    "t.metadata.short_name = \"jupytext_example\"\n",
    "\n",
    "ds.add(utils.underscore_table(t))\n",
    "ds.save()"
   ]
  }
 ],
 "metadata": {
  "kernelspec": {
   "display_name": "Python 3.9.12 ('.venv': poetry)",
   "language": "python",
   "name": "python3"
  },
  "language_info": {
   "codemirror_mode": {
    "name": "ipython",
    "version": 3
   },
   "file_extension": ".py",
   "mimetype": "text/x-python",
   "name": "python",
   "nbconvert_exporter": "python",
   "pygments_lexer": "ipython3",
   "version": "3.9.13"
  },
  "orig_nbformat": 4,
  "vscode": {
   "interpreter": {
    "hash": "844e7496ece5f279b92e860ee31795b4810a8e6a6d9b1dd318e3a60c64167b55"
   }
  }
 },
 "nbformat": 4,
 "nbformat_minor": 2
}
