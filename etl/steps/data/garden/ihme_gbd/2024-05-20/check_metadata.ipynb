{
 "cells": [
  {
   "cell_type": "code",
   "execution_count": 1,
   "metadata": {},
   "outputs": [
    {
     "name": "stdout",
     "output_type": "stream",
     "text": [
      "['gbd_drug_risk']\n"
     ]
    }
   ],
   "source": [
    "from etl.grapher import helpers as gh\n",
    "from etl import paths\n",
    "from owid.catalog import Dataset\n",
    "import random\n",
    "\n",
    "table = 'gbd_drug_risk'\n",
    "\n",
    "ds = Dataset(paths.DATA_DIR / f\"garden/ihme_gbd/2024-05-20/{table}\")\n",
    "print(ds.table_names)\n",
    "\n",
    "tb = ds[random.choice(ds.table_names)]"
   ]
  },
  {
   "cell_type": "code",
   "execution_count": 2,
   "metadata": {},
   "outputs": [
    {
     "data": {
      "text/plain": [
       "{'country': 'Paraguay',\n",
       " 'year': 2005,\n",
       " 'metric': 'Number',\n",
       " 'measure': 'DALYs',\n",
       " 'rei': 'Drug use',\n",
       " 'age': 'Age-standardized',\n",
       " 'cause': 'All causes'}"
      ]
     },
     "execution_count": 2,
     "metadata": {},
     "output_type": "execute_result"
    }
   ],
   "source": [
    "dim_dict = dict(zip(tb.index.names, tb.sample(1, replace=True).index[0]))\n",
    "dim_dict['age'] = 'Age-standardized'\n",
    "dim_dict['measure'] = 'DALYs'\n",
    "dim_dict"
   ]
  },
  {
   "cell_type": "code",
   "execution_count": 3,
   "metadata": {},
   "outputs": [
    {
     "name": "stdout",
     "output_type": "stream",
     "text": [
      "{\n",
      "  \"values_changed\": {\n",
      "    \"root['description_short']\": {\n",
      "      \"new_value\": \"The estimated number of age-standardized [Disability Adjusted Life Years (DALYs)](#dod:dalys) from all causes attributed to drug use.\",\n",
      "      \"old_value\": \"The estimated number of age-standardized [Disability Adjusted Life Years (DALYs)](#dod:dalys) from all causesattributed to drug use.\"\n",
      "    },\n",
      "    \"root['title']\": {\n",
      "      \"new_value\": \"Age-standardized DALYs from all causes attributed to drug use\",\n",
      "      \"old_value\": \"Age-standardized DALYs from all causesattributed to drug use\"\n",
      "    }\n",
      "  }\n",
      "}\n"
     ]
    }
   ],
   "source": [
    "import json\n",
    "# run `uv pip install deepdiff`\n",
    "from deepdiff import DeepDiff\n",
    "\n",
    "yaml_path = f\"{table}.meta.yml\"\n",
    "\n",
    "d = gh.render_yaml_file(yaml_path, dim_dict=dim_dict)\n",
    "\n",
    "import random\n",
    "table_name = random.choice(list(d['tables'].keys()))\n",
    "variable_name = random.choice(list(d['tables'][table_name]['variables'].keys()))\n",
    "\n",
    "d1 = d['tables'][table_name]['variables'][variable_name]\n",
    "\n",
    "\n",
    "yaml_path = f'/Users/mojmir/projects/etl2/etl/steps/data/garden/ihme_gbd/2024-05-20/{table}.meta.yml'\n",
    "d = gh.render_yaml_file(yaml_path, dim_dict=dim_dict)\n",
    "d2 = d['tables'][table_name]['variables'][variable_name]\n",
    "\n",
    "print(json.dumps(DeepDiff(d2, d1), indent=2))"
   ]
  }
 ],
 "metadata": {
  "kernelspec": {
   "display_name": ".venv",
   "language": "python",
   "name": "python3"
  },
  "language_info": {
   "codemirror_mode": {
    "name": "ipython",
    "version": 3
   },
   "file_extension": ".py",
   "mimetype": "text/x-python",
   "name": "python",
   "nbconvert_exporter": "python",
   "pygments_lexer": "ipython3",
   "version": "3.12.4"
  }
 },
 "nbformat": 4,
 "nbformat_minor": 2
}
