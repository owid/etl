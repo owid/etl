{
 "cells": [
  {
   "cell_type": "code",
   "execution_count": 3,
   "metadata": {},
   "outputs": [
    {
     "name": "stdout",
     "output_type": "stream",
     "text": [
      "['gbd_mental_health']\n"
     ]
    }
   ],
   "source": [
    "from etl.grapher import helpers as gh\n",
    "from etl import paths\n",
    "from owid.catalog import Dataset\n",
    "import random\n",
    "\n",
    "table = 'gbd_mental_health'\n",
    "\n",
    "ds = Dataset(paths.DATA_DIR / f\"garden/ihme_gbd/2024-05-20/{table}\")\n",
    "print(ds.table_names)\n",
    "\n",
    "tb = ds[random.choice(ds.table_names)]"
   ]
  },
  {
   "cell_type": "code",
   "execution_count": 5,
   "metadata": {},
   "outputs": [
    {
     "data": {
      "text/plain": [
       "{'country': 'Pakistan',\n",
       " 'year': 2020,\n",
       " 'cause': 'Alcohol use disorders',\n",
       " 'metric': 'Rate',\n",
       " 'sex': 'Female',\n",
       " 'age': '50-54 years'}"
      ]
     },
     "execution_count": 5,
     "metadata": {},
     "output_type": "execute_result"
    }
   ],
   "source": [
    "dim_dict = dict(zip(tb.index.names, tb.sample(1, replace=True).index[0]))\n",
    "dim_dict"
   ]
  },
  {
   "cell_type": "code",
   "execution_count": 8,
   "metadata": {},
   "outputs": [
    {
     "name": "stdout",
     "output_type": "stream",
     "text": [
      "{}\n"
     ]
    }
   ],
   "source": [
    "import json\n",
    "# run `uv pip install deepdiff`\n",
    "from deepdiff import DeepDiff\n",
    "\n",
    "yaml_path = f\"{table}.meta.yml\"\n",
    "\n",
    "d = gh.render_yaml_file(yaml_path, dim_dict=dim_dict)\n",
    "\n",
    "import random\n",
    "table_name = random.choice(list(d['tables'].keys()))\n",
    "variable_name = random.choice(list(d['tables'][table_name]['variables'].keys()))\n",
    "\n",
    "d1 = d['tables'][table_name]['variables'][variable_name]\n",
    "\n",
    "\n",
    "yaml_path = f'/Users/mojmir/projects/etl2/etl/steps/data/garden/ihme_gbd/2024-05-20/{table}.meta.yml'\n",
    "d = gh.render_yaml_file(yaml_path, dim_dict=dim_dict)\n",
    "d2 = d['tables'][table_name]['variables'][variable_name]\n",
    "\n",
    "print(json.dumps(DeepDiff(d2, d1), indent=2))"
   ]
  }
 ],
 "metadata": {
  "kernelspec": {
   "display_name": ".venv",
   "language": "python",
   "name": "python3"
  },
  "language_info": {
   "codemirror_mode": {
    "name": "ipython",
    "version": 3
   },
   "file_extension": ".py",
   "mimetype": "text/x-python",
   "name": "python",
   "nbconvert_exporter": "python",
   "pygments_lexer": "ipython3",
   "version": "3.12.4"
  }
 },
 "nbformat": 4,
 "nbformat_minor": 2
}
