{
 "cells": [
  {
   "cell_type": "markdown",
   "metadata": {},
   "source": [
    "## Generate SDG mapping from goals to variables and datasets\n",
    "\n",
    "We list all `goals -> variables` mappings from https://sdg-tracker.org/. The original `goal -> variable` mapping was in [this spreadsheet](https://docs.google.com/spreadsheets/d/1n0UrpKKS2JVcXSmth_QVYLThlWev6pzEiHP7HaIq9BY/edit#gid=1284188229), but it's not up to date anymore. Instead we get them by scraping SDG tracker files from github. After that we enhance it with data from grapher DB and generate a new CSV file to be used by ETL."
   ]
  },
  {
   "cell_type": "code",
   "execution_count": 2,
   "metadata": {},
   "outputs": [],
   "source": [
    "import requests\n",
    "\n",
    "js = requests.get(\"https://api.github.com/repos/owid/sdg-tracker.org/git/trees/master?recursive=1\").json()"
   ]
  },
  {
   "cell_type": "code",
   "execution_count": 3,
   "metadata": {},
   "outputs": [],
   "source": [
    "from bs4 import BeautifulSoup\n",
    "from collections import defaultdict\n",
    "\n",
    "charts = defaultdict(list)\n",
    "\n",
    "for p in js[\"tree\"]:\n",
    "    if not p[\"path\"].startswith(\"pages\"):\n",
    "        continue\n",
    "\n",
    "    resp = requests.get(f\"https://raw.githubusercontent.com/owid/sdg-tracker.org/master/{p['path']}\")\n",
    "    if resp.status_code != 200:\n",
    "        continue\n",
    "\n",
    "    soup = BeautifulSoup(resp.text, \"html.parser\")\n",
    "\n",
    "    for div_indicator in soup.find_all(\"div\", {\"class\": \"indicator\"}):\n",
    "        if \"id\" not in div_indicator.attrs:\n",
    "            raise Exception(f'Page {p[\"path\"]} is missing id=[indicator] in <div class=\"indicator\">')\n",
    "\n",
    "        for iframe_chart in div_indicator.find_all(\"iframe\"):\n",
    "            charts[div_indicator.attrs[\"id\"]].append(iframe_chart.attrs[\"src\"])"
   ]
  },
  {
   "cell_type": "code",
   "execution_count": 4,
   "metadata": {},
   "outputs": [
    {
     "data": {
      "text/html": [
       "<div>\n",
       "<style scoped>\n",
       "    .dataframe tbody tr th:only-of-type {\n",
       "        vertical-align: middle;\n",
       "    }\n",
       "\n",
       "    .dataframe tbody tr th {\n",
       "        vertical-align: top;\n",
       "    }\n",
       "\n",
       "    .dataframe thead th {\n",
       "        text-align: right;\n",
       "    }\n",
       "</style>\n",
       "<table border=\"1\" class=\"dataframe\">\n",
       "  <thead>\n",
       "    <tr style=\"text-align: right;\">\n",
       "      <th></th>\n",
       "      <th>indicator</th>\n",
       "      <th>chart</th>\n",
       "    </tr>\n",
       "  </thead>\n",
       "  <tbody>\n",
       "    <tr>\n",
       "      <th>0</th>\n",
       "      <td>15.1.1</td>\n",
       "      <td>https://ourworldindata.org/grapher/forest-area...</td>\n",
       "    </tr>\n",
       "    <tr>\n",
       "      <th>1</th>\n",
       "      <td>15.1.2</td>\n",
       "      <td>https://ourworldindata.org/grapher/terrestrial...</td>\n",
       "    </tr>\n",
       "    <tr>\n",
       "      <th>2</th>\n",
       "      <td>15.1.2</td>\n",
       "      <td>https://ourworldindata.org/grapher/protected-t...</td>\n",
       "    </tr>\n",
       "    <tr>\n",
       "      <th>3</th>\n",
       "      <td>15.1.2</td>\n",
       "      <td>https://ourworldindata.org/grapher/proportion-...</td>\n",
       "    </tr>\n",
       "    <tr>\n",
       "      <th>4</th>\n",
       "      <td>15.2.1</td>\n",
       "      <td>https://ourworldindata.org/grapher/forest-area...</td>\n",
       "    </tr>\n",
       "  </tbody>\n",
       "</table>\n",
       "</div>"
      ],
      "text/plain": [
       "  indicator                                              chart\n",
       "0    15.1.1  https://ourworldindata.org/grapher/forest-area...\n",
       "1    15.1.2  https://ourworldindata.org/grapher/terrestrial...\n",
       "2    15.1.2  https://ourworldindata.org/grapher/protected-t...\n",
       "3    15.1.2  https://ourworldindata.org/grapher/proportion-...\n",
       "4    15.2.1  https://ourworldindata.org/grapher/forest-area..."
      ]
     },
     "execution_count": 4,
     "metadata": {},
     "output_type": "execute_result"
    }
   ],
   "source": [
    "import pandas as pd\n",
    "\n",
    "df = pd.DataFrame(\n",
    "    [(indicator, chart) for indicator, charts in charts.items() for chart in charts],\n",
    "    columns=[\"indicator\", \"chart\"],\n",
    ")\n",
    "df.head()"
   ]
  },
  {
   "cell_type": "code",
   "execution_count": 5,
   "metadata": {},
   "outputs": [],
   "source": [
    "df[\"chart_slug\"] = df.chart.str.split(\"/\").str.get(-1)"
   ]
  },
  {
   "cell_type": "code",
   "execution_count": 6,
   "metadata": {},
   "outputs": [],
   "source": [
    "from sqlalchemy import create_engine\n",
    "from urllib.parse import quote\n",
    "\n",
    "from dotenv import dotenv_values\n",
    "\n",
    "env = dotenv_values(\"../../../../../../.env.prod\")\n",
    "\n",
    "engine = f\"mysql://{env['DB_USER']}:{quote(env['DB_PASS'])}@{env['DB_HOST']}:{env['DB_PORT']}/{env['DB_NAME']}\"\n",
    "\n",
    "# get variable id -> dataset id relationship\n",
    "q = \"\"\"\n",
    "select\n",
    "    c.id as chart_id,\n",
    "    v.id as variable_id,\n",
    "    v.name as variable_name,\n",
    "    d.id as dataset_id,\n",
    "    d.name as dataset_name,\n",
    "    c.config->>\"$.slug\" as chart_slug\n",
    "from variables as v\n",
    "join datasets as d on d.id = v.datasetId\n",
    "join chart_dimensions as cd on cd.variableId = v.id\n",
    "join charts as c on c.id = cd.chartId\n",
    "where c.config->>\"$.slug\" in %(slugs)s\n",
    "    and d.isPrivate is false\n",
    "\"\"\"\n",
    "gf = pd.read_sql(q, engine, params={\"slugs\": df.chart_slug.tolist()})"
   ]
  },
  {
   "cell_type": "code",
   "execution_count": 7,
   "metadata": {},
   "outputs": [],
   "source": [
    "df = df.merge(gf, on=\"chart_slug\")"
   ]
  },
  {
   "cell_type": "code",
   "execution_count": 8,
   "metadata": {},
   "outputs": [],
   "source": [
    "from owid.catalog.utils import underscore\n",
    "\n",
    "df[\"dataset_name\"] = \"dataset_\" + df.dataset_id.astype(str) + \"_\" + df.dataset_name.map(underscore)"
   ]
  },
  {
   "cell_type": "code",
   "execution_count": 9,
   "metadata": {},
   "outputs": [
    {
     "data": {
      "text/plain": [
       "'ENV=.env.prod bulk_backport -d 1861 -d 5790 -d 5774 -d 3093 -d 5782 -d 5362 -d 829 -d 5201 -d 5959 -d 943 -d 1070 -d 5708 -d 5895 -d 5821 -d 115 -d 5941 -d 5593 -d 5676 -d 5520 -d 5637 -d 5599 -d 1857 -d 5546 -d 5855 -d 5839 -d 5712 -d 1047 -d 5575 -d 5332'"
      ]
     },
     "execution_count": 9,
     "metadata": {},
     "output_type": "execute_result"
    }
   ],
   "source": [
    "# bulk_backport command to run locally\n",
    "\"ENV=.env.prod bulk_backport \" + \"-d \" + \" -d \".join(list(set(df.dataset_id.map(str))))"
   ]
  },
  {
   "cell_type": "code",
   "execution_count": 10,
   "metadata": {},
   "outputs": [
    {
     "name": "stdout",
     "output_type": "stream",
     "text": [
      "- backport://backport/owid/latest/dataset_1047_world_bank_gender_statistics__gender\n",
      "- backport://backport/owid/latest/dataset_1070_statistical_capacity_indicator__sci__world_bank_data_on_statistical_capacity\n",
      "- backport://backport/owid/latest/dataset_115_countries_continents\n",
      "- backport://backport/owid/latest/dataset_1857_employment\n",
      "- backport://backport/owid/latest/dataset_1861_earnings_and_labour_cost\n",
      "- backport://backport/owid/latest/dataset_3093_economic_losses_from_disasters_as_a_share_of_gdp__pielke__2018\n",
      "- backport://backport/owid/latest/dataset_5201_forest_land__deforestation_and_change__fao__2020\n",
      "- backport://backport/owid/latest/dataset_5332_water_and_sanitation__who_wash__2021\n",
      "- backport://backport/owid/latest/dataset_5362_world_bank_edstats_2020\n",
      "- backport://backport/owid/latest/dataset_5520_united_nations_sustainable_development_goals__united_nations__2022_02\n",
      "- backport://backport/owid/latest/dataset_5546_democracy__lexical_index\n",
      "- backport://backport/owid/latest/dataset_5575_united_nations_sustainable_development_goals__united_nations__2022_04\n",
      "- backport://backport/owid/latest/dataset_5593_ihme__global_burden_of_disease__risk_factors__institute_for_health_metrics_and_evaluation__2022_04\n",
      "- backport://backport/owid/latest/dataset_5599_ihme__global_burden_of_disease__deaths_and_dalys__institute_for_health_metrics_and_evaluation__2022_04\n",
      "- backport://backport/owid/latest/dataset_5637_world_development_indicators__world_bank__2022_05_26\n",
      "- backport://backport/owid/latest/dataset_5676_global_health_observatory__world_health_organization__2022_08\n",
      "- backport://backport/owid/latest/dataset_5708_sdg_indicators__sdg_indicators__fao__2022_05_17\n",
      "- backport://backport/owid/latest/dataset_5712_food_security__suite_of_food_security_indicators__fao__2022_05_17\n",
      "- backport://backport/owid/latest/dataset_5774_key_indicators\n",
      "- backport://backport/owid/latest/dataset_5782_who_immunization_data__2022\n",
      "- backport://backport/owid/latest/dataset_5790_global_health_estimates__world_health_organization__2020\n",
      "- backport://backport/owid/latest/dataset_5821_gender_statistics__world_bank__2022_10_29\n",
      "- backport://backport/owid/latest/dataset_5839_international_completeness_of_death_registration_2015_2019__karlinsky__2021\n",
      "- backport://backport/owid/latest/dataset_5855_united_nations_office_on_drugs_and_crime__intentional_homicides\n",
      "- backport://backport/owid/latest/dataset_5895_united_nations_sustainable_development_goals__2023\n",
      "- backport://backport/owid/latest/dataset_5941_investment__credit_to_agriculture__fao__2023_02_22\n",
      "- backport://backport/owid/latest/dataset_5959_population__various_sources\n",
      "- backport://backport/owid/latest/dataset_829_food_security__suite_of_food_security_indicators__fao__2017\n",
      "- backport://backport/owid/latest/dataset_943_sexual_violence__unicef__2017\n"
     ]
    }
   ],
   "source": [
    "# dependencies for DAG file\n",
    "print(\"\\n\".join([f\"- backport://backport/owid/latest/{n}\" for n in sorted(list(set(df[\"dataset_name\"])))]))"
   ]
  },
  {
   "cell_type": "code",
   "execution_count": 11,
   "metadata": {},
   "outputs": [],
   "source": [
    "df.to_csv(\"sdg_sources.csv\", index=False)"
   ]
  },
  {
   "cell_type": "code",
   "execution_count": null,
   "metadata": {},
   "outputs": [],
   "source": []
  }
 ],
 "metadata": {
  "interpreter": {
   "hash": "844e7496ece5f279b92e860ee31795b4810a8e6a6d9b1dd318e3a60c64167b55"
  },
  "kernelspec": {
   "display_name": "Python 3.9.10 ('.venv': poetry)",
   "language": "python",
   "name": "python3"
  },
  "language_info": {
   "codemirror_mode": {
    "name": "ipython",
    "version": 3
   },
   "file_extension": ".py",
   "mimetype": "text/x-python",
   "name": "python",
   "nbconvert_exporter": "python",
   "pygments_lexer": "ipython3",
   "version": "3.9.16"
  },
  "orig_nbformat": 4
 },
 "nbformat": 4,
 "nbformat_minor": 2
}
