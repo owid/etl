{
 "cells": [
  {
   "cell_type": "markdown",
   "metadata": {},
   "source": [
    "## Generate SDG mapping from goals to variables and datasets\n",
    "\n",
    "We list all `goals -> variables` mappings from https://sdg-tracker.org/. The original `goal -> variable` mapping was in [this spreadsheet](https://docs.google.com/spreadsheets/d/1n0UrpKKS2JVcXSmth_QVYLThlWev6pzEiHP7HaIq9BY/edit#gid=1284188229), but it's not up to date anymore. Instead we get them by scraping SDG tracker files from github. After that we enhance it with data from grapher DB and generate a new CSV file to be used by ETL."
   ]
  },
  {
   "cell_type": "code",
   "execution_count": null,
   "metadata": {},
   "outputs": [],
   "source": [
    "import requests\n",
    "\n",
    "js = requests.get(\n",
    "    \"https://api.github.com/repos/owid/sdg-tracker.org/git/trees/master?recursive=1\"\n",
    ").json()"
   ]
  },
  {
   "cell_type": "code",
   "execution_count": null,
   "metadata": {},
   "outputs": [],
   "source": [
    "from bs4 import BeautifulSoup\n",
    "from collections import defaultdict\n",
    "\n",
    "charts = defaultdict(list)\n",
    "\n",
    "for p in js[\"tree\"]:\n",
    "    if not p[\"path\"].startswith(\"pages\"):\n",
    "        continue\n",
    "\n",
    "    resp = requests.get(\n",
    "        f\"https://raw.githubusercontent.com/owid/sdg-tracker.org/master/{p['path']}\"\n",
    "    )\n",
    "    if resp.status_code != 200:\n",
    "        continue\n",
    "\n",
    "    soup = BeautifulSoup(resp.text, \"html.parser\")\n",
    "\n",
    "    for div_indicator in soup.find_all(\"div\", {\"class\": \"indicator\"}):\n",
    "        if \"id\" not in div_indicator.attrs:\n",
    "            raise Exception(\n",
    "                f'Page {p[\"path\"]} is missing id=[indicator] in <div class=\"indicator\">'\n",
    "            )\n",
    "\n",
    "        for iframe_chart in div_indicator.find_all(\"iframe\"):\n",
    "            charts[div_indicator.attrs[\"id\"]].append(iframe_chart.attrs[\"src\"])"
   ]
  },
  {
   "cell_type": "code",
   "execution_count": null,
   "metadata": {},
   "outputs": [],
   "source": [
    "import pandas as pd\n",
    "\n",
    "df = pd.DataFrame(\n",
    "    [(indicator, chart) for indicator, charts in charts.items() for chart in charts],\n",
    "    columns=[\"indicator\", \"chart\"],\n",
    ")\n",
    "df.head()"
   ]
  },
  {
   "cell_type": "code",
   "execution_count": null,
   "metadata": {},
   "outputs": [],
   "source": [
    "df[\"chart_slug\"] = df.chart.str.split(\"/\").str.get(-1)"
   ]
  },
  {
   "cell_type": "code",
   "execution_count": null,
   "metadata": {},
   "outputs": [],
   "source": [
    "from etl.db import get_engine\n",
    "\n",
    "engine = get_engine()\n",
    "\n",
    "# get variable id -> dataset id relationship\n",
    "q = \"\"\"\n",
    "select\n",
    "    c.id as chart_id,\n",
    "    v.id as variable_id,\n",
    "    v.name as variable_name,\n",
    "    d.id as dataset_id,\n",
    "    d.name as dataset_name,\n",
    "    c.config->>\"$.slug\" as chart_slug\n",
    "from variables as v\n",
    "join datasets as d on d.id = v.datasetId\n",
    "join chart_dimensions as cd on cd.variableId = v.id\n",
    "join charts as c on c.id = cd.chartId\n",
    "where c.config->>\"$.slug\" in %(slugs)s\n",
    "    and d.isPrivate is false\n",
    "\"\"\"\n",
    "gf = pd.read_sql(q, engine, params={\"slugs\": df.chart_slug.tolist()})"
   ]
  },
  {
   "cell_type": "code",
   "execution_count": null,
   "metadata": {},
   "outputs": [],
   "source": [
    "df = df.merge(gf, on=\"chart_slug\")"
   ]
  },
  {
   "cell_type": "code",
   "execution_count": null,
   "metadata": {},
   "outputs": [],
   "source": [
    "from owid.catalog.utils import underscore\n",
    "\n",
    "df[\"dataset_name\"] = (\n",
    "    \"dataset_\" + df.dataset_id.astype(str) + \"_\" + df.dataset_name.map(underscore)\n",
    ")"
   ]
  },
  {
   "cell_type": "code",
   "execution_count": null,
   "metadata": {},
   "outputs": [],
   "source": [
    "# arguments for bulk_backport\n",
    "\"-d \" + \" -d \".join(list(set(df.dataset_id.map(str))))"
   ]
  },
  {
   "cell_type": "code",
   "execution_count": null,
   "metadata": {},
   "outputs": [],
   "source": [
    "# dependencies for DAG file\n",
    "print(\n",
    "    \"\\n\".join(\n",
    "        [f\"- backport://backport/owid/latest/{n}\" for n in set(df[\"dataset_name\"])]\n",
    "    )\n",
    ")"
   ]
  },
  {
   "cell_type": "code",
   "execution_count": null,
   "metadata": {},
   "outputs": [],
   "source": [
    "df.to_csv(\"sdg_sources.csv\", index=False)"
   ]
  },
  {
   "cell_type": "code",
   "execution_count": null,
   "metadata": {},
   "outputs": [],
   "source": []
  }
 ],
 "metadata": {
  "interpreter": {
   "hash": "844e7496ece5f279b92e860ee31795b4810a8e6a6d9b1dd318e3a60c64167b55"
  },
  "kernelspec": {
   "display_name": "Python 3.9.10 ('.venv': poetry)",
   "language": "python",
   "name": "python3"
  },
  "language_info": {
   "codemirror_mode": {
    "name": "ipython",
    "version": 3
   },
   "file_extension": ".py",
   "mimetype": "text/x-python",
   "name": "python",
   "nbconvert_exporter": "python",
   "pygments_lexer": "ipython3",
   "version": "3.9.12"
  },
  "orig_nbformat": 4
 },
 "nbformat": 4,
 "nbformat_minor": 2
}
