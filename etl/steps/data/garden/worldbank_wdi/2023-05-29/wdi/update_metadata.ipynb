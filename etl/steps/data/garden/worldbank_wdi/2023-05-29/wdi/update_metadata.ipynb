{
 "cells": [
  {
   "attachments": {},
   "cell_type": "markdown",
   "metadata": {},
   "source": [
    "## Update metadata\n",
    "\n",
    "Update `wdi.meta.yml` from WDI metadata file. This notebook is intended to be run manually and all changes to the YAML file need to be verified."
   ]
  },
  {
   "cell_type": "code",
   "execution_count": 1,
   "metadata": {},
   "outputs": [],
   "source": [
    "# TODO: remove this\n",
    "from myml.nbinit import *"
   ]
  },
  {
   "cell_type": "code",
   "execution_count": 10,
   "metadata": {},
   "outputs": [],
   "source": [
    "from etl.snapshot import Snapshot\n",
    "from owid.catalog.utils import underscore\n",
    "import zipfile\n",
    "\n",
    "snap = Snapshot(\"worldbank_wdi/2023-05-29/wdi.zip\")\n",
    "zf = zipfile.ZipFile(snap.path)\n",
    "df_vars = pd.read_csv(zf.open(\"WDISeries.csv\"))\n",
    "\n",
    "df_vars.dropna(how=\"all\", axis=1, inplace=True)\n",
    "df_vars.columns = df_vars.columns.map(underscore)\n",
    "df_vars.rename(columns={\"series_code\": \"indicator_code\"}, inplace=True)\n",
    "df_vars[\"indicator_code\"] = df_vars[\"indicator_code\"].apply(underscore)\n",
    "\n",
    "df_vars[\"indicator_name\"] = df_vars[\"indicator_name\"].str.replace(r\"\\s+\", \" \", regex=True)\n",
    "\n",
    "# df_vars = df_vars.query(\"indicator_code in @var_codes\").set_index(\"indicator_code\", verify_integrity=True)"
   ]
  },
  {
   "cell_type": "code",
   "execution_count": null,
   "metadata": {},
   "outputs": [],
   "source": [
    "import re\n",
    "from typing import Union\n",
    "\n",
    "def replace_years(s: str, year: Union[int, str]) -> str:\n",
    "    \"\"\"replaces all years in string with {year}.\n",
    "\n",
    "    Example:\n",
    "\n",
    "        >>> replace_years(\"GDP (constant 2010 US$)\", 2015)\n",
    "        \"GDP (constant 2015 US$)\"\n",
    "    \"\"\"\n",
    "    year_regex = re.compile(r\"\\b([1-2]\\d{3})\\b\")\n",
    "    s_new = year_regex.sub(str(year), s)\n",
    "    return s_new"
   ]
  },
  {
   "cell_type": "code",
   "execution_count": null,
   "metadata": {},
   "outputs": [],
   "source": [
    "year_regex = re.compile(r\"\\b([1-2]\\d{3})\\b\")\n",
    "                regex_res = year_regex.search(var[\"indicator_name\"])\n",
    "                if regex_res:\n",
    "                    assert len(regex_res.groups()) == 1\n",
    "                    year = regex_res.groups()[0]\n",
    "                    unit = replace_years(unit, year)\n",
    "                    short_unit = replace_years(short_unit, year)\n",
    "                    for k in [\"name\", \"unit\", \"shortUnit\"]:\n",
    "                        if pd.notnull(display.get(k)):\n",
    "                            display[k] = replace_years(display[k], year)"
   ]
  }
 ],
 "metadata": {
  "kernelspec": {
   "display_name": ".venv",
   "language": "python",
   "name": "python3"
  },
  "language_info": {
   "codemirror_mode": {
    "name": "ipython",
    "version": 3
   },
   "file_extension": ".py",
   "mimetype": "text/x-python",
   "name": "python",
   "nbconvert_exporter": "python",
   "pygments_lexer": "ipython3",
   "version": "3.10.0"
  },
  "orig_nbformat": 4
 },
 "nbformat": 4,
 "nbformat_minor": 2
}
