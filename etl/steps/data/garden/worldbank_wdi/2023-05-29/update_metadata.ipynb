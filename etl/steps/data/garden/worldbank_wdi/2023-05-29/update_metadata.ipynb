{
 "cells": [
  {
   "attachments": {},
   "cell_type": "markdown",
   "metadata": {},
   "source": [
    "## Update metadata\n",
    "\n",
    "Update `wdi.meta.yml` from WDI metadata file. This notebook is intended to be run manually and all changes to the YAML file need to be verified."
   ]
  },
  {
   "cell_type": "code",
   "execution_count": 1,
   "metadata": {},
   "outputs": [],
   "source": [
    "# TODO: remove this\n",
    "from myml.nbinit import *"
   ]
  },
  {
   "cell_type": "code",
   "execution_count": 2,
   "metadata": {},
   "outputs": [],
   "source": [
    "from wdi import load_variable_metadata\n",
    "df_vars = load_variable_metadata()"
   ]
  },
  {
   "cell_type": "code",
   "execution_count": 49,
   "metadata": {},
   "outputs": [],
   "source": [
    "import ruamel.yaml\n",
    "\n",
    "yaml_path = \"wdi.meta.yml\"\n",
    "\n",
    "with open(yaml_path, \"r\") as f:\n",
    "    yml = ruamel.yaml.load(f, Loader=ruamel.yaml.RoundTripLoader)"
   ]
  },
  {
   "cell_type": "code",
   "execution_count": 51,
   "metadata": {},
   "outputs": [],
   "source": [
    "import re\n",
    "from typing import Union\n",
    "\n",
    "def replace_years(s: str, year: Union[int, str]) -> str:\n",
    "    \"\"\"replaces all years in string with {year}.\n",
    "\n",
    "    Example:\n",
    "\n",
    "        >>> replace_years(\"GDP (constant 2010 US$)\", 2015)\n",
    "        \"GDP (constant 2015 US$)\"\n",
    "    \"\"\"\n",
    "    year_regex = re.compile(r\"\\b([1-2]\\d{3})\\b\")\n",
    "    s_new = year_regex.sub(str(year), s)\n",
    "    return s_new\n",
    "\n",
    "variables = yml['tables']['wdi']['variables']\n",
    "\n",
    "for indicator_code in df_vars.index:\n",
    "    if indicator_code in variables:\n",
    "        var = variables[indicator_code]\n",
    "    else:\n",
    "        var = {}\n",
    "        variables[indicator_code] = var\n",
    "\n",
    "    # update titles from metadata file\n",
    "    try:\n",
    "        var['title'] = df_vars.loc[indicator_code].indicator_name\n",
    "    except KeyError:\n",
    "        continue    \n",
    "\n",
    "    # if title contains year, try to update units too\n",
    "    year_regex = re.compile(r\"\\b([1-2]\\d{3})\\b\")\n",
    "    regex_res = year_regex.search(df_vars.loc[indicator_code].indicator_name)\n",
    "    if regex_res:\n",
    "        assert len(regex_res.groups()) == 1\n",
    "        year = regex_res.groups()[0]\n",
    "\n",
    "        if 'unit' in var:\n",
    "            var['unit'] = replace_years(var['unit'], year)\n",
    "\n",
    "        if 'short_unit' in var:\n",
    "            var['short_unit'] = replace_years(var['short_unit'], year)\n",
    "\n",
    "        for k in [\"name\", \"unit\", \"short_unit\"]:\n",
    "            if var.get('display', {}).get('unit'):\n",
    "                var['display']['unit'] = replace_years(var['display']['unit'], year)\n",
    "\n",
    "            if var.get('display', {}).get('short_unit'):\n",
    "                var['display']['short_unit'] = replace_years(var['display']['short_unit'], year)            "
   ]
  },
  {
   "cell_type": "code",
   "execution_count": 43,
   "metadata": {},
   "outputs": [],
   "source": [
    "with open(yaml_path, \"w\") as f:\n",
    "    ruamel.yaml.dump(yml, f, Dumper=ruamel.yaml.RoundTripDumper, width=120)"
   ]
  },
  {
   "attachments": {},
   "cell_type": "markdown",
   "metadata": {},
   "source": [
    "## Update Sources"
   ]
  },
  {
   "cell_type": "code",
   "execution_count": 3,
   "metadata": {},
   "outputs": [
    {
     "data": {
      "text/plain": [
       "['International Labour Organization. “ILO modelled estimates database” ILOSTAT. Accessed June 2021. https://ilostat.ilo.org/data/.',\n",
       " 'UNESCO Institute for Statistics (http://uis.unesco.org/). Data as of March 2021.',\n",
       " 'International Labour Organization. “Labour Force Statistics database (LFS)” ILOSTAT. Accessed December 6, 2022. https://ilostat.ilo.org/data/.',\n",
       " 'World Bank, World Development Indicators database. Estimates are based on data obtained from International Labour Organization, ILOSTAT at https://ilostat.ilo.org/data/.',\n",
       " \"World Bank staff estimates using the World Bank's total population and age/sex distributions of the United Nations Population Division's World Population Prospects: 2022 Revision.\",\n",
       " \"World Bank staff estimates based on age distributions of United Nations Population Division's World Population Prospects: 2022 Revision.\",\n",
       " 'International Labour Organization. “Education and Mismatch Indicators database (EMI)” ILOSTAT. Accessed December 6, 2022. https://ilostat.ilo.org/data/.',\n",
       " 'International Labour Organization. “Wages and Working Time Statistics database (COND)” ILOSTAT. Accessed December 6, 2022. https://ilostat.ilo.org/data/.',\n",
       " 'International Labour Organization. “ILO modelled estimates database” ILOSTAT. Accessed January 2021. https://ilostat.ilo.org/data/.',\n",
       " 'United Nations Population Division. World Population Prospects: 2022 Revision.',\n",
       " 'Center for International Earth Science Information Network - CIESIN - Columbia University, and CUNY Institute for Demographic Research - CIDR - City University of New York. 2021. Low Elevation Coastal Zone (LECZ) Urban-Rural Population and Land Area Estimates, Version 3. Palisades, NY: NASA Socioeconomic Data and Applications Center (SEDAC).\\xa0https://doi.org/10.7927/d1x1-d702.',\n",
       " 'International Labour Organization. “Labour Market-related SDG Indicators database (ILOSDG)” ILOSTAT. Accessed December 6, 2022. https://ilostat.ilo.org/data/.',\n",
       " '(1) United Nations Population Division. World Population Prospects: 2022 Revision, or derived from male and female life expectancy at birth from sources such as: (2) Census reports and other statistical publications from national statistical offices, (3) Eurostat: Demographic Statistics, (4) United Nations Statistical Division. Population and Vital Statistics Reprot (various years), (5) U.S. Census Bureau: International Database, and (6) Secretariat of the Pacific Community: Statistics and Demography Programme.',\n",
       " 'International Labour Organization. “ILO Modelled Estimates and Projections database (ILOEST)” ILOSTAT. Accessed December 6, 2022. https://ilostat.ilo.org/data/.',\n",
       " 'UNESCO Institute for Statistics (UIS). UIS.Stat Bulk Data Download Service. Accessed October 24, 2022. https://apiportal.uis.unesco.org/bdds.',\n",
       " '(1) United Nations Population Division. World Population Prospects: 2022 Revision. (2) University of California, Berkeley, and Max Planck Institute for Demographic Research. The Human Mortality Database.',\n",
       " 'Derived from total population. Population source: (1) United Nations Population Division. World Population Prospects: 2022 Revision, (2) Census reports and other statistical publications from national statistical offices, (3) Eurostat: Demographic Statistics, (4) United Nations Statistical Division. Population and Vital Statistics Reprot (various years), (5) U.S. Census Bureau: International Database, and (6) Secretariat of the Pacific Community: Statistics and Demography Programme.',\n",
       " '(1) United Nations Population Division. World Population Prospects: 2022 Revision. (2) Census reports and other statistical publications from national statistical offices, (3) Eurostat: Demographic Statistics, (4) United Nations Statistical Division. Population and Vital Statistics Reprot (various years), (5) U.S. Census Bureau: International Database, and (6) Secretariat of the Pacific Community: Statistics and Demography Programme.',\n",
       " 'World Bank, World Development Indicators database. Estimates are based on data obtained from International Labour Organization and United Nations Population Division.',\n",
       " 'Global Findex Database, World Bank (https://www.worldbank.org/en/publication/globalfindex).',\n",
       " 'World Bank, World Development Indicators database. Estimates are based on employment, population, GDP, and PPP data obtained from International Labour Organization, United Nations Population Division, Eurostat, OECD, and World Bank.',\n",
       " 'UNICEF global databases, based on administrative reports from countries (link: https://data.unicef.org/topic/nutrition/vitamin-a-deficiency/)',\n",
       " \"World Bank staff estimates based on age/sex distributions of United Nations Population Division's World Population Prospects: 2022 Revision.\"]"
      ]
     },
     "execution_count": 3,
     "metadata": {},
     "output_type": "execute_result"
    }
   ],
   "source": [
    "with open('wdi.sources.json', 'r') as f:\n",
    "    sources = json.load(f)\n",
    "\n",
    "sources = [s for s in sources if not s[\"name\"].startswith(\"TODO\")]\n",
    "\n",
    "missing_sources = list(set(df_vars['source']) - {s['rawName'] for s in sources})\n",
    "missing_sources"
   ]
  },
  {
   "cell_type": "code",
   "execution_count": 4,
   "metadata": {},
   "outputs": [
    {
     "name": "stdout",
     "output_type": "stream",
     "text": [
      "[{\"rawName\": \"International Labour Organization. “ILO modelled estimates database” ILOSTAT. Accessed June 2021. https://ilostat.ilo.org/data/.\", \"name\": \"TODO International Labour Organization. “ILO modelled estimates database” ILOSTAT. Accessed June 2021. https://ilostat.ilo.org/data/.\", \"dataPublisherSource\": \"TODO\"}, {\"rawName\": \"UNESCO Institute for Statistics (http://uis.unesco.org/). Data as of March 2021.\", \"name\": \"TODO UNESCO Institute for Statistics (http://uis.unesco.org/). Data as of March 2021.\", \"dataPublisherSource\": \"TODO\"}, {\"rawName\": \"International Labour Organization. “Labour Force Statistics database (LFS)” ILOSTAT. Accessed December 6, 2022. https://ilostat.ilo.org/data/.\", \"name\": \"TODO International Labour Organization. “Labour Force Statistics database (LFS)” ILOSTAT. Accessed December 6, 2022. https://ilostat.ilo.org/data/.\", \"dataPublisherSource\": \"TODO\"}, {\"rawName\": \"World Bank, World Development Indicators database. Estimates are based on data obtained from International Labour Organization, ILOSTAT at https://ilostat.ilo.org/data/.\", \"name\": \"TODO World Bank, World Development Indicators database. Estimates are based on data obtained from International Labour Organization, ILOSTAT at https://ilostat.ilo.org/data/.\", \"dataPublisherSource\": \"TODO\"}, {\"rawName\": \"World Bank staff estimates using the World Bank's total population and age/sex distributions of the United Nations Population Division's World Population Prospects: 2022 Revision.\", \"name\": \"TODO World Bank staff estimates using the World Bank's total population and age/sex distributions of the United Nations Population Division's World Population Prospects: 2022 Revision.\", \"dataPublisherSource\": \"TODO\"}, {\"rawName\": \"World Bank staff estimates based on age distributions of United Nations Population Division's World Population Prospects: 2022 Revision.\", \"name\": \"TODO World Bank staff estimates based on age distributions of United Nations Population Division's World Population Prospects: 2022 Revision.\", \"dataPublisherSource\": \"TODO\"}, {\"rawName\": \"International Labour Organization. “Education and Mismatch Indicators database (EMI)” ILOSTAT. Accessed December 6, 2022. https://ilostat.ilo.org/data/.\", \"name\": \"TODO International Labour Organization. “Education and Mismatch Indicators database (EMI)” ILOSTAT. Accessed December 6, 2022. https://ilostat.ilo.org/data/.\", \"dataPublisherSource\": \"TODO\"}, {\"rawName\": \"International Labour Organization. “Wages and Working Time Statistics database (COND)” ILOSTAT. Accessed December 6, 2022. https://ilostat.ilo.org/data/.\", \"name\": \"TODO International Labour Organization. “Wages and Working Time Statistics database (COND)” ILOSTAT. Accessed December 6, 2022. https://ilostat.ilo.org/data/.\", \"dataPublisherSource\": \"TODO\"}, {\"rawName\": \"International Labour Organization. “ILO modelled estimates database” ILOSTAT. Accessed January 2021. https://ilostat.ilo.org/data/.\", \"name\": \"TODO International Labour Organization. “ILO modelled estimates database” ILOSTAT. Accessed January 2021. https://ilostat.ilo.org/data/.\", \"dataPublisherSource\": \"TODO\"}, {\"rawName\": \"United Nations Population Division. World Population Prospects: 2022 Revision.\", \"name\": \"TODO United Nations Population Division. World Population Prospects: 2022 Revision.\", \"dataPublisherSource\": \"TODO\"}, {\"rawName\": \"Center for International Earth Science Information Network - CIESIN - Columbia University, and CUNY Institute for Demographic Research - CIDR - City University of New York. 2021. Low Elevation Coastal Zone (LECZ) Urban-Rural Population and Land Area Estimates, Version 3. Palisades, NY: NASA Socioeconomic Data and Applications Center (SEDAC). https://doi.org/10.7927/d1x1-d702.\", \"name\": \"TODO Center for International Earth Science Information Network - CIESIN - Columbia University, and CUNY Institute for Demographic Research - CIDR - City University of New York. 2021. Low Elevation Coastal Zone (LECZ) Urban-Rural Population and Land Area Estimates, Version 3. Palisades, NY: NASA Socioeconomic Data and Applications Center (SEDAC). https://doi.org/10.7927/d1x1-d702.\", \"dataPublisherSource\": \"TODO\"}, {\"rawName\": \"International Labour Organization. “Labour Market-related SDG Indicators database (ILOSDG)” ILOSTAT. Accessed December 6, 2022. https://ilostat.ilo.org/data/.\", \"name\": \"TODO International Labour Organization. “Labour Market-related SDG Indicators database (ILOSDG)” ILOSTAT. Accessed December 6, 2022. https://ilostat.ilo.org/data/.\", \"dataPublisherSource\": \"TODO\"}, {\"rawName\": \"(1) United Nations Population Division. World Population Prospects: 2022 Revision, or derived from male and female life expectancy at birth from sources such as: (2) Census reports and other statistical publications from national statistical offices, (3) Eurostat: Demographic Statistics, (4) United Nations Statistical Division. Population and Vital Statistics Reprot (various years), (5) U.S. Census Bureau: International Database, and (6) Secretariat of the Pacific Community: Statistics and Demography Programme.\", \"name\": \"TODO (1) United Nations Population Division. World Population Prospects: 2022 Revision, or derived from male and female life expectancy at birth from sources such as: (2) Census reports and other statistical publications from national statistical offices, (3) Eurostat: Demographic Statistics, (4) United Nations Statistical Division. Population and Vital Statistics Reprot (various years), (5) U.S. Census Bureau: International Database, and (6) Secretariat of the Pacific Community: Statistics and Demography Programme.\", \"dataPublisherSource\": \"TODO\"}, {\"rawName\": \"International Labour Organization. “ILO Modelled Estimates and Projections database (ILOEST)” ILOSTAT. Accessed December 6, 2022. https://ilostat.ilo.org/data/.\", \"name\": \"TODO International Labour Organization. “ILO Modelled Estimates and Projections database (ILOEST)” ILOSTAT. Accessed December 6, 2022. https://ilostat.ilo.org/data/.\", \"dataPublisherSource\": \"TODO\"}, {\"rawName\": \"UNESCO Institute for Statistics (UIS). UIS.Stat Bulk Data Download Service. Accessed October 24, 2022. https://apiportal.uis.unesco.org/bdds.\", \"name\": \"TODO UNESCO Institute for Statistics (UIS). UIS.Stat Bulk Data Download Service. Accessed October 24, 2022. https://apiportal.uis.unesco.org/bdds.\", \"dataPublisherSource\": \"TODO\"}, {\"rawName\": \"(1) United Nations Population Division. World Population Prospects: 2022 Revision. (2) University of California, Berkeley, and Max Planck Institute for Demographic Research. The Human Mortality Database.\", \"name\": \"TODO (1) United Nations Population Division. World Population Prospects: 2022 Revision. (2) University of California, Berkeley, and Max Planck Institute for Demographic Research. The Human Mortality Database.\", \"dataPublisherSource\": \"TODO\"}, {\"rawName\": \"Derived from total population. Population source: (1) United Nations Population Division. World Population Prospects: 2022 Revision, (2) Census reports and other statistical publications from national statistical offices, (3) Eurostat: Demographic Statistics, (4) United Nations Statistical Division. Population and Vital Statistics Reprot (various years), (5) U.S. Census Bureau: International Database, and (6) Secretariat of the Pacific Community: Statistics and Demography Programme.\", \"name\": \"TODO Derived from total population. Population source: (1) United Nations Population Division. World Population Prospects: 2022 Revision, (2) Census reports and other statistical publications from national statistical offices, (3) Eurostat: Demographic Statistics, (4) United Nations Statistical Division. Population and Vital Statistics Reprot (various years), (5) U.S. Census Bureau: International Database, and (6) Secretariat of the Pacific Community: Statistics and Demography Programme.\", \"dataPublisherSource\": \"TODO\"}, {\"rawName\": \"(1) United Nations Population Division. World Population Prospects: 2022 Revision. (2) Census reports and other statistical publications from national statistical offices, (3) Eurostat: Demographic Statistics, (4) United Nations Statistical Division. Population and Vital Statistics Reprot (various years), (5) U.S. Census Bureau: International Database, and (6) Secretariat of the Pacific Community: Statistics and Demography Programme.\", \"name\": \"TODO (1) United Nations Population Division. World Population Prospects: 2022 Revision. (2) Census reports and other statistical publications from national statistical offices, (3) Eurostat: Demographic Statistics, (4) United Nations Statistical Division. Population and Vital Statistics Reprot (various years), (5) U.S. Census Bureau: International Database, and (6) Secretariat of the Pacific Community: Statistics and Demography Programme.\", \"dataPublisherSource\": \"TODO\"}, {\"rawName\": \"World Bank, World Development Indicators database. Estimates are based on data obtained from International Labour Organization and United Nations Population Division.\", \"name\": \"TODO World Bank, World Development Indicators database. Estimates are based on data obtained from International Labour Organization and United Nations Population Division.\", \"dataPublisherSource\": \"TODO\"}, {\"rawName\": \"Global Findex Database, World Bank (https://www.worldbank.org/en/publication/globalfindex).\", \"name\": \"TODO Global Findex Database, World Bank (https://www.worldbank.org/en/publication/globalfindex).\", \"dataPublisherSource\": \"TODO\"}, {\"rawName\": \"World Bank, World Development Indicators database. Estimates are based on employment, population, GDP, and PPP data obtained from International Labour Organization, United Nations Population Division, Eurostat, OECD, and World Bank.\", \"name\": \"TODO World Bank, World Development Indicators database. Estimates are based on employment, population, GDP, and PPP data obtained from International Labour Organization, United Nations Population Division, Eurostat, OECD, and World Bank.\", \"dataPublisherSource\": \"TODO\"}, {\"rawName\": \"UNICEF global databases, based on administrative reports from countries (link: https://data.unicef.org/topic/nutrition/vitamin-a-deficiency/)\", \"name\": \"TODO UNICEF global databases, based on administrative reports from countries (link: https://data.unicef.org/topic/nutrition/vitamin-a-deficiency/)\", \"dataPublisherSource\": \"TODO\"}, {\"rawName\": \"World Bank staff estimates based on age/sex distributions of United Nations Population Division's World Population Prospects: 2022 Revision.\", \"name\": \"TODO World Bank staff estimates based on age/sex distributions of United Nations Population Division's World Population Prospects: 2022 Revision.\", \"dataPublisherSource\": \"TODO\"}]\n"
     ]
    }
   ],
   "source": [
    "print(json.dumps([{\n",
    "    \"rawName\": rn,\n",
    "    \"name\": f\"TODO {rn}\",\n",
    "    \"dataPublisherSource\": \"TODO\",\n",
    "}for rn in missing_sources], ensure_ascii=False))"
   ]
  },
  {
   "cell_type": "code",
   "execution_count": 9,
   "metadata": {},
   "outputs": [
    {
     "name": "stdout",
     "output_type": "stream",
     "text": [
      "Cost GPT4: $0.06\n"
     ]
    },
    {
     "data": {
      "text/plain": [
       "[{'rawName': 'International Labour Organization. “ILO modelled estimates database” ILOSTAT. Accessed June 2021. https://ilostat.ilo.org/data/.',\n",
       "  'name': 'International Labour Organization (via World Bank)',\n",
       "  'dataPublisherSource': 'ILO modelled estimates database - ILOSTAT'},\n",
       " {'rawName': 'UNESCO Institute for Statistics (http://uis.unesco.org/). Data as of March 2021.',\n",
       "  'name': 'UNESCO Institute for Statistics (via World Bank)',\n",
       "  'dataPublisherSource': 'UNESCO Institute for Statistics'},\n",
       " {'rawName': 'International Labour Organization. “Labour Force Statistics database (LFS)” ILOSTAT. Accessed December 6, 2022. https://ilostat.ilo.org/data/.',\n",
       "  'name': 'International Labour Organization (via World Bank)',\n",
       "  'dataPublisherSource': 'Labour Force Statistics database - ILOSTAT'},\n",
       " {'rawName': 'World Bank, World Development Indicators database. Estimates are based on data obtained from International Labour Organization, ILOSTAT at https://ilostat.ilo.org/data/.',\n",
       "  'name': 'World Bank based on data from International Labour Organization',\n",
       "  'dataPublisherSource': 'World Development Indicators - World Bank, ILOSTAT - International Labour Organization'},\n",
       " {'rawName': \"World Bank staff estimates using the World Bank's total population and age/sex distributions of the United Nations Population Division's World Population Prospects: 2022 Revision.\",\n",
       "  'name': 'World Bank based on data from the UN Population Division',\n",
       "  'dataPublisherSource': 'World Bank based on World Population Prospects - UN Population Division (2022)'},\n",
       " {'rawName': \"World Bank staff estimates based on age distributions of United Nations Population Division's World Population Prospects: 2022 Revision.\",\n",
       "  'name': 'World Bank based on data from the UN Population Division',\n",
       "  'dataPublisherSource': 'World Bank based on World Population Prospects - UN Population Division (2022)'},\n",
       " {'rawName': 'International Labour Organization. “Education and Mismatch Indicators database (EMI)” ILOSTAT. Accessed December 6, 2022. https://ilostat.ilo.org/data/.',\n",
       "  'name': 'International Labour Organization (via World Bank)',\n",
       "  'dataPublisherSource': 'Education and Mismatch Indicators database - ILOSTAT'},\n",
       " {'rawName': 'International Labour Organization. “Wages and Working Time Statistics database (COND)” ILOSTAT. Accessed December 6, 2022. https://ilostat.ilo.org/data/.',\n",
       "  'name': 'International Labour Organization (via World Bank)',\n",
       "  'dataPublisherSource': 'Wages and Working Time Statistics database - ILOSTAT'},\n",
       " {'rawName': 'International Labour Organization. “ILO modelled estimates database” ILOSTAT. Accessed January 2021. https://ilostat.ilo.org/data/.',\n",
       "  'name': 'International Labour Organization (via World Bank)',\n",
       "  'dataPublisherSource': 'ILO modelled estimates database - ILOSTAT'},\n",
       " {'rawName': 'United Nations Population Division. World Population Prospects: 2022 Revision.',\n",
       "  'name': 'United Nations Population Division (via World Bank)',\n",
       "  'dataPublisherSource': 'World Population Prospects - UN Population Division (2022)'}]"
      ]
     },
     "execution_count": 9,
     "metadata": {},
     "output_type": "execute_result"
    }
   ],
   "source": [
    "import openai\n",
    "import random\n",
    "\n",
    "SYSTEM_PROMPT = f\"\"\"\n",
    "You are given list of examples in JSON format you should use for learning. Each example has \n",
    "rawName and fields name and dataPublisherSource are derived from rawName.\n",
    "I'll give you a list of rawNames and you should give me a JSON list of those\n",
    "rawNames with name and dataPublisherSource fields filled in.\n",
    "\n",
    "Examples:\n",
    "{json.dumps(random.sample(sources, 10))}\n",
    "\"\"\"\n",
    "\n",
    "all_sources = \"\\n\".join(missing_sources[:10])\n",
    "\n",
    "messages = [\n",
    "    {\n",
    "        \"role\": \"system\",\n",
    "        \"content\": SYSTEM_PROMPT,\n",
    "    },\n",
    "    {\n",
    "        \"role\": \"user\",\n",
    "        \"content\": all_sources,\n",
    "    },\n",
    "]\n",
    "\n",
    "# 10 missing sources / 5 examples -> 2min\n",
    "\n",
    "response = openai.ChatCompletion.create(\n",
    "    model=\"gpt-4\",\n",
    "    # model=\"gpt-3.5-turbo\",\n",
    "    temperature=0,\n",
    "    messages=messages,\n",
    ")\n",
    "print(f\"Cost GPT4: ${response['usage']['total_tokens'] / 1000 * 0.03:.2f}\")\n",
    "r = json.loads(response['choices'][0]['message'][\"content\"])\n",
    "r"
   ]
  },
  {
   "cell_type": "code",
   "execution_count": 10,
   "metadata": {},
   "outputs": [
    {
     "data": {
      "text/plain": [
       "[{'rawName': 'International Labour Organization. “ILO modelled estimates database” ILOSTAT. Accessed June 2021. https://ilostat.ilo.org/data/.',\n",
       "  'name': 'International Labour Organization (via World Bank)',\n",
       "  'dataPublisherSource': 'ILO modelled estimates database - ILOSTAT'},\n",
       " {'rawName': 'UNESCO Institute for Statistics (http://uis.unesco.org/). Data as of March 2021.',\n",
       "  'name': 'UNESCO Institute for Statistics (via World Bank)',\n",
       "  'dataPublisherSource': 'UNESCO Institute for Statistics'},\n",
       " {'rawName': 'International Labour Organization. “Labour Force Statistics database (LFS)” ILOSTAT. Accessed December 6, 2022. https://ilostat.ilo.org/data/.',\n",
       "  'name': 'International Labour Organization (via World Bank)',\n",
       "  'dataPublisherSource': 'Labour Force Statistics database - ILOSTAT'},\n",
       " {'rawName': 'World Bank, World Development Indicators database. Estimates are based on data obtained from International Labour Organization, ILOSTAT at https://ilostat.ilo.org/data/.',\n",
       "  'name': 'World Bank based on data from International Labour Organization',\n",
       "  'dataPublisherSource': 'World Development Indicators - World Bank, ILOSTAT - International Labour Organization'},\n",
       " {'rawName': \"World Bank staff estimates using the World Bank's total population and age/sex distributions of the United Nations Population Division's World Population Prospects: 2022 Revision.\",\n",
       "  'name': 'World Bank based on data from the UN Population Division',\n",
       "  'dataPublisherSource': 'World Bank based on World Population Prospects - UN Population Division (2022)'},\n",
       " {'rawName': \"World Bank staff estimates based on age distributions of United Nations Population Division's World Population Prospects: 2022 Revision.\",\n",
       "  'name': 'World Bank based on data from the UN Population Division',\n",
       "  'dataPublisherSource': 'World Bank based on World Population Prospects - UN Population Division (2022)'},\n",
       " {'rawName': 'International Labour Organization. “Education and Mismatch Indicators database (EMI)” ILOSTAT. Accessed December 6, 2022. https://ilostat.ilo.org/data/.',\n",
       "  'name': 'International Labour Organization (via World Bank)',\n",
       "  'dataPublisherSource': 'Education and Mismatch Indicators database - ILOSTAT'},\n",
       " {'rawName': 'International Labour Organization. “Wages and Working Time Statistics database (COND)” ILOSTAT. Accessed December 6, 2022. https://ilostat.ilo.org/data/.',\n",
       "  'name': 'International Labour Organization (via World Bank)',\n",
       "  'dataPublisherSource': 'Wages and Working Time Statistics database - ILOSTAT'},\n",
       " {'rawName': 'International Labour Organization. “ILO modelled estimates database” ILOSTAT. Accessed January 2021. https://ilostat.ilo.org/data/.',\n",
       "  'name': 'International Labour Organization (via World Bank)',\n",
       "  'dataPublisherSource': 'ILO modelled estimates database - ILOSTAT'},\n",
       " {'rawName': 'United Nations Population Division. World Population Prospects: 2022 Revision.',\n",
       "  'name': 'United Nations Population Division (via World Bank)',\n",
       "  'dataPublisherSource': 'World Population Prospects - UN Population Division (2022)'}]"
      ]
     },
     "execution_count": 10,
     "metadata": {},
     "output_type": "execute_result"
    }
   ],
   "source": [
    "r"
   ]
  },
  {
   "cell_type": "code",
   "execution_count": 11,
   "metadata": {},
   "outputs": [
    {
     "data": {
      "text/plain": [
       "'[{\"rawName\": \"International Labour Organization. \\\\u201cILO modelled estimates database\\\\u201d ILOSTAT. Accessed June 2021. https://ilostat.ilo.org/data/.\", \"name\": \"International Labour Organization (via World Bank)\", \"dataPublisherSource\": \"ILO modelled estimates database - ILOSTAT\"}, {\"rawName\": \"UNESCO Institute for Statistics (http://uis.unesco.org/). Data as of March 2021.\", \"name\": \"UNESCO Institute for Statistics (via World Bank)\", \"dataPublisherSource\": \"UNESCO Institute for Statistics\"}, {\"rawName\": \"International Labour Organization. \\\\u201cLabour Force Statistics database (LFS)\\\\u201d ILOSTAT. Accessed December 6, 2022. https://ilostat.ilo.org/data/.\", \"name\": \"International Labour Organization (via World Bank)\", \"dataPublisherSource\": \"Labour Force Statistics database - ILOSTAT\"}, {\"rawName\": \"World Bank, World Development Indicators database. Estimates are based on data obtained from International Labour Organization, ILOSTAT at https://ilostat.ilo.org/data/.\", \"name\": \"World Bank based on data from International Labour Organization\", \"dataPublisherSource\": \"World Development Indicators - World Bank, ILOSTAT - International Labour Organization\"}, {\"rawName\": \"World Bank staff estimates using the World Bank\\'s total population and age/sex distributions of the United Nations Population Division\\'s World Population Prospects: 2022 Revision.\", \"name\": \"World Bank based on data from the UN Population Division\", \"dataPublisherSource\": \"World Bank based on World Population Prospects - UN Population Division (2022)\"}, {\"rawName\": \"World Bank staff estimates based on age distributions of United Nations Population Division\\'s World Population Prospects: 2022 Revision.\", \"name\": \"World Bank based on data from the UN Population Division\", \"dataPublisherSource\": \"World Bank based on World Population Prospects - UN Population Division (2022)\"}, {\"rawName\": \"International Labour Organization. \\\\u201cEducation and Mismatch Indicators database (EMI)\\\\u201d ILOSTAT. Accessed December 6, 2022. https://ilostat.ilo.org/data/.\", \"name\": \"International Labour Organization (via World Bank)\", \"dataPublisherSource\": \"Education and Mismatch Indicators database - ILOSTAT\"}, {\"rawName\": \"International Labour Organization. \\\\u201cWages and Working Time Statistics database (COND)\\\\u201d ILOSTAT. Accessed December 6, 2022. https://ilostat.ilo.org/data/.\", \"name\": \"International Labour Organization (via World Bank)\", \"dataPublisherSource\": \"Wages and Working Time Statistics database - ILOSTAT\"}, {\"rawName\": \"International Labour Organization. \\\\u201cILO modelled estimates database\\\\u201d ILOSTAT. Accessed January 2021. https://ilostat.ilo.org/data/.\", \"name\": \"International Labour Organization (via World Bank)\", \"dataPublisherSource\": \"ILO modelled estimates database - ILOSTAT\"}, {\"rawName\": \"United Nations Population Division. World Population Prospects: 2022 Revision.\", \"name\": \"United Nations Population Division (via World Bank)\", \"dataPublisherSource\": \"World Population Prospects - UN Population Division (2022)\"}]'"
      ]
     },
     "execution_count": 11,
     "metadata": {},
     "output_type": "execute_result"
    }
   ],
   "source": [
    "json.dumps(r)"
   ]
  }
 ],
 "metadata": {
  "kernelspec": {
   "display_name": ".venv",
   "language": "python",
   "name": "python3"
  },
  "language_info": {
   "codemirror_mode": {
    "name": "ipython",
    "version": 3
   },
   "file_extension": ".py",
   "mimetype": "text/x-python",
   "name": "python",
   "nbconvert_exporter": "python",
   "pygments_lexer": "ipython3",
   "version": "3.10.0"
  },
  "orig_nbformat": 4
 },
 "nbformat": 4,
 "nbformat_minor": 2
}
