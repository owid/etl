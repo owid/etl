{
 "cells": [
  {
   "attachments": {},
   "cell_type": "markdown",
   "metadata": {},
   "source": [
    "## Update metadata\n",
    "\n",
    "Update `wdi.meta.yml` from WDI metadata file. This notebook is intended to be run manually and all changes to the YAML file need to be verified."
   ]
  },
  {
   "cell_type": "code",
   "execution_count": 1,
   "metadata": {},
   "outputs": [],
   "source": [
    "from wdi import load_variable_metadata\n",
    "\n",
    "df_vars = load_variable_metadata()"
   ]
  },
  {
   "cell_type": "code",
   "execution_count": 49,
   "metadata": {},
   "outputs": [],
   "source": [
    "import ruamel.yaml\n",
    "\n",
    "yaml_path = \"wdi.meta.yml\"\n",
    "\n",
    "with open(yaml_path, \"r\") as f:\n",
    "    yml = ruamel.yaml.load(f, Loader=ruamel.yaml.RoundTripLoader)"
   ]
  },
  {
   "cell_type": "code",
   "execution_count": 51,
   "metadata": {},
   "outputs": [],
   "source": [
    "import re\n",
    "from typing import Union\n",
    "\n",
    "\n",
    "def replace_years(s: str, year: Union[int, str]) -> str:\n",
    "    \"\"\"replaces all years in string with {year}.\n",
    "\n",
    "    Example:\n",
    "\n",
    "        >>> replace_years(\"GDP (constant 2010 US$)\", 2015)\n",
    "        \"GDP (constant 2015 US$)\"\n",
    "    \"\"\"\n",
    "    year_regex = re.compile(r\"\\b([1-2]\\d{3})\\b\")\n",
    "    s_new = year_regex.sub(str(year), s)\n",
    "    return s_new\n",
    "\n",
    "\n",
    "variables = yml[\"tables\"][\"wdi\"][\"variables\"]\n",
    "\n",
    "for indicator_code in df_vars.index:\n",
    "    if indicator_code in variables:\n",
    "        var = variables[indicator_code]\n",
    "    else:\n",
    "        var = {}\n",
    "        variables[indicator_code] = var\n",
    "\n",
    "    # update titles from metadata file\n",
    "    try:\n",
    "        var[\"title\"] = df_vars.loc[indicator_code].indicator_name\n",
    "    except KeyError:\n",
    "        continue\n",
    "\n",
    "    # if title contains year, try to update units too\n",
    "    year_regex = re.compile(r\"\\b([1-2]\\d{3})\\b\")\n",
    "    regex_res = year_regex.search(df_vars.loc[indicator_code].indicator_name)\n",
    "    if regex_res:\n",
    "        assert len(regex_res.groups()) == 1\n",
    "        year = regex_res.groups()[0]\n",
    "\n",
    "        if \"unit\" in var:\n",
    "            var[\"unit\"] = replace_years(var[\"unit\"], year)\n",
    "\n",
    "        if \"short_unit\" in var:\n",
    "            var[\"short_unit\"] = replace_years(var[\"short_unit\"], year)\n",
    "\n",
    "        for k in [\"name\", \"unit\", \"short_unit\"]:\n",
    "            if var.get(\"display\", {}).get(\"unit\"):\n",
    "                var[\"display\"][\"unit\"] = replace_years(var[\"display\"][\"unit\"], year)\n",
    "\n",
    "            if var.get(\"display\", {}).get(\"short_unit\"):\n",
    "                var[\"display\"][\"short_unit\"] = replace_years(var[\"display\"][\"short_unit\"], year)"
   ]
  },
  {
   "cell_type": "code",
   "execution_count": 43,
   "metadata": {},
   "outputs": [],
   "source": [
    "with open(yaml_path, \"w\") as f:\n",
    "    ruamel.yaml.dump(yml, f, Dumper=ruamel.yaml.RoundTripDumper, width=120)"
   ]
  },
  {
   "attachments": {},
   "cell_type": "markdown",
   "metadata": {},
   "source": [
    "## Update Sources"
   ]
  },
  {
   "cell_type": "code",
   "execution_count": 3,
   "metadata": {},
   "outputs": [
    {
     "data": {
      "text/plain": [
       "[]"
      ]
     },
     "execution_count": 3,
     "metadata": {},
     "output_type": "execute_result"
    }
   ],
   "source": [
    "import json\n",
    "\n",
    "with open(\"wdi.sources.json\", \"r\") as f:\n",
    "    sources = json.load(f)\n",
    "\n",
    "sources = [s for s in sources if not s[\"name\"].startswith(\"TODO\")]\n",
    "\n",
    "missing_sources = list(set(df_vars[\"source\"]) - {s[\"rawName\"] for s in sources})\n",
    "missing_sources"
   ]
  },
  {
   "cell_type": "code",
   "execution_count": 4,
   "metadata": {},
   "outputs": [
    {
     "name": "stdout",
     "output_type": "stream",
     "text": [
      "Cost GPT4: $0.08\n"
     ]
    },
    {
     "data": {
      "text/plain": [
       "[{'rawName': 'International Labour Organization. “Labour Market-related SDG Indicators database (ILOSDG)” ILOSTAT. Accessed December 6, 2022. https://ilostat.ilo.org/data/.',\n",
       "  'name': 'International Labour Organization (via World Bank)',\n",
       "  'dataPublisherSource': 'Labour Market-related SDG Indicators Database - ILOSTAT'},\n",
       " {'rawName': 'World Bank, World Development Indicators database. Estimates are based on employment, population, GDP, and PPP data obtained from International Labour Organization, United Nations Population Division, Eurostat, OECD, and World Bank.',\n",
       "  'name': 'World Bank',\n",
       "  'dataPublisherSource': 'World Development Indicators Database - World Bank'},\n",
       " {'rawName': 'World Bank, World Development Indicators database. Estimates are based on data obtained from International Labour Organization and United Nations Population Division.',\n",
       "  'name': 'World Bank',\n",
       "  'dataPublisherSource': 'World Development Indicators Database - World Bank'},\n",
       " {'rawName': 'Derived from total population. Population source: (1) United Nations Population Division. World Population Prospects: 2022 Revision, (2) Census reports and other statistical publications from national statistical offices, (3) Eurostat: Demographic Statistics, (4) United Nations Statistical Division. Population and Vital Statistics Reprot (various years), (5) U.S. Census Bureau: International Database, and (6) Secretariat of the Pacific Community: Statistics and Demography Programme.',\n",
       "  'name': 'United Nations Population Division and others (via World Bank)',\n",
       "  'dataPublisherSource': 'World Population Prospects, Census Reports, Eurostat, United Nations Statistical Division, U.S. Census Bureau, Secretariat of the Pacific Community'},\n",
       " {'rawName': '(1) United Nations Population Division. World Population Prospects: 2022 Revision. (2) Census reports and other statistical publications from national statistical offices, (3) Eurostat: Demographic Statistics, (4) United Nations Statistical Division. Population and Vital Statistics Reprot (various years), (5) U.S. Census Bureau: International Database, and (6) Secretariat of the Pacific Community: Statistics and Demography Programme.',\n",
       "  'name': 'United Nations Population Division and others (via World Bank)',\n",
       "  'dataPublisherSource': 'World Population Prospects, Census Reports, Eurostat, United Nations Statistical Division, U.S. Census Bureau, Secretariat of the Pacific Community'},\n",
       " {'rawName': 'UNICEF global databases, based on administrative reports from countries (link: https://data.unicef.org/topic/nutrition/vitamin-a-deficiency/)',\n",
       "  'name': 'UNICEF (via World Bank)',\n",
       "  'dataPublisherSource': 'UNICEF Global Databases'},\n",
       " {'rawName': 'International Labour Organization. “ILO Modelled Estimates and Projections database (ILOEST)” ILOSTAT. Accessed December 6, 2022. https://ilostat.ilo.org/data/.',\n",
       "  'name': 'International Labour Organization (via World Bank)',\n",
       "  'dataPublisherSource': 'ILO Modelled Estimates and Projections Database - ILOSTAT'},\n",
       " {'rawName': 'Center for International Earth Science Information Network - CIESIN - Columbia University, and CUNY Institute for Demographic Research - CIDR - City University of New York. 2021. Low Elevation Coastal Zone (LECZ) Urban-Rural Population and Land Area Estimates, Version 3. Palisades, NY: NASA Socioeconomic Data and Applications Center (SEDAC). https://doi.org/10.7927/d1x1-d702.',\n",
       "  'name': 'CIESIN and CIDR (via World Bank)',\n",
       "  'dataPublisherSource': 'Low Elevation Coastal Zone (LECZ) Urban-Rural Population and Land Area Estimates - CIESIN / CIDR'},\n",
       " {'rawName': '(1) United Nations Population Division. World Population Prospects: 2022 Revision, or derived from male and female life expectancy at birth from sources such as: (2) Census reports and other statistical publications from national statistical offices, (3) Eurostat: Demographic Statistics, (4) United Nations Statistical Division. Population and Vital Statistics Reprot (various years), (5) U.S. Census Bureau: International Database, and (6) Secretariat of the Pacific Community: Statistics and Demography Programme.',\n",
       "  'name': 'United Nations Population Division and others (via World Bank)',\n",
       "  'dataPublisherSource': 'World Population Prospects, Census Reports, Eurostat, United Nations Statistical Division, U.S. Census Bureau, Secretariat of the Pacific Community'},\n",
       " {'rawName': 'UNESCO Institute for Statistics (UIS). UIS.Stat Bulk Data Download Service. Accessed October 24, 2022. https://apiportal.uis.unesco.org/bdds.',\n",
       "  'name': 'UNESCO (via World Bank)',\n",
       "  'dataPublisherSource': 'UNESCO Institute for Statistics'},\n",
       " {'rawName': 'Global Findex Database, World Bank (https://www.worldbank.org/en/publication/globalfindex).',\n",
       "  'name': 'World Bank',\n",
       "  'dataPublisherSource': 'Global Findex Database - World Bank'},\n",
       " {'rawName': '(1) United Nations Population Division. World Population Prospects: 2022 Revision. (2) University of California, Berkeley, and Max Planck Institute for Demographic Research. The Human Mortality Database.',\n",
       "  'name': 'United Nations Population Division and others (via World Bank)',\n",
       "  'dataPublisherSource': 'World Population Prospects, Human Mortality Database - University of California, Berkeley / Max Planck Institute for Demographic Research'},\n",
       " {'rawName': \"World Bank staff estimates based on age/sex distributions of United Nations Population Division's World Population Prospects: 2022 Revision.\",\n",
       "  'name': 'World Bank',\n",
       "  'dataPublisherSource': 'World Population Prospects - United Nations Population Division'}]"
      ]
     },
     "execution_count": 4,
     "metadata": {},
     "output_type": "execute_result"
    }
   ],
   "source": [
    "import openai\n",
    "import random\n",
    "\n",
    "SYSTEM_PROMPT = f\"\"\"\n",
    "You are given list of examples in JSON format you should use for learning. Each example has \n",
    "rawName and fields name and dataPublisherSource are derived from rawName.\n",
    "I'll give you a list of rawNames and you should give me a JSON list of those\n",
    "rawNames with name and dataPublisherSource fields filled in.\n",
    "\n",
    "Examples:\n",
    "{json.dumps(random.sample(sources, 10))}\n",
    "\"\"\"\n",
    "\n",
    "all_sources = \"\\n\".join(missing_sources)\n",
    "\n",
    "messages = [\n",
    "    {\n",
    "        \"role\": \"system\",\n",
    "        \"content\": SYSTEM_PROMPT,\n",
    "    },\n",
    "    {\n",
    "        \"role\": \"user\",\n",
    "        \"content\": all_sources,\n",
    "    },\n",
    "]\n",
    "\n",
    "# 10 missing sources / 5 examples -> 2min\n",
    "\n",
    "response = openai.ChatCompletion.create(\n",
    "    model=\"gpt-4\",\n",
    "    # model=\"gpt-3.5-turbo\",\n",
    "    temperature=0,\n",
    "    messages=messages,\n",
    ")\n",
    "print(f\"Cost GPT4: ${response['usage']['total_tokens'] / 1000 * 0.03:.2f}\")\n",
    "r = json.loads(response[\"choices\"][0][\"message\"][\"content\"])\n",
    "print(json.dumps(r, ensure_ascii=False, indent=2))"
   ]
  }
 ],
 "metadata": {
  "kernelspec": {
   "display_name": ".venv",
   "language": "python",
   "name": "python3"
  },
  "language_info": {
   "codemirror_mode": {
    "name": "ipython",
    "version": 3
   },
   "file_extension": ".py",
   "mimetype": "text/x-python",
   "name": "python",
   "nbconvert_exporter": "python",
   "pygments_lexer": "ipython3",
   "version": "3.11.2"
  },
  "orig_nbformat": 4
 },
 "nbformat": 4,
 "nbformat_minor": 2
}
