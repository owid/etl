{
 "cells": [
  {
   "attachments": {},
   "cell_type": "markdown",
   "metadata": {},
   "source": [
    "## Update metadata\n",
    "\n",
    "Update `wdi.meta.yml` from WDI metadata file. This notebook is intended to be run manually and all changes to the YAML file need to be verified."
   ]
  },
  {
   "cell_type": "code",
   "execution_count": 1,
   "metadata": {},
   "outputs": [],
   "source": [
    "# TODO: remove this\n",
    "from myml.nbinit import *"
   ]
  },
  {
   "cell_type": "code",
   "execution_count": 2,
   "metadata": {},
   "outputs": [],
   "source": [
    "from wdi import load_variable_metadata\n",
    "df_vars = load_variable_metadata()"
   ]
  },
  {
   "cell_type": "code",
   "execution_count": 41,
   "metadata": {},
   "outputs": [],
   "source": [
    "from typing import NamedTuple\n",
    "import ruamel.yaml\n",
    "\n",
    "yaml_path = \"wdi.meta.yml\"\n",
    "\n",
    "with open(yaml_path, \"r\") as f:\n",
    "    yml = ruamel.yaml.load(f, Loader=ruamel.yaml.RoundTripLoader)"
   ]
  },
  {
   "cell_type": "code",
   "execution_count": 42,
   "metadata": {},
   "outputs": [],
   "source": [
    "import re\n",
    "from typing import Union\n",
    "\n",
    "def replace_years(s: str, year: Union[int, str]) -> str:\n",
    "    \"\"\"replaces all years in string with {year}.\n",
    "\n",
    "    Example:\n",
    "\n",
    "        >>> replace_years(\"GDP (constant 2010 US$)\", 2015)\n",
    "        \"GDP (constant 2015 US$)\"\n",
    "    \"\"\"\n",
    "    year_regex = re.compile(r\"\\b([1-2]\\d{3})\\b\")\n",
    "    s_new = year_regex.sub(str(year), s)\n",
    "    return s_new\n",
    "\n",
    "variables = yml['tables']['wdi']['variables']\n",
    "\n",
    "for indicator_code in variables.keys():\n",
    "    var = variables[indicator_code]\n",
    "\n",
    "    # update titles from metadata file\n",
    "    try:\n",
    "        var['title'] = df_vars.loc[indicator_code].indicator_name\n",
    "    except KeyError:\n",
    "        continue    \n",
    "\n",
    "    # if title contains year, try to update units too\n",
    "    year_regex = re.compile(r\"\\b([1-2]\\d{3})\\b\")\n",
    "    regex_res = year_regex.search(df_vars.loc[indicator_code].indicator_name)\n",
    "    if regex_res:\n",
    "        assert len(regex_res.groups()) == 1\n",
    "        year = regex_res.groups()[0]\n",
    "\n",
    "        if 'unit' in var:\n",
    "            var['unit'] = replace_years(var['unit'], year)\n",
    "\n",
    "        if 'short_unit' in var:\n",
    "            var['short_unit'] = replace_years(var['short_unit'], year)\n",
    "\n",
    "        for k in [\"name\", \"unit\", \"short_unit\"]:\n",
    "            if var.get('display', {}).get('unit'):\n",
    "                var['display']['unit'] = replace_years(var['display']['unit'], year)\n",
    "\n",
    "            if var.get('display', {}).get('short_unit'):\n",
    "                var['display']['short_unit'] = replace_years(var['display']['short_unit'], year)            "
   ]
  },
  {
   "cell_type": "code",
   "execution_count": 43,
   "metadata": {},
   "outputs": [],
   "source": [
    "with open(yaml_path, \"w\") as f:\n",
    "    ruamel.yaml.dump(yml, f, Dumper=ruamel.yaml.RoundTripDumper, width=120)"
   ]
  }
 ],
 "metadata": {
  "kernelspec": {
   "display_name": ".venv",
   "language": "python",
   "name": "python3"
  },
  "language_info": {
   "codemirror_mode": {
    "name": "ipython",
    "version": 3
   },
   "file_extension": ".py",
   "mimetype": "text/x-python",
   "name": "python",
   "nbconvert_exporter": "python",
   "pygments_lexer": "ipython3",
   "version": "3.10.0"
  },
  "orig_nbformat": 4
 },
 "nbformat": 4,
 "nbformat_minor": 2
}
