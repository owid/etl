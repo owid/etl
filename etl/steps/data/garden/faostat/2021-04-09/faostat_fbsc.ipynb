{
 "cells": [
  {
   "cell_type": "markdown",
   "id": "6d5acae7",
   "metadata": {},
   "source": [
    "# FAOstat: Food Balances Combined\n",
    "- [_Source data (FBS)_](https://www.fao.org/faostat/en/#data/FBS)\n",
    "- [_Source data (FBSH)_](https://www.fao.org/faostat/en/#data/FBSH)\n",
    "\n",
    "This notebook integrates two FAOstat datasets (previously imported to _meadow_) into a single _garden_ dataset. This is because a new version of the _Food Balances_ dataset was launched in 2014 with a slightly new methodology ([more info](https://fenixservices.fao.org/faostat/static/documents/FBS/New%20FBS%20methodology.pdf)). The new dataset is named FBSC (Food Balances Combined)."
   ]
  },
  {
   "cell_type": "markdown",
   "id": "70df5526",
   "metadata": {},
   "source": [
    "## Parameters"
   ]
  },
  {
   "cell_type": "code",
   "execution_count": 1,
   "id": "ec98d59c",
   "metadata": {
    "tags": [
     "parameters"
    ]
   },
   "outputs": [],
   "source": [
    "dest_dir = \"/tmp/faostat_fbs\""
   ]
  },
  {
   "cell_type": "markdown",
   "id": "05e5b89b-bf6f-4b52-99ef-67b36c85f31a",
   "metadata": {
    "tags": []
   },
   "source": [
    "## Imports & Paths\n",
    "Import the required libraries and define paths to load files (including data files and standardisation mappings for item and element names)."
   ]
  },
  {
   "cell_type": "code",
   "execution_count": 2,
   "id": "7a13d99e-cb34-4dee-a702-be026f2fa3a7",
   "metadata": {},
   "outputs": [],
   "source": [
    "import json\n",
    "from pathlib import Path\n",
    "import pandas as pd\n",
    "from owid import catalog\n",
    "from etl.paths import DATA_DIR, BASE_DIR"
   ]
  },
  {
   "cell_type": "code",
   "execution_count": 3,
   "id": "0c30b923-929c-4b0f-bd00-c0fdd6f59ad7",
   "metadata": {},
   "outputs": [],
   "source": [
    "# side-car file containing manual country mapping\n",
    "COUNTRY_MAPPING = (\n",
    "    BASE_DIR / \"etl/steps/data/garden/faostat/2021-04-09/faostat_fbsc.country_std.json\"\n",
    ")"
   ]
  },
  {
   "cell_type": "markdown",
   "id": "49420475-cb40-4148-b03b-f3322242197a",
   "metadata": {
    "tags": []
   },
   "source": [
    "## Load meadow datasets\n",
    "In this step we load the required datasets from Garden: FBS and FBSH"
   ]
  },
  {
   "cell_type": "code",
   "execution_count": 4,
   "id": "134ea32a-77b4-4e4c-af5c-400f6edd5866",
   "metadata": {},
   "outputs": [],
   "source": [
    "# Read datasets\n",
    "fbs_meadow = catalog.Dataset(DATA_DIR / \"meadow/faostat/2021-04-09/faostat_fbs\")\n",
    "fbsh_meadow = catalog.Dataset(DATA_DIR / \"meadow/faostat/2017-12-11/faostat_fbsh\")\n",
    "metadata = catalog.Dataset(DATA_DIR / \"meadow/faostat/2022-02-10/faostat_metadata\")"
   ]
  },
  {
   "cell_type": "code",
   "execution_count": 5,
   "id": "5553eb58-fd10-4a93-9356-859121b7bed0",
   "metadata": {
    "tags": []
   },
   "outputs": [],
   "source": [
    "# Bulk data and items metadata\n",
    "fbs_bulk = fbs_meadow[\"bulk\"]\n",
    "fbsh_bulk = fbsh_meadow[\"bulk\"]"
   ]
  },
  {
   "cell_type": "code",
   "execution_count": 6,
   "id": "e9a67fe4-ca1e-4e73-b667-6cef8cc573b2",
   "metadata": {},
   "outputs": [
    {
     "name": "stdout",
     "output_type": "stream",
     "text": [
      "(1439391, 2)\n"
     ]
    },
    {
     "data": {
      "text/html": [
       "<div>\n",
       "<style scoped>\n",
       "    .dataframe tbody tr th:only-of-type {\n",
       "        vertical-align: middle;\n",
       "    }\n",
       "\n",
       "    .dataframe tbody tr th {\n",
       "        vertical-align: top;\n",
       "    }\n",
       "\n",
       "    .dataframe thead th {\n",
       "        text-align: right;\n",
       "    }\n",
       "</style>\n",
       "<table border=\"1\" class=\"dataframe\">\n",
       "  <thead>\n",
       "    <tr style=\"text-align: right;\">\n",
       "      <th></th>\n",
       "      <th></th>\n",
       "      <th></th>\n",
       "      <th></th>\n",
       "      <th></th>\n",
       "      <th>unit</th>\n",
       "      <th>value</th>\n",
       "    </tr>\n",
       "    <tr>\n",
       "      <th>area_code</th>\n",
       "      <th>item_code</th>\n",
       "      <th>element_code</th>\n",
       "      <th>year</th>\n",
       "      <th>flag</th>\n",
       "      <th></th>\n",
       "      <th></th>\n",
       "    </tr>\n",
       "  </thead>\n",
       "  <tbody>\n",
       "    <tr>\n",
       "      <th rowspan=\"5\" valign=\"top\">2</th>\n",
       "      <th rowspan=\"5\" valign=\"top\">2501</th>\n",
       "      <th rowspan=\"5\" valign=\"top\">511</th>\n",
       "      <th>2014</th>\n",
       "      <th>*</th>\n",
       "      <td>1000 persons</td>\n",
       "      <td>33371.0</td>\n",
       "    </tr>\n",
       "    <tr>\n",
       "      <th>2015</th>\n",
       "      <th>*</th>\n",
       "      <td>1000 persons</td>\n",
       "      <td>34414.0</td>\n",
       "    </tr>\n",
       "    <tr>\n",
       "      <th>2016</th>\n",
       "      <th>*</th>\n",
       "      <td>1000 persons</td>\n",
       "      <td>35383.0</td>\n",
       "    </tr>\n",
       "    <tr>\n",
       "      <th>2017</th>\n",
       "      <th>*</th>\n",
       "      <td>1000 persons</td>\n",
       "      <td>36296.0</td>\n",
       "    </tr>\n",
       "    <tr>\n",
       "      <th>2018</th>\n",
       "      <th>*</th>\n",
       "      <td>1000 persons</td>\n",
       "      <td>37172.0</td>\n",
       "    </tr>\n",
       "  </tbody>\n",
       "</table>\n",
       "</div>"
      ],
      "text/plain": [
       "                                                    unit    value\n",
       "area_code item_code element_code year flag                       \n",
       "2         2501      511          2014 *     1000 persons  33371.0\n",
       "                                 2015 *     1000 persons  34414.0\n",
       "                                 2016 *     1000 persons  35383.0\n",
       "                                 2017 *     1000 persons  36296.0\n",
       "                                 2018 *     1000 persons  37172.0"
      ]
     },
     "execution_count": 6,
     "metadata": {},
     "output_type": "execute_result"
    }
   ],
   "source": [
    "print(fbs_bulk.shape)\n",
    "fbs_bulk.head()"
   ]
  },
  {
   "cell_type": "code",
   "execution_count": 7,
   "id": "7ccf0bed-0e52-4bb3-be88-3fa80e0f48b8",
   "metadata": {},
   "outputs": [
    {
     "name": "stdout",
     "output_type": "stream",
     "text": [
      "(11486892, 2)\n"
     ]
    },
    {
     "data": {
      "text/html": [
       "<div>\n",
       "<style scoped>\n",
       "    .dataframe tbody tr th:only-of-type {\n",
       "        vertical-align: middle;\n",
       "    }\n",
       "\n",
       "    .dataframe tbody tr th {\n",
       "        vertical-align: top;\n",
       "    }\n",
       "\n",
       "    .dataframe thead th {\n",
       "        text-align: right;\n",
       "    }\n",
       "</style>\n",
       "<table border=\"1\" class=\"dataframe\">\n",
       "  <thead>\n",
       "    <tr style=\"text-align: right;\">\n",
       "      <th></th>\n",
       "      <th></th>\n",
       "      <th></th>\n",
       "      <th></th>\n",
       "      <th></th>\n",
       "      <th>unit</th>\n",
       "      <th>value</th>\n",
       "    </tr>\n",
       "    <tr>\n",
       "      <th>area_code</th>\n",
       "      <th>item_code</th>\n",
       "      <th>element_code</th>\n",
       "      <th>year</th>\n",
       "      <th>flag</th>\n",
       "      <th></th>\n",
       "      <th></th>\n",
       "    </tr>\n",
       "  </thead>\n",
       "  <tbody>\n",
       "    <tr>\n",
       "      <th rowspan=\"5\" valign=\"top\">2</th>\n",
       "      <th rowspan=\"5\" valign=\"top\">2501</th>\n",
       "      <th rowspan=\"5\" valign=\"top\">511</th>\n",
       "      <th>1961</th>\n",
       "      <th>NaN</th>\n",
       "      <td>1000 persons</td>\n",
       "      <td>8954.0</td>\n",
       "    </tr>\n",
       "    <tr>\n",
       "      <th>1962</th>\n",
       "      <th>NaN</th>\n",
       "      <td>1000 persons</td>\n",
       "      <td>9142.0</td>\n",
       "    </tr>\n",
       "    <tr>\n",
       "      <th>1963</th>\n",
       "      <th>NaN</th>\n",
       "      <td>1000 persons</td>\n",
       "      <td>9340.0</td>\n",
       "    </tr>\n",
       "    <tr>\n",
       "      <th>1964</th>\n",
       "      <th>NaN</th>\n",
       "      <td>1000 persons</td>\n",
       "      <td>9547.0</td>\n",
       "    </tr>\n",
       "    <tr>\n",
       "      <th>1965</th>\n",
       "      <th>NaN</th>\n",
       "      <td>1000 persons</td>\n",
       "      <td>9765.0</td>\n",
       "    </tr>\n",
       "  </tbody>\n",
       "</table>\n",
       "</div>"
      ],
      "text/plain": [
       "                                                    unit   value\n",
       "area_code item_code element_code year flag                      \n",
       "2         2501      511          1961 NaN   1000 persons  8954.0\n",
       "                                 1962 NaN   1000 persons  9142.0\n",
       "                                 1963 NaN   1000 persons  9340.0\n",
       "                                 1964 NaN   1000 persons  9547.0\n",
       "                                 1965 NaN   1000 persons  9765.0"
      ]
     },
     "execution_count": 7,
     "metadata": {},
     "output_type": "execute_result"
    }
   ],
   "source": [
    "print(fbsh_bulk.shape)\n",
    "fbsh_bulk.head()"
   ]
  },
  {
   "cell_type": "markdown",
   "id": "3f4edb48-ed7f-4aab-99be-fd2607bc4d60",
   "metadata": {},
   "source": [
    "## Sanity checks\n",
    "As we are fusing two different datasets, we will be doing some checks to ensure the consistency of the dataset. Specially in the identifying fields (i.e. `Year`, `Area Code`, `Item Code`, `Element Code`, `Flag`)"
   ]
  },
  {
   "cell_type": "markdown",
   "id": "92ffe4cd-e984-49bb-a96e-caaab03128bd",
   "metadata": {
    "tags": []
   },
   "source": [
    "### Check data files"
   ]
  },
  {
   "cell_type": "markdown",
   "id": "7ccfdde4-9993-4aa4-b1ad-ad69a8d21ba9",
   "metadata": {},
   "source": [
    "#### `Year`\n",
    "Check if the time window of both datasets is disjoint, otherwise we could end up with duplicates."
   ]
  },
  {
   "cell_type": "code",
   "execution_count": 10,
   "id": "e2e5f421-db02-4e5a-9d92-0d146b19d491",
   "metadata": {},
   "outputs": [],
   "source": [
    "fbs_year_min, fbs_year_max = (\n",
    "    fbs_bulk.index.get_level_values(\"year\").min(),\n",
    "    fbs_bulk.index.get_level_values(\"year\").max(),\n",
    ")\n",
    "fbsh_year_min, fbsh_year_max = (\n",
    "    fbsh_bulk.index.get_level_values(\"year\").min(),\n",
    "    fbsh_bulk.index.get_level_values(\"year\").max(),\n",
    ")"
   ]
  },
  {
   "cell_type": "code",
   "execution_count": 11,
   "id": "449e3f54-c3d5-4bb1-a0d0-73ae4a887f64",
   "metadata": {},
   "outputs": [],
   "source": [
    "# Year disjoints\n",
    "assert (fbsh_year_min < fbsh_year_max) & (\n",
    "    fbsh_year_max + 1 == fbs_year_min < fbs_year_max\n",
    ")"
   ]
  },
  {
   "cell_type": "markdown",
   "id": "d986cac5-b0a6-4274-9778-1839f63f85bd",
   "metadata": {},
   "source": [
    "#### `Area`\n",
    "Here we check which Areas (i.e. countries/regions) appear in one dataset but not in the other.\n",
    "\n",
    "We observe that former countries only appear in FBSH (USSR, Serbia and Montenegro, Sudan (fromer), Belgium-Luxembourg, Checkoslovakia, Netherland Antilles, Yugoslavia, Ethiopia PDR), which makes sense. There are some special cases where countries stopped or started appearing (Bermuda, Brunei and Papua New Guinea, Seychelles and Comoros)."
   ]
  },
  {
   "cell_type": "code",
   "execution_count": 12,
   "id": "66501a75-5725-42fc-b68b-8e22a3c7a49e",
   "metadata": {},
   "outputs": [],
   "source": [
    "fbsh_area = metadata[\"meta_fbsh_area\"]\n",
    "fbs_area = metadata[\"meta_fbs_area\"]"
   ]
  },
  {
   "cell_type": "code",
   "execution_count": 13,
   "id": "dd6fb699-b4d2-4f4d-a330-7e350e5fa3b2",
   "metadata": {},
   "outputs": [
    {
     "name": "stdout",
     "output_type": "stream",
     "text": [
      "- FBSH but not FBS: {15: 'Belgium-Luxembourg', 17: 'Bermuda', 26: 'Brunei Darussalam', 51: 'Czechoslovakia', 62: 'Ethiopia PDR', 151: 'Netherlands Antilles (former)', 186: 'Serbia and Montenegro', 206: 'Sudan (former)', 228: 'USSR', 248: 'Yugoslav SFR'}\n",
      "- FBS but not FBSH: {45: 'Comoros', 168: 'Papua New Guinea', 196: 'Seychelles', 5707: 'European Union (27)'}\n"
     ]
    }
   ],
   "source": [
    "# Get unique codes\n",
    "codes_fbs = set(fbs_bulk.index.get_level_values(\"area_code\"))\n",
    "codes_fbsh = set(fbsh_bulk.index.get_level_values(\"area_code\"))\n",
    "# Find missing codes\n",
    "miss_in_fbs = codes_fbsh.difference(codes_fbs)\n",
    "miss_in_fbsh = codes_fbs.difference(codes_fbsh)\n",
    "# Print\n",
    "print(\"- FBSH but not FBS:\", fbsh_area.loc[sorted(miss_in_fbs), \"country\"].to_dict())\n",
    "print(\"- FBS but not FBSH:\", fbs_area.loc[sorted(miss_in_fbsh), \"country\"].to_dict())"
   ]
  },
  {
   "cell_type": "markdown",
   "id": "f65d54c3-6655-49c5-aedb-4e098ee30ca5",
   "metadata": {},
   "source": [
    "Next, we check that all codes correspond to the same country name in both datasets."
   ]
  },
  {
   "cell_type": "code",
   "execution_count": 14,
   "id": "b005a93e-3821-4a79-8447-ccc4fd08cc92",
   "metadata": {},
   "outputs": [],
   "source": [
    "x = fbs_area.merge(fbsh_area, left_index=True, right_index=True)\n",
    "assert (x.country_x.astype(str) == x.country_y.astype(str)).all()"
   ]
  },
  {
   "cell_type": "markdown",
   "id": "b32813d0-558c-4bf4-8356-51875ce002ab",
   "metadata": {},
   "source": [
    "#### `Item`\n",
    "Here we check which items appear and disappear from dataset to dataset.\n",
    "\n",
    "It seems that some elements were deprecated in favour of others:  `Groundnuts (Shelled Eq) --> Groundnuts` and `Rice (Milled Equivalent) --> Rice and products`"
   ]
  },
  {
   "cell_type": "code",
   "execution_count": 15,
   "id": "7b5ac5cb-a2bf-4149-9a0c-f70086f96f7c",
   "metadata": {},
   "outputs": [],
   "source": [
    "# Load item info\n",
    "fbsh_item = metadata[\"meta_fbsh_item\"]\n",
    "fbs_item = metadata[\"meta_fbs_item\"]"
   ]
  },
  {
   "cell_type": "code",
   "execution_count": 16,
   "id": "8e5c87a3-3897-499c-9aea-2cf6454165ff",
   "metadata": {},
   "outputs": [],
   "source": [
    "def build_item_all_df(df):\n",
    "    \"\"\"Flatten item dataframe.\"\"\"\n",
    "\n",
    "    def _process_df(df, cols):\n",
    "        return (\n",
    "            df.drop_duplicates(cols)[cols]\n",
    "            .rename(columns=dict(zip(cols, [\"code\", \"name\"])))\n",
    "            .set_index(\"code\")\n",
    "        )\n",
    "\n",
    "    df = df.reset_index()\n",
    "    a = _process_df(df, [\"item_group_code\", \"item_group\"])\n",
    "    b = _process_df(df, [\"item_code\", \"item\"])\n",
    "    df = pd.concat([a, b])\n",
    "    assert df.index.value_counts().max() == 1\n",
    "    return df"
   ]
  },
  {
   "cell_type": "code",
   "execution_count": 17,
   "id": "a24645e7-bcd3-4ea2-91e2-9780651e4874",
   "metadata": {},
   "outputs": [],
   "source": [
    "# Build flattened version (item group, item in same column)\n",
    "fbsh_item_ = build_item_all_df(fbsh_item)\n",
    "fbs_item_ = build_item_all_df(fbs_item)"
   ]
  },
  {
   "cell_type": "code",
   "execution_count": 18,
   "id": "e5220bbf-a755-4d5b-846b-537b068b1f05",
   "metadata": {},
   "outputs": [
    {
     "name": "stdout",
     "output_type": "stream",
     "text": [
      "- FBSH but not FBS: {2556: 'Groundnuts (Shelled Eq)', 2805: 'Rice (Milled Equivalent)'}\n",
      "- FBS but not FBSH: {2552: 'Groundnuts', 2807: 'Rice and products'}\n"
     ]
    }
   ],
   "source": [
    "# Get unique codes\n",
    "codes_fbs = set(fbs_bulk.index.get_level_values(\"item_code\"))\n",
    "codes_fbsh = set(fbsh_bulk.index.get_level_values(\"item_code\"))\n",
    "# Find missing codes\n",
    "miss_in_fbs = codes_fbsh.difference(codes_fbs)\n",
    "miss_in_fbsh = codes_fbs.difference(codes_fbsh)\n",
    "# Print\n",
    "print(\"- FBSH but not FBS:\", fbsh_item_.loc[sorted(miss_in_fbs), \"name\"].to_dict())\n",
    "print(\"- FBS but not FBSH:\", fbs_item_.loc[sorted(miss_in_fbsh), \"name\"].to_dict())\n",
    "# fbsh_item.reset_index().set_index([\"item_code\", \"item_group_code\"]).loc[2805]\n",
    "# fbs_item.reset_index().set_index([\"item_code\", \"item_group_code\"]).loc[2807]"
   ]
  },
  {
   "cell_type": "markdown",
   "id": "9d54ee0c-c379-4408-9d40-03ce963c9244",
   "metadata": {},
   "source": [
    "We check that all codes are mapped to the same names."
   ]
  },
  {
   "cell_type": "code",
   "execution_count": 19,
   "id": "275b7491-2e31-45a5-a48b-dbd3f93cb314",
   "metadata": {},
   "outputs": [],
   "source": [
    "x = fbs_item_.merge(fbsh_item_, left_index=True, right_index=True)\n",
    "assert (x.name_x.astype(str) == x.name_y.astype(str)).all()"
   ]
  },
  {
   "cell_type": "code",
   "execution_count": 20,
   "id": "3e71b22e-0f1a-4c95-8d85-04adc12265dc",
   "metadata": {},
   "outputs": [
    {
     "data": {
      "text/html": [
       "<div>\n",
       "<style scoped>\n",
       "    .dataframe tbody tr th:only-of-type {\n",
       "        vertical-align: middle;\n",
       "    }\n",
       "\n",
       "    .dataframe tbody tr th {\n",
       "        vertical-align: top;\n",
       "    }\n",
       "\n",
       "    .dataframe thead th {\n",
       "        text-align: right;\n",
       "    }\n",
       "</style>\n",
       "<table border=\"1\" class=\"dataframe\">\n",
       "  <thead>\n",
       "    <tr style=\"text-align: right;\">\n",
       "      <th></th>\n",
       "      <th>name_x</th>\n",
       "      <th>name_y</th>\n",
       "    </tr>\n",
       "    <tr>\n",
       "      <th>code</th>\n",
       "      <th></th>\n",
       "      <th></th>\n",
       "    </tr>\n",
       "  </thead>\n",
       "  <tbody>\n",
       "  </tbody>\n",
       "</table>\n",
       "</div>"
      ],
      "text/plain": [
       "Empty Table\n",
       "Columns: [name_x, name_y]\n",
       "Index: []"
      ]
     },
     "execution_count": 20,
     "metadata": {},
     "output_type": "execute_result"
    }
   ],
   "source": [
    "x[x.name_x != x.name_y]"
   ]
  },
  {
   "cell_type": "markdown",
   "id": "dbe512c5-9038-4afa-a0f9-2395e6d45669",
   "metadata": {
    "tags": []
   },
   "source": [
    "#### `Element`\n",
    "We see that two items were introduced in FBS (not present in FBSH): `Residuals` and `Tourist consumption`."
   ]
  },
  {
   "cell_type": "code",
   "execution_count": 21,
   "id": "605ca9e7-5f13-40c8-9d8c-b6b388b6fbb4",
   "metadata": {},
   "outputs": [],
   "source": [
    "# Load element info\n",
    "fbsh_element = metadata[\"meta_fbsh_element\"]\n",
    "fbs_element = metadata[\"meta_fbs_element\"]"
   ]
  },
  {
   "cell_type": "code",
   "execution_count": 22,
   "id": "49d1ba9e-c419-4568-828f-abbc73b5edef",
   "metadata": {},
   "outputs": [
    {
     "name": "stdout",
     "output_type": "stream",
     "text": [
      "- FBSH but not FBS: {}\n",
      "- FBS but not FBSH: {5170: 'Residuals', 5171: 'Tourist consumption'}\n"
     ]
    },
    {
     "name": "stderr",
     "output_type": "stream",
     "text": [
      "/var/folders/0s/2yqr44dj44zcmyzdrf8fvxyc0000gn/T/ipykernel_21975/4033061121.py:8: FutureWarning: Passing a set as an indexer is deprecated and will raise in a future version. Use a list instead.\n",
      "  print(\"- FBSH but not FBS:\", fbsh_element.loc[miss_in_fbs, \"element\"].to_dict())\n",
      "/var/folders/0s/2yqr44dj44zcmyzdrf8fvxyc0000gn/T/ipykernel_21975/4033061121.py:9: FutureWarning: Passing a set as an indexer is deprecated and will raise in a future version. Use a list instead.\n",
      "  print(\"- FBS but not FBSH:\", fbs_element.loc[miss_in_fbsh, \"element\"].to_dict())\n"
     ]
    }
   ],
   "source": [
    "# Get unique codes\n",
    "codes_fbs = set(fbs_bulk.index.get_level_values(\"element_code\"))\n",
    "codes_fbsh = set(fbsh_bulk.index.get_level_values(\"element_code\"))\n",
    "# Find missing codes\n",
    "miss_in_fbs = codes_fbsh.difference(codes_fbs)\n",
    "miss_in_fbsh = codes_fbs.difference(codes_fbsh)\n",
    "# Print\n",
    "print(\"- FBSH but not FBS:\", fbsh_element.loc[miss_in_fbs, \"element\"].to_dict())\n",
    "print(\"- FBS but not FBSH:\", fbs_element.loc[miss_in_fbsh, \"element\"].to_dict())"
   ]
  },
  {
   "cell_type": "markdown",
   "id": "3a47588f-b35b-4029-92d1-22b0bacc9862",
   "metadata": {},
   "source": [
    "First, we check if all element codes just have one unit associated. Next, we verify that in both datasets we have the same mappings `code -> name`, `code -> unit` and `code -> description`."
   ]
  },
  {
   "cell_type": "code",
   "execution_count": 24,
   "id": "ac64c512-3e2b-4b08-97e3-437e24b56519",
   "metadata": {},
   "outputs": [],
   "source": [
    "# Only one unit per element code\n",
    "assert fbs_bulk.reset_index().groupby(\"element_code\").unit.nunique().max() == 1\n",
    "assert fbsh_bulk.reset_index().groupby(\"element_code\").unit.nunique().max() == 1"
   ]
  },
  {
   "cell_type": "code",
   "execution_count": 25,
   "id": "c093dc21-525e-4839-be5b-f202c807fa5a",
   "metadata": {},
   "outputs": [],
   "source": [
    "# Given an element code, we have the same element name, unit and description in fbs and fbsh\n",
    "x = fbs_element.merge(fbsh_element, left_index=True, right_index=True)\n",
    "assert (x.element_x.astype(str) == x.element_y.astype(str)).all()\n",
    "assert (x.unit_x.astype(str) == x.unit_y.astype(str)).all()\n",
    "assert (x.description_x.astype(str) == x.description_y.astype(str)).all()"
   ]
  },
  {
   "cell_type": "markdown",
   "id": "9b4346e1-c9a4-4c83-8b53-e146943a6f91",
   "metadata": {},
   "source": [
    "#### `Flag`\n",
    "Next, we compare which flags appear in each dataset. We observe that some flags only appear in one of the datasets. This is fine."
   ]
  },
  {
   "cell_type": "markdown",
   "id": "69e54bec-be1c-44d8-93ed-4ee6cb0dec98",
   "metadata": {},
   "source": [
    "In particular:\n",
    "- `Im` (Imputed) ist most common in new dataset, whereas `S` (Standardized data) was in the old one.\n",
    "- `Im` (Imputed) and `*` (Unofficial) appear first in new FBS.\n",
    "- `nan` (Official data), `SD` (Statistical Discrepancy) and `F` (FAO estimate) appear only in old FBSH."
   ]
  },
  {
   "cell_type": "code",
   "execution_count": 26,
   "id": "92809a3c-490e-4a58-9628-21bff768f6fd",
   "metadata": {},
   "outputs": [
    {
     "name": "stdout",
     "output_type": "stream",
     "text": [
      "- FBSH but not FBS: {nan, 'F', 'SD'}\n",
      "- FBS but not FBSH: {'*', 'Im'}\n"
     ]
    }
   ],
   "source": [
    "# Get unique codes\n",
    "codes_fbs = set(fbs_bulk.index.get_level_values(\"flag\"))\n",
    "codes_fbsh = set(fbsh_bulk.index.get_level_values(\"flag\"))\n",
    "# Find missing codes\n",
    "miss_in_fbs = codes_fbsh.difference(codes_fbs)\n",
    "miss_in_fbsh = codes_fbs.difference(codes_fbsh)\n",
    "# Print\n",
    "print(\"- FBSH but not FBS:\", miss_in_fbs)\n",
    "print(\"- FBS but not FBSH:\", miss_in_fbsh)"
   ]
  },
  {
   "cell_type": "code",
   "execution_count": 28,
   "id": "b5bfc929-2f78-4a27-9a0c-0395cddf30ef",
   "metadata": {},
   "outputs": [
    {
     "data": {
      "text/plain": [
       "S      4398405\n",
       "Fc     4094084\n",
       "A      2985946\n",
       "nan       8339\n",
       "SD          87\n",
       "F           31\n",
       "Name: flag, dtype: int64"
      ]
     },
     "execution_count": 28,
     "metadata": {},
     "output_type": "execute_result"
    }
   ],
   "source": [
    "pd.value_counts(fbsh_bulk.index.get_level_values(\"flag\").fillna(\"nan\"))"
   ]
  },
  {
   "cell_type": "code",
   "execution_count": 29,
   "id": "d865d23d-6ca5-4b4d-b131-e1402ecb92da",
   "metadata": {},
   "outputs": [
    {
     "data": {
      "text/plain": [
       "Im    538746\n",
       "Fc    453717\n",
       "A     373481\n",
       "S      72582\n",
       "*        865\n",
       "Name: flag, dtype: int64"
      ]
     },
     "execution_count": 29,
     "metadata": {},
     "output_type": "execute_result"
    }
   ],
   "source": [
    "pd.value_counts(fbs_bulk.index.get_level_values(\"flag\").fillna(\"nan\"))"
   ]
  },
  {
   "cell_type": "markdown",
   "id": "bdcb53c2-f0b1-4522-9c3f-e428fb3d6504",
   "metadata": {
    "tags": []
   },
   "source": [
    "## Merge dataset\n",
    "The moment has arrived. Now we attempt to merge both FBS and FBSH datasets into one: FBSC dataset. For this, we will be merging several files:\n",
    "- **bulk file**: The data itself.\n",
    "- **item file**: The file containing the mapping from item code to item name.\n",
    "- **element file**: The file containing the mapping from element to element name and unit.\n",
    "\n",
    "In addition, we will transition from `Area Code ---> Country`."
   ]
  },
  {
   "cell_type": "markdown",
   "id": "525e7395-81a1-4ba5-b31d-63c37880bdf7",
   "metadata": {},
   "source": [
    "### `Area`\n",
    "In this step, we standardise the country names. We first go from `Area Code` to `Area` (country name as per the FAO), and then `Area` to `Country`, using our country standardisation file."
   ]
  },
  {
   "cell_type": "code",
   "execution_count": 30,
   "id": "09c4e2f7-6aa5-4146-9e0a-aeacc879734e",
   "metadata": {},
   "outputs": [],
   "source": [
    "# Load our country standardisation file\n",
    "with open(COUNTRY_MAPPING) as f:\n",
    "    country_mapping = json.load(f)"
   ]
  },
  {
   "cell_type": "code",
   "execution_count": 31,
   "id": "66f3e32f-82d5-45d6-9dda-ba7b3aef4915",
   "metadata": {},
   "outputs": [],
   "source": [
    "# Merge both datasets Area Code -> Area mapping dataframe\n",
    "fbsc_area = pd.concat([fbs_area, fbsh_area]).drop_duplicates(subset=[\"country\"])"
   ]
  },
  {
   "cell_type": "code",
   "execution_count": 32,
   "id": "b7c83d72-94d5-4f29-9343-577f214a114a",
   "metadata": {},
   "outputs": [
    {
     "data": {
      "text/html": [
       "<div>\n",
       "<style scoped>\n",
       "    .dataframe tbody tr th:only-of-type {\n",
       "        vertical-align: middle;\n",
       "    }\n",
       "\n",
       "    .dataframe tbody tr th {\n",
       "        vertical-align: top;\n",
       "    }\n",
       "\n",
       "    .dataframe thead th {\n",
       "        text-align: right;\n",
       "    }\n",
       "</style>\n",
       "<table border=\"1\" class=\"dataframe\">\n",
       "  <thead>\n",
       "    <tr style=\"text-align: right;\">\n",
       "      <th></th>\n",
       "      <th>country</th>\n",
       "      <th>end_year</th>\n",
       "      <th>iso2_code</th>\n",
       "      <th>iso3_code</th>\n",
       "      <th>m49_code</th>\n",
       "      <th>start_year</th>\n",
       "    </tr>\n",
       "    <tr>\n",
       "      <th>country_code</th>\n",
       "      <th></th>\n",
       "      <th></th>\n",
       "      <th></th>\n",
       "      <th></th>\n",
       "      <th></th>\n",
       "      <th></th>\n",
       "    </tr>\n",
       "  </thead>\n",
       "  <tbody>\n",
       "    <tr>\n",
       "      <th>276</th>\n",
       "      <td>Sudan</td>\n",
       "      <td></td>\n",
       "      <td>SD</td>\n",
       "      <td>SDN</td>\n",
       "      <td>729</td>\n",
       "      <td>2012</td>\n",
       "    </tr>\n",
       "    <tr>\n",
       "      <th>206</th>\n",
       "      <td>Sudan (former)</td>\n",
       "      <td>2011</td>\n",
       "      <td></td>\n",
       "      <td></td>\n",
       "      <td>736</td>\n",
       "      <td></td>\n",
       "    </tr>\n",
       "  </tbody>\n",
       "</table>\n",
       "</div>"
      ],
      "text/plain": [
       "                     country end_year iso2_code iso3_code  m49_code start_year\n",
       "country_code                                                                  \n",
       "276                    Sudan                 SD       SDN       729       2012\n",
       "206           Sudan (former)     2011                           736           "
      ]
     },
     "execution_count": 32,
     "metadata": {},
     "output_type": "execute_result"
    }
   ],
   "source": [
    "fbsc_area[fbsc_area.country.apply(lambda x: \"sudan\" in x.lower())]"
   ]
  },
  {
   "cell_type": "code",
   "execution_count": 33,
   "id": "4a9550f7-c4e4-4e87-a5c7-8045e51cce27",
   "metadata": {},
   "outputs": [
    {
     "name": "stdout",
     "output_type": "stream",
     "text": [
      "['Belgium-Luxembourg', 'Burundi', 'Democratic Republic of the Congo', 'Libya', 'Syrian Arab Republic', 'World', 'Africa', 'Eastern Africa', 'Middle Africa', 'Northern Africa', 'Southern Africa', 'Western Africa', 'Americas', 'Northern America', 'Central America', 'Caribbean', 'South America', 'Asia', 'Central Asia', 'Eastern Asia', 'Southern Asia', 'South-eastern Asia', 'Western Asia', 'Europe', 'Eastern Europe', 'Northern Europe', 'Southern Europe', 'Western Europe', 'Australia and New Zealand', 'Micronesia', 'European Union (27)', 'Least Developed Countries', 'Land Locked Developing Countries', 'Small Island Developing States', 'Low Income Food Deficit Countries', 'Net Food Importing Developing Countries']\n"
     ]
    }
   ],
   "source": [
    "# Check which countries will be discarded based on our country standardisation file (those without a mapped standardised name)\n",
    "msk = fbsc_area.country.isin(country_mapping)\n",
    "print(fbsc_area.loc[-msk, \"country\"].tolist())"
   ]
  },
  {
   "cell_type": "markdown",
   "id": "acc35845-98bb-4227-9f4a-d734c6b4ff1f",
   "metadata": {},
   "source": [
    "Finally, we build the `Area Code ---> Country` mapping dictionary."
   ]
  },
  {
   "cell_type": "code",
   "execution_count": 34,
   "id": "6187dae0-6333-4910-b0d2-4dd54114a6c8",
   "metadata": {},
   "outputs": [],
   "source": [
    "map_area = fbsc_area.loc[msk, \"country\"].replace(country_mapping).sort_index().to_dict()"
   ]
  },
  {
   "cell_type": "markdown",
   "id": "5ae9be53-e478-4572-846f-5831f7ff1b09",
   "metadata": {},
   "source": [
    "### `Item`\n",
    "Merging the item dataframe is straight forward. There are some exceptions, which we accept, due to the renaming of items such as Groundnuts and Rice."
   ]
  },
  {
   "cell_type": "code",
   "execution_count": 35,
   "id": "c1c2e31a-dc5c-40aa-8309-c7f5d37a79e0",
   "metadata": {},
   "outputs": [],
   "source": [
    "fbsc_item = pd.concat([fbs_item, fbsh_item]).drop_duplicates(\n",
    "    subset=[\"item_group\", \"item\"]\n",
    ")"
   ]
  },
  {
   "cell_type": "code",
   "execution_count": 36,
   "id": "be235d1a-4e8a-4acc-9d56-9f124353b4f0",
   "metadata": {},
   "outputs": [],
   "source": [
    "# Check differences are as exprected\n",
    "a = fbs_item.index\n",
    "b = fbsh_item.index\n",
    "c = fbsc_item.index\n",
    "\n",
    "assert not {cc for cc in c if cc not in a}.difference(\n",
    "    {\n",
    "        (2905, 2805),\n",
    "        (2901, 2805),\n",
    "        (2903, 2805),\n",
    "        (2901, 2556),\n",
    "        (2913, 2556),\n",
    "        (2903, 2556),\n",
    "        (2960, 2769),\n",
    "    }\n",
    ")\n",
    "\n",
    "assert not {cc for cc in c if cc not in b}.difference(\n",
    "    {\n",
    "        (2905, 2807),\n",
    "        (2901, 2807),\n",
    "        (2903, 2807),\n",
    "        (2901, 2552),\n",
    "        (2913, 2552),\n",
    "        (2903, 2552),\n",
    "        (2961, 2769),\n",
    "    }\n",
    ")"
   ]
  },
  {
   "cell_type": "code",
   "execution_count": 37,
   "id": "6401adf5-d9c7-4d45-94c2-97e18cc52533",
   "metadata": {},
   "outputs": [],
   "source": [
    "# fbsh_item.loc[2960, 2769]"
   ]
  },
  {
   "cell_type": "code",
   "execution_count": 38,
   "id": "bbf2f8dd-ff44-4c94-8a9d-5789c72d2330",
   "metadata": {},
   "outputs": [],
   "source": [
    "# fbs_item.loc[2961, 2769]"
   ]
  },
  {
   "cell_type": "code",
   "execution_count": 39,
   "id": "7d3beea4-c7a0-4771-ba7d-da4e73689c93",
   "metadata": {},
   "outputs": [],
   "source": [
    "fbsc_item = fbsc_item[[\"item_group\", \"item\"]]"
   ]
  },
  {
   "cell_type": "markdown",
   "id": "940c66d3-1fe1-45cf-ad28-594658e431f6",
   "metadata": {},
   "source": [
    "### `Element`\n",
    "We merge element and unit dataframes, in order to obtain all the info in one. Next, we combine both FBS and FBSH datasets."
   ]
  },
  {
   "cell_type": "code",
   "execution_count": 40,
   "id": "8c900886-ca25-407b-a102-662a7bf106fa",
   "metadata": {},
   "outputs": [],
   "source": [
    "# Load unit table\n",
    "fbs_unit = metadata[\"meta_fbs_unit\"]\n",
    "fbsh_unit = metadata[\"meta_fbsh_unit\"]"
   ]
  },
  {
   "cell_type": "code",
   "execution_count": 42,
   "id": "0a11e3cd-07a2-4c35-96cb-cb4ab424a733",
   "metadata": {},
   "outputs": [],
   "source": [
    "# Merge element and unit\n",
    "fbs_element_unit = fbs_element.merge(\n",
    "    fbs_unit.rename(columns={\"description\": \"unit_description\"}),\n",
    "    left_on=\"unit\",\n",
    "    right_index=True,\n",
    ")\n",
    "assert fbs_element_unit.shape[0] == fbs_element.shape[0]\n",
    "\n",
    "fbsh_element_unit = fbsh_element.merge(\n",
    "    fbsh_unit.rename(columns={\"description\": \"unit_description\"}),\n",
    "    left_on=\"unit\",\n",
    "    right_index=True,\n",
    ")\n",
    "assert fbsh_element_unit.shape[0] == fbsh_element.shape[0]"
   ]
  },
  {
   "cell_type": "code",
   "execution_count": 43,
   "id": "ac368715-7c07-4788-a1aa-1f7c284c8893",
   "metadata": {},
   "outputs": [],
   "source": [
    "# Merge\n",
    "fbsc_element_unit = pd.concat([fbs_element_unit, fbsh_element_unit]).drop_duplicates(\n",
    "    subset=[\"element\", \"unit\", \"unit_description\"]\n",
    ")\n",
    "assert fbsc_element_unit.shape == fbsh_element_unit.shape == fbs_element_unit.shape"
   ]
  },
  {
   "cell_type": "markdown",
   "id": "324c8b72-ae6d-43dc-ac0b-1fd5febdaa4b",
   "metadata": {},
   "source": [
    "### `Bulk`\n",
    "Time to merge the core of the dataset, the bulk file! We do this by:\n",
    "- Concatenating both datasets\n",
    "- Renaming `Area Code --> Country`\n",
    "- Drop unused columns (`Unit`, `Area Code`)\n",
    "- Drop data related to population (`2501`) item.\n",
    "- Add `variable_name` column, with some more verbosity about each row info."
   ]
  },
  {
   "cell_type": "code",
   "execution_count": 44,
   "id": "edbccbda-e226-40df-8b22-a6574331d0eb",
   "metadata": {},
   "outputs": [],
   "source": [
    "fbsc_bulk = pd.concat([fbs_bulk, fbsh_bulk])"
   ]
  },
  {
   "cell_type": "code",
   "execution_count": 45,
   "id": "a7133574-bcff-48af-9c5a-dd3950759c35",
   "metadata": {},
   "outputs": [
    {
     "name": "stderr",
     "output_type": "stream",
     "text": [
      "/var/folders/0s/2yqr44dj44zcmyzdrf8fvxyc0000gn/T/ipykernel_21975/968321829.py:5: FutureWarning: Passing a dict as an indexer is deprecated and will raise in a future version. Use a list instead.\n",
      "  fbsc_bulk = fbsc_bulk.loc[map_area].reset_index()\n"
     ]
    }
   ],
   "source": [
    "# Filter countries + Area Code -> Country\n",
    "index_new = [\n",
    "    (col_map := {\"area_code\": \"country\"}).get(x, x) for x in fbsc_bulk.index.names\n",
    "]\n",
    "fbsc_bulk = fbsc_bulk.loc[map_area].reset_index()\n",
    "fbsc_bulk[col_map[\"area_code\"]] = fbsc_bulk[\"area_code\"].replace(map_area).tolist()\n",
    "fbsc_bulk = fbsc_bulk.set_index(index_new)"
   ]
  },
  {
   "cell_type": "code",
   "execution_count": 46,
   "id": "320bed95-f461-4a8a-8d15-956bc7f98ec6",
   "metadata": {},
   "outputs": [],
   "source": [
    "# Drop Unit, Area Code\n",
    "fbsc_bulk = fbsc_bulk.drop(columns=[\"unit\", \"area_code\"])"
   ]
  },
  {
   "cell_type": "code",
   "execution_count": 47,
   "id": "a8430241-3bd2-4253-b641-be3706cee654",
   "metadata": {},
   "outputs": [],
   "source": [
    "# Drop population (2501) item\n",
    "msk = fbsc_bulk.index.get_level_values(\"item_code\").isin([2501])\n",
    "fbsc_bulk = fbsc_bulk[~msk]"
   ]
  },
  {
   "cell_type": "markdown",
   "id": "558856dd-322b-4175-85f8-5057046f4468",
   "metadata": {},
   "source": [
    "#### Variable name\n",
    "Variable name is built using the name of the item, element and unit: `item - element - [unit]`"
   ]
  },
  {
   "cell_type": "code",
   "execution_count": 48,
   "id": "28e82671-58d7-4751-b15d-387d44dfdd09",
   "metadata": {},
   "outputs": [],
   "source": [
    "# Get item names\n",
    "fbsc_item_ = build_item_all_df(fbsc_item)\n",
    "map_items = fbsc_item_.astype(str)[\"name\"].to_dict()\n",
    "item_names = [map_items[i] for i in fbsc_bulk.index.get_level_values(\"item_code\")]\n",
    "# Get Element + Unit names\n",
    "x = fbsc_element_unit.reset_index()\n",
    "y = list(x[\"element\"].astype(str) + \" [\" + x[\"unit\"].astype(str) + \"]\")\n",
    "map_elems = dict(zip(x[\"element_code\"], y))\n",
    "elem_names = [map_elems[el] for el in fbsc_bulk.index.get_level_values(2)]\n",
    "# Construct variable name\n",
    "variable_names = [f\"{i} - {e}\" for i, e in zip(item_names, elem_names)]\n",
    "# Add variable name to index\n",
    "fbsc_bulk[\"variable_name\"] = variable_names\n",
    "fbsc_bulk = fbsc_bulk.reset_index()\n",
    "fbsc_bulk = fbsc_bulk.set_index(\n",
    "    [\"country\", \"item_code\", \"element_code\", \"variable_name\", \"year\", \"flag\"]\n",
    ")"
   ]
  },
  {
   "cell_type": "code",
   "execution_count": 49,
   "id": "e06c09d4-ccd0-4aec-a51d-65e18bab2814",
   "metadata": {},
   "outputs": [
    {
     "data": {
      "text/html": [
       "<div>\n",
       "<style scoped>\n",
       "    .dataframe tbody tr th:only-of-type {\n",
       "        vertical-align: middle;\n",
       "    }\n",
       "\n",
       "    .dataframe tbody tr th {\n",
       "        vertical-align: top;\n",
       "    }\n",
       "\n",
       "    .dataframe thead th {\n",
       "        text-align: right;\n",
       "    }\n",
       "</style>\n",
       "<table border=\"1\" class=\"dataframe\">\n",
       "  <thead>\n",
       "    <tr style=\"text-align: right;\">\n",
       "      <th></th>\n",
       "      <th></th>\n",
       "      <th></th>\n",
       "      <th></th>\n",
       "      <th></th>\n",
       "      <th></th>\n",
       "      <th>value</th>\n",
       "    </tr>\n",
       "    <tr>\n",
       "      <th>country</th>\n",
       "      <th>item_code</th>\n",
       "      <th>element_code</th>\n",
       "      <th>variable_name</th>\n",
       "      <th>year</th>\n",
       "      <th>flag</th>\n",
       "      <th></th>\n",
       "    </tr>\n",
       "  </thead>\n",
       "  <tbody>\n",
       "    <tr>\n",
       "      <th rowspan=\"5\" valign=\"top\">Armenia</th>\n",
       "      <th rowspan=\"5\" valign=\"top\">2901</th>\n",
       "      <th rowspan=\"5\" valign=\"top\">664</th>\n",
       "      <th rowspan=\"5\" valign=\"top\">Grand Total - Food supply (kcal/capita/day) [kcal/capita/day]</th>\n",
       "      <th>2014</th>\n",
       "      <th>Fc</th>\n",
       "      <td>3069.0</td>\n",
       "    </tr>\n",
       "    <tr>\n",
       "      <th>2015</th>\n",
       "      <th>Fc</th>\n",
       "      <td>3090.0</td>\n",
       "    </tr>\n",
       "    <tr>\n",
       "      <th>2016</th>\n",
       "      <th>Fc</th>\n",
       "      <td>3051.0</td>\n",
       "    </tr>\n",
       "    <tr>\n",
       "      <th>2017</th>\n",
       "      <th>Fc</th>\n",
       "      <td>3072.0</td>\n",
       "    </tr>\n",
       "    <tr>\n",
       "      <th>2018</th>\n",
       "      <th>Fc</th>\n",
       "      <td>2997.0</td>\n",
       "    </tr>\n",
       "  </tbody>\n",
       "</table>\n",
       "</div>"
      ],
      "text/plain": [
       "                                                                                              value\n",
       "country item_code element_code variable_name                                      year flag        \n",
       "Armenia 2901      664          Grand Total - Food supply (kcal/capita/day) [kc... 2014 Fc    3069.0\n",
       "                                                                                  2015 Fc    3090.0\n",
       "                                                                                  2016 Fc    3051.0\n",
       "                                                                                  2017 Fc    3072.0\n",
       "                                                                                  2018 Fc    2997.0"
      ]
     },
     "execution_count": 49,
     "metadata": {},
     "output_type": "execute_result"
    }
   ],
   "source": [
    "fbsc_bulk.head()"
   ]
  },
  {
   "cell_type": "markdown",
   "id": "113594aa-b358-4baa-8ab5-38b7a6dad4d7",
   "metadata": {},
   "source": [
    "## Create Garden dataset"
   ]
  },
  {
   "cell_type": "markdown",
   "id": "68ee93f1-77ce-47c6-be02-b523732d2bcf",
   "metadata": {},
   "source": [
    "### Metadata\n",
    "First, we create the metadata for this new dataset FBSC. Most of its content comes from concatenating FBS and FBSH fields. Checksum field is left to `None`, as it is unclear what we should use here (TODO)."
   ]
  },
  {
   "cell_type": "code",
   "execution_count": 50,
   "id": "bec146ab-3f8d-432e-b51b-0e03b247febb",
   "metadata": {},
   "outputs": [],
   "source": [
    "from owid.catalog.meta import DatasetMeta"
   ]
  },
  {
   "cell_type": "code",
   "execution_count": 51,
   "id": "92f8a6a6-5610-4769-a64e-0452e4fcbe23",
   "metadata": {},
   "outputs": [],
   "source": [
    "# Check description field in FBS and FBSH\n",
    "assert fbsh_meadow.metadata.description == fbs_meadow.metadata.description\n",
    "\n",
    "# Define metadata\n",
    "metadata = DatasetMeta(\n",
    "    namespace=\"faostat\",\n",
    "    short_name=\"faostat_fbsc\",\n",
    "    title=\"Food Balance: Food Balances (-2013 old methodology and 2014-) - FAO (2017, 2021)\",\n",
    "    description=fbsh_meadow.metadata.description,\n",
    "    sources=fbsh_meadow.metadata.sources + fbs_meadow.metadata.sources,\n",
    "    licenses=fbsh_meadow.metadata.licenses + fbs_meadow.metadata.licenses,\n",
    ")"
   ]
  },
  {
   "cell_type": "markdown",
   "id": "28b4e7bd-88d1-4747-bced-4650794a75be",
   "metadata": {},
   "source": [
    "### Create dataset and add tables\n",
    "Finally, we add the tables to the dataset."
   ]
  },
  {
   "cell_type": "code",
   "execution_count": 52,
   "id": "ac66fe58-5dbd-4445-b255-c7d4f2ce91bf",
   "metadata": {},
   "outputs": [],
   "source": [
    "fbsc_garden = catalog.Dataset.create_empty(dest_dir)"
   ]
  },
  {
   "cell_type": "code",
   "execution_count": 53,
   "id": "2d01fe85-7479-445a-b69c-4266d911f992",
   "metadata": {},
   "outputs": [],
   "source": [
    "# Propagate metadata\n",
    "fbsc_garden.metadata = metadata\n",
    "fbsc_garden.save()"
   ]
  },
  {
   "cell_type": "code",
   "execution_count": 54,
   "id": "f3df32ca-fcd9-40de-9ee7-6ce65a04737f",
   "metadata": {},
   "outputs": [],
   "source": [
    "# Add bulk table\n",
    "fbsc_bulk.metadata.short_name = \"bulk\"\n",
    "fbsc_garden.add(fbsc_bulk)\n",
    "# Add table items\n",
    "fbsc_item.metadata.short_name = \"meta_item\"\n",
    "fbsc_garden.add(fbsc_item)\n",
    "# Add table elements\n",
    "fbsc_element_unit.metadata = fbs_element.metadata\n",
    "fbsc_element_unit.metadata.description = \"List of elements, with their units and the respective descriptions of both. It also includes the element codes.\"\n",
    "fbsc_garden.add(fbsc_element_unit)"
   ]
  },
  {
   "cell_type": "code",
   "execution_count": 55,
   "id": "08c11810-9fc1-4512-bcb4-edecbfaa8aac",
   "metadata": {},
   "outputs": [],
   "source": [
    "fbsc_garden.save()"
   ]
  }
 ],
 "metadata": {
  "kernelspec": {
   "display_name": "Python 3",
   "language": "python",
   "name": "python3"
  },
  "language_info": {
   "codemirror_mode": {
    "name": "ipython",
    "version": 3
   },
   "file_extension": ".py",
   "mimetype": "text/x-python",
   "name": "python",
   "nbconvert_exporter": "python",
   "pygments_lexer": "ipython3",
   "version": "3.9.10"
  }
 },
 "nbformat": 4,
 "nbformat_minor": 5
}
