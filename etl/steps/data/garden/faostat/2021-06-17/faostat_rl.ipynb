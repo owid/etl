{
 "cells": [
  {
   "cell_type": "markdown",
   "id": "0df2939c-5f6c-47af-b802-b8d65b45cb86",
   "metadata": {},
   "source": [
    "# FAO Land Use (2021)"
   ]
  },
  {
   "cell_type": "markdown",
   "id": "7c30f2b8-edd8-4331-812a-41e287191c92",
   "metadata": {},
   "source": [
    "## Parameters"
   ]
  },
  {
   "cell_type": "code",
   "execution_count": null,
   "id": "aa25f23c-1603-4534-975e-d81253a5734d",
   "metadata": {
    "tags": [
     "parameters"
    ]
   },
   "outputs": [],
   "source": [
    "dest_dir = \"/tmp/faostat_rl\""
   ]
  },
  {
   "cell_type": "markdown",
   "id": "769bd8c3-9228-4b28-9751-f4e387fcefbb",
   "metadata": {},
   "source": [
    "## Imports"
   ]
  },
  {
   "cell_type": "code",
   "execution_count": null,
   "id": "da94eb1b-93b7-403f-b722-4cb9a8c5b0aa",
   "metadata": {},
   "outputs": [],
   "source": [
    "from owid import catalog\n",
    "import json\n",
    "from pathlib import Path"
   ]
  },
  {
   "cell_type": "code",
   "execution_count": null,
   "id": "a401af89-0f60-4f45-8980-6dc81042f888",
   "metadata": {},
   "outputs": [],
   "source": [
    "from etl.paths import BASE_DIR as base_path"
   ]
  },
  {
   "cell_type": "markdown",
   "id": "835e6bb6-0f73-4a7a-8cb2-3aaafb95e2ba",
   "metadata": {},
   "source": [
    "## Load meadow data"
   ]
  },
  {
   "cell_type": "code",
   "execution_count": null,
   "id": "cb577ce5-1d71-401b-8a23-992b03dd1aec",
   "metadata": {},
   "outputs": [],
   "source": [
    "meadow_path = base_path / \"data/meadow/faostat/2021-06-17/faostat_rl\"\n",
    "\n",
    "fao_meadow = catalog.Dataset(meadow_path)\n",
    "\n",
    "df = fao_meadow[\"land_use\"]"
   ]
  },
  {
   "cell_type": "code",
   "execution_count": null,
   "id": "0d54361e-c373-4221-833e-1b37f70ef83f",
   "metadata": {},
   "outputs": [],
   "source": [
    "df.metadata"
   ]
  },
  {
   "cell_type": "code",
   "execution_count": null,
   "id": "b366fc94-905e-4278-a8ad-88fe0d739cdf",
   "metadata": {},
   "outputs": [],
   "source": [
    "df.head()"
   ]
  },
  {
   "cell_type": "markdown",
   "id": "59e347a0-09d8-4d4d-8e03-5e258211685f",
   "metadata": {},
   "source": [
    "## Fix country names"
   ]
  },
  {
   "cell_type": "code",
   "execution_count": null,
   "id": "55800574-68c4-4710-937f-25bc96e34c56",
   "metadata": {},
   "outputs": [],
   "source": [
    "filename = (\n",
    "    base_path / \"etl/steps/data/garden/faostat/2021-06-17/faostat_rl.countries.json\"\n",
    ")\n",
    "\n",
    "with open(filename) as f:\n",
    "    cm = json.load(f)"
   ]
  },
  {
   "cell_type": "code",
   "execution_count": null,
   "id": "3cf7f592-2b1c-49ce-ac0b-79927b2b9ba9",
   "metadata": {},
   "outputs": [],
   "source": [
    "cm"
   ]
  },
  {
   "cell_type": "code",
   "execution_count": null,
   "id": "b9d66139-0f13-4300-be04-7906ad51cc3a",
   "metadata": {},
   "outputs": [],
   "source": [
    "df.head()"
   ]
  },
  {
   "cell_type": "code",
   "execution_count": null,
   "id": "beedf79d-444e-4fd3-b5c2-c7a6e0cdf9c0",
   "metadata": {},
   "outputs": [],
   "source": [
    "# we need to move Area out of the index to change it\n",
    "df.reset_index(inplace=True)"
   ]
  },
  {
   "cell_type": "code",
   "execution_count": null,
   "id": "749f375f-d639-4dc2-af71-e4452e8de74a",
   "metadata": {},
   "outputs": [],
   "source": [
    "df.head()"
   ]
  },
  {
   "cell_type": "code",
   "execution_count": null,
   "id": "8ab19674-8a74-4e7d-a8a9-9fefceb49532",
   "metadata": {},
   "outputs": [],
   "source": [
    "# if we have something in the mapping, use that\n",
    "# otherwise leave the name the same\n",
    "area = df[\"area\"].apply(lambda a: cm.get(a, a))"
   ]
  },
  {
   "cell_type": "code",
   "execution_count": null,
   "id": "c6bbf2df-0136-48ef-9db1-77f9bd84eb5b",
   "metadata": {},
   "outputs": [],
   "source": [
    "# now we need to put the index back; luckily it's kept in the metadata\n",
    "df.metadata.primary_key"
   ]
  },
  {
   "cell_type": "code",
   "execution_count": null,
   "id": "f7a74de0-27ee-4efc-adcf-d9322f7c376d",
   "metadata": {},
   "outputs": [],
   "source": [
    "df.set_index(df.metadata.primary_key, inplace=True)"
   ]
  },
  {
   "cell_type": "markdown",
   "id": "0cdd2281-e1fc-42ac-b3de-e5cf529580d2",
   "metadata": {},
   "source": [
    "## Make the garden dataset"
   ]
  },
  {
   "cell_type": "code",
   "execution_count": null,
   "id": "b9adeb91-5150-4b6b-ab77-9a454c702aab",
   "metadata": {},
   "outputs": [],
   "source": [
    "fao_garden = catalog.Dataset.create_empty(dest_dir)"
   ]
  },
  {
   "cell_type": "code",
   "execution_count": null,
   "id": "ea2dc2c2-5c60-40a7-a870-a632dfae615f",
   "metadata": {},
   "outputs": [],
   "source": [
    "fao_garden.metadata = fao_meadow.metadata\n",
    "fao_garden.save()"
   ]
  },
  {
   "cell_type": "code",
   "execution_count": null,
   "id": "d9c6cbb9-9514-4f74-8f94-4f3db8eb4b4e",
   "metadata": {},
   "outputs": [],
   "source": [
    "fao_garden.add(df)"
   ]
  },
  {
   "cell_type": "code",
   "execution_count": null,
   "id": "d9320166",
   "metadata": {},
   "outputs": [],
   "source": []
  }
 ],
 "metadata": {
  "kernelspec": {
   "display_name": "Python 3 (ipykernel)",
   "language": "python",
   "name": "python3"
  },
  "language_info": {
   "codemirror_mode": {
    "name": "ipython",
    "version": 3
   },
   "file_extension": ".py",
   "mimetype": "text/x-python",
   "name": "python",
   "nbconvert_exporter": "python",
   "pygments_lexer": "ipython3",
   "version": "3.9.10"
  }
 },
 "nbformat": 4,
 "nbformat_minor": 5
}
