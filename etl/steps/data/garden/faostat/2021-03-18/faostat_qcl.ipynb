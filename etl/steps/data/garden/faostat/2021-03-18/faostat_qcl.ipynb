{
 "cells": [
  {
   "cell_type": "markdown",
   "metadata": {},
   "source": [
    "# FAOstat: Crops and livestock products\n",
    "[_Source data_](https://www.fao.org/faostat/en/#data)"
   ]
  },
  {
   "cell_type": "markdown",
   "metadata": {},
   "source": [
    "## Parameters"
   ]
  },
  {
   "cell_type": "code",
   "execution_count": null,
   "metadata": {
    "tags": [
     "parameters"
    ]
   },
   "outputs": [],
   "source": [
    "dest_dir = \"/tmp/faostat_qcl\""
   ]
  },
  {
   "cell_type": "markdown",
   "metadata": {},
   "source": [
    "## Read data and reference tables"
   ]
  },
  {
   "cell_type": "code",
   "execution_count": null,
   "metadata": {},
   "outputs": [],
   "source": [
    "import json\n",
    "import pandas as pd\n",
    "from pathlib import Path\n",
    "\n",
    "from owid import catalog\n",
    "from etl.paths import BASE_DIR, DATA_DIR"
   ]
  },
  {
   "cell_type": "code",
   "execution_count": null,
   "metadata": {},
   "outputs": [],
   "source": [
    "COUNTRY_MAPPING = BASE_DIR / \"etl/steps/data/garden/faostat/2021-03-18/faostat_qcl.country_std.json\""
   ]
  },
  {
   "cell_type": "markdown",
   "metadata": {
    "tags": []
   },
   "source": [
    "## Load meadow dataset"
   ]
  },
  {
   "cell_type": "code",
   "execution_count": null,
   "metadata": {},
   "outputs": [],
   "source": [
    "qcl_meadow = catalog.Dataset(DATA_DIR / \"meadow/faostat/2021-03-18/faostat_qcl\")"
   ]
  },
  {
   "cell_type": "code",
   "execution_count": null,
   "metadata": {},
   "outputs": [],
   "source": [
    "metadata = catalog.Dataset(DATA_DIR / \"meadow/faostat/2022-02-10/faostat_metadata\")"
   ]
  },
  {
   "cell_type": "code",
   "execution_count": null,
   "metadata": {
    "tags": []
   },
   "outputs": [],
   "source": [
    "# Bulk data and items metadata\n",
    "qcl_bulk = qcl_meadow[\"bulk\"]"
   ]
  },
  {
   "cell_type": "code",
   "execution_count": null,
   "metadata": {},
   "outputs": [],
   "source": [
    "qcl_bulk.head()"
   ]
  },
  {
   "cell_type": "markdown",
   "metadata": {},
   "source": [
    "## Clean dataset"
   ]
  },
  {
   "cell_type": "markdown",
   "metadata": {},
   "source": [
    "### `Area`\n",
    "Filtering and mapping"
   ]
  },
  {
   "cell_type": "code",
   "execution_count": null,
   "metadata": {},
   "outputs": [],
   "source": [
    "# Prepare for Country Tool\n",
    "# ds = qcl_area.Country.drop_duplicates()\n",
    "# ds.to_csv(\"ign.countries.csv\", index=False)"
   ]
  },
  {
   "cell_type": "code",
   "execution_count": null,
   "metadata": {},
   "outputs": [],
   "source": [
    "qcl_area = metadata[\"meta_qcl_area\"]"
   ]
  },
  {
   "cell_type": "code",
   "execution_count": null,
   "metadata": {},
   "outputs": [],
   "source": [
    "# Load\n",
    "with open(COUNTRY_MAPPING) as f:\n",
    "    country_mapping = json.load(f)"
   ]
  },
  {
   "cell_type": "code",
   "execution_count": null,
   "metadata": {},
   "outputs": [],
   "source": [
    "# Check which countries will be discarded based on our country standardisation file (those without a mapped standardised name)\n",
    "msk = qcl_area.country.isin(country_mapping)\n",
    "print(qcl_area.loc[-msk, \"country\"].tolist())"
   ]
  },
  {
   "cell_type": "markdown",
   "metadata": {},
   "source": [
    "Finally, we build the `Area Code ---> Country` mapping dictionary."
   ]
  },
  {
   "cell_type": "code",
   "execution_count": null,
   "metadata": {},
   "outputs": [],
   "source": [
    "area_codes_discard = [140, 259, 260]\n",
    "if set(qcl_bulk.index.levels[0]).intersection(area_codes_discard):\n",
    "    raise ValueError(\"There are some changes in the bulk data! Codes that are being discarded might probably be needed\")\n",
    "# Discard\n",
    "qcl_area = qcl_area.loc[~qcl_area.index.isin(area_codes_discard)]"
   ]
  },
  {
   "cell_type": "code",
   "execution_count": null,
   "metadata": {},
   "outputs": [],
   "source": [
    "map_area = qcl_area.loc[msk, \"country\"].replace(country_mapping).sort_index().to_dict()"
   ]
  },
  {
   "cell_type": "markdown",
   "metadata": {},
   "source": [
    "### `Item`"
   ]
  },
  {
   "cell_type": "code",
   "execution_count": null,
   "metadata": {},
   "outputs": [],
   "source": [
    "qcl_item = metadata[\"meta_qcl_item\"]"
   ]
  },
  {
   "cell_type": "code",
   "execution_count": null,
   "metadata": {},
   "outputs": [],
   "source": [
    "# Find Item Groups with more than one Code (legacy?)\n",
    "x = qcl_item.reset_index()\n",
    "_ = x.groupby([\"item_group\"]).agg({\"item_group_code\": [lambda x: x.nunique(), lambda x: x.unique().tolist()]})\n",
    "__ = _[\"item_group_code\"][\"<lambda_0>\"]\n",
    "_[__ > 1]"
   ]
  },
  {
   "cell_type": "code",
   "execution_count": null,
   "metadata": {},
   "outputs": [],
   "source": [
    "# Check if there are codes in bulk that *only* have a group code associated that is to be delete (sanity check before deletion)\n",
    "codes_present = qcl_bulk.index.get_level_values(\"item_code\").unique().astype(str).tolist()\n",
    "msk = x[\"item_code\"].astype(str).isin(codes_present)\n",
    "y = x[msk]\n",
    "yy = y.groupby(\"item_code\")[\"item_group_code\"].agg(set)\n",
    "l = yy[yy == {\"QC\"}].index.tolist()  # Change to see other groups with unique childs\n",
    "x[x[\"item_code\"].isin(l)].head()"
   ]
  },
  {
   "cell_type": "code",
   "execution_count": null,
   "metadata": {},
   "outputs": [],
   "source": [
    "qcl_item = qcl_item[[\"item_group\", \"item\"]]"
   ]
  },
  {
   "cell_type": "markdown",
   "metadata": {},
   "source": [
    "### `Element`"
   ]
  },
  {
   "cell_type": "code",
   "execution_count": null,
   "metadata": {},
   "outputs": [],
   "source": [
    "qcl_element = metadata[\"meta_qcl_element\"]\n",
    "qcl_unit = metadata[\"meta_qcl_unit\"]"
   ]
  },
  {
   "cell_type": "code",
   "execution_count": null,
   "metadata": {},
   "outputs": [],
   "source": [
    "qcl_element_unit = qcl_element.merge(\n",
    "    qcl_unit.rename(columns={\"description\": \"unit_description\"}),\n",
    "    left_on=\"unit\",\n",
    "    right_index=True,\n",
    ")\n",
    "assert qcl_element_unit.shape[0] == qcl_element.shape[0]"
   ]
  },
  {
   "cell_type": "markdown",
   "metadata": {},
   "source": [
    "### Bulk"
   ]
  },
  {
   "cell_type": "code",
   "execution_count": null,
   "metadata": {
    "tags": []
   },
   "outputs": [],
   "source": [
    "# Filter countries + Area Code -> Country\n",
    "qcl_bulk = qcl_bulk.loc[map_area].rename(index=map_area, level=0)\n",
    "name_map = {\"area_code\": \"country\"}\n",
    "qcl_bulk.index.names = [name_map.get(n, n) for n in qcl_bulk.index.names]"
   ]
  },
  {
   "cell_type": "code",
   "execution_count": null,
   "metadata": {},
   "outputs": [],
   "source": [
    "# Drop Unit\n",
    "qcl_bulk = qcl_bulk.drop(columns=[\"unit\"])"
   ]
  },
  {
   "cell_type": "markdown",
   "metadata": {},
   "source": [
    "#### Variable name"
   ]
  },
  {
   "cell_type": "code",
   "execution_count": null,
   "metadata": {},
   "outputs": [],
   "source": [
    "qcl_bulk.head()"
   ]
  },
  {
   "cell_type": "code",
   "execution_count": null,
   "metadata": {},
   "outputs": [],
   "source": [
    "qcl_item.head()"
   ]
  },
  {
   "cell_type": "code",
   "execution_count": null,
   "metadata": {},
   "outputs": [],
   "source": [
    "# Get Item names\n",
    "x = qcl_item.reset_index()\n",
    "a = (\n",
    "    x[[\"item_group_code\", \"item_group\"]]\n",
    "    .drop_duplicates()\n",
    "    .rename(columns={\"item_group_code\": \"code\", \"item_group\": \"name\"})\n",
    ")\n",
    "b = x[[\"item_code\", \"item\"]].drop_duplicates().rename(columns={\"item_code\": \"code\", \"item\": \"name\"})\n",
    "c = pd.concat([a, b])\n",
    "map_items = dict(zip(c.code, c.name))"
   ]
  },
  {
   "cell_type": "code",
   "execution_count": null,
   "metadata": {},
   "outputs": [],
   "source": [
    "# manually add some missing names to the map that were removed from the API\n",
    "\n",
    "missing = {\n",
    "    1067: \"Eggs, hen, in shell (number)\",\n",
    "    1092: \"Eggs, other bird, in shell (number)\",\n",
    "    1731: \"Oilcrops\",\n",
    "}\n",
    "\n",
    "for k in missing:\n",
    "    assert k not in map_items\n",
    "    map_items[k] = missing[k]"
   ]
  },
  {
   "cell_type": "code",
   "execution_count": null,
   "metadata": {},
   "outputs": [],
   "source": [
    "item_names = [map_items[it] for it in qcl_bulk.index.get_level_values(1)]"
   ]
  },
  {
   "cell_type": "code",
   "execution_count": null,
   "metadata": {},
   "outputs": [],
   "source": [
    "# Get Element + Unit names\n",
    "x = qcl_element_unit.reset_index()\n",
    "y = list(x[\"element\"].astype(str) + \" (\" + x[\"unit\"].astype(str) + \")\")\n",
    "map_elems = dict(zip(x[\"element_code\"], y))\n",
    "elem_names = [map_elems[el] for el in qcl_bulk.index.get_level_values(2)]"
   ]
  },
  {
   "cell_type": "code",
   "execution_count": null,
   "metadata": {},
   "outputs": [],
   "source": [
    "# Construct variable name\n",
    "variable_names = [f\"{i} - {e}\" for i, e in zip(item_names, elem_names)]"
   ]
  },
  {
   "cell_type": "code",
   "execution_count": null,
   "metadata": {},
   "outputs": [],
   "source": [
    "# Add variable name to index\n",
    "qcl_bulk[\"variable_name\"] = variable_names\n",
    "qcl_bulk = qcl_bulk.reset_index()\n",
    "qcl_bulk = qcl_bulk.set_index([\"country\", \"item_code\", \"element_code\", \"variable_name\", \"year\", \"flag\"])"
   ]
  },
  {
   "cell_type": "markdown",
   "metadata": {},
   "source": [
    "## Create Garden dataset"
   ]
  },
  {
   "cell_type": "code",
   "execution_count": null,
   "metadata": {},
   "outputs": [],
   "source": [
    "qcl_garden = catalog.Dataset.create_empty(dest_dir)"
   ]
  },
  {
   "cell_type": "code",
   "execution_count": null,
   "metadata": {},
   "outputs": [],
   "source": [
    "# Propagate metadata\n",
    "qcl_garden.metadata = qcl_meadow.metadata\n",
    "qcl_garden.save()"
   ]
  },
  {
   "cell_type": "code",
   "execution_count": null,
   "metadata": {},
   "outputs": [],
   "source": [
    "# Add bulk table\n",
    "qcl_garden.add(qcl_bulk)\n",
    "# Add table items\n",
    "qcl_garden.add(qcl_item)\n",
    "# Add table elements\n",
    "qcl_element_unit.metadata = qcl_element.metadata\n",
    "qcl_garden.add(qcl_element_unit)"
   ]
  },
  {
   "cell_type": "code",
   "execution_count": null,
   "metadata": {},
   "outputs": [],
   "source": [
    "qcl_garden.save()"
   ]
  },
  {
   "cell_type": "code",
   "execution_count": null,
   "metadata": {},
   "outputs": [],
   "source": []
  }
 ],
 "metadata": {
  "interpreter": {
   "hash": "bfee9b694fe04c946c13f91f59877f323f209df7eaba52b3079ace55470be701"
  },
  "kernelspec": {
   "display_name": "Python 3",
   "language": "python",
   "name": "python3"
  },
  "language_info": {
   "codemirror_mode": {
    "name": "ipython",
    "version": 3
   },
   "file_extension": ".py",
   "mimetype": "text/x-python",
   "name": "python",
   "nbconvert_exporter": "python",
   "pygments_lexer": "ipython3",
   "version": "3.9.5"
  }
 },
 "nbformat": 4,
 "nbformat_minor": 4
}
