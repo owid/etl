{
 "cells": [
  {
   "cell_type": "markdown",
   "metadata": {},
   "source": [
    "# FAOstat: Crops and livestock products\n",
    "[_Source data_](https://www.fao.org/faostat/en/#data)"
   ]
  },
  {
   "cell_type": "markdown",
   "metadata": {},
   "source": [
    "## Parameters"
   ]
  },
  {
   "cell_type": "code",
   "execution_count": 1,
   "metadata": {
    "tags": [
     "parameters"
    ]
   },
   "outputs": [],
   "source": [
    "dest_dir = \"/tmp/faostat_qcl\""
   ]
  },
  {
   "cell_type": "markdown",
   "metadata": {},
   "source": [
    "## Read data and reference tables"
   ]
  },
  {
   "cell_type": "code",
   "execution_count": 2,
   "metadata": {},
   "outputs": [],
   "source": [
    "import json\n",
    "import pandas as pd\n",
    "from pathlib import Path\n",
    "\n",
    "from owid import catalog\n",
    "from etl.paths import BASE_DIR, DATA_DIR"
   ]
  },
  {
   "cell_type": "code",
   "execution_count": 3,
   "metadata": {},
   "outputs": [],
   "source": [
    "COUNTRY_MAPPING = (\n",
    "    BASE_DIR / \"etl/steps/data/garden/faostat/2021-03-18/faostat_qcl.country_std.json\"\n",
    ")"
   ]
  },
  {
   "cell_type": "markdown",
   "metadata": {
    "tags": []
   },
   "source": [
    "## Load meadow dataset"
   ]
  },
  {
   "cell_type": "code",
   "execution_count": 4,
   "metadata": {},
   "outputs": [],
   "source": [
    "qcl_meadow = catalog.Dataset(DATA_DIR / \"meadow/faostat/2021-03-18/faostat_qcl\")"
   ]
  },
  {
   "cell_type": "code",
   "execution_count": 5,
   "metadata": {},
   "outputs": [],
   "source": [
    "metadata = catalog.Dataset(DATA_DIR / \"meadow/faostat/2022-02-10/faostat_metadata\")"
   ]
  },
  {
   "cell_type": "code",
   "execution_count": 6,
   "metadata": {
    "tags": []
   },
   "outputs": [],
   "source": [
    "# Bulk data and items metadata\n",
    "qcl_bulk = qcl_meadow[\"bulk\"]"
   ]
  },
  {
   "cell_type": "code",
   "execution_count": 7,
   "metadata": {},
   "outputs": [
    {
     "data": {
      "text/html": [
       "<div>\n",
       "<style scoped>\n",
       "    .dataframe tbody tr th:only-of-type {\n",
       "        vertical-align: middle;\n",
       "    }\n",
       "\n",
       "    .dataframe tbody tr th {\n",
       "        vertical-align: top;\n",
       "    }\n",
       "\n",
       "    .dataframe thead th {\n",
       "        text-align: right;\n",
       "    }\n",
       "</style>\n",
       "<table border=\"1\" class=\"dataframe\">\n",
       "  <thead>\n",
       "    <tr style=\"text-align: right;\">\n",
       "      <th></th>\n",
       "      <th></th>\n",
       "      <th></th>\n",
       "      <th></th>\n",
       "      <th></th>\n",
       "      <th>unit</th>\n",
       "      <th>value</th>\n",
       "    </tr>\n",
       "    <tr>\n",
       "      <th>area_code</th>\n",
       "      <th>item_code</th>\n",
       "      <th>element_code</th>\n",
       "      <th>year</th>\n",
       "      <th>flag</th>\n",
       "      <th></th>\n",
       "      <th></th>\n",
       "    </tr>\n",
       "  </thead>\n",
       "  <tbody>\n",
       "    <tr>\n",
       "      <th rowspan=\"5\" valign=\"top\">2</th>\n",
       "      <th rowspan=\"5\" valign=\"top\">221</th>\n",
       "      <th rowspan=\"5\" valign=\"top\">5312</th>\n",
       "      <th>1975</th>\n",
       "      <th>F</th>\n",
       "      <td>ha</td>\n",
       "      <td>0</td>\n",
       "    </tr>\n",
       "    <tr>\n",
       "      <th>1976</th>\n",
       "      <th>F</th>\n",
       "      <td>ha</td>\n",
       "      <td>5900</td>\n",
       "    </tr>\n",
       "    <tr>\n",
       "      <th>1977</th>\n",
       "      <th>F</th>\n",
       "      <td>ha</td>\n",
       "      <td>6000</td>\n",
       "    </tr>\n",
       "    <tr>\n",
       "      <th>1978</th>\n",
       "      <th>F</th>\n",
       "      <td>ha</td>\n",
       "      <td>6000</td>\n",
       "    </tr>\n",
       "    <tr>\n",
       "      <th>1979</th>\n",
       "      <th>F</th>\n",
       "      <td>ha</td>\n",
       "      <td>6000</td>\n",
       "    </tr>\n",
       "  </tbody>\n",
       "</table>\n",
       "</div>"
      ],
      "text/plain": [
       "                                           unit  value\n",
       "area_code item_code element_code year flag            \n",
       "2         221       5312         1975 F      ha      0\n",
       "                                 1976 F      ha   5900\n",
       "                                 1977 F      ha   6000\n",
       "                                 1978 F      ha   6000\n",
       "                                 1979 F      ha   6000"
      ]
     },
     "execution_count": 7,
     "metadata": {},
     "output_type": "execute_result"
    }
   ],
   "source": [
    "qcl_bulk.head()"
   ]
  },
  {
   "cell_type": "markdown",
   "metadata": {},
   "source": [
    "## Clean dataset"
   ]
  },
  {
   "cell_type": "markdown",
   "metadata": {},
   "source": [
    "### `Area`\n",
    "Filtering and mapping"
   ]
  },
  {
   "cell_type": "code",
   "execution_count": 8,
   "metadata": {},
   "outputs": [],
   "source": [
    "# Prepare for Country Tool\n",
    "# ds = qcl_area.Country.drop_duplicates()\n",
    "# ds.to_csv(\"ign.countries.csv\", index=False)"
   ]
  },
  {
   "cell_type": "code",
   "execution_count": 9,
   "metadata": {},
   "outputs": [],
   "source": [
    "qcl_area = metadata[\"meta_qcl_area\"]"
   ]
  },
  {
   "cell_type": "code",
   "execution_count": 10,
   "metadata": {},
   "outputs": [],
   "source": [
    "# Load\n",
    "with open(COUNTRY_MAPPING) as f:\n",
    "    country_mapping = json.load(f)"
   ]
  },
  {
   "cell_type": "code",
   "execution_count": 12,
   "metadata": {},
   "outputs": [
    {
     "name": "stdout",
     "output_type": "stream",
     "text": [
      "['Belgium-Luxembourg', 'Eastern Africa', 'Middle Africa', 'Northern Africa', 'Southern Africa', 'Western Africa', 'Americas', 'Northern America', 'Central America', 'Caribbean', 'South America', 'Central Asia', 'Eastern Asia', 'Southern Asia', 'South-eastern Asia', 'Western Asia', 'Eastern Europe', 'Northern Europe', 'Southern Europe', 'Western Europe', 'Australia and New Zealand', 'Micronesia', 'European Union (27)', 'Least Developed Countries', 'Land Locked Developing Countries', 'Small Island Developing States', 'Low Income Food Deficit Countries', 'Net Food Importing Developing Countries']\n"
     ]
    }
   ],
   "source": [
    "# Check which countries will be discarded based on our country standardisation file (those without a mapped standardised name)\n",
    "msk = qcl_area.country.isin(country_mapping)\n",
    "print(qcl_area.loc[-msk, \"country\"].tolist())"
   ]
  },
  {
   "cell_type": "markdown",
   "metadata": {},
   "source": [
    "Finally, we build the `Area Code ---> Country` mapping dictionary."
   ]
  },
  {
   "cell_type": "code",
   "execution_count": 13,
   "metadata": {},
   "outputs": [],
   "source": [
    "area_codes_discard = [140, 259, 260]\n",
    "if set(qcl_bulk.index.levels[0]).intersection(area_codes_discard):\n",
    "    raise ValueError(\n",
    "        \"There are some changes in the bulk data! Codes that are being discarded might probably be needed\"\n",
    "    )\n",
    "# Discard\n",
    "qcl_area = qcl_area.loc[~qcl_area.index.isin(area_codes_discard)]"
   ]
  },
  {
   "cell_type": "code",
   "execution_count": 14,
   "metadata": {},
   "outputs": [],
   "source": [
    "map_area = qcl_area.loc[msk, \"country\"].replace(country_mapping).sort_index().to_dict()"
   ]
  },
  {
   "cell_type": "markdown",
   "metadata": {},
   "source": [
    "### `Item`"
   ]
  },
  {
   "cell_type": "code",
   "execution_count": 15,
   "metadata": {},
   "outputs": [],
   "source": [
    "qcl_item = metadata[\"meta_qcl_item\"]"
   ]
  },
  {
   "cell_type": "code",
   "execution_count": 16,
   "metadata": {},
   "outputs": [
    {
     "data": {
      "text/html": [
       "<div>\n",
       "<style scoped>\n",
       "    .dataframe tbody tr th:only-of-type {\n",
       "        vertical-align: middle;\n",
       "    }\n",
       "\n",
       "    .dataframe tbody tr th {\n",
       "        vertical-align: top;\n",
       "    }\n",
       "\n",
       "    .dataframe thead tr th {\n",
       "        text-align: left;\n",
       "    }\n",
       "\n",
       "    .dataframe thead tr:last-of-type th {\n",
       "        text-align: right;\n",
       "    }\n",
       "</style>\n",
       "<table border=\"1\" class=\"dataframe\">\n",
       "  <thead>\n",
       "    <tr>\n",
       "      <th></th>\n",
       "      <th colspan=\"2\" halign=\"left\">item_group_code</th>\n",
       "    </tr>\n",
       "    <tr>\n",
       "      <th></th>\n",
       "      <th>&lt;lambda_0&gt;</th>\n",
       "      <th>&lt;lambda_1&gt;</th>\n",
       "    </tr>\n",
       "    <tr>\n",
       "      <th>item_group</th>\n",
       "      <th></th>\n",
       "      <th></th>\n",
       "    </tr>\n",
       "  </thead>\n",
       "  <tbody>\n",
       "    <tr>\n",
       "      <th>Crops Primary</th>\n",
       "      <td>2</td>\n",
       "      <td>[QC, 1714]</td>\n",
       "    </tr>\n",
       "    <tr>\n",
       "      <th>Live Animals</th>\n",
       "      <td>2</td>\n",
       "      <td>[QA, 1756]</td>\n",
       "    </tr>\n",
       "  </tbody>\n",
       "</table>\n",
       "</div>"
      ],
      "text/plain": [
       "              item_group_code            \n",
       "                   <lambda_0>  <lambda_1>\n",
       "item_group                               \n",
       "Crops Primary               2  [QC, 1714]\n",
       "Live Animals                2  [QA, 1756]"
      ]
     },
     "execution_count": 16,
     "metadata": {},
     "output_type": "execute_result"
    }
   ],
   "source": [
    "# Find Item Groups with more than one Code (legacy?)\n",
    "x = qcl_item.reset_index()\n",
    "_ = x.groupby([\"item_group\"]).agg(\n",
    "    {\"item_group_code\": [lambda x: x.nunique(), lambda x: x.unique().tolist()]}\n",
    ")\n",
    "__ = _[\"item_group_code\"][\"<lambda_0>\"]\n",
    "_[__ > 1]"
   ]
  },
  {
   "cell_type": "code",
   "execution_count": 17,
   "metadata": {},
   "outputs": [
    {
     "data": {
      "text/html": [
       "<div>\n",
       "<style scoped>\n",
       "    .dataframe tbody tr th:only-of-type {\n",
       "        vertical-align: middle;\n",
       "    }\n",
       "\n",
       "    .dataframe tbody tr th {\n",
       "        vertical-align: top;\n",
       "    }\n",
       "\n",
       "    .dataframe thead th {\n",
       "        text-align: right;\n",
       "    }\n",
       "</style>\n",
       "<table border=\"1\" class=\"dataframe\">\n",
       "  <thead>\n",
       "    <tr style=\"text-align: right;\">\n",
       "      <th></th>\n",
       "      <th>item_group_code</th>\n",
       "      <th>item_code</th>\n",
       "      <th>cpc_code</th>\n",
       "      <th>factor</th>\n",
       "      <th>hs_code</th>\n",
       "      <th>hs07_code</th>\n",
       "      <th>hs12_code</th>\n",
       "      <th>item</th>\n",
       "      <th>item_group</th>\n",
       "    </tr>\n",
       "  </thead>\n",
       "  <tbody>\n",
       "    <tr>\n",
       "      <th>1</th>\n",
       "      <td>QC</td>\n",
       "      <td>1753</td>\n",
       "      <td>F1753</td>\n",
       "      <td>1.0</td>\n",
       "      <td></td>\n",
       "      <td></td>\n",
       "      <td></td>\n",
       "      <td>Fibre Crops Primary</td>\n",
       "      <td>Crops Primary</td>\n",
       "    </tr>\n",
       "    <tr>\n",
       "      <th>101</th>\n",
       "      <td>QC</td>\n",
       "      <td>1717</td>\n",
       "      <td>F1717</td>\n",
       "      <td>1.0</td>\n",
       "      <td></td>\n",
       "      <td></td>\n",
       "      <td></td>\n",
       "      <td>Cereals, Total</td>\n",
       "      <td>Crops Primary</td>\n",
       "    </tr>\n",
       "    <tr>\n",
       "      <th>118</th>\n",
       "      <td>QC</td>\n",
       "      <td>1804</td>\n",
       "      <td>F1804</td>\n",
       "      <td>1.0</td>\n",
       "      <td></td>\n",
       "      <td></td>\n",
       "      <td></td>\n",
       "      <td>Citrus Fruit, Total</td>\n",
       "      <td>Crops Primary</td>\n",
       "    </tr>\n",
       "    <tr>\n",
       "      <th>127</th>\n",
       "      <td>QC</td>\n",
       "      <td>813</td>\n",
       "      <td>01929.08</td>\n",
       "      <td>1.0</td>\n",
       "      <td></td>\n",
       "      <td>530500</td>\n",
       "      <td>530500</td>\n",
       "      <td>Coir</td>\n",
       "      <td>Crops Primary</td>\n",
       "    </tr>\n",
       "    <tr>\n",
       "      <th>148</th>\n",
       "      <td>QC</td>\n",
       "      <td>1738</td>\n",
       "      <td>F1738</td>\n",
       "      <td>1.0</td>\n",
       "      <td></td>\n",
       "      <td></td>\n",
       "      <td></td>\n",
       "      <td>Fruit Primary</td>\n",
       "      <td>Crops Primary</td>\n",
       "    </tr>\n",
       "  </tbody>\n",
       "</table>\n",
       "</div>"
      ],
      "text/plain": [
       "    item_group_code  item_code  cpc_code  factor hs_code hs07_code hs12_code  \\\n",
       "1                QC       1753     F1753     1.0                               \n",
       "101              QC       1717     F1717     1.0                               \n",
       "118              QC       1804     F1804     1.0                               \n",
       "127              QC        813  01929.08     1.0            530500    530500   \n",
       "148              QC       1738     F1738     1.0                               \n",
       "\n",
       "                    item     item_group  \n",
       "1    Fibre Crops Primary  Crops Primary  \n",
       "101       Cereals, Total  Crops Primary  \n",
       "118  Citrus Fruit, Total  Crops Primary  \n",
       "127                 Coir  Crops Primary  \n",
       "148        Fruit Primary  Crops Primary  "
      ]
     },
     "execution_count": 17,
     "metadata": {},
     "output_type": "execute_result"
    }
   ],
   "source": [
    "# Check if there are codes in bulk that *only* have a group code associated that is to be delete (sanity check before deletion)\n",
    "codes_present = (\n",
    "    qcl_bulk.index.get_level_values(\"item_code\").unique().astype(str).tolist()\n",
    ")\n",
    "msk = x[\"item_code\"].astype(str).isin(codes_present)\n",
    "y = x[msk]\n",
    "yy = y.groupby(\"item_code\")[\"item_group_code\"].agg(set)\n",
    "l = yy[yy == {\"QC\"}].index.tolist()  # Change to see other groups with unique childs\n",
    "x[x[\"item_code\"].isin(l)].head()"
   ]
  },
  {
   "cell_type": "code",
   "execution_count": 18,
   "metadata": {},
   "outputs": [],
   "source": [
    "qcl_item = qcl_item[[\"item_group\", \"item\"]]"
   ]
  },
  {
   "cell_type": "markdown",
   "metadata": {},
   "source": [
    "### `Element`"
   ]
  },
  {
   "cell_type": "code",
   "execution_count": 19,
   "metadata": {},
   "outputs": [],
   "source": [
    "qcl_element = metadata[\"meta_qcl_element\"]\n",
    "qcl_unit = metadata[\"meta_qcl_unit\"]"
   ]
  },
  {
   "cell_type": "code",
   "execution_count": 20,
   "metadata": {},
   "outputs": [],
   "source": [
    "qcl_element_unit = qcl_element.merge(\n",
    "    qcl_unit.rename(columns={\"description\": \"unit_description\"}),\n",
    "    left_on=\"unit\",\n",
    "    right_index=True,\n",
    ")\n",
    "assert qcl_element_unit.shape[0] == qcl_element.shape[0]"
   ]
  },
  {
   "cell_type": "markdown",
   "metadata": {},
   "source": [
    "### Bulk"
   ]
  },
  {
   "cell_type": "code",
   "execution_count": 21,
   "metadata": {
    "tags": []
   },
   "outputs": [
    {
     "name": "stderr",
     "output_type": "stream",
     "text": [
      "/var/folders/0s/2yqr44dj44zcmyzdrf8fvxyc0000gn/T/ipykernel_22420/3345533519.py:2: FutureWarning: Passing a dict as an indexer is deprecated and will raise in a future version. Use a list instead.\n",
      "  qcl_bulk = qcl_bulk.loc[map_area].rename(index=map_area, level=0)\n"
     ]
    }
   ],
   "source": [
    "# Filter countries + Area Code -> Country\n",
    "qcl_bulk = qcl_bulk.loc[map_area].rename(index=map_area, level=0)\n",
    "name_map = {\"area_code\": \"country\"}\n",
    "qcl_bulk.index.names = [name_map.get(n, n) for n in qcl_bulk.index.names]"
   ]
  },
  {
   "cell_type": "code",
   "execution_count": 22,
   "metadata": {},
   "outputs": [],
   "source": [
    "# Drop Unit\n",
    "qcl_bulk = qcl_bulk.drop(columns=[\"unit\"])"
   ]
  },
  {
   "cell_type": "markdown",
   "metadata": {},
   "source": [
    "#### Variable name"
   ]
  },
  {
   "cell_type": "code",
   "execution_count": 23,
   "metadata": {},
   "outputs": [
    {
     "data": {
      "text/html": [
       "<div>\n",
       "<style scoped>\n",
       "    .dataframe tbody tr th:only-of-type {\n",
       "        vertical-align: middle;\n",
       "    }\n",
       "\n",
       "    .dataframe tbody tr th {\n",
       "        vertical-align: top;\n",
       "    }\n",
       "\n",
       "    .dataframe thead th {\n",
       "        text-align: right;\n",
       "    }\n",
       "</style>\n",
       "<table border=\"1\" class=\"dataframe\">\n",
       "  <thead>\n",
       "    <tr style=\"text-align: right;\">\n",
       "      <th></th>\n",
       "      <th></th>\n",
       "      <th></th>\n",
       "      <th></th>\n",
       "      <th></th>\n",
       "      <th>value</th>\n",
       "    </tr>\n",
       "    <tr>\n",
       "      <th>country</th>\n",
       "      <th>item_code</th>\n",
       "      <th>element_code</th>\n",
       "      <th>year</th>\n",
       "      <th>flag</th>\n",
       "      <th></th>\n",
       "    </tr>\n",
       "  </thead>\n",
       "  <tbody>\n",
       "    <tr>\n",
       "      <th rowspan=\"5\" valign=\"top\">Armenia</th>\n",
       "      <th rowspan=\"5\" valign=\"top\">221</th>\n",
       "      <th rowspan=\"5\" valign=\"top\">5312</th>\n",
       "      <th>1992</th>\n",
       "      <th>M</th>\n",
       "      <td>&lt;NA&gt;</td>\n",
       "    </tr>\n",
       "    <tr>\n",
       "      <th>1993</th>\n",
       "      <th>M</th>\n",
       "      <td>&lt;NA&gt;</td>\n",
       "    </tr>\n",
       "    <tr>\n",
       "      <th>1994</th>\n",
       "      <th>M</th>\n",
       "      <td>&lt;NA&gt;</td>\n",
       "    </tr>\n",
       "    <tr>\n",
       "      <th>1995</th>\n",
       "      <th>M</th>\n",
       "      <td>&lt;NA&gt;</td>\n",
       "    </tr>\n",
       "    <tr>\n",
       "      <th>1996</th>\n",
       "      <th>M</th>\n",
       "      <td>&lt;NA&gt;</td>\n",
       "    </tr>\n",
       "  </tbody>\n",
       "</table>\n",
       "</div>"
      ],
      "text/plain": [
       "                                          value\n",
       "country item_code element_code year flag       \n",
       "Armenia 221       5312         1992 M      <NA>\n",
       "                               1993 M      <NA>\n",
       "                               1994 M      <NA>\n",
       "                               1995 M      <NA>\n",
       "                               1996 M      <NA>"
      ]
     },
     "execution_count": 23,
     "metadata": {},
     "output_type": "execute_result"
    }
   ],
   "source": [
    "qcl_bulk.head()"
   ]
  },
  {
   "cell_type": "code",
   "execution_count": 24,
   "metadata": {},
   "outputs": [
    {
     "data": {
      "text/html": [
       "<div>\n",
       "<style scoped>\n",
       "    .dataframe tbody tr th:only-of-type {\n",
       "        vertical-align: middle;\n",
       "    }\n",
       "\n",
       "    .dataframe tbody tr th {\n",
       "        vertical-align: top;\n",
       "    }\n",
       "\n",
       "    .dataframe thead th {\n",
       "        text-align: right;\n",
       "    }\n",
       "</style>\n",
       "<table border=\"1\" class=\"dataframe\">\n",
       "  <thead>\n",
       "    <tr style=\"text-align: right;\">\n",
       "      <th></th>\n",
       "      <th></th>\n",
       "      <th>item_group</th>\n",
       "      <th>item</th>\n",
       "    </tr>\n",
       "    <tr>\n",
       "      <th>item_group_code</th>\n",
       "      <th>item_code</th>\n",
       "      <th></th>\n",
       "      <th></th>\n",
       "    </tr>\n",
       "  </thead>\n",
       "  <tbody>\n",
       "    <tr>\n",
       "      <th rowspan=\"3\" valign=\"top\">QC</th>\n",
       "      <th>1714</th>\n",
       "      <td>Crops Primary</td>\n",
       "      <td>Crops Primary</td>\n",
       "    </tr>\n",
       "    <tr>\n",
       "      <th>1753</th>\n",
       "      <td>Crops Primary</td>\n",
       "      <td>Fibre Crops Primary</td>\n",
       "    </tr>\n",
       "    <tr>\n",
       "      <th>1730</th>\n",
       "      <td>Crops Primary</td>\n",
       "      <td>Oilcrops Primary</td>\n",
       "    </tr>\n",
       "    <tr>\n",
       "      <th>QA</th>\n",
       "      <th>1756</th>\n",
       "      <td>Live Animals</td>\n",
       "      <td>Live Animals</td>\n",
       "    </tr>\n",
       "    <tr>\n",
       "      <th>QL</th>\n",
       "      <th>1777</th>\n",
       "      <td>Livestock primary</td>\n",
       "      <td>Hides and skins, primary</td>\n",
       "    </tr>\n",
       "  </tbody>\n",
       "</table>\n",
       "</div>"
      ],
      "text/plain": [
       "                                  item_group                      item\n",
       "item_group_code item_code                                             \n",
       "QC              1714           Crops Primary             Crops Primary\n",
       "                1753           Crops Primary       Fibre Crops Primary\n",
       "                1730           Crops Primary          Oilcrops Primary\n",
       "QA              1756            Live Animals              Live Animals\n",
       "QL              1777       Livestock primary  Hides and skins, primary"
      ]
     },
     "execution_count": 24,
     "metadata": {},
     "output_type": "execute_result"
    }
   ],
   "source": [
    "qcl_item.head()"
   ]
  },
  {
   "cell_type": "code",
   "execution_count": 25,
   "metadata": {},
   "outputs": [],
   "source": [
    "# Get Item names\n",
    "x = qcl_item.reset_index()\n",
    "a = (\n",
    "    x[[\"item_group_code\", \"item_group\"]]\n",
    "    .drop_duplicates()\n",
    "    .rename(columns={\"item_group_code\": \"code\", \"item_group\": \"name\"})\n",
    ")\n",
    "b = (\n",
    "    x[[\"item_code\", \"item\"]]\n",
    "    .drop_duplicates()\n",
    "    .rename(columns={\"item_code\": \"code\", \"item\": \"name\"})\n",
    ")\n",
    "c = pd.concat([a, b])\n",
    "map_items = dict(zip(c.code, c.name))"
   ]
  },
  {
   "cell_type": "code",
   "execution_count": 26,
   "metadata": {},
   "outputs": [],
   "source": [
    "# manually add some missing names to the map that were removed from the API\n",
    "\n",
    "missing = {\n",
    "    1067: \"Eggs, hen, in shell (number)\",\n",
    "    1092: \"Eggs, other bird, in shell (number)\",\n",
    "    1731: \"Oilcrops\",\n",
    "}\n",
    "\n",
    "for k in missing:\n",
    "    assert k not in map_items\n",
    "    map_items[k] = missing[k]"
   ]
  },
  {
   "cell_type": "code",
   "execution_count": 27,
   "metadata": {},
   "outputs": [],
   "source": [
    "item_names = [map_items[it] for it in qcl_bulk.index.get_level_values(1)]"
   ]
  },
  {
   "cell_type": "code",
   "execution_count": 28,
   "metadata": {},
   "outputs": [],
   "source": [
    "# Get Element + Unit names\n",
    "x = qcl_element_unit.reset_index()\n",
    "y = list(x[\"element\"].astype(str) + \" (\" + x[\"unit\"].astype(str) + \")\")\n",
    "map_elems = dict(zip(x[\"element_code\"], y))\n",
    "elem_names = [map_elems[el] for el in qcl_bulk.index.get_level_values(2)]"
   ]
  },
  {
   "cell_type": "code",
   "execution_count": 29,
   "metadata": {},
   "outputs": [],
   "source": [
    "# Construct variable name\n",
    "variable_names = [f\"{i} - {e}\" for i, e in zip(item_names, elem_names)]"
   ]
  },
  {
   "cell_type": "code",
   "execution_count": 30,
   "metadata": {},
   "outputs": [],
   "source": [
    "# Add variable name to index\n",
    "qcl_bulk[\"variable_name\"] = variable_names\n",
    "qcl_bulk = qcl_bulk.reset_index()\n",
    "qcl_bulk = qcl_bulk.set_index(\n",
    "    [\"country\", \"item_code\", \"element_code\", \"variable_name\", \"year\", \"flag\"]\n",
    ")"
   ]
  },
  {
   "cell_type": "markdown",
   "metadata": {},
   "source": [
    "## Create Garden dataset"
   ]
  },
  {
   "cell_type": "code",
   "execution_count": 31,
   "metadata": {},
   "outputs": [],
   "source": [
    "qcl_garden = catalog.Dataset.create_empty(dest_dir)"
   ]
  },
  {
   "cell_type": "code",
   "execution_count": 32,
   "metadata": {},
   "outputs": [],
   "source": [
    "# Propagate metadata\n",
    "qcl_garden.metadata = qcl_meadow.metadata\n",
    "qcl_garden.save()"
   ]
  },
  {
   "cell_type": "code",
   "execution_count": 33,
   "metadata": {},
   "outputs": [],
   "source": [
    "# Add bulk table\n",
    "qcl_garden.add(qcl_bulk)\n",
    "# Add table items\n",
    "qcl_garden.add(qcl_item)\n",
    "# Add table elements\n",
    "qcl_element_unit.metadata = qcl_element.metadata\n",
    "qcl_garden.add(qcl_element_unit)"
   ]
  },
  {
   "cell_type": "code",
   "execution_count": null,
   "metadata": {},
   "outputs": [],
   "source": [
    "qcl_garden.save()"
   ]
  },
  {
   "cell_type": "code",
   "execution_count": null,
   "metadata": {},
   "outputs": [],
   "source": []
  }
 ],
 "metadata": {
  "interpreter": {
   "hash": "bfee9b694fe04c946c13f91f59877f323f209df7eaba52b3079ace55470be701"
  },
  "kernelspec": {
   "display_name": "Python 3",
   "language": "python",
   "name": "python3"
  },
  "language_info": {
   "codemirror_mode": {
    "name": "ipython",
    "version": 3
   },
   "file_extension": ".py",
   "mimetype": "text/x-python",
   "name": "python",
   "nbconvert_exporter": "python",
   "pygments_lexer": "ipython3",
   "version": "3.9.10"
  }
 },
 "nbformat": 4,
 "nbformat_minor": 4
}
