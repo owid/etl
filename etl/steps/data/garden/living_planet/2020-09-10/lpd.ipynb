{
 "cells": [
  {
   "cell_type": "markdown",
   "id": "b21eb18a-14b3-4727-b148-95ddd2d9fc35",
   "metadata": {},
   "source": [
    "## Parameters"
   ]
  },
  {
   "cell_type": "code",
   "execution_count": 1,
   "id": "2d05a537-ac5d-4b44-b0bb-07d42cb1633a",
   "metadata": {
    "tags": [
     "parameters"
    ]
   },
   "outputs": [],
   "source": [
    "dest_dir = \"/tmp/faostat_rl\""
   ]
  },
  {
   "cell_type": "markdown",
   "id": "35111303-a249-4b86-9319-505a23dd9e8d",
   "metadata": {
    "tags": []
   },
   "source": [
    "## Imports"
   ]
  },
  {
   "cell_type": "code",
   "execution_count": 2,
   "id": "0a360629-dd9f-42af-81a3-f77e5f5fa4bf",
   "metadata": {
    "tags": []
   },
   "outputs": [],
   "source": [
    "from owid import catalog\n",
    "import json\n",
    "import re\n",
    "import wikipedia\n",
    "from pathlib import Path"
   ]
  },
  {
   "cell_type": "code",
   "execution_count": 3,
   "id": "71ff6a45-359b-42de-a95e-5bb4fcf74423",
   "metadata": {},
   "outputs": [],
   "source": [
    "from etl.paths import BASE_DIR as base_path"
   ]
  },
  {
   "cell_type": "markdown",
   "id": "5f3a21e6-af5f-4a1e-851e-3ccc9431fed4",
   "metadata": {},
   "source": [
    "## Load meadow data"
   ]
  },
  {
   "cell_type": "code",
   "execution_count": 4,
   "id": "f48d1fdf-78ba-4e6a-b6eb-66bc4c0d8b61",
   "metadata": {},
   "outputs": [],
   "source": [
    "meadow_path = base_path / \"data/meadow/living_planet/2020-09-10/lpd\"\n",
    "\n",
    "lpd_meadow = catalog.Dataset(meadow_path)"
   ]
  },
  {
   "cell_type": "markdown",
   "id": "0dca9203-031e-4bba-883c-35cbc036889c",
   "metadata": {},
   "source": [
    "#### Name of the feather file in the above directory"
   ]
  },
  {
   "cell_type": "code",
   "execution_count": 7,
   "id": "b6d141aa-8627-42e6-8819-b3aa980c4dcf",
   "metadata": {},
   "outputs": [],
   "source": [
    "df = lpd_meadow[\"living_planet_database\"]"
   ]
  },
  {
   "cell_type": "code",
   "execution_count": 8,
   "id": "865fa164-ee7e-450d-8669-aff702bf5e5b",
   "metadata": {},
   "outputs": [
    {
     "data": {
      "text/plain": [
       "Dataset(path='/Users/mojmir/projects/etl/data/meadow/living_planet/2020-09-10/lpd', metadata=DatasetMeta(namespace='living_planet', short_name='lpd', title='Living Planet Database - (2020-09)', description='The Living Planet Database contains tens of thousands of vertebrate population time-series from around the world. It is the largest collection of its kind, and is publicly available, making it an invaluable tool for both research and conservation. This dataset contains time-series of population abundance data for vertebrate species spanning years between 1970 and 2016. These data were used in the Living Planet Report 2020. Confidential records that cannot be shared have been removed from this data set.', sources=[Source(name='The Zoological Society of London', description=None, url='http://stats.livingplanetindex.org/', source_data_url=None, owid_data_url='http://nyc3.digitaloceanspaces.com/walden/living_planet/2020-09-10/lpd.zip', date_accessed='2021-11-22', publication_date='2020-09-10', publication_year=2020)], licenses=[License(name=None, url='https://livingplanetindex.org/documents/data_agreement.pdf')], is_public=True, source_checksum='390f3f87f6cbe5e834703869ad688fb0'))"
      ]
     },
     "execution_count": 8,
     "metadata": {},
     "output_type": "execute_result"
    }
   ],
   "source": [
    "lpd_meadow"
   ]
  },
  {
   "cell_type": "markdown",
   "id": "96801d89-db28-40e3-b836-d1feb099d9bf",
   "metadata": {},
   "source": [
    "Run the country harmonizer tool "
   ]
  },
  {
   "cell_type": "markdown",
   "id": "5f77f827-1697-4da9-b9c0-cad4fae92d2b",
   "metadata": {},
   "source": [
    "'.venv/bin/harmonize <path/to/input.feather> <country-field> <path/to/output.mapping.json>'\n",
    "   "
   ]
  },
  {
   "cell_type": "code",
   "execution_count": 9,
   "id": "66048181-801e-459e-9ae7-0d738da08e05",
   "metadata": {},
   "outputs": [],
   "source": [
    "filename = (\n",
    "    base_path\n",
    "    / \"etl/steps/data/garden/living_planet/2020-09-10/living_planet.mapping.json\"\n",
    ")\n",
    "\n",
    "with open(filename) as f:\n",
    "    cm = json.load(f)"
   ]
  },
  {
   "cell_type": "code",
   "execution_count": 10,
   "id": "80c194b3-eab1-464c-9186-60cf13afd09f",
   "metadata": {},
   "outputs": [
    {
     "data": {
      "text/html": [
       "<div>\n",
       "<style scoped>\n",
       "    .dataframe tbody tr th:only-of-type {\n",
       "        vertical-align: middle;\n",
       "    }\n",
       "\n",
       "    .dataframe tbody tr th {\n",
       "        vertical-align: top;\n",
       "    }\n",
       "\n",
       "    .dataframe thead th {\n",
       "        text-align: right;\n",
       "    }\n",
       "</style>\n",
       "<table border=\"1\" class=\"dataframe\">\n",
       "  <thead>\n",
       "    <tr style=\"text-align: right;\">\n",
       "      <th></th>\n",
       "      <th>id</th>\n",
       "      <th>binomial</th>\n",
       "      <th>citation</th>\n",
       "      <th>class</th>\n",
       "      <th>order</th>\n",
       "      <th>family</th>\n",
       "      <th>genus</th>\n",
       "      <th>species</th>\n",
       "      <th>subspecies</th>\n",
       "      <th>common_name</th>\n",
       "      <th>location</th>\n",
       "      <th>country</th>\n",
       "      <th>latitude</th>\n",
       "      <th>longitude</th>\n",
       "      <th>specific_location</th>\n",
       "      <th>units</th>\n",
       "      <th>year</th>\n",
       "      <th>value</th>\n",
       "    </tr>\n",
       "  </thead>\n",
       "  <tbody>\n",
       "    <tr>\n",
       "      <th>0</th>\n",
       "      <td>4</td>\n",
       "      <td>Copsychus_sechellarum</td>\n",
       "      <td>Komdeur, J. (1996). Breeding of the Seychelles...</td>\n",
       "      <td>Aves</td>\n",
       "      <td>Passeriformes</td>\n",
       "      <td>Muscicapidae</td>\n",
       "      <td>Copsychus</td>\n",
       "      <td>sechellarum</td>\n",
       "      <td>NaN</td>\n",
       "      <td>Seychelles magpie-robin</td>\n",
       "      <td>Fregate Island, Seychelles</td>\n",
       "      <td>Seychelles</td>\n",
       "      <td>-4.583330</td>\n",
       "      <td>55.933331</td>\n",
       "      <td>Yes</td>\n",
       "      <td>Number of individuals</td>\n",
       "      <td>1950</td>\n",
       "      <td>NaN</td>\n",
       "    </tr>\n",
       "    <tr>\n",
       "      <th>1</th>\n",
       "      <td>5</td>\n",
       "      <td>Falco_punctatus</td>\n",
       "      <td>Groombridge, J. J., Bruford, M.W., Jones, C.G,...</td>\n",
       "      <td>Aves</td>\n",
       "      <td>Falconiformes</td>\n",
       "      <td>Falconidae</td>\n",
       "      <td>Falco</td>\n",
       "      <td>punctatus</td>\n",
       "      <td>NaN</td>\n",
       "      <td>Mauritius kestrel</td>\n",
       "      <td>Western Population, Mauritius</td>\n",
       "      <td>Mauritius</td>\n",
       "      <td>-20.299999</td>\n",
       "      <td>57.583328</td>\n",
       "      <td>No</td>\n",
       "      <td>Number of breeding pairs</td>\n",
       "      <td>1950</td>\n",
       "      <td>NaN</td>\n",
       "    </tr>\n",
       "    <tr>\n",
       "      <th>2</th>\n",
       "      <td>6</td>\n",
       "      <td>Pternistis_ochropectus</td>\n",
       "      <td>WPA/Birdlife/ SSC Partridge, Q. a. F. S. G. (2...</td>\n",
       "      <td>Aves</td>\n",
       "      <td>Galliformes</td>\n",
       "      <td>Phasianidae</td>\n",
       "      <td>Pternistis</td>\n",
       "      <td>ochropectus</td>\n",
       "      <td>NaN</td>\n",
       "      <td>Djibouti francolin</td>\n",
       "      <td>Foret du Day, Djibouti</td>\n",
       "      <td>Djibouti</td>\n",
       "      <td>11.766670</td>\n",
       "      <td>42.658058</td>\n",
       "      <td>Yes</td>\n",
       "      <td>Number of individuals</td>\n",
       "      <td>1950</td>\n",
       "      <td>NaN</td>\n",
       "    </tr>\n",
       "    <tr>\n",
       "      <th>3</th>\n",
       "      <td>7</td>\n",
       "      <td>Gyps_coprotheres</td>\n",
       "      <td>WWF-SA (2000). Cape griffon.\"\"</td>\n",
       "      <td>Aves</td>\n",
       "      <td>Accipitriformes</td>\n",
       "      <td>Accipitridae</td>\n",
       "      <td>Gyps</td>\n",
       "      <td>coprotheres</td>\n",
       "      <td>NaN</td>\n",
       "      <td>Cape vulture</td>\n",
       "      <td>Botswana</td>\n",
       "      <td>Botswana</td>\n",
       "      <td>-22.000000</td>\n",
       "      <td>24.000000</td>\n",
       "      <td>No</td>\n",
       "      <td>Individuals</td>\n",
       "      <td>1950</td>\n",
       "      <td>NaN</td>\n",
       "    </tr>\n",
       "    <tr>\n",
       "      <th>4</th>\n",
       "      <td>8</td>\n",
       "      <td>Gyps_coprotheres</td>\n",
       "      <td>WWF-SA (2000). Cape griffon.\"\"</td>\n",
       "      <td>Aves</td>\n",
       "      <td>Accipitriformes</td>\n",
       "      <td>Accipitridae</td>\n",
       "      <td>Gyps</td>\n",
       "      <td>coprotheres</td>\n",
       "      <td>NaN</td>\n",
       "      <td>Cape vulture</td>\n",
       "      <td>Lesotho</td>\n",
       "      <td>Lesotho</td>\n",
       "      <td>-29.500000</td>\n",
       "      <td>28.250000</td>\n",
       "      <td>No</td>\n",
       "      <td>Number of individuals</td>\n",
       "      <td>1950</td>\n",
       "      <td>NaN</td>\n",
       "    </tr>\n",
       "  </tbody>\n",
       "</table>\n",
       "</div>"
      ],
      "text/plain": [
       "   id                binomial  \\\n",
       "0   4   Copsychus_sechellarum   \n",
       "1   5         Falco_punctatus   \n",
       "2   6  Pternistis_ochropectus   \n",
       "3   7        Gyps_coprotheres   \n",
       "4   8        Gyps_coprotheres   \n",
       "\n",
       "                                            citation class            order  \\\n",
       "0  Komdeur, J. (1996). Breeding of the Seychelles...  Aves    Passeriformes   \n",
       "1  Groombridge, J. J., Bruford, M.W., Jones, C.G,...  Aves    Falconiformes   \n",
       "2  WPA/Birdlife/ SSC Partridge, Q. a. F. S. G. (2...  Aves      Galliformes   \n",
       "3                     WWF-SA (2000). Cape griffon.\"\"  Aves  Accipitriformes   \n",
       "4                     WWF-SA (2000). Cape griffon.\"\"  Aves  Accipitriformes   \n",
       "\n",
       "         family       genus      species subspecies              common_name  \\\n",
       "0  Muscicapidae   Copsychus  sechellarum        NaN  Seychelles magpie-robin   \n",
       "1    Falconidae       Falco    punctatus        NaN        Mauritius kestrel   \n",
       "2   Phasianidae  Pternistis  ochropectus        NaN       Djibouti francolin   \n",
       "3  Accipitridae        Gyps  coprotheres        NaN             Cape vulture   \n",
       "4  Accipitridae        Gyps  coprotheres        NaN             Cape vulture   \n",
       "\n",
       "                        location     country   latitude  longitude  \\\n",
       "0     Fregate Island, Seychelles  Seychelles  -4.583330  55.933331   \n",
       "1  Western Population, Mauritius   Mauritius -20.299999  57.583328   \n",
       "2         Foret du Day, Djibouti    Djibouti  11.766670  42.658058   \n",
       "3                       Botswana    Botswana -22.000000  24.000000   \n",
       "4                        Lesotho     Lesotho -29.500000  28.250000   \n",
       "\n",
       "  specific_location                     units  year  value  \n",
       "0               Yes     Number of individuals  1950    NaN  \n",
       "1                No  Number of breeding pairs  1950    NaN  \n",
       "2               Yes     Number of individuals  1950    NaN  \n",
       "3                No               Individuals  1950    NaN  \n",
       "4                No     Number of individuals  1950    NaN  "
      ]
     },
     "execution_count": 10,
     "metadata": {},
     "output_type": "execute_result"
    }
   ],
   "source": [
    "df.head()"
   ]
  },
  {
   "cell_type": "code",
   "execution_count": 12,
   "id": "26d0deae-0722-4279-ba57-2de1c143836b",
   "metadata": {},
   "outputs": [],
   "source": [
    "df[\"country\"] = df[\"country\"].apply(lambda a: cm.get(a, a))"
   ]
  },
  {
   "cell_type": "code",
   "execution_count": 13,
   "id": "d78952b5-e625-446c-bd5f-b7d79d0a0ca8",
   "metadata": {},
   "outputs": [],
   "source": [
    "df = df.drop(\n",
    "    [\"id\", \"class\", \"citation\", \"order\", \"family\", \"genus\", \"species\", \"subspecies\"],\n",
    "    axis=1,\n",
    ")"
   ]
  },
  {
   "cell_type": "markdown",
   "id": "efa381ad-c3d8-4194-bb0a-d26e82c9759c",
   "metadata": {},
   "source": [
    "## Wikipedia name"
   ]
  },
  {
   "cell_type": "code",
   "execution_count": 15,
   "id": "9cff79d4-f101-4a45-9a14-687989ef1e10",
   "metadata": {},
   "outputs": [
    {
     "data": {
      "text/plain": [
       "0            Copsychus sechellarum\n",
       "1                  Falco punctatus\n",
       "2           Pternistis ochropectus\n",
       "3                 Gyps coprotheres\n",
       "17                  Gyps africanus\n",
       "                   ...            \n",
       "15336             Smilisca phaeota\n",
       "15337    Strabomantis bufoniformis\n",
       "15338           Teratohyla spinosa\n",
       "15339                Cottus specus\n",
       "15341            Anguilla japonica\n",
       "Name: binomial, Length: 4182, dtype: object"
      ]
     },
     "execution_count": 15,
     "metadata": {},
     "output_type": "execute_result"
    }
   ],
   "source": [
    "binom = df[\"binomial\"].drop_duplicates().str.replace(r\"_\", \" \")\n",
    "binom"
   ]
  },
  {
   "cell_type": "code",
   "execution_count": 16,
   "id": "340e110d-82f4-4e3d-b329-40349199bce8",
   "metadata": {},
   "outputs": [],
   "source": [
    "df.set_index(\n",
    "    [\n",
    "        \"binomial\",\n",
    "        \"common_name\",\n",
    "        \"location\",\n",
    "        \"country\",\n",
    "        \"latitude\",\n",
    "        \"longitude\",\n",
    "        \"specific_location\",\n",
    "        \"units\",\n",
    "    ],\n",
    "    inplace=True,\n",
    ")"
   ]
  },
  {
   "cell_type": "markdown",
   "id": "3370c335-6bab-4f47-b27b-642774ccc8e1",
   "metadata": {},
   "source": [
    "## Make the garden dataset"
   ]
  },
  {
   "cell_type": "code",
   "execution_count": 17,
   "id": "5a87c18a-002d-4b38-a3f1-aac80694e2bc",
   "metadata": {},
   "outputs": [],
   "source": [
    "lpd_garden = catalog.Dataset.create_empty(dest_dir)"
   ]
  },
  {
   "cell_type": "code",
   "execution_count": 18,
   "id": "10466b89-0c23-474d-a49b-f9cd38018e59",
   "metadata": {},
   "outputs": [],
   "source": [
    "lpd_garden.metadata = lpd_meadow.metadata\n",
    "lpd_garden.save()"
   ]
  },
  {
   "cell_type": "code",
   "execution_count": 19,
   "id": "78f8405b-1d98-4c5e-8abb-1ae7f778e3a0",
   "metadata": {},
   "outputs": [],
   "source": [
    "lpd_garden.add(df)"
   ]
  }
 ],
 "metadata": {
  "kernelspec": {
   "display_name": "Python 3 (ipykernel)",
   "language": "python",
   "name": "python3"
  },
  "language_info": {
   "codemirror_mode": {
    "name": "ipython",
    "version": 3
   },
   "file_extension": ".py",
   "mimetype": "text/x-python",
   "name": "python",
   "nbconvert_exporter": "python",
   "pygments_lexer": "ipython3",
   "version": "3.9.10"
  }
 },
 "nbformat": 4,
 "nbformat_minor": 5
}
