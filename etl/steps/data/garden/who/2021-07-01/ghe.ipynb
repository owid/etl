{
 "cells": [
  {
   "attachments": {},
   "cell_type": "markdown",
   "metadata": {},
   "source": [
    "# Parameters"
   ]
  },
  {
   "cell_type": "code",
   "execution_count": 1,
   "metadata": {
    "tags": [
     "parameters"
    ]
   },
   "outputs": [],
   "source": [
    "dest_dir = \"/tmp/ghe_20210701\""
   ]
  },
  {
   "attachments": {},
   "cell_type": "markdown",
   "metadata": {},
   "source": [
    "# Read data and reference tables"
   ]
  },
  {
   "cell_type": "code",
   "execution_count": 2,
   "metadata": {},
   "outputs": [],
   "source": [
    "from owid import catalog\n",
    "import json"
   ]
  },
  {
   "cell_type": "code",
   "execution_count": 4,
   "metadata": {},
   "outputs": [],
   "source": [
    "from etl.paths import DATA_DIR, BASE_DIR as base_path"
   ]
  },
  {
   "cell_type": "code",
   "execution_count": 5,
   "metadata": {},
   "outputs": [],
   "source": [
    "countries = catalog.Dataset(DATA_DIR / \"garden/regions/2023-01-01/regions\")[\"regions\"]"
   ]
  },
  {
   "cell_type": "code",
   "execution_count": 6,
   "metadata": {},
   "outputs": [
    {
     "data": {
      "text/html": [
       "<div>\n",
       "<style scoped>\n",
       "    .dataframe tbody tr th:only-of-type {\n",
       "        vertical-align: middle;\n",
       "    }\n",
       "\n",
       "    .dataframe tbody tr th {\n",
       "        vertical-align: top;\n",
       "    }\n",
       "\n",
       "    .dataframe thead th {\n",
       "        text-align: right;\n",
       "    }\n",
       "</style>\n",
       "<table border=\"1\" class=\"dataframe\">\n",
       "  <thead>\n",
       "    <tr style=\"text-align: right;\">\n",
       "      <th></th>\n",
       "      <th>name</th>\n",
       "      <th>short_name</th>\n",
       "      <th>region_type</th>\n",
       "      <th>is_historical</th>\n",
       "      <th>defined_by</th>\n",
       "      <th>members</th>\n",
       "      <th>aliases</th>\n",
       "      <th>related</th>\n",
       "      <th>cow_code</th>\n",
       "      <th>cow_letter</th>\n",
       "      <th>...</th>\n",
       "      <th>iso_alpha2</th>\n",
       "      <th>iso_alpha3</th>\n",
       "      <th>kansas_code</th>\n",
       "      <th>legacy_country_id</th>\n",
       "      <th>legacy_entity_id</th>\n",
       "      <th>marc_code</th>\n",
       "      <th>ncd_code</th>\n",
       "      <th>penn_code</th>\n",
       "      <th>unctad_code</th>\n",
       "      <th>wikidata_code</th>\n",
       "    </tr>\n",
       "    <tr>\n",
       "      <th>code</th>\n",
       "      <th></th>\n",
       "      <th></th>\n",
       "      <th></th>\n",
       "      <th></th>\n",
       "      <th></th>\n",
       "      <th></th>\n",
       "      <th></th>\n",
       "      <th></th>\n",
       "      <th></th>\n",
       "      <th></th>\n",
       "      <th></th>\n",
       "      <th></th>\n",
       "      <th></th>\n",
       "      <th></th>\n",
       "      <th></th>\n",
       "      <th></th>\n",
       "      <th></th>\n",
       "      <th></th>\n",
       "      <th></th>\n",
       "      <th></th>\n",
       "      <th></th>\n",
       "    </tr>\n",
       "  </thead>\n",
       "  <tbody>\n",
       "    <tr>\n",
       "      <th>ABW</th>\n",
       "      <td>Aruba</td>\n",
       "      <td>Aruba</td>\n",
       "      <td>country</td>\n",
       "      <td>False</td>\n",
       "      <td>owid</td>\n",
       "      <td>NaN</td>\n",
       "      <td>NaN</td>\n",
       "      <td>NaN</td>\n",
       "      <td>&lt;NA&gt;</td>\n",
       "      <td>NaN</td>\n",
       "      <td>...</td>\n",
       "      <td>AW</td>\n",
       "      <td>ABW</td>\n",
       "      <td>ABW</td>\n",
       "      <td>561</td>\n",
       "      <td>219</td>\n",
       "      <td>AW</td>\n",
       "      <td>NaN</td>\n",
       "      <td>ABW</td>\n",
       "      <td>ARU</td>\n",
       "      <td>Q21203</td>\n",
       "    </tr>\n",
       "    <tr>\n",
       "      <th>AFG</th>\n",
       "      <td>Afghanistan</td>\n",
       "      <td>Afghanistan</td>\n",
       "      <td>country</td>\n",
       "      <td>False</td>\n",
       "      <td>owid</td>\n",
       "      <td>NaN</td>\n",
       "      <td>NaN</td>\n",
       "      <td>NaN</td>\n",
       "      <td>700</td>\n",
       "      <td>AFG</td>\n",
       "      <td>...</td>\n",
       "      <td>AF</td>\n",
       "      <td>AFG</td>\n",
       "      <td>AFG</td>\n",
       "      <td>562</td>\n",
       "      <td>15</td>\n",
       "      <td>AF</td>\n",
       "      <td>AFGN</td>\n",
       "      <td>AFG</td>\n",
       "      <td>AFG</td>\n",
       "      <td>Q889</td>\n",
       "    </tr>\n",
       "    <tr>\n",
       "      <th>AGO</th>\n",
       "      <td>Angola</td>\n",
       "      <td>Angola</td>\n",
       "      <td>country</td>\n",
       "      <td>False</td>\n",
       "      <td>owid</td>\n",
       "      <td>NaN</td>\n",
       "      <td>NaN</td>\n",
       "      <td>NaN</td>\n",
       "      <td>540</td>\n",
       "      <td>ANG</td>\n",
       "      <td>...</td>\n",
       "      <td>AO</td>\n",
       "      <td>AGO</td>\n",
       "      <td>AGO</td>\n",
       "      <td>563</td>\n",
       "      <td>19</td>\n",
       "      <td>AO</td>\n",
       "      <td>ANGL</td>\n",
       "      <td>AGO</td>\n",
       "      <td>ANG</td>\n",
       "      <td>Q916</td>\n",
       "    </tr>\n",
       "    <tr>\n",
       "      <th>AIA</th>\n",
       "      <td>Anguilla</td>\n",
       "      <td>Anguilla</td>\n",
       "      <td>country</td>\n",
       "      <td>False</td>\n",
       "      <td>owid</td>\n",
       "      <td>NaN</td>\n",
       "      <td>NaN</td>\n",
       "      <td>NaN</td>\n",
       "      <td>&lt;NA&gt;</td>\n",
       "      <td>NaN</td>\n",
       "      <td>...</td>\n",
       "      <td>AI</td>\n",
       "      <td>AIA</td>\n",
       "      <td>AIA</td>\n",
       "      <td>564</td>\n",
       "      <td>228</td>\n",
       "      <td>AM</td>\n",
       "      <td>NaN</td>\n",
       "      <td>AIA</td>\n",
       "      <td>ANL</td>\n",
       "      <td>Q25228</td>\n",
       "    </tr>\n",
       "    <tr>\n",
       "      <th>ALA</th>\n",
       "      <td>Aland Islands</td>\n",
       "      <td>Aland Islands</td>\n",
       "      <td>country</td>\n",
       "      <td>False</td>\n",
       "      <td>owid</td>\n",
       "      <td>NaN</td>\n",
       "      <td>[\"\\u00c3\\u0081EEland Islands\", \"\\u00c5land Isl...</td>\n",
       "      <td>NaN</td>\n",
       "      <td>&lt;NA&gt;</td>\n",
       "      <td>NaN</td>\n",
       "      <td>...</td>\n",
       "      <td>AX</td>\n",
       "      <td>ALA</td>\n",
       "      <td>NaN</td>\n",
       "      <td>791</td>\n",
       "      <td>61373</td>\n",
       "      <td>NaN</td>\n",
       "      <td>NaN</td>\n",
       "      <td>NaN</td>\n",
       "      <td>NaN</td>\n",
       "      <td>Q5689</td>\n",
       "    </tr>\n",
       "  </tbody>\n",
       "</table>\n",
       "<p>5 rows × 21 columns</p>\n",
       "</div>"
      ],
      "text/plain": [
       "               name     short_name region_type  is_historical defined_by  \\\n",
       "code                                                                       \n",
       "ABW           Aruba          Aruba     country          False       owid   \n",
       "AFG     Afghanistan    Afghanistan     country          False       owid   \n",
       "AGO          Angola         Angola     country          False       owid   \n",
       "AIA        Anguilla       Anguilla     country          False       owid   \n",
       "ALA   Aland Islands  Aland Islands     country          False       owid   \n",
       "\n",
       "     members                                            aliases related  \\\n",
       "code                                                                      \n",
       "ABW      NaN                                                NaN     NaN   \n",
       "AFG      NaN                                                NaN     NaN   \n",
       "AGO      NaN                                                NaN     NaN   \n",
       "AIA      NaN                                                NaN     NaN   \n",
       "ALA      NaN  [\"\\u00c3\\u0081EEland Islands\", \"\\u00c5land Isl...     NaN   \n",
       "\n",
       "      cow_code cow_letter  ...  iso_alpha2 iso_alpha3 kansas_code  \\\n",
       "code                       ...                                      \n",
       "ABW       <NA>        NaN  ...          AW        ABW         ABW   \n",
       "AFG        700        AFG  ...          AF        AFG         AFG   \n",
       "AGO        540        ANG  ...          AO        AGO         AGO   \n",
       "AIA       <NA>        NaN  ...          AI        AIA         AIA   \n",
       "ALA       <NA>        NaN  ...          AX        ALA         NaN   \n",
       "\n",
       "     legacy_country_id  legacy_entity_id  marc_code ncd_code penn_code  \\\n",
       "code                                                                     \n",
       "ABW                561               219         AW      NaN       ABW   \n",
       "AFG                562                15         AF     AFGN       AFG   \n",
       "AGO                563                19         AO     ANGL       AGO   \n",
       "AIA                564               228         AM      NaN       AIA   \n",
       "ALA                791             61373        NaN      NaN       NaN   \n",
       "\n",
       "     unctad_code wikidata_code  \n",
       "code                            \n",
       "ABW          ARU        Q21203  \n",
       "AFG          AFG          Q889  \n",
       "AGO          ANG          Q916  \n",
       "AIA          ANL        Q25228  \n",
       "ALA          NaN         Q5689  \n",
       "\n",
       "[5 rows x 21 columns]"
      ]
     },
     "execution_count": 6,
     "metadata": {},
     "output_type": "execute_result"
    }
   ],
   "source": [
    "countries.head()"
   ]
  },
  {
   "cell_type": "code",
   "execution_count": 7,
   "metadata": {},
   "outputs": [],
   "source": [
    "ghe_meadow = catalog.Dataset((base_path / \"data/meadow/who/2021-07-01/ghe\").as_posix())"
   ]
  },
  {
   "cell_type": "code",
   "execution_count": 8,
   "metadata": {},
   "outputs": [],
   "source": [
    "ghe_estimates = ghe_meadow[\"estimates\"]"
   ]
  },
  {
   "cell_type": "code",
   "execution_count": 9,
   "metadata": {},
   "outputs": [
    {
     "data": {
      "text/plain": [
       "(7191900, 9)"
      ]
     },
     "execution_count": 9,
     "metadata": {},
     "output_type": "execute_result"
    }
   ],
   "source": [
    "ghe_estimates.shape"
   ]
  },
  {
   "cell_type": "code",
   "execution_count": 10,
   "metadata": {},
   "outputs": [
    {
     "data": {
      "text/html": [
       "<div>\n",
       "<style scoped>\n",
       "    .dataframe tbody tr th:only-of-type {\n",
       "        vertical-align: middle;\n",
       "    }\n",
       "\n",
       "    .dataframe tbody tr th {\n",
       "        vertical-align: top;\n",
       "    }\n",
       "\n",
       "    .dataframe thead th {\n",
       "        text-align: right;\n",
       "    }\n",
       "</style>\n",
       "<table border=\"1\" class=\"dataframe\">\n",
       "  <thead>\n",
       "    <tr style=\"text-align: right;\">\n",
       "      <th></th>\n",
       "      <th></th>\n",
       "      <th></th>\n",
       "      <th></th>\n",
       "      <th></th>\n",
       "      <th>population</th>\n",
       "      <th>deaths</th>\n",
       "      <th>deaths_rate</th>\n",
       "      <th>deaths_100k</th>\n",
       "      <th>daly</th>\n",
       "      <th>daly_rate</th>\n",
       "      <th>daly_100k</th>\n",
       "      <th>causegroup</th>\n",
       "      <th>level</th>\n",
       "    </tr>\n",
       "    <tr>\n",
       "      <th>country_code</th>\n",
       "      <th>year</th>\n",
       "      <th>ghe_cause_title</th>\n",
       "      <th>sex_code</th>\n",
       "      <th>agegroup_code</th>\n",
       "      <th></th>\n",
       "      <th></th>\n",
       "      <th></th>\n",
       "      <th></th>\n",
       "      <th></th>\n",
       "      <th></th>\n",
       "      <th></th>\n",
       "      <th></th>\n",
       "      <th></th>\n",
       "    </tr>\n",
       "  </thead>\n",
       "  <tbody>\n",
       "    <tr>\n",
       "      <th rowspan=\"5\" valign=\"top\">GRD</th>\n",
       "      <th rowspan=\"5\" valign=\"top\">2019</th>\n",
       "      <th>Alcohol use disorders</th>\n",
       "      <th>BTSX</th>\n",
       "      <th>YEARS45-49</th>\n",
       "      <td>6285</td>\n",
       "      <td>0.5</td>\n",
       "      <td>8.200000e-05</td>\n",
       "      <td>8.2</td>\n",
       "      <td>42.099998</td>\n",
       "      <td>6.695200e-03</td>\n",
       "      <td>669.500000</td>\n",
       "      <td>2</td>\n",
       "      <td>3</td>\n",
       "    </tr>\n",
       "    <tr>\n",
       "      <th>Syphilis</th>\n",
       "      <th>MLE</th>\n",
       "      <th>YEARS1-4</th>\n",
       "      <td>3729</td>\n",
       "      <td>0.0</td>\n",
       "      <td>1.000000e-08</td>\n",
       "      <td>0.0</td>\n",
       "      <td>0.000000</td>\n",
       "      <td>5.900000e-07</td>\n",
       "      <td>0.100000</td>\n",
       "      <td>1</td>\n",
       "      <td>4</td>\n",
       "    </tr>\n",
       "    <tr>\n",
       "      <th>Cataracts</th>\n",
       "      <th>FMLE</th>\n",
       "      <th>YEARS15-19</th>\n",
       "      <td>3736</td>\n",
       "      <td>0.0</td>\n",
       "      <td>0.000000e+00</td>\n",
       "      <td>0.0</td>\n",
       "      <td>0.000000</td>\n",
       "      <td>0.000000e+00</td>\n",
       "      <td>0.000000</td>\n",
       "      <td>2</td>\n",
       "      <td>3</td>\n",
       "    </tr>\n",
       "    <tr>\n",
       "      <th>Peptic ulcer disease</th>\n",
       "      <th>BTSX</th>\n",
       "      <th>ALLAges</th>\n",
       "      <td>112002</td>\n",
       "      <td>4.7</td>\n",
       "      <td>4.190000e-05</td>\n",
       "      <td>4.2</td>\n",
       "      <td>126.099998</td>\n",
       "      <td>1.126140e-03</td>\n",
       "      <td>112.599998</td>\n",
       "      <td>2</td>\n",
       "      <td>3</td>\n",
       "    </tr>\n",
       "    <tr>\n",
       "      <th>Drug use disorders</th>\n",
       "      <th>MLE</th>\n",
       "      <th>YEARS85PLUS</th>\n",
       "      <td>366</td>\n",
       "      <td>0.0</td>\n",
       "      <td>8.524000e-05</td>\n",
       "      <td>8.5</td>\n",
       "      <td>0.400000</td>\n",
       "      <td>1.031580e-03</td>\n",
       "      <td>103.199997</td>\n",
       "      <td>2</td>\n",
       "      <td>3</td>\n",
       "    </tr>\n",
       "  </tbody>\n",
       "</table>\n",
       "</div>"
      ],
      "text/plain": [
       "                                                                population  \\\n",
       "country_code year ghe_cause_title       sex_code agegroup_code               \n",
       "GRD          2019 Alcohol use disorders BTSX     YEARS45-49           6285   \n",
       "                  Syphilis              MLE      YEARS1-4             3729   \n",
       "                  Cataracts             FMLE     YEARS15-19           3736   \n",
       "                  Peptic ulcer disease  BTSX     ALLAges            112002   \n",
       "                  Drug use disorders    MLE      YEARS85PLUS           366   \n",
       "\n",
       "                                                                deaths  \\\n",
       "country_code year ghe_cause_title       sex_code agegroup_code           \n",
       "GRD          2019 Alcohol use disorders BTSX     YEARS45-49        0.5   \n",
       "                  Syphilis              MLE      YEARS1-4          0.0   \n",
       "                  Cataracts             FMLE     YEARS15-19        0.0   \n",
       "                  Peptic ulcer disease  BTSX     ALLAges           4.7   \n",
       "                  Drug use disorders    MLE      YEARS85PLUS       0.0   \n",
       "\n",
       "                                                                 deaths_rate  \\\n",
       "country_code year ghe_cause_title       sex_code agegroup_code                 \n",
       "GRD          2019 Alcohol use disorders BTSX     YEARS45-49     8.200000e-05   \n",
       "                  Syphilis              MLE      YEARS1-4       1.000000e-08   \n",
       "                  Cataracts             FMLE     YEARS15-19     0.000000e+00   \n",
       "                  Peptic ulcer disease  BTSX     ALLAges        4.190000e-05   \n",
       "                  Drug use disorders    MLE      YEARS85PLUS    8.524000e-05   \n",
       "\n",
       "                                                                deaths_100k  \\\n",
       "country_code year ghe_cause_title       sex_code agegroup_code                \n",
       "GRD          2019 Alcohol use disorders BTSX     YEARS45-49             8.2   \n",
       "                  Syphilis              MLE      YEARS1-4               0.0   \n",
       "                  Cataracts             FMLE     YEARS15-19             0.0   \n",
       "                  Peptic ulcer disease  BTSX     ALLAges                4.2   \n",
       "                  Drug use disorders    MLE      YEARS85PLUS            8.5   \n",
       "\n",
       "                                                                      daly  \\\n",
       "country_code year ghe_cause_title       sex_code agegroup_code               \n",
       "GRD          2019 Alcohol use disorders BTSX     YEARS45-49      42.099998   \n",
       "                  Syphilis              MLE      YEARS1-4         0.000000   \n",
       "                  Cataracts             FMLE     YEARS15-19       0.000000   \n",
       "                  Peptic ulcer disease  BTSX     ALLAges        126.099998   \n",
       "                  Drug use disorders    MLE      YEARS85PLUS      0.400000   \n",
       "\n",
       "                                                                   daly_rate  \\\n",
       "country_code year ghe_cause_title       sex_code agegroup_code                 \n",
       "GRD          2019 Alcohol use disorders BTSX     YEARS45-49     6.695200e-03   \n",
       "                  Syphilis              MLE      YEARS1-4       5.900000e-07   \n",
       "                  Cataracts             FMLE     YEARS15-19     0.000000e+00   \n",
       "                  Peptic ulcer disease  BTSX     ALLAges        1.126140e-03   \n",
       "                  Drug use disorders    MLE      YEARS85PLUS    1.031580e-03   \n",
       "\n",
       "                                                                 daly_100k  \\\n",
       "country_code year ghe_cause_title       sex_code agegroup_code               \n",
       "GRD          2019 Alcohol use disorders BTSX     YEARS45-49     669.500000   \n",
       "                  Syphilis              MLE      YEARS1-4         0.100000   \n",
       "                  Cataracts             FMLE     YEARS15-19       0.000000   \n",
       "                  Peptic ulcer disease  BTSX     ALLAges        112.599998   \n",
       "                  Drug use disorders    MLE      YEARS85PLUS    103.199997   \n",
       "\n",
       "                                                                causegroup  \\\n",
       "country_code year ghe_cause_title       sex_code agegroup_code               \n",
       "GRD          2019 Alcohol use disorders BTSX     YEARS45-49              2   \n",
       "                  Syphilis              MLE      YEARS1-4                1   \n",
       "                  Cataracts             FMLE     YEARS15-19              2   \n",
       "                  Peptic ulcer disease  BTSX     ALLAges                 2   \n",
       "                  Drug use disorders    MLE      YEARS85PLUS             2   \n",
       "\n",
       "                                                                level  \n",
       "country_code year ghe_cause_title       sex_code agegroup_code         \n",
       "GRD          2019 Alcohol use disorders BTSX     YEARS45-49         3  \n",
       "                  Syphilis              MLE      YEARS1-4           4  \n",
       "                  Cataracts             FMLE     YEARS15-19         3  \n",
       "                  Peptic ulcer disease  BTSX     ALLAges            3  \n",
       "                  Drug use disorders    MLE      YEARS85PLUS        3  "
      ]
     },
     "execution_count": 10,
     "metadata": {},
     "output_type": "execute_result"
    }
   ],
   "source": [
    "ghe_estimates.head()"
   ]
  },
  {
   "cell_type": "code",
   "execution_count": 11,
   "metadata": {},
   "outputs": [],
   "source": [
    "country_codes = set(ghe_estimates.index.unique(\"country_code\"))"
   ]
  },
  {
   "cell_type": "code",
   "execution_count": 12,
   "metadata": {},
   "outputs": [
    {
     "data": {
      "text/plain": [
       "183"
      ]
     },
     "execution_count": 12,
     "metadata": {},
     "output_type": "execute_result"
    }
   ],
   "source": [
    "len(country_codes)"
   ]
  },
  {
   "cell_type": "code",
   "execution_count": 13,
   "metadata": {},
   "outputs": [],
   "source": [
    "owid_country_codes = set(countries.index)"
   ]
  },
  {
   "cell_type": "code",
   "execution_count": 14,
   "metadata": {},
   "outputs": [
    {
     "data": {
      "text/plain": [
       "285"
      ]
     },
     "execution_count": 14,
     "metadata": {},
     "output_type": "execute_result"
    }
   ],
   "source": [
    "len(owid_country_codes)"
   ]
  },
  {
   "cell_type": "code",
   "execution_count": 15,
   "metadata": {},
   "outputs": [
    {
     "data": {
      "text/plain": [
       "set()"
      ]
     },
     "execution_count": 15,
     "metadata": {},
     "output_type": "execute_result"
    }
   ],
   "source": [
    "country_codes - owid_country_codes"
   ]
  },
  {
   "attachments": {},
   "cell_type": "markdown",
   "metadata": {},
   "source": [
    "💡 The set of (country codes in GHE) minus (owid table country codes) is empty, so we don't need to do any further harmonization here."
   ]
  },
  {
   "cell_type": "code",
   "execution_count": 16,
   "metadata": {},
   "outputs": [
    {
     "data": {
      "text/plain": [
       "CategoricalIndex(['BTSX', 'MLE', 'FMLE'], categories=['BTSX', 'FMLE', 'MLE'], ordered=False, dtype='category', name='sex_code')"
      ]
     },
     "execution_count": 16,
     "metadata": {},
     "output_type": "execute_result"
    }
   ],
   "source": [
    "ghe_estimates.index.unique(\"sex_code\")"
   ]
  },
  {
   "cell_type": "code",
   "execution_count": 17,
   "metadata": {},
   "outputs": [],
   "source": [
    "with open(base_path / \"etl\" / \"steps\" / \"data\" / \"garden\" / \"who\" / \"2021-07-01\" / \"ghe.mapping.sex.json\") as f:\n",
    "    ghe_to_owid_sex_codes = json.load(f)"
   ]
  },
  {
   "cell_type": "code",
   "execution_count": 18,
   "metadata": {},
   "outputs": [
    {
     "data": {
      "text/plain": [
       "{'BTSX': 'both', 'MLE': 'male', 'FMLE': 'female'}"
      ]
     },
     "execution_count": 18,
     "metadata": {},
     "output_type": "execute_result"
    }
   ],
   "source": [
    "ghe_to_owid_sex_codes"
   ]
  },
  {
   "cell_type": "code",
   "execution_count": 19,
   "metadata": {},
   "outputs": [],
   "source": [
    "index_names = ghe_estimates.index.names"
   ]
  },
  {
   "cell_type": "code",
   "execution_count": 20,
   "metadata": {},
   "outputs": [],
   "source": [
    "ghe_estimates.reset_index(inplace=True)"
   ]
  },
  {
   "cell_type": "code",
   "execution_count": 21,
   "metadata": {},
   "outputs": [],
   "source": [
    "ghe_estimates[\"sex_code\"] = ghe_estimates[\"sex_code\"].cat.rename_categories(ghe_to_owid_sex_codes)"
   ]
  },
  {
   "cell_type": "code",
   "execution_count": 22,
   "metadata": {},
   "outputs": [],
   "source": [
    "ghe_estimates.set_index(index_names, inplace=True)"
   ]
  },
  {
   "cell_type": "code",
   "execution_count": 23,
   "metadata": {},
   "outputs": [
    {
     "data": {
      "text/html": [
       "<div>\n",
       "<style scoped>\n",
       "    .dataframe tbody tr th:only-of-type {\n",
       "        vertical-align: middle;\n",
       "    }\n",
       "\n",
       "    .dataframe tbody tr th {\n",
       "        vertical-align: top;\n",
       "    }\n",
       "\n",
       "    .dataframe thead th {\n",
       "        text-align: right;\n",
       "    }\n",
       "</style>\n",
       "<table border=\"1\" class=\"dataframe\">\n",
       "  <thead>\n",
       "    <tr style=\"text-align: right;\">\n",
       "      <th></th>\n",
       "      <th></th>\n",
       "      <th></th>\n",
       "      <th></th>\n",
       "      <th></th>\n",
       "      <th>population</th>\n",
       "      <th>deaths</th>\n",
       "      <th>deaths_rate</th>\n",
       "      <th>deaths_100k</th>\n",
       "      <th>daly</th>\n",
       "      <th>daly_rate</th>\n",
       "      <th>daly_100k</th>\n",
       "      <th>causegroup</th>\n",
       "      <th>level</th>\n",
       "    </tr>\n",
       "    <tr>\n",
       "      <th>country_code</th>\n",
       "      <th>year</th>\n",
       "      <th>ghe_cause_title</th>\n",
       "      <th>sex_code</th>\n",
       "      <th>agegroup_code</th>\n",
       "      <th></th>\n",
       "      <th></th>\n",
       "      <th></th>\n",
       "      <th></th>\n",
       "      <th></th>\n",
       "      <th></th>\n",
       "      <th></th>\n",
       "      <th></th>\n",
       "      <th></th>\n",
       "    </tr>\n",
       "  </thead>\n",
       "  <tbody>\n",
       "    <tr>\n",
       "      <th rowspan=\"5\" valign=\"top\">GRD</th>\n",
       "      <th rowspan=\"5\" valign=\"top\">2019</th>\n",
       "      <th>Alcohol use disorders</th>\n",
       "      <th>both</th>\n",
       "      <th>YEARS45-49</th>\n",
       "      <td>6285</td>\n",
       "      <td>0.5</td>\n",
       "      <td>8.200000e-05</td>\n",
       "      <td>8.2</td>\n",
       "      <td>42.099998</td>\n",
       "      <td>6.695200e-03</td>\n",
       "      <td>669.500000</td>\n",
       "      <td>2</td>\n",
       "      <td>3</td>\n",
       "    </tr>\n",
       "    <tr>\n",
       "      <th>Syphilis</th>\n",
       "      <th>male</th>\n",
       "      <th>YEARS1-4</th>\n",
       "      <td>3729</td>\n",
       "      <td>0.0</td>\n",
       "      <td>1.000000e-08</td>\n",
       "      <td>0.0</td>\n",
       "      <td>0.000000</td>\n",
       "      <td>5.900000e-07</td>\n",
       "      <td>0.100000</td>\n",
       "      <td>1</td>\n",
       "      <td>4</td>\n",
       "    </tr>\n",
       "    <tr>\n",
       "      <th>Cataracts</th>\n",
       "      <th>female</th>\n",
       "      <th>YEARS15-19</th>\n",
       "      <td>3736</td>\n",
       "      <td>0.0</td>\n",
       "      <td>0.000000e+00</td>\n",
       "      <td>0.0</td>\n",
       "      <td>0.000000</td>\n",
       "      <td>0.000000e+00</td>\n",
       "      <td>0.000000</td>\n",
       "      <td>2</td>\n",
       "      <td>3</td>\n",
       "    </tr>\n",
       "    <tr>\n",
       "      <th>Peptic ulcer disease</th>\n",
       "      <th>both</th>\n",
       "      <th>ALLAges</th>\n",
       "      <td>112002</td>\n",
       "      <td>4.7</td>\n",
       "      <td>4.190000e-05</td>\n",
       "      <td>4.2</td>\n",
       "      <td>126.099998</td>\n",
       "      <td>1.126140e-03</td>\n",
       "      <td>112.599998</td>\n",
       "      <td>2</td>\n",
       "      <td>3</td>\n",
       "    </tr>\n",
       "    <tr>\n",
       "      <th>Drug use disorders</th>\n",
       "      <th>male</th>\n",
       "      <th>YEARS85PLUS</th>\n",
       "      <td>366</td>\n",
       "      <td>0.0</td>\n",
       "      <td>8.524000e-05</td>\n",
       "      <td>8.5</td>\n",
       "      <td>0.400000</td>\n",
       "      <td>1.031580e-03</td>\n",
       "      <td>103.199997</td>\n",
       "      <td>2</td>\n",
       "      <td>3</td>\n",
       "    </tr>\n",
       "  </tbody>\n",
       "</table>\n",
       "</div>"
      ],
      "text/plain": [
       "                                                                population  \\\n",
       "country_code year ghe_cause_title       sex_code agegroup_code               \n",
       "GRD          2019 Alcohol use disorders both     YEARS45-49           6285   \n",
       "                  Syphilis              male     YEARS1-4             3729   \n",
       "                  Cataracts             female   YEARS15-19           3736   \n",
       "                  Peptic ulcer disease  both     ALLAges            112002   \n",
       "                  Drug use disorders    male     YEARS85PLUS           366   \n",
       "\n",
       "                                                                deaths  \\\n",
       "country_code year ghe_cause_title       sex_code agegroup_code           \n",
       "GRD          2019 Alcohol use disorders both     YEARS45-49        0.5   \n",
       "                  Syphilis              male     YEARS1-4          0.0   \n",
       "                  Cataracts             female   YEARS15-19        0.0   \n",
       "                  Peptic ulcer disease  both     ALLAges           4.7   \n",
       "                  Drug use disorders    male     YEARS85PLUS       0.0   \n",
       "\n",
       "                                                                 deaths_rate  \\\n",
       "country_code year ghe_cause_title       sex_code agegroup_code                 \n",
       "GRD          2019 Alcohol use disorders both     YEARS45-49     8.200000e-05   \n",
       "                  Syphilis              male     YEARS1-4       1.000000e-08   \n",
       "                  Cataracts             female   YEARS15-19     0.000000e+00   \n",
       "                  Peptic ulcer disease  both     ALLAges        4.190000e-05   \n",
       "                  Drug use disorders    male     YEARS85PLUS    8.524000e-05   \n",
       "\n",
       "                                                                deaths_100k  \\\n",
       "country_code year ghe_cause_title       sex_code agegroup_code                \n",
       "GRD          2019 Alcohol use disorders both     YEARS45-49             8.2   \n",
       "                  Syphilis              male     YEARS1-4               0.0   \n",
       "                  Cataracts             female   YEARS15-19             0.0   \n",
       "                  Peptic ulcer disease  both     ALLAges                4.2   \n",
       "                  Drug use disorders    male     YEARS85PLUS            8.5   \n",
       "\n",
       "                                                                      daly  \\\n",
       "country_code year ghe_cause_title       sex_code agegroup_code               \n",
       "GRD          2019 Alcohol use disorders both     YEARS45-49      42.099998   \n",
       "                  Syphilis              male     YEARS1-4         0.000000   \n",
       "                  Cataracts             female   YEARS15-19       0.000000   \n",
       "                  Peptic ulcer disease  both     ALLAges        126.099998   \n",
       "                  Drug use disorders    male     YEARS85PLUS      0.400000   \n",
       "\n",
       "                                                                   daly_rate  \\\n",
       "country_code year ghe_cause_title       sex_code agegroup_code                 \n",
       "GRD          2019 Alcohol use disorders both     YEARS45-49     6.695200e-03   \n",
       "                  Syphilis              male     YEARS1-4       5.900000e-07   \n",
       "                  Cataracts             female   YEARS15-19     0.000000e+00   \n",
       "                  Peptic ulcer disease  both     ALLAges        1.126140e-03   \n",
       "                  Drug use disorders    male     YEARS85PLUS    1.031580e-03   \n",
       "\n",
       "                                                                 daly_100k  \\\n",
       "country_code year ghe_cause_title       sex_code agegroup_code               \n",
       "GRD          2019 Alcohol use disorders both     YEARS45-49     669.500000   \n",
       "                  Syphilis              male     YEARS1-4         0.100000   \n",
       "                  Cataracts             female   YEARS15-19       0.000000   \n",
       "                  Peptic ulcer disease  both     ALLAges        112.599998   \n",
       "                  Drug use disorders    male     YEARS85PLUS    103.199997   \n",
       "\n",
       "                                                                causegroup  \\\n",
       "country_code year ghe_cause_title       sex_code agegroup_code               \n",
       "GRD          2019 Alcohol use disorders both     YEARS45-49              2   \n",
       "                  Syphilis              male     YEARS1-4                1   \n",
       "                  Cataracts             female   YEARS15-19              2   \n",
       "                  Peptic ulcer disease  both     ALLAges                 2   \n",
       "                  Drug use disorders    male     YEARS85PLUS             2   \n",
       "\n",
       "                                                                level  \n",
       "country_code year ghe_cause_title       sex_code agegroup_code         \n",
       "GRD          2019 Alcohol use disorders both     YEARS45-49         3  \n",
       "                  Syphilis              male     YEARS1-4           4  \n",
       "                  Cataracts             female   YEARS15-19         3  \n",
       "                  Peptic ulcer disease  both     ALLAges            3  \n",
       "                  Drug use disorders    male     YEARS85PLUS        3  "
      ]
     },
     "execution_count": 23,
     "metadata": {},
     "output_type": "execute_result"
    }
   ],
   "source": [
    "ghe_estimates.head()"
   ]
  },
  {
   "cell_type": "code",
   "execution_count": 24,
   "metadata": {},
   "outputs": [],
   "source": [
    "ghe_garden = catalog.Dataset.create_empty(dest_dir)"
   ]
  },
  {
   "cell_type": "code",
   "execution_count": 25,
   "metadata": {},
   "outputs": [],
   "source": [
    "ghe_garden.metadata = ghe_meadow.metadata\n",
    "ghe_garden.save()"
   ]
  },
  {
   "cell_type": "code",
   "execution_count": 26,
   "metadata": {},
   "outputs": [],
   "source": [
    "ghe_garden.add(ghe_estimates)"
   ]
  },
  {
   "cell_type": "code",
   "execution_count": null,
   "metadata": {},
   "outputs": [],
   "source": [
    "ghe_garden.save()"
   ]
  },
  {
   "cell_type": "code",
   "execution_count": null,
   "metadata": {},
   "outputs": [],
   "source": []
  }
 ],
 "metadata": {
  "kernelspec": {
   "display_name": "Python 3.9.1 ('.venv': poetry)",
   "language": "python",
   "name": "python3"
  },
  "language_info": {
   "codemirror_mode": {
    "name": "ipython",
    "version": 3
   },
   "file_extension": ".py",
   "mimetype": "text/x-python",
   "name": "python",
   "nbconvert_exporter": "python",
   "pygments_lexer": "ipython3",
   "version": "3.11.2"
  },
  "vscode": {
   "interpreter": {
    "hash": "a489023c87af25c24229d102de7e6f005ce880874ba479a7a4773483224b9ac3"
   }
  }
 },
 "nbformat": 4,
 "nbformat_minor": 4
}
