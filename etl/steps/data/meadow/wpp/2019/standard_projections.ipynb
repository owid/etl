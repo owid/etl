{
 "cells": [
  {
   "cell_type": "markdown",
   "id": "1a05ec18-36e1-4572-ae43-2fa96c62180f",
   "metadata": {},
   "source": [
    "# WPP: total population"
   ]
  },
  {
   "cell_type": "markdown",
   "id": "342bb303-d971-4993-917c-9b7d009db4e7",
   "metadata": {},
   "source": [
    "## Parameters"
   ]
  },
  {
   "cell_type": "code",
   "execution_count": null,
   "id": "314c2f32-8639-4efa-9d2b-50078a3ffd98",
   "metadata": {
    "tags": [
     "parameters"
    ]
   },
   "outputs": [],
   "source": [
    "dest_dir = \"/tmp/wpp_2019_total_population\""
   ]
  },
  {
   "cell_type": "markdown",
   "id": "75f08630-8866-4c31-a394-d045f0b23f50",
   "metadata": {},
   "source": [
    "## Walden"
   ]
  },
  {
   "cell_type": "code",
   "execution_count": null,
   "id": "9ead18cf-cc09-42fa-b0ac-2be038488bf9",
   "metadata": {},
   "outputs": [],
   "source": [
    "from owid import walden"
   ]
  },
  {
   "cell_type": "code",
   "execution_count": null,
   "id": "96ccf1d3-c2f0-412c-a7c9-2fa11c3bc3ee",
   "metadata": {},
   "outputs": [],
   "source": [
    "walden_ds = walden.Catalog().find_one(\"wpp\", \"2019\", \"standard_projections\")"
   ]
  },
  {
   "cell_type": "code",
   "execution_count": null,
   "id": "d4f2ac7f-deb7-4989-b8ec-a1416b97875b",
   "metadata": {},
   "outputs": [],
   "source": [
    "walden_ds"
   ]
  },
  {
   "cell_type": "markdown",
   "id": "db5b6c32-3e98-44e8-8456-791329b80a53",
   "metadata": {},
   "source": [
    "## Unzip"
   ]
  },
  {
   "cell_type": "code",
   "execution_count": null,
   "id": "39132306-da15-49fa-a2d5-aee3f27e6a38",
   "metadata": {},
   "outputs": [],
   "source": [
    "import tempfile\n",
    "import shutil"
   ]
  },
  {
   "cell_type": "code",
   "execution_count": null,
   "id": "6a1f7c70-40ce-402e-936d-8b841671dd56",
   "metadata": {},
   "outputs": [],
   "source": [
    "temp_dir = tempfile.mkdtemp()"
   ]
  },
  {
   "cell_type": "code",
   "execution_count": null,
   "id": "22bc0e97-9637-4548-bc10-9b7a380bdaa3",
   "metadata": {},
   "outputs": [],
   "source": [
    "import zipfile"
   ]
  },
  {
   "cell_type": "code",
   "execution_count": null,
   "id": "90af5983-9e5b-418d-a520-06155a4c6fc7",
   "metadata": {},
   "outputs": [],
   "source": [
    "zipfile.ZipFile(walden_ds.local_path).extractall(temp_dir)"
   ]
  },
  {
   "cell_type": "code",
   "execution_count": null,
   "id": "587f5124-3206-45ea-84ab-014ded80f9c9",
   "metadata": {},
   "outputs": [],
   "source": [
    "!ls {temp_dir}/WPP2019"
   ]
  },
  {
   "cell_type": "markdown",
   "id": "a812da8e-fb48-4f8f-9d4f-98df41cf9a96",
   "metadata": {},
   "source": [
    "## Make dataset"
   ]
  },
  {
   "cell_type": "code",
   "execution_count": null,
   "id": "147f0078-56eb-43c8-a25c-5bfec848efbb",
   "metadata": {},
   "outputs": [],
   "source": [
    "from owid.catalog import Dataset\n",
    "from etl.steps.data import converters"
   ]
  },
  {
   "cell_type": "code",
   "execution_count": null,
   "id": "01adb8ad-a8a0-49ac-8a99-829cabeaf822",
   "metadata": {},
   "outputs": [],
   "source": [
    "ds = Dataset.create_empty(dest_dir)"
   ]
  },
  {
   "cell_type": "code",
   "execution_count": null,
   "id": "56dcf10d-36a3-4751-9448-298f006d2077",
   "metadata": {},
   "outputs": [],
   "source": [
    "ds.metadata = converters.convert_walden_metadata(walden_ds)"
   ]
  },
  {
   "cell_type": "code",
   "execution_count": null,
   "id": "18104bd5-4cbb-4030-8a98-d0448de28758",
   "metadata": {},
   "outputs": [],
   "source": [
    "ds.save()"
   ]
  },
  {
   "cell_type": "markdown",
   "id": "56859046-2544-4013-857e-537eef85095d",
   "metadata": {},
   "source": [
    "## Add tables"
   ]
  },
  {
   "cell_type": "code",
   "execution_count": null,
   "id": "129b5a69-31e8-4af8-81b5-81fefe644249",
   "metadata": {},
   "outputs": [],
   "source": [
    "from owid.catalog import Table\n",
    "import pandas as pd"
   ]
  },
  {
   "cell_type": "markdown",
   "id": "c9a8d281-2e33-47be-80f5-e6857e18f29b",
   "metadata": {},
   "source": [
    "### Total population"
   ]
  },
  {
   "cell_type": "code",
   "execution_count": null,
   "id": "33f7123c-ded6-4c65-9a3d-d1dd1736f362",
   "metadata": {},
   "outputs": [],
   "source": [
    "df = pd.read_csv(f\"{temp_dir}/WPP2019/WPP2019_TotalPopulationBySex.csv\")"
   ]
  },
  {
   "cell_type": "code",
   "execution_count": null,
   "id": "d1cfffb7-c164-4366-83bc-73ee00bb720d",
   "metadata": {},
   "outputs": [],
   "source": [
    "df.head()"
   ]
  },
  {
   "cell_type": "code",
   "execution_count": null,
   "id": "6c4fb156-1aef-4125-b188-0e2987eaf4c4",
   "metadata": {},
   "outputs": [],
   "source": [
    "df.columns = [\n",
    "    \"loc_id\",\n",
    "    \"location\",\n",
    "    \"var_id\",\n",
    "    \"variant\",\n",
    "    \"year\",\n",
    "    \"mid_period\",\n",
    "    \"population_male\",\n",
    "    \"population_female\",\n",
    "    \"population_total\",\n",
    "    \"population_density\",\n",
    "]"
   ]
  },
  {
   "cell_type": "code",
   "execution_count": null,
   "id": "93251aca-6471-4f51-8e89-4c2771759e78",
   "metadata": {},
   "outputs": [],
   "source": [
    "t = Table(df[[\"loc_id\", \"location\"]].drop_duplicates().set_index(\"loc_id\"))\n",
    "t.metadata.short_name = \"location_codes\"\n",
    "ds.add(t)"
   ]
  },
  {
   "cell_type": "code",
   "execution_count": null,
   "id": "68d202aa-d63b-4133-a231-964d8dedcb61",
   "metadata": {},
   "outputs": [],
   "source": [
    "t = Table(df[[\"var_id\", \"variant\"]].drop_duplicates().set_index(\"var_id\"))\n",
    "t.metadata.short_name = \"variant_codes\"\n",
    "ds.add(t)"
   ]
  },
  {
   "cell_type": "code",
   "execution_count": null,
   "id": "ba781786-c1e1-4e55-a21e-bc596dc30e20",
   "metadata": {},
   "outputs": [],
   "source": [
    "df.drop(columns=[\"loc_id\", \"var_id\"], inplace=True)"
   ]
  },
  {
   "cell_type": "code",
   "execution_count": null,
   "id": "895c17a3-9165-4e24-a14c-c3a5c6fd1760",
   "metadata": {},
   "outputs": [],
   "source": [
    "for col in [\"location\", \"variant\"]:\n",
    "    df[col] = df[col].astype(\"category\")"
   ]
  },
  {
   "cell_type": "code",
   "execution_count": null,
   "id": "947e169c-475d-4537-80cf-7b5cc36153f1",
   "metadata": {},
   "outputs": [],
   "source": [
    "df.set_index([\"variant\", \"location\", \"year\"], inplace=True)"
   ]
  },
  {
   "cell_type": "code",
   "execution_count": null,
   "id": "f1d17d10-fff7-43a4-8956-d509e3c319fb",
   "metadata": {},
   "outputs": [],
   "source": [
    "df"
   ]
  },
  {
   "cell_type": "code",
   "execution_count": null,
   "id": "3c7fd381-2ba5-4d77-9aa7-e9bbc651e010",
   "metadata": {},
   "outputs": [],
   "source": [
    "df.index.levels[0]"
   ]
  },
  {
   "cell_type": "code",
   "execution_count": null,
   "id": "181dcd61-e77d-43f3-a596-d51320c802e8",
   "metadata": {},
   "outputs": [],
   "source": [
    "t = Table(df)\n",
    "t.metadata.short_name = \"total_population\"\n",
    "ds.add(t)"
   ]
  },
  {
   "cell_type": "markdown",
   "id": "210c7d1a-4ad7-4473-88ff-e95f27a20148",
   "metadata": {},
   "source": [
    "### Fertility by age"
   ]
  },
  {
   "cell_type": "code",
   "execution_count": null,
   "id": "74d3284f-0003-4cec-8141-bd6da48e2a00",
   "metadata": {},
   "outputs": [],
   "source": [
    "df = pd.read_csv(f\"{temp_dir}/WPP2019/WPP2019_Fertility_by_Age.csv\")"
   ]
  },
  {
   "cell_type": "code",
   "execution_count": null,
   "id": "0cf3e2e3-6781-4948-b9a9-e6fdeceb5926",
   "metadata": {},
   "outputs": [],
   "source": [
    "df.head()"
   ]
  },
  {
   "cell_type": "code",
   "execution_count": null,
   "id": "a17f4d45-151c-4cf6-8a2e-46bef5fd4b8e",
   "metadata": {},
   "outputs": [],
   "source": [
    "df.drop(columns=[\"LocID\", \"VarID\", \"MidPeriod\", \"AgeGrpStart\", \"AgeGrpSpan\"], inplace=True)"
   ]
  },
  {
   "cell_type": "code",
   "execution_count": null,
   "id": "07f79f9e-0497-46a6-a6ac-6c637e294029",
   "metadata": {},
   "outputs": [],
   "source": [
    "df.columns = [\n",
    "    \"location\",\n",
    "    \"variant\",\n",
    "    \"year_range\",\n",
    "    \"age_group\",\n",
    "    \"asfr\",\n",
    "    \"pasfr\",\n",
    "    \"births\",\n",
    "]"
   ]
  },
  {
   "cell_type": "code",
   "execution_count": null,
   "id": "fe5ead92-8eb8-4b45-a992-b0658bfa689f",
   "metadata": {},
   "outputs": [],
   "source": [
    "df.head()"
   ]
  },
  {
   "cell_type": "code",
   "execution_count": null,
   "id": "569b4df1-ab9e-44f4-ae9b-2f968e972a29",
   "metadata": {},
   "outputs": [],
   "source": [
    "for col in [\"location\", \"variant\", \"year_range\", \"age_group\"]:\n",
    "    df[col] = df[col].astype(\"category\")"
   ]
  },
  {
   "cell_type": "code",
   "execution_count": null,
   "id": "89f79cd1-69b8-4b54-b9aa-b62fe16d952d",
   "metadata": {},
   "outputs": [],
   "source": [
    "df.set_index([\"variant\", \"location\", \"year_range\", \"age_group\"], inplace=True)"
   ]
  },
  {
   "cell_type": "code",
   "execution_count": null,
   "id": "4897bb36-ea6b-447c-b28b-f005d2491c01",
   "metadata": {},
   "outputs": [],
   "source": [
    "t = Table(df)\n",
    "t.metadata.short_name = \"fertility_by_age\"\n",
    "ds.add(t)"
   ]
  },
  {
   "cell_type": "markdown",
   "id": "fc0a4500-e3a0-4229-be1d-40e96a8b8aba",
   "metadata": {},
   "source": [
    "### Population by age and sex"
   ]
  },
  {
   "cell_type": "code",
   "execution_count": null,
   "id": "a29fc785-dc0e-4863-972e-a45946be6f92",
   "metadata": {},
   "outputs": [],
   "source": [
    "df = pd.read_csv(f\"{temp_dir}/WPP2019/WPP2019_PopulationByAgeSex_Medium.csv\")"
   ]
  },
  {
   "cell_type": "code",
   "execution_count": null,
   "id": "6b411bbb-b062-4239-9dad-6229eb87d1a8",
   "metadata": {},
   "outputs": [],
   "source": [
    "df.head()"
   ]
  },
  {
   "cell_type": "code",
   "execution_count": null,
   "id": "3a2c3d92-4007-4866-bc61-a57fe1e299ab",
   "metadata": {},
   "outputs": [],
   "source": [
    "df.drop(columns=[\"LocID\", \"VarID\", \"MidPeriod\", \"AgeGrpStart\", \"AgeGrpSpan\"], inplace=True)"
   ]
  },
  {
   "cell_type": "code",
   "execution_count": null,
   "id": "3cc9bc82-9a65-4ad4-9f4c-3dd169eb3d08",
   "metadata": {},
   "outputs": [],
   "source": [
    "df.columns = [\n",
    "    \"location\",\n",
    "    \"variant\",\n",
    "    \"year\",\n",
    "    \"age_group\",\n",
    "    \"population_male\",\n",
    "    \"population_female\",\n",
    "    \"population_total\",\n",
    "]"
   ]
  },
  {
   "cell_type": "code",
   "execution_count": null,
   "id": "5c916d94-c770-41ed-ad1d-5cd58bede758",
   "metadata": {},
   "outputs": [],
   "source": [
    "df.head()"
   ]
  },
  {
   "cell_type": "code",
   "execution_count": null,
   "id": "0ed60ba4-2dc4-4230-b5ab-ba54162c9cf6",
   "metadata": {},
   "outputs": [],
   "source": [
    "for col in [\"location\", \"variant\", \"age_group\"]:\n",
    "    df[col] = df[col].astype(\"category\")"
   ]
  },
  {
   "cell_type": "code",
   "execution_count": null,
   "id": "5b33fb5b-b79a-4bd6-b5e0-8f2756780437",
   "metadata": {},
   "outputs": [],
   "source": [
    "df.set_index([\"variant\", \"location\", \"year\", \"age_group\"], inplace=True)"
   ]
  },
  {
   "cell_type": "code",
   "execution_count": null,
   "id": "d43e7d11-4faa-4ced-9fbf-e8e204ba6b1b",
   "metadata": {},
   "outputs": [],
   "source": [
    "df.head()"
   ]
  },
  {
   "cell_type": "code",
   "execution_count": null,
   "id": "e00a806f-e4c9-4136-ac4b-3ad453607acd",
   "metadata": {},
   "outputs": [],
   "source": [
    "t = Table(df)\n",
    "t.metadata.short_name = \"population_by_age_sex\"\n",
    "ds.add(t)"
   ]
  },
  {
   "cell_type": "markdown",
   "id": "efdea1e0-c7ff-49f6-bdfe-76e230a4bef6",
   "metadata": {},
   "source": [
    "## Clean up"
   ]
  },
  {
   "cell_type": "code",
   "execution_count": null,
   "id": "2868568b-955c-400f-9d68-e294f7f4bf25",
   "metadata": {},
   "outputs": [],
   "source": [
    "shutil.rmtree(temp_dir)"
   ]
  },
  {
   "cell_type": "code",
   "execution_count": null,
   "id": "b2be553e",
   "metadata": {},
   "outputs": [],
   "source": []
  }
 ],
 "metadata": {
  "kernelspec": {
   "display_name": "Python 3 (ipykernel)",
   "language": "python",
   "name": "python3"
  },
  "language_info": {
   "codemirror_mode": {
    "name": "ipython",
    "version": 3
   },
   "file_extension": ".py",
   "mimetype": "text/x-python",
   "name": "python",
   "nbconvert_exporter": "python",
   "pygments_lexer": "ipython3",
   "version": "3.9.10"
  }
 },
 "nbformat": 4,
 "nbformat_minor": 5
}
