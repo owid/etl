{
 "cells": [
  {
   "cell_type": "markdown",
   "metadata": {},
   "source": [
    "# Hyde 3.2 baseline"
   ]
  },
  {
   "cell_type": "markdown",
   "metadata": {},
   "source": [
    "## Parameters"
   ]
  },
  {
   "cell_type": "code",
   "execution_count": null,
   "metadata": {
    "tags": [
     "parameters"
    ]
   },
   "outputs": [],
   "source": [
    "dest_dir = \"/tmp/hyde_3_2_baseline\""
   ]
  },
  {
   "cell_type": "markdown",
   "metadata": {},
   "source": [
    "## Imports"
   ]
  },
  {
   "cell_type": "code",
   "execution_count": null,
   "metadata": {},
   "outputs": [],
   "source": [
    "import zipfile\n",
    "import tempfile\n",
    "import shutil\n",
    "from pathlib import Path\n",
    "\n",
    "import pandas as pd\n",
    "\n",
    "from owid.catalog import Dataset, Table\n",
    "from owid.walden import Catalog\n",
    "from etl.paths import DATA_DIR\n",
    "from etl.steps.data.converters import convert_walden_metadata"
   ]
  },
  {
   "cell_type": "markdown",
   "metadata": {},
   "source": [
    "## Fetch walden dataset"
   ]
  },
  {
   "cell_type": "code",
   "execution_count": null,
   "metadata": {},
   "outputs": [],
   "source": [
    "walden_ds = Catalog().find_one(\"hyde\", \"2017\", \"baseline\")"
   ]
  },
  {
   "cell_type": "code",
   "execution_count": null,
   "metadata": {},
   "outputs": [],
   "source": [
    "walden_ds"
   ]
  },
  {
   "cell_type": "markdown",
   "metadata": {},
   "source": [
    "## Load country codes"
   ]
  },
  {
   "cell_type": "code",
   "execution_count": null,
   "metadata": {},
   "outputs": [],
   "source": [
    "gf_path = (DATA_DIR / \"meadow\" / \"hyde\" / \"2017\" / \"general_files\").as_posix()\n",
    "codes = Dataset(gf_path)[\"country_codes\"]\n",
    "codes"
   ]
  },
  {
   "cell_type": "markdown",
   "metadata": {},
   "source": [
    "## Unzip to temp directory"
   ]
  },
  {
   "cell_type": "code",
   "execution_count": null,
   "metadata": {},
   "outputs": [],
   "source": [
    "temp_dir = tempfile.mkdtemp()"
   ]
  },
  {
   "cell_type": "code",
   "execution_count": null,
   "metadata": {},
   "outputs": [],
   "source": [
    "import zipfile\n",
    "import tempfile\n",
    "import shutil\n",
    "from pathlib import Path\n",
    "\n",
    "import pandas as pd\n",
    "\n",
    "from owid.catalog import Dataset, Table\n",
    "from owid.walden import Catalog\n",
    "from etl.paths import DATA_DIR\n",
    "from etl.steps.data.converters import convert_walden_metadata\n",
    "from etl import files"
   ]
  },
  {
   "cell_type": "code",
   "execution_count": null,
   "metadata": {},
   "outputs": [],
   "source": [
    "try:\n",
    "    z = zipfile.ZipFile(walden_ds.local_path)\n",
    "except zipfile.BadZipFile as e:\n",
    "    if files.checksum_file(walden_ds.local_path) != walden_ds.md5:\n",
    "        raise zipfile.BadZipFile(\n",
    "            f\"Hyde baseline dataset has about 5GB, it is possible that the file wasn't downloaded completely. Please remove file \"\n",
    "            f\"{walden_ds.local_path} manually and try again.\"\n",
    "        )"
   ]
  },
  {
   "cell_type": "code",
   "execution_count": null,
   "metadata": {},
   "outputs": [],
   "source": [
    "data_files = [f for f in z.namelist() if \"/png/\" not in f and \"/zip/\" not in f]\n",
    "data_files"
   ]
  },
  {
   "cell_type": "code",
   "execution_count": null,
   "metadata": {},
   "outputs": [],
   "source": [
    "z.extractall(temp_dir, members=data_files)"
   ]
  },
  {
   "cell_type": "code",
   "execution_count": null,
   "metadata": {},
   "outputs": [],
   "source": [
    "!ls {temp_dir}/baseline/txt"
   ]
  },
  {
   "cell_type": "markdown",
   "metadata": {},
   "source": [
    "## Make a dataset"
   ]
  },
  {
   "cell_type": "code",
   "execution_count": null,
   "metadata": {},
   "outputs": [],
   "source": [
    "ds = Dataset.create_empty(dest_dir)\n",
    "ds.metadata = convert_walden_metadata(walden_ds)\n",
    "ds.save()"
   ]
  },
  {
   "cell_type": "markdown",
   "metadata": {},
   "source": [
    "## Add tables"
   ]
  },
  {
   "cell_type": "markdown",
   "metadata": {},
   "source": [
    "### Population"
   ]
  },
  {
   "cell_type": "code",
   "execution_count": null,
   "metadata": {},
   "outputs": [],
   "source": [
    "country_path = Path(temp_dir) / \"baseline\" / \"txt\" / \"popc_c.txt\"\n",
    "population = (\n",
    "    pd.read_csv(country_path.as_posix(), sep=\" \")\n",
    "    .rename({\"region\": \"country_code\"}, axis=1)\n",
    "    .melt(id_vars=\"country_code\", var_name=\"year\", value_name=\"population\")\n",
    ")\n",
    "population = population[-population.country_code.isin([\"Total\"])]\n",
    "population[\"year\"] = population.year.astype(int)\n",
    "population[\"country_code\"] = population.country_code.astype(int)\n",
    "\n",
    "population_norm = pd.merge(codes, population, on=\"country_code\", how=\"inner\", validate=\"one_to_many\").drop(\n",
    "    columns=\"country_code\"\n",
    ")\n",
    "population_norm.set_index([\"country\", \"year\"], inplace=True)\n",
    "\n",
    "t = Table(population_norm)\n",
    "t.metadata.short_name = \"population\"\n",
    "ds.add(t)"
   ]
  },
  {
   "cell_type": "markdown",
   "metadata": {},
   "source": [
    "## Cleanup"
   ]
  },
  {
   "cell_type": "code",
   "execution_count": null,
   "metadata": {},
   "outputs": [],
   "source": [
    "shutil.rmtree(temp_dir)"
   ]
  },
  {
   "cell_type": "code",
   "execution_count": null,
   "id": "56f9635d",
   "metadata": {},
   "outputs": [],
   "source": []
  }
 ],
 "metadata": {
  "kernelspec": {
   "display_name": "Python 3.9.12 ('.venv': poetry)",
   "language": "python",
   "name": "python3"
  },
  "language_info": {
   "codemirror_mode": {
    "name": "ipython",
    "version": 3
   },
   "file_extension": ".py",
   "mimetype": "text/x-python",
   "name": "python",
   "nbconvert_exporter": "python",
   "pygments_lexer": "ipython3",
   "version": "3.9.12"
  },
  "vscode": {
   "interpreter": {
    "hash": "844e7496ece5f279b92e860ee31795b4810a8e6a6d9b1dd318e3a60c64167b55"
   }
  }
 },
 "nbformat": 4,
 "nbformat_minor": 5
}
