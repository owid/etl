{
 "cells": [
  {
   "cell_type": "markdown",
   "metadata": {},
   "source": [
    "# Hyde 3.2 baseline"
   ]
  },
  {
   "cell_type": "markdown",
   "metadata": {},
   "source": [
    "## Parameters"
   ]
  },
  {
   "cell_type": "code",
   "execution_count": 1,
   "metadata": {
    "tags": [
     "parameters"
    ]
   },
   "outputs": [],
   "source": [
    "dest_dir = \"/tmp/hyde_3_2_baseline\""
   ]
  },
  {
   "cell_type": "markdown",
   "metadata": {},
   "source": [
    "## Imports"
   ]
  },
  {
   "cell_type": "code",
   "execution_count": 2,
   "metadata": {},
   "outputs": [],
   "source": [
    "import zipfile\n",
    "import tempfile\n",
    "import shutil\n",
    "from pathlib import Path\n",
    "\n",
    "import pandas as pd\n",
    "\n",
    "from owid.catalog import Dataset, Table\n",
    "from etl.snapshot import Snapshot\n",
    "from etl.paths import DATA_DIR, SNAPSHOTS_DIR\n",
    "from etl.steps.data.converters import convert_snapshot_metadata"
   ]
  },
  {
   "cell_type": "markdown",
   "metadata": {},
   "source": [
    "## Get snapshot"
   ]
  },
  {
   "cell_type": "code",
   "execution_count": 3,
   "metadata": {},
   "outputs": [],
   "source": [
    "snap = Snapshot(SNAPSHOTS_DIR / \"hyde/2017/baseline.zip\")"
   ]
  },
  {
   "cell_type": "markdown",
   "metadata": {},
   "source": [
    "## Load country codes"
   ]
  },
  {
   "cell_type": "code",
   "execution_count": 4,
   "metadata": {},
   "outputs": [
    {
     "data": {
      "text/html": [
       "<div>\n",
       "<style scoped>\n",
       "    .dataframe tbody tr th:only-of-type {\n",
       "        vertical-align: middle;\n",
       "    }\n",
       "\n",
       "    .dataframe tbody tr th {\n",
       "        vertical-align: top;\n",
       "    }\n",
       "\n",
       "    .dataframe thead th {\n",
       "        text-align: right;\n",
       "    }\n",
       "</style>\n",
       "<table border=\"1\" class=\"dataframe\">\n",
       "  <thead>\n",
       "    <tr style=\"text-align: right;\">\n",
       "      <th></th>\n",
       "      <th>country</th>\n",
       "    </tr>\n",
       "    <tr>\n",
       "      <th>country_code</th>\n",
       "      <th></th>\n",
       "    </tr>\n",
       "  </thead>\n",
       "  <tbody>\n",
       "    <tr>\n",
       "      <th>4</th>\n",
       "      <td>Afghanistan</td>\n",
       "    </tr>\n",
       "    <tr>\n",
       "      <th>8</th>\n",
       "      <td>Albania</td>\n",
       "    </tr>\n",
       "    <tr>\n",
       "      <th>12</th>\n",
       "      <td>Algeria</td>\n",
       "    </tr>\n",
       "    <tr>\n",
       "      <th>16</th>\n",
       "      <td>American Samoa</td>\n",
       "    </tr>\n",
       "    <tr>\n",
       "      <th>20</th>\n",
       "      <td>Andorra</td>\n",
       "    </tr>\n",
       "    <tr>\n",
       "      <th>...</th>\n",
       "      <td>...</td>\n",
       "    </tr>\n",
       "    <tr>\n",
       "      <th>887</th>\n",
       "      <td>Yemen</td>\n",
       "    </tr>\n",
       "    <tr>\n",
       "      <th>891</th>\n",
       "      <td>Serbia and Montenegro</td>\n",
       "    </tr>\n",
       "    <tr>\n",
       "      <th>894</th>\n",
       "      <td>Zambia</td>\n",
       "    </tr>\n",
       "    <tr>\n",
       "      <th>499</th>\n",
       "      <td>Montenegro</td>\n",
       "    </tr>\n",
       "    <tr>\n",
       "      <th>688</th>\n",
       "      <td>Serbia</td>\n",
       "    </tr>\n",
       "  </tbody>\n",
       "</table>\n",
       "<p>236 rows × 1 columns</p>\n",
       "</div>"
      ],
      "text/plain": [
       "                            country\n",
       "country_code                       \n",
       "4                       Afghanistan\n",
       "8                           Albania\n",
       "12                          Algeria\n",
       "16                   American Samoa\n",
       "20                          Andorra\n",
       "...                             ...\n",
       "887                           Yemen\n",
       "891           Serbia and Montenegro\n",
       "894                          Zambia\n",
       "499                      Montenegro\n",
       "688                          Serbia\n",
       "\n",
       "[236 rows x 1 columns]"
      ]
     },
     "execution_count": 4,
     "metadata": {},
     "output_type": "execute_result"
    }
   ],
   "source": [
    "gf_path = (DATA_DIR / \"meadow\" / \"hyde\" / \"2017\" / \"general_files\").as_posix()\n",
    "codes = Dataset(gf_path)[\"country_codes\"]\n",
    "codes"
   ]
  },
  {
   "cell_type": "markdown",
   "metadata": {},
   "source": [
    "## Unzip to temp directory"
   ]
  },
  {
   "cell_type": "code",
   "execution_count": 5,
   "metadata": {},
   "outputs": [],
   "source": [
    "temp_dir = tempfile.mkdtemp()"
   ]
  },
  {
   "cell_type": "code",
   "execution_count": 6,
   "metadata": {},
   "outputs": [],
   "source": [
    "z = zipfile.ZipFile(snap.path)"
   ]
  },
  {
   "cell_type": "code",
   "execution_count": 7,
   "metadata": {},
   "outputs": [
    {
     "data": {
      "text/plain": [
       "['baseline/',\n",
       " 'baseline/txt/',\n",
       " 'baseline/txt/conv_rangeland_c.txt',\n",
       " 'baseline/txt/conv_rangeland_r.txt',\n",
       " 'baseline/txt/cropland_c.txt',\n",
       " 'baseline/txt/cropland_r.txt',\n",
       " 'baseline/txt/grazing_c.txt',\n",
       " 'baseline/txt/grazing_r.txt',\n",
       " 'baseline/txt/ir_norice_c.txt',\n",
       " 'baseline/txt/ir_norice_r.txt',\n",
       " 'baseline/txt/ir_rice_c.txt',\n",
       " 'baseline/txt/ir_rice_r.txt',\n",
       " 'baseline/txt/pasture_c.txt',\n",
       " 'baseline/txt/pasture_r.txt',\n",
       " 'baseline/txt/popc_c.txt',\n",
       " 'baseline/txt/popc_r.txt',\n",
       " 'baseline/txt/popd_c.txt',\n",
       " 'baseline/txt/popd_r.txt',\n",
       " 'baseline/txt/rangeland_c.txt',\n",
       " 'baseline/txt/rangeland_r.txt',\n",
       " 'baseline/txt/rf_norice_c.txt',\n",
       " 'baseline/txt/rf_norice_r.txt',\n",
       " 'baseline/txt/rf_rice_c.txt',\n",
       " 'baseline/txt/rf_rice_r.txt',\n",
       " 'baseline/txt/rurc_c.txt',\n",
       " 'baseline/txt/rurc_r.txt',\n",
       " 'baseline/txt/tot_irri_c.txt',\n",
       " 'baseline/txt/tot_irri_r.txt',\n",
       " 'baseline/txt/tot_rainfed_c.txt',\n",
       " 'baseline/txt/tot_rainfed_r.txt',\n",
       " 'baseline/txt/tot_rice_c.txt',\n",
       " 'baseline/txt/tot_rice_r.txt',\n",
       " 'baseline/txt/uopp_c.txt',\n",
       " 'baseline/txt/uopp_r.txt',\n",
       " 'baseline/txt/urbc_c.txt',\n",
       " 'baseline/txt/urbc_r.txt']"
      ]
     },
     "execution_count": 7,
     "metadata": {},
     "output_type": "execute_result"
    }
   ],
   "source": [
    "data_files = [f for f in z.namelist() if \"/png/\" not in f and \"/zip/\" not in f]\n",
    "data_files"
   ]
  },
  {
   "cell_type": "code",
   "execution_count": null,
   "metadata": {},
   "outputs": [],
   "source": [
    "z.extractall(temp_dir, members=data_files)"
   ]
  },
  {
   "cell_type": "code",
   "execution_count": null,
   "metadata": {},
   "outputs": [],
   "source": [
    "!ls {temp_dir}/baseline/txt"
   ]
  },
  {
   "cell_type": "markdown",
   "metadata": {},
   "source": [
    "## Make a dataset"
   ]
  },
  {
   "cell_type": "code",
   "execution_count": null,
   "metadata": {},
   "outputs": [],
   "source": [
    "ds = Dataset.create_empty(dest_dir)\n",
    "ds.metadata = convert_snapshot_metadata(snap.metadata)\n",
    "ds.save()"
   ]
  },
  {
   "cell_type": "markdown",
   "metadata": {},
   "source": [
    "## Add tables"
   ]
  },
  {
   "cell_type": "markdown",
   "metadata": {},
   "source": [
    "### Population"
   ]
  },
  {
   "cell_type": "code",
   "execution_count": null,
   "metadata": {},
   "outputs": [],
   "source": [
    "country_path = Path(temp_dir) / \"baseline\" / \"txt\" / \"popc_c.txt\"\n",
    "population = (\n",
    "    pd.read_csv(country_path.as_posix(), sep=\" \")\n",
    "    .rename({\"region\": \"country_code\"}, axis=1)\n",
    "    .melt(id_vars=\"country_code\", var_name=\"year\", value_name=\"population\")\n",
    ")\n",
    "population = population[-population.country_code.isin([\"Total\"])]\n",
    "population[\"year\"] = population.year.astype(int)\n",
    "population[\"country_code\"] = population.country_code.astype(int)\n",
    "\n",
    "population_norm = pd.merge(codes, population, on=\"country_code\", how=\"inner\", validate=\"one_to_many\").drop(\n",
    "    columns=\"country_code\"\n",
    ")\n",
    "population_norm.set_index([\"country\", \"year\"], inplace=True)\n",
    "\n",
    "t = Table(population_norm)\n",
    "t.metadata.short_name = \"population\"\n",
    "ds.add(t)"
   ]
  },
  {
   "cell_type": "markdown",
   "metadata": {},
   "source": [
    "## Cleanup"
   ]
  },
  {
   "cell_type": "code",
   "execution_count": null,
   "metadata": {},
   "outputs": [],
   "source": [
    "shutil.rmtree(temp_dir)"
   ]
  }
 ],
 "metadata": {
  "kernelspec": {
   "display_name": "Python 3.9.12 ('.venv': poetry)",
   "language": "python",
   "name": "python3"
  },
  "language_info": {
   "codemirror_mode": {
    "name": "ipython",
    "version": 3
   },
   "file_extension": ".py",
   "mimetype": "text/x-python",
   "name": "python",
   "nbconvert_exporter": "python",
   "pygments_lexer": "ipython3",
   "version": "3.9.14"
  },
  "vscode": {
   "interpreter": {
    "hash": "844e7496ece5f279b92e860ee31795b4810a8e6a6d9b1dd318e3a60c64167b55"
   }
  }
 },
 "nbformat": 4,
 "nbformat_minor": 5
}
