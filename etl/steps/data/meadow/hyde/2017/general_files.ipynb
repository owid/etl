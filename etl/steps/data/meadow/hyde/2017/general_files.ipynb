{
 "cells": [
  {
   "cell_type": "markdown",
   "id": "01ecf8ac-8e63-4405-b196-af18e8dc255c",
   "metadata": {},
   "source": [
    "# Hyde 3.2 (general files)"
   ]
  },
  {
   "cell_type": "markdown",
   "id": "4411711e-3875-40d6-9f86-9d0310771e0a",
   "metadata": {},
   "source": [
    "## Parameters"
   ]
  },
  {
   "cell_type": "code",
   "execution_count": 1,
   "id": "0cd20cdb-0d99-4bac-b8a4-92e16e3ffc4d",
   "metadata": {
    "tags": [
     "parameters"
    ]
   },
   "outputs": [],
   "source": [
    "dest_dir = \"/tmp/hyde_3_2_general_files\""
   ]
  },
  {
   "cell_type": "markdown",
   "id": "4ad3c287-9e44-4c1a-bfe7-3ce2d7979294",
   "metadata": {},
   "source": [
    "## Imports"
   ]
  },
  {
   "cell_type": "code",
   "execution_count": 31,
   "id": "ccec7937-9a8b-44c9-93f8-73455a0da33f",
   "metadata": {},
   "outputs": [],
   "source": [
    "from owid.walden import Catalog\n",
    "from owid.catalog import Dataset, Table\n",
    "from etl.steps.data.converters import convert_snapshot_metadata\n",
    "\n",
    "import pandas as pd\n",
    "from etl.snapshot import Snapshot\n",
    "from etl.paths import SNAPSHOTS_DIR\n",
    "\n",
    "import zipfile\n",
    "import tempfile\n",
    "from pathlib import Path\n",
    "import shutil"
   ]
  },
  {
   "cell_type": "markdown",
   "id": "47e15a74-375f-4973-880c-3bad86733454",
   "metadata": {},
   "source": [
    "## Get snapshot"
   ]
  },
  {
   "cell_type": "code",
   "execution_count": 3,
   "id": "65a2598f-dd9c-41e6-961e-d28ce6d959a9",
   "metadata": {},
   "outputs": [],
   "source": [
    "snap = Snapshot(SNAPSHOTS_DIR / \"hyde/2017/general_files.zip\")"
   ]
  },
  {
   "cell_type": "markdown",
   "id": "d03e70f9-60a3-46aa-9db7-9ca909757335",
   "metadata": {},
   "source": [
    "## Unzip"
   ]
  },
  {
   "cell_type": "code",
   "execution_count": 4,
   "id": "607e7dc6-d92d-485a-96b3-1fa5ace1da08",
   "metadata": {},
   "outputs": [],
   "source": [
    "temp_dir = tempfile.mkdtemp()"
   ]
  },
  {
   "cell_type": "code",
   "execution_count": 5,
   "id": "8175938b-16c5-42b3-a3c6-9d1a95bafb2a",
   "metadata": {},
   "outputs": [],
   "source": [
    "zipfile.ZipFile(snap.path).extractall(temp_dir)"
   ]
  },
  {
   "cell_type": "code",
   "execution_count": 7,
   "id": "113b1cf7-1ab2-496d-bbe3-7c3bff34c21e",
   "metadata": {},
   "outputs": [
    {
     "name": "stdout",
     "output_type": "stream",
     "text": [
      "HYDE_country_codes.xlsx im_reg_cr.asc           maxln_cr.asc\n",
      "forest_wwf_cr.asc       iso_cr.asc              sub_iso_cr.asc\n",
      "garea_cr.asc            landlake.asc\n"
     ]
    }
   ],
   "source": [
    "!ls {temp_dir}/general_files"
   ]
  },
  {
   "cell_type": "markdown",
   "id": "8d8fe62a-12e5-4ed3-9156-edeb00e5648b",
   "metadata": {},
   "source": [
    "## Make dataset"
   ]
  },
  {
   "cell_type": "code",
   "execution_count": 9,
   "id": "5ea507ac-b64c-4eaf-b181-2ebb25769cba",
   "metadata": {},
   "outputs": [],
   "source": [
    "ds = Dataset.create_empty(dest_dir)\n",
    "ds.metadata = convert_snapshot_metadata(snap.metadata)\n",
    "ds.save()"
   ]
  },
  {
   "cell_type": "code",
   "execution_count": 27,
   "id": "2406b848-8fbc-4818-8d9c-47a75a642aec",
   "metadata": {},
   "outputs": [],
   "source": [
    "code_path = Path(temp_dir) / \"general_files\" / \"HYDE_country_codes.xlsx\"\n",
    "\n",
    "codes = pd.read_excel(code_path.as_posix(), sheet_name=\"country\", usecols=\"A:B\").rename(\n",
    "    columns={\"ISO-CODE\": \"country_code\", \"Country\": \"country\"}\n",
    ")\n",
    "codes[\"country\"] = codes[\"country\"].str.strip()\n",
    "codes = codes.drop_duplicates(subset=\"country_code\", keep=\"first\")\n",
    "codes.set_index(\"country_code\", inplace=True)"
   ]
  },
  {
   "cell_type": "code",
   "execution_count": 28,
   "id": "7419a0e8-c213-405d-b7d8-b40edeb491aa",
   "metadata": {},
   "outputs": [
    {
     "data": {
      "text/html": [
       "<div>\n",
       "<style scoped>\n",
       "    .dataframe tbody tr th:only-of-type {\n",
       "        vertical-align: middle;\n",
       "    }\n",
       "\n",
       "    .dataframe tbody tr th {\n",
       "        vertical-align: top;\n",
       "    }\n",
       "\n",
       "    .dataframe thead th {\n",
       "        text-align: right;\n",
       "    }\n",
       "</style>\n",
       "<table border=\"1\" class=\"dataframe\">\n",
       "  <thead>\n",
       "    <tr style=\"text-align: right;\">\n",
       "      <th></th>\n",
       "      <th>country</th>\n",
       "    </tr>\n",
       "    <tr>\n",
       "      <th>country_code</th>\n",
       "      <th></th>\n",
       "    </tr>\n",
       "  </thead>\n",
       "  <tbody>\n",
       "    <tr>\n",
       "      <th>4</th>\n",
       "      <td>Afghanistan</td>\n",
       "    </tr>\n",
       "    <tr>\n",
       "      <th>8</th>\n",
       "      <td>Albania</td>\n",
       "    </tr>\n",
       "    <tr>\n",
       "      <th>12</th>\n",
       "      <td>Algeria</td>\n",
       "    </tr>\n",
       "    <tr>\n",
       "      <th>16</th>\n",
       "      <td>American Samoa</td>\n",
       "    </tr>\n",
       "    <tr>\n",
       "      <th>20</th>\n",
       "      <td>Andorra</td>\n",
       "    </tr>\n",
       "  </tbody>\n",
       "</table>\n",
       "</div>"
      ],
      "text/plain": [
       "                     country\n",
       "country_code                \n",
       "4                Afghanistan\n",
       "8                    Albania\n",
       "12                   Algeria\n",
       "16            American Samoa\n",
       "20                   Andorra"
      ]
     },
     "execution_count": 28,
     "metadata": {},
     "output_type": "execute_result"
    }
   ],
   "source": [
    "codes.head()"
   ]
  },
  {
   "cell_type": "code",
   "execution_count": 29,
   "id": "d7a2b3fa-1f0e-43d6-b890-976c926ec008",
   "metadata": {},
   "outputs": [],
   "source": [
    "t = Table(codes)\n",
    "t.metadata.short_name = \"country_codes\"\n",
    "t.metadata.name = \"Hyde 3.2 Country Codes\"\n",
    "ds.add(t)"
   ]
  },
  {
   "cell_type": "markdown",
   "id": "1f38c065-0a11-4f99-9a70-fc67c269681c",
   "metadata": {},
   "source": [
    "## Cleanup"
   ]
  },
  {
   "cell_type": "code",
   "execution_count": 32,
   "id": "e3d46d7f-f608-4314-8f71-f54e547c4258",
   "metadata": {},
   "outputs": [],
   "source": [
    "shutil.rmtree(temp_dir)"
   ]
  }
 ],
 "metadata": {
  "kernelspec": {
   "display_name": "etl",
   "language": "python",
   "name": "etl"
  },
  "language_info": {
   "codemirror_mode": {
    "name": "ipython",
    "version": 3
   },
   "file_extension": ".py",
   "mimetype": "text/x-python",
   "name": "python",
   "nbconvert_exporter": "python",
   "pygments_lexer": "ipython3",
   "version": "3.9.14"
  }
 },
 "nbformat": 4,
 "nbformat_minor": 5
}
