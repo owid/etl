{
 "cells": [
  {
   "cell_type": "markdown",
   "id": "6d5acae7",
   "metadata": {},
   "source": [
    "# FAOstat: Crops and livestock products\n",
    "[_Source data_](https://www.fao.org/faostat/en/#data)"
   ]
  },
  {
   "cell_type": "markdown",
   "id": "70df5526",
   "metadata": {},
   "source": [
    "## Parameters"
   ]
  },
  {
   "cell_type": "code",
   "execution_count": null,
   "id": "ec98d59c",
   "metadata": {
    "tags": [
     "parameters"
    ]
   },
   "outputs": [],
   "source": [
    "dest_dir = \"/tmp/faostat_qcl\""
   ]
  },
  {
   "cell_type": "markdown",
   "id": "06687052",
   "metadata": {},
   "source": [
    "## Imports"
   ]
  },
  {
   "cell_type": "code",
   "execution_count": null,
   "id": "46b26d81",
   "metadata": {},
   "outputs": [],
   "source": [
    "import zipfile\n",
    "import tempfile\n",
    "import shutil\n",
    "from pathlib import Path\n",
    "import os\n",
    "\n",
    "import requests\n",
    "import pandas as pd\n",
    "\n",
    "from owid.catalog import Dataset, Table, frames\n",
    "from owid.walden import Catalog\n",
    "from etl.paths import DATA_DIR\n",
    "from etl.steps.data.converters import convert_walden_metadata"
   ]
  },
  {
   "cell_type": "markdown",
   "id": "be20e93e",
   "metadata": {},
   "source": [
    "## Fetch walden dataset"
   ]
  },
  {
   "cell_type": "code",
   "execution_count": null,
   "id": "efbb8f90",
   "metadata": {},
   "outputs": [],
   "source": [
    "walden_ds = Catalog().find_one(\"faostat\", \"2021-03-18\", \"faostat_QCL\")"
   ]
  },
  {
   "cell_type": "code",
   "execution_count": null,
   "id": "b0d8c354",
   "metadata": {},
   "outputs": [],
   "source": [
    "walden_ds"
   ]
  },
  {
   "cell_type": "markdown",
   "id": "bb39b27c-2f49-4ba8-93a3-fef32da3c21f",
   "metadata": {},
   "source": [
    "## Make a dataset"
   ]
  },
  {
   "cell_type": "code",
   "execution_count": null,
   "id": "cb82ba2d-d979-4d9b-a75c-60933c0200e5",
   "metadata": {},
   "outputs": [],
   "source": [
    "ds = Dataset.create_empty(dest_dir)\n",
    "ds.metadata = convert_walden_metadata(walden_ds)\n",
    "ds.metadata.short_name = \"faostat_qcl\"\n",
    "ds.save()"
   ]
  },
  {
   "cell_type": "code",
   "execution_count": null,
   "id": "b0673ef5-f156-40fa-8f95-6f07fd2beda7",
   "metadata": {},
   "outputs": [],
   "source": [
    "ds"
   ]
  },
  {
   "cell_type": "markdown",
   "id": "89cef48b",
   "metadata": {},
   "source": [
    "## Unzip to temp directory"
   ]
  },
  {
   "cell_type": "code",
   "execution_count": null,
   "id": "acf856cf",
   "metadata": {},
   "outputs": [],
   "source": [
    "tmp_dir = tempfile.mkdtemp()"
   ]
  },
  {
   "cell_type": "code",
   "execution_count": null,
   "id": "22addbd7",
   "metadata": {},
   "outputs": [],
   "source": [
    "z = zipfile.ZipFile(walden_ds.local_path)\n",
    "z.extractall(tmp_dir)\n",
    "# print(os.listdir(tmp_dir))\n",
    "(filename,) = list(filter(lambda x: \"(Normalized)\" in x, os.listdir(tmp_dir)))\n",
    "filename"
   ]
  },
  {
   "cell_type": "markdown",
   "id": "ad35b28a",
   "metadata": {},
   "source": [
    "## Load dataset\n",
    "### Data file"
   ]
  },
  {
   "cell_type": "code",
   "execution_count": null,
   "id": "242e2d84",
   "metadata": {},
   "outputs": [],
   "source": [
    "df = pd.read_csv(os.path.join(tmp_dir, filename), encoding=\"latin-1\")"
   ]
  },
  {
   "cell_type": "code",
   "execution_count": null,
   "id": "eaca5a43",
   "metadata": {},
   "outputs": [],
   "source": [
    "df.head()"
   ]
  },
  {
   "cell_type": "markdown",
   "id": "66a7e97c",
   "metadata": {
    "tags": []
   },
   "source": [
    "## Clean dataset"
   ]
  },
  {
   "cell_type": "markdown",
   "id": "cf11713f",
   "metadata": {},
   "source": [
    "### Sanity checks"
   ]
  },
  {
   "cell_type": "code",
   "execution_count": null,
   "id": "ac7e3f10",
   "metadata": {},
   "outputs": [],
   "source": [
    "# Check nulls\n",
    "df.isnull().any()"
   ]
  },
  {
   "cell_type": "code",
   "execution_count": null,
   "id": "57865d6f",
   "metadata": {},
   "outputs": [],
   "source": [
    "# def check_unique_pairs(df, name_1, name_2):\n",
    "#     if not (\n",
    "#         (df.groupby(name_1)[name_2].nunique() != 1).any()\n",
    "#         and (df.groupby(name_2)[name_1].nunique() != 1).any()\n",
    "#     ):\n",
    "#         raise ValueError(\n",
    "#             f\"Some `{name_1}` may have multiple `{name_2}` values (or opposite).\"\n",
    "#         )\n",
    "\n",
    "\n",
    "# fields = [\"Item\", Element\"]\n",
    "# for field in fields:\n",
    "#     check_unique_pairs(df, field, f\"{field} Code\")"
   ]
  },
  {
   "cell_type": "code",
   "execution_count": null,
   "id": "01ecf866-2087-45e0-8818-2e92082dc415",
   "metadata": {},
   "outputs": [],
   "source": [
    "x = df.groupby([\"Element\", \"Unit\"])[\"Element Code\"].nunique()\n",
    "if (x > 1).any():\n",
    "    raise ValueError(f\"Element-Unit not unique!\")"
   ]
  },
  {
   "cell_type": "markdown",
   "id": "ce30eff0-39f4-4f8d-a0fc-dc36cc80542b",
   "metadata": {},
   "source": [
    "### Drop columns and set Index"
   ]
  },
  {
   "cell_type": "code",
   "execution_count": null,
   "id": "b6c1bf43-a547-407b-b7d5-4de7ed907b3c",
   "metadata": {},
   "outputs": [],
   "source": [
    "df.drop(columns=[\"Area\", \"Item\", \"Element\", \"Year Code\"], inplace=True)"
   ]
  },
  {
   "cell_type": "code",
   "execution_count": null,
   "id": "c7efd5d6",
   "metadata": {},
   "outputs": [],
   "source": [
    "df.set_index(\n",
    "    [\"Area Code\", \"Item Code\", \"Element Code\", \"Year\", \"Flag\"],\n",
    "    inplace=True,\n",
    "    verify_integrity=True,\n",
    ")"
   ]
  },
  {
   "cell_type": "code",
   "execution_count": null,
   "id": "abecfd5e-ad92-4788-ae55-3678e9041ed7",
   "metadata": {},
   "outputs": [],
   "source": [
    "df.head()"
   ]
  },
  {
   "cell_type": "markdown",
   "id": "0f73301c",
   "metadata": {},
   "source": [
    "## Add tables"
   ]
  },
  {
   "cell_type": "code",
   "execution_count": null,
   "id": "48d148f5",
   "metadata": {},
   "outputs": [],
   "source": [
    "from owid.catalog import utils\n",
    "\n",
    "t = Table(df)\n",
    "t.metadata.short_name = \"bulk\"\n",
    "ds.add(utils.underscore_table(t))"
   ]
  },
  {
   "cell_type": "markdown",
   "id": "f9b2b333",
   "metadata": {},
   "source": [
    "## Cleanup"
   ]
  },
  {
   "cell_type": "code",
   "execution_count": null,
   "id": "4807d2b5",
   "metadata": {},
   "outputs": [],
   "source": [
    "shutil.rmtree(tmp_dir)"
   ]
  }
 ],
 "metadata": {
  "kernelspec": {
   "display_name": "Python 3 (ipykernel)",
   "language": "python",
   "name": "python3"
  },
  "language_info": {
   "codemirror_mode": {
    "name": "ipython",
    "version": 3
   },
   "file_extension": ".py",
   "mimetype": "text/x-python",
   "name": "python",
   "nbconvert_exporter": "python",
   "pygments_lexer": "ipython3",
   "version": "3.9.10"
  }
 },
 "nbformat": 4,
 "nbformat_minor": 5
}
