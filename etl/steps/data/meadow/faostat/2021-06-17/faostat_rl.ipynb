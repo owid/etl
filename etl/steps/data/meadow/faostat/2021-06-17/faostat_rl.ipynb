{
 "cells": [
  {
   "cell_type": "code",
   "execution_count": null,
   "id": "a57a0356-22c6-4eb5-a93b-631bd2cc8d3d",
   "metadata": {
    "tags": [
     "parameters"
    ]
   },
   "outputs": [],
   "source": [
    "dest_dir = \"/tmp/faostat_rl\""
   ]
  },
  {
   "cell_type": "code",
   "execution_count": null,
   "id": "1c12ad82-b3c6-4d2e-81e6-8e8fe39cd8e8",
   "metadata": {},
   "outputs": [],
   "source": [
    "from owid.catalog import Dataset, Table\n",
    "from owid import walden\n",
    "from etl.steps.data.converters import convert_walden_metadata"
   ]
  },
  {
   "cell_type": "code",
   "execution_count": null,
   "id": "9ba14f2d-ff77-4574-a95b-2642eebbd3c5",
   "metadata": {},
   "outputs": [],
   "source": []
  },
  {
   "cell_type": "code",
   "execution_count": null,
   "id": "8878cbc7-c059-49e8-8e57-3a09bf38deea",
   "metadata": {},
   "outputs": [],
   "source": [
    "ds = Dataset.create_empty(dest_dir)"
   ]
  },
  {
   "cell_type": "code",
   "execution_count": null,
   "id": "5879f40a-0893-4c3e-aee5-4f519700f012",
   "metadata": {},
   "outputs": [],
   "source": [
    "cat = walden.Catalog()"
   ]
  },
  {
   "cell_type": "code",
   "execution_count": null,
   "id": "5e5bbd88-30a0-47f3-9427-e6a438058add",
   "metadata": {},
   "outputs": [],
   "source": [
    "walden_ds = cat.find_one(short_name=\"faostat_rl\")\n",
    "walden_ds"
   ]
  },
  {
   "cell_type": "code",
   "execution_count": null,
   "id": "82395a18-d24b-4394-a3aa-2fe87e8ca334",
   "metadata": {},
   "outputs": [],
   "source": [
    "ds.metadata = convert_walden_metadata(walden_ds)\n",
    "ds.save()"
   ]
  },
  {
   "cell_type": "code",
   "execution_count": null,
   "id": "65894103-7532-4355-a872-3157104a9bd9",
   "metadata": {},
   "outputs": [],
   "source": [
    "walden_ds.local_path"
   ]
  },
  {
   "cell_type": "code",
   "execution_count": null,
   "id": "b3a02c32-cded-4bba-9639-4bb9965f94e8",
   "metadata": {},
   "outputs": [],
   "source": [
    "import tempfile"
   ]
  },
  {
   "cell_type": "code",
   "execution_count": null,
   "id": "68130c84-4600-48b7-a8e8-893cddf049c9",
   "metadata": {},
   "outputs": [],
   "source": [
    "dir = tempfile.mkdtemp()\n",
    "dir"
   ]
  },
  {
   "cell_type": "code",
   "execution_count": null,
   "id": "aac9c49b-cbd0-4f36-9210-1a5d52762a4e",
   "metadata": {},
   "outputs": [],
   "source": [
    "import zipfile"
   ]
  },
  {
   "cell_type": "code",
   "execution_count": null,
   "id": "1a9fd848-b3a5-4c52-887c-1bc495c9b53c",
   "metadata": {},
   "outputs": [],
   "source": [
    "zf = zipfile.ZipFile(walden_ds.local_path)\n",
    "zf.extractall(dir)\n",
    "!ls {dir}"
   ]
  },
  {
   "cell_type": "code",
   "execution_count": null,
   "id": "07ab326b-bce6-44d9-9335-4fd86ef4fb8c",
   "metadata": {},
   "outputs": [],
   "source": [
    "import pandas as pd\n",
    "import os"
   ]
  },
  {
   "cell_type": "code",
   "execution_count": null,
   "id": "53245b1b-1086-4658-a12a-7b921cba0cdd",
   "metadata": {},
   "outputs": [],
   "source": [
    "df = pd.read_csv(\n",
    "    os.path.join(dir, \"Inputs_LandUse_E_All_Data_(Normalized).csv\"), encoding=\"latin1\"\n",
    ")"
   ]
  },
  {
   "cell_type": "code",
   "execution_count": null,
   "id": "29000d05-60f8-4cf1-918c-f0118cb979a0",
   "metadata": {},
   "outputs": [],
   "source": [
    "df.head()"
   ]
  },
  {
   "cell_type": "code",
   "execution_count": null,
   "id": "7f8b0499-0b7c-400d-bccf-72cd9ba794be",
   "metadata": {},
   "outputs": [],
   "source": [
    "df.set_index([\"Area\", \"Item\", \"Element\", \"Year\"], inplace=True, verify_integrity=True)"
   ]
  },
  {
   "cell_type": "code",
   "execution_count": null,
   "id": "c96d30ba-ff85-42c5-95af-94a537edc828",
   "metadata": {},
   "outputs": [],
   "source": [
    "df.head()"
   ]
  },
  {
   "cell_type": "code",
   "execution_count": null,
   "id": "b645188b-4380-4a69-98df-74032ab0fc7f",
   "metadata": {},
   "outputs": [],
   "source": [
    "df.drop(columns=[\"Area Code\", \"Item Code\", \"Element Code\", \"Year Code\"], inplace=True)"
   ]
  },
  {
   "cell_type": "code",
   "execution_count": null,
   "id": "5d4f8b70-c477-4a03-9823-a34a4b54396c",
   "metadata": {},
   "outputs": [],
   "source": [
    "df.head()"
   ]
  },
  {
   "cell_type": "code",
   "execution_count": null,
   "id": "a62cbca8-ff89-4c98-b554-b8547b1267cd",
   "metadata": {},
   "outputs": [],
   "source": [
    "t = Table(df)"
   ]
  },
  {
   "cell_type": "code",
   "execution_count": null,
   "id": "a7c7ab62-6f48-4e8c-abf4-67a8b19acbae",
   "metadata": {},
   "outputs": [],
   "source": [
    "t.head()"
   ]
  },
  {
   "cell_type": "code",
   "execution_count": null,
   "id": "84b3d668-a68f-48b6-9cc0-13f39b0f5b72",
   "metadata": {},
   "outputs": [],
   "source": [
    "t.metadata"
   ]
  },
  {
   "cell_type": "code",
   "execution_count": null,
   "id": "84c1a5d6-360e-4ddd-9911-d5ca46375d14",
   "metadata": {},
   "outputs": [],
   "source": [
    "from owid.catalog import utils\n",
    "\n",
    "t.metadata.short_name = \"land_use\"\n",
    "t = utils.underscore_table(t)"
   ]
  },
  {
   "cell_type": "code",
   "execution_count": null,
   "id": "fe015fa8-8ad9-4122-993e-f9995aaa4a2a",
   "metadata": {},
   "outputs": [],
   "source": [
    "ds.add(t)"
   ]
  },
  {
   "cell_type": "code",
   "execution_count": null,
   "id": "1b16b15d-40ad-40be-9066-b74a8584453a",
   "metadata": {},
   "outputs": [],
   "source": []
  },
  {
   "cell_type": "code",
   "execution_count": null,
   "id": "19519780",
   "metadata": {},
   "outputs": [],
   "source": []
  }
 ],
 "metadata": {
  "kernelspec": {
   "display_name": "Python 3 (ipykernel)",
   "language": "python",
   "name": "python3"
  },
  "language_info": {
   "codemirror_mode": {
    "name": "ipython",
    "version": 3
   },
   "file_extension": ".py",
   "mimetype": "text/x-python",
   "name": "python",
   "nbconvert_exporter": "python",
   "pygments_lexer": "ipython3",
   "version": "3.9.10"
  }
 },
 "nbformat": 4,
 "nbformat_minor": 5
}
