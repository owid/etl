{
 "cells": [
  {
   "cell_type": "markdown",
   "id": "35143822-5991-4512-bfe8-b773dc97780e",
   "metadata": {},
   "source": [
    "# FAO metadata"
   ]
  },
  {
   "cell_type": "markdown",
   "id": "a33533db-35e5-4b09-b91b-e68e71f67da6",
   "metadata": {},
   "source": [
    "Several FAO datasets need identifiers that come from the FAO API. Here we reconstruct them from a snapshot."
   ]
  },
  {
   "cell_type": "markdown",
   "id": "788b6d50-329a-4d2a-82f7-dc24cd55131a",
   "metadata": {},
   "source": [
    "## Libraries"
   ]
  },
  {
   "cell_type": "code",
   "execution_count": 1,
   "id": "d0b2ac5e-1776-4373-a502-8d3cc11bc779",
   "metadata": {},
   "outputs": [],
   "source": [
    "from owid.walden import Catalog\n",
    "from owid.catalog import Dataset, Table\n",
    "from etl.steps.data.converters import convert_walden_metadata\n",
    "import json\n",
    "import pandas as pd"
   ]
  },
  {
   "cell_type": "markdown",
   "id": "2db31492-87c6-40c1-9817-22500588ea47",
   "metadata": {},
   "source": [
    "## Parameters"
   ]
  },
  {
   "cell_type": "code",
   "execution_count": 2,
   "id": "c171446e-69d6-40d0-a4da-2fadc5189df9",
   "metadata": {
    "tags": [
     "parameters"
    ]
   },
   "outputs": [],
   "source": [
    "dest_dir = \"/tmp/faostat_metadata\""
   ]
  },
  {
   "cell_type": "markdown",
   "id": "0302adef-8046-444a-8a3d-f2c31f47f598",
   "metadata": {},
   "source": [
    "## Fetch the data from Walden"
   ]
  },
  {
   "cell_type": "code",
   "execution_count": 3,
   "id": "cfc88218-f877-4fd0-bfa2-7ccb8db2759f",
   "metadata": {},
   "outputs": [],
   "source": [
    "walden_ds = Catalog().find_one(short_name=\"faostat_metadata\", version=\"2022-02-10\")"
   ]
  },
  {
   "cell_type": "code",
   "execution_count": 4,
   "id": "41b2b594-72c9-4f62-9425-ae8311c1f311",
   "metadata": {},
   "outputs": [
    {
     "data": {
      "text/plain": [
       "Dataset(namespace='faostat', short_name='faostat_metadata', name='Metadata and identifiers - FAO (2022)', description='Metadata and identifiers used in FAO datasets', source_name='Food and Agriculture Organization of the United Nations', url='http://www.fao.org/faostat/en/#data', date_accessed='2022-02-10', file_extension='json', license_url='http://www.fao.org/contact-us/terms/db-terms-of-use/en', source_data_url='https://gist.githubusercontent.com/larsyencken/b872ac59e9f36800c270af0be48b909b/raw/cfa9204bdc1f42b6d0e099cd5a2a86a38ce29634/fao_metadata.json', md5='3d8882f43ed9f3854381979a40c43f52', publication_year=2022, publication_date='2022-02-10', owid_data_url='https://walden.nyc3.digitaloceanspaces.com/faostat/2022-02-10/fao_metadata.json', license_name='CC BY-NC-SA 3.0 IGO', access_notes=None, is_public=True)"
      ]
     },
     "execution_count": 4,
     "metadata": {},
     "output_type": "execute_result"
    }
   ],
   "source": [
    "walden_ds"
   ]
  },
  {
   "cell_type": "code",
   "execution_count": 5,
   "id": "753b0ea0-c9fe-4783-8d0f-6a9d1ac74311",
   "metadata": {},
   "outputs": [],
   "source": [
    "local_file = walden_ds.ensure_downloaded()"
   ]
  },
  {
   "cell_type": "code",
   "execution_count": 6,
   "id": "8126a608-ad46-48fa-8758-86850ea898b4",
   "metadata": {},
   "outputs": [
    {
     "data": {
      "text/plain": [
       "'/Users/mojmir/.owid/walden/faostat/2022-02-10/faostat_metadata.json'"
      ]
     },
     "execution_count": 6,
     "metadata": {},
     "output_type": "execute_result"
    }
   ],
   "source": [
    "local_file"
   ]
  },
  {
   "cell_type": "markdown",
   "id": "a658743b-11db-4dd0-8aca-0f1b8a969dbf",
   "metadata": {},
   "source": [
    "## Load and restructure"
   ]
  },
  {
   "cell_type": "code",
   "execution_count": 7,
   "id": "aca913b4-ad10-43e8-bff4-31ea5af33d1a",
   "metadata": {},
   "outputs": [],
   "source": [
    "with open(local_file) as istream:\n",
    "    all_metadata = json.load(istream)"
   ]
  },
  {
   "cell_type": "code",
   "execution_count": 8,
   "id": "5334a89d-0cab-4bac-8bde-03d704be49d9",
   "metadata": {},
   "outputs": [],
   "source": [
    "data_paths = [\n",
    "    {\n",
    "        \"category\": \"itemgroup\",\n",
    "        \"index\": [\"Item Group Code\", \"Item Code\"],\n",
    "        \"short_name\": \"item\",\n",
    "    },\n",
    "    {\n",
    "        \"category\": \"area\",\n",
    "        \"index\": [\"Country Code\"],\n",
    "        \"short_name\": \"area\",\n",
    "    },\n",
    "    {\n",
    "        \"category\": \"element\",\n",
    "        \"index\": [\"Element Code\"],\n",
    "        \"short_name\": \"element\",\n",
    "    },\n",
    "    {\n",
    "        \"category\": \"unit\",\n",
    "        \"index\": [\"Unit Name\"],\n",
    "        \"short_name\": \"unit\",\n",
    "    },\n",
    "]"
   ]
  },
  {
   "cell_type": "code",
   "execution_count": 9,
   "id": "b1b2e353-3c97-4ca4-b494-4062a906f2df",
   "metadata": {},
   "outputs": [],
   "source": [
    "ds = Dataset.create_empty(dest_dir)"
   ]
  },
  {
   "cell_type": "code",
   "execution_count": 10,
   "id": "cd7acd0c-0661-4881-9d54-fbffca1d7a70",
   "metadata": {},
   "outputs": [],
   "source": [
    "ds.metadata = convert_walden_metadata(walden_ds)"
   ]
  },
  {
   "cell_type": "code",
   "execution_count": 21,
   "id": "7660cb62-2b64-44d6-87ed-3ba13f142062",
   "metadata": {},
   "outputs": [
    {
     "name": "stdout",
     "output_type": "stream",
     "text": [
      "FBS\n",
      "   item\n",
      "   area\n",
      "   element\n",
      "   unit\n",
      "FBSH\n",
      "   item\n",
      "   area\n",
      "   element\n",
      "   unit\n",
      "QCL\n",
      "   item\n",
      "   area\n",
      "   element\n",
      "   unit\n"
     ]
    }
   ],
   "source": [
    "from owid.catalog import utils\n",
    "\n",
    "for domain in all_metadata:\n",
    "    print(domain)\n",
    "    domain_meta = all_metadata[domain]\n",
    "    for record in data_paths:\n",
    "        print(\"  \", record[\"short_name\"])\n",
    "\n",
    "        # annoying workaround for QCL using \"itemsgroup\" instead of \"itemgroup\"\n",
    "        if domain == \"QCL\" and record[\"short_name\"] == \"item\":\n",
    "            category = \"itemsgroup\"\n",
    "        else:\n",
    "            category = record[\"category\"]\n",
    "\n",
    "        json_data = domain_meta[category][\"data\"]\n",
    "        df = pd.DataFrame.from_dict(json_data)\n",
    "        df.set_index(record[\"index\"], verify_integrity=True, inplace=True)\n",
    "        t = Table(df)\n",
    "        t.metadata.short_name = f'meta_{domain.lower()}_{record[\"short_name\"]}'\n",
    "\n",
    "        ds.add(utils.underscore_table(t))"
   ]
  }
 ],
 "metadata": {
  "kernelspec": {
   "display_name": "Python 3 (ipykernel)",
   "language": "python",
   "name": "python3"
  },
  "language_info": {
   "codemirror_mode": {
    "name": "ipython",
    "version": 3
   },
   "file_extension": ".py",
   "mimetype": "text/x-python",
   "name": "python",
   "nbconvert_exporter": "python",
   "pygments_lexer": "ipython3",
   "version": "3.9.10"
  }
 },
 "nbformat": 4,
 "nbformat_minor": 5
}
