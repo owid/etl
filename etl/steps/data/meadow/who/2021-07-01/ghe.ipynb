{
 "cells": [
  {
   "cell_type": "markdown",
   "id": "e7f135ee",
   "metadata": {},
   "source": [
    "# WHO GHE (2021-07-01)"
   ]
  },
  {
   "cell_type": "code",
   "execution_count": 1,
   "id": "e1a4166d",
   "metadata": {
    "tags": [
     "parameters"
    ]
   },
   "outputs": [],
   "source": [
    "dest_dir = \"/tmp/ghe_20210701\""
   ]
  },
  {
   "cell_type": "code",
   "execution_count": 2,
   "id": "7ab58635",
   "metadata": {},
   "outputs": [],
   "source": [
    "from owid import walden, catalog  # type: ignore\n",
    "import tempfile\n",
    "from zipfile import ZipFile\n",
    "import os\n",
    "import pandas as pd\n",
    "\n",
    "from etl.steps.data.converters import convert_walden_metadata"
   ]
  },
  {
   "cell_type": "markdown",
   "id": "7287a20d",
   "metadata": {},
   "source": [
    "## 1. Locate the dataset in Walden"
   ]
  },
  {
   "cell_type": "code",
   "execution_count": 3,
   "id": "ec7c7d7c",
   "metadata": {},
   "outputs": [],
   "source": [
    "raw_dataset = walden.Catalog().find_one(\"who\", \"2021-07-01\", \"ghe\")"
   ]
  },
  {
   "cell_type": "code",
   "execution_count": 4,
   "id": "2e6fb3ec",
   "metadata": {},
   "outputs": [
    {
     "data": {
      "text/plain": [
       "Dataset(namespace='who', short_name='ghe', name='Global Health Estimates', description='WHO’s Global Health Estimates (GHE) provide the latest available data on death and disability globally, by region and country, and by age, sex and cause. The latest updates include global, regional and country trends from 2000 to 2019 inclusive. By providing key insights on mortality and morbidity trends, these estimates are a powerful tool to support informed decision-making on health policy and resource allocation.', source_name='World Health Organisation', url='https://www.who.int/data/global-health-estimates', file_extension='zip', date_accessed='2021-09-08', source_data_url=None, license_url='https://www.who.int/about/policies/publishing/data-policy/terms-and-conditions', license_name=None, access_notes='Fetched via API using this notebook: https://gist.github.com/spoonerf/9646dce7452583472dc2ac8ddf210835', is_public=True, version='2021-07-01', publication_year=2021, publication_date='2021-07-01', origin_md5=None, owid_data_url='https://nyc3.digitaloceanspaces.com/walden/who/2021-07-01/ghe.zip', md5='8339082dc1ae9a17275ad51969ebb7a2')"
      ]
     },
     "execution_count": 4,
     "metadata": {},
     "output_type": "execute_result"
    }
   ],
   "source": [
    "raw_dataset"
   ]
  },
  {
   "cell_type": "markdown",
   "id": "747faba4",
   "metadata": {},
   "source": [
    "## 2. Extract the zip file to a temporary directory"
   ]
  },
  {
   "cell_type": "code",
   "execution_count": 5,
   "id": "e4cd6e3f",
   "metadata": {},
   "outputs": [
    {
     "data": {
      "text/plain": [
       "'/var/folders/rz/kpg1phc51j5czjqsdmq8fttc0000gn/T/tmpxfz56ng0'"
      ]
     },
     "execution_count": 5,
     "metadata": {},
     "output_type": "execute_result"
    }
   ],
   "source": [
    "with tempfile.TemporaryDirectory() as dirname:\n",
    "    pass\n",
    "\n",
    "os.mkdir(dirname)\n",
    "dirname"
   ]
  },
  {
   "cell_type": "code",
   "execution_count": 6,
   "id": "7dbedc2a",
   "metadata": {},
   "outputs": [],
   "source": [
    "ZipFile(raw_dataset.local_path).extractall(dirname)"
   ]
  },
  {
   "cell_type": "code",
   "execution_count": null,
   "id": "8e45c36c",
   "metadata": {},
   "outputs": [],
   "source": [
    "dirname"
   ]
  },
  {
   "cell_type": "code",
   "execution_count": null,
   "id": "d3f4df65",
   "metadata": {},
   "outputs": [],
   "source": [
    "csv_file = os.path.join(dirname, \"who_ghe\", \"_all_countries.csv\")"
   ]
  },
  {
   "cell_type": "markdown",
   "id": "b4c3d7de",
   "metadata": {},
   "source": [
    "## 3. Load the data frame and prune excess columns"
   ]
  },
  {
   "cell_type": "code",
   "execution_count": null,
   "id": "c583209b",
   "metadata": {},
   "outputs": [],
   "source": [
    "df = pd.read_csv(csv_file)"
   ]
  },
  {
   "cell_type": "code",
   "execution_count": null,
   "id": "bacda0e1",
   "metadata": {},
   "outputs": [],
   "source": [
    "df.iloc[:1].T"
   ]
  },
  {
   "cell_type": "code",
   "execution_count": null,
   "id": "4843858a",
   "metadata": {},
   "outputs": [],
   "source": [
    "df.drop([\"Unnamed: 0\", \"Unnamed: 0.1\"], axis=1, inplace=True)"
   ]
  },
  {
   "cell_type": "code",
   "execution_count": null,
   "id": "203badb6",
   "metadata": {},
   "outputs": [],
   "source": [
    "df.drop([col for col in df.columns if col.startswith(\"Sys_\")], axis=1, inplace=True)"
   ]
  },
  {
   "cell_type": "code",
   "execution_count": null,
   "id": "8442c668",
   "metadata": {},
   "outputs": [],
   "source": [
    "df.drop([col for col in df.columns if col.startswith(\"FL_\")], axis=1, inplace=True)"
   ]
  },
  {
   "cell_type": "code",
   "execution_count": null,
   "id": "49e855aa",
   "metadata": {},
   "outputs": [],
   "source": [
    "df.columns = [col.lower() for col in df.columns]"
   ]
  },
  {
   "cell_type": "code",
   "execution_count": null,
   "id": "39ef6585",
   "metadata": {},
   "outputs": [],
   "source": [
    "df.drop(\"_recordid\", axis=1, inplace=True)"
   ]
  },
  {
   "cell_type": "code",
   "execution_count": null,
   "id": "724cab56",
   "metadata": {},
   "outputs": [],
   "source": [
    "df[\"country_code\"] = df[\"country_code\"].astype(\"category\")"
   ]
  },
  {
   "cell_type": "code",
   "execution_count": null,
   "id": "c9228f43",
   "metadata": {},
   "outputs": [],
   "source": [
    "df[\"ghe_cause_title\"] = df[\"ghe_cause_title\"].astype(\"category\")"
   ]
  },
  {
   "cell_type": "code",
   "execution_count": null,
   "id": "1a43937f",
   "metadata": {},
   "outputs": [],
   "source": [
    "df[\"sex_code\"] = df[\"sex_code\"].astype(\"category\")"
   ]
  },
  {
   "cell_type": "code",
   "execution_count": null,
   "id": "ae788cef",
   "metadata": {},
   "outputs": [],
   "source": [
    "df[\"agegroup_code\"] = df[\"agegroup_code\"].astype(\"category\")"
   ]
  },
  {
   "cell_type": "code",
   "execution_count": null,
   "id": "2ff5d002",
   "metadata": {},
   "outputs": [],
   "source": [
    "df.iloc[0]"
   ]
  },
  {
   "cell_type": "markdown",
   "id": "fd144049",
   "metadata": {},
   "source": [
    "## 4. Save as a dataset"
   ]
  },
  {
   "cell_type": "code",
   "execution_count": null,
   "id": "ff10ef47",
   "metadata": {},
   "outputs": [],
   "source": [
    "raw_dataset"
   ]
  },
  {
   "cell_type": "code",
   "execution_count": null,
   "id": "5bab8b82",
   "metadata": {},
   "outputs": [],
   "source": [
    "ds = catalog.Dataset.create_empty(dest_dir)\n",
    "ds.metadata = convert_walden_metadata(raw_dataset)\n",
    "ds.save()"
   ]
  },
  {
   "cell_type": "markdown",
   "id": "64d818e9",
   "metadata": {},
   "source": [
    "### Add cause codes"
   ]
  },
  {
   "cell_type": "code",
   "execution_count": null,
   "id": "52d2dcc3",
   "metadata": {},
   "outputs": [],
   "source": [
    "ghe_causes = df[[\"ghe_cause_code\", \"ghe_cause_title\"]].drop_duplicates().set_index(\"ghe_cause_code\")\n",
    "ghe_causes = catalog.Table(ghe_causes)"
   ]
  },
  {
   "cell_type": "code",
   "execution_count": null,
   "id": "8f143be1",
   "metadata": {},
   "outputs": [],
   "source": [
    "ghe_causes"
   ]
  },
  {
   "cell_type": "code",
   "execution_count": null,
   "id": "efbfa19f",
   "metadata": {},
   "outputs": [],
   "source": [
    "ghe_causes.metadata = catalog.TableMeta(\n",
    "    short_name=\"ghe_causes\",\n",
    "    title=\"GHE Cause Codes\",\n",
    "    description=\"Integer codes for common GHE causes and their human readable names\",\n",
    ")\n",
    "ds.add(ghe_causes)"
   ]
  },
  {
   "cell_type": "markdown",
   "id": "ba8096d8",
   "metadata": {},
   "source": [
    "### Add estimates"
   ]
  },
  {
   "cell_type": "code",
   "execution_count": null,
   "id": "42a83247",
   "metadata": {},
   "outputs": [],
   "source": [
    "df.drop(\"ghe_cause_code\", axis=1, inplace=True)"
   ]
  },
  {
   "cell_type": "code",
   "execution_count": null,
   "id": "9f7d4af7",
   "metadata": {},
   "outputs": [],
   "source": [
    "df.head()"
   ]
  },
  {
   "cell_type": "code",
   "execution_count": null,
   "id": "c64ea054",
   "metadata": {},
   "outputs": [],
   "source": [
    "estimates = catalog.Table(df)"
   ]
  },
  {
   "cell_type": "code",
   "execution_count": null,
   "id": "9f643501",
   "metadata": {},
   "outputs": [],
   "source": [
    "estimates.set_index(\n",
    "    [\"country_code\", \"year\", \"ghe_cause_title\", \"sex_code\", \"agegroup_code\"],\n",
    "    inplace=True,\n",
    ")"
   ]
  },
  {
   "cell_type": "code",
   "execution_count": null,
   "id": "7ddc24b1",
   "metadata": {},
   "outputs": [],
   "source": [
    "estimates.head()"
   ]
  },
  {
   "cell_type": "code",
   "execution_count": null,
   "id": "fc4f30ea",
   "metadata": {},
   "outputs": [],
   "source": [
    "estimates.metadata.short_name = \"estimates\"\n",
    "estimates.metadata.description = \"GHE estimated burden of disease\""
   ]
  },
  {
   "cell_type": "code",
   "execution_count": null,
   "id": "f236fa59",
   "metadata": {},
   "outputs": [],
   "source": [
    "ds.add(estimates)"
   ]
  },
  {
   "cell_type": "markdown",
   "id": "23f4d337",
   "metadata": {},
   "source": [
    "## Cleanup"
   ]
  },
  {
   "cell_type": "code",
   "execution_count": null,
   "id": "c145db1e",
   "metadata": {},
   "outputs": [],
   "source": [
    "import shutil"
   ]
  },
  {
   "cell_type": "code",
   "execution_count": null,
   "id": "d5f8a183",
   "metadata": {},
   "outputs": [],
   "source": [
    "shutil.rmtree(dirname)"
   ]
  }
 ],
 "metadata": {
  "kernelspec": {
   "display_name": "Python 3.9.1 ('.venv': poetry)",
   "language": "python",
   "name": "python3"
  },
  "language_info": {
   "codemirror_mode": {
    "name": "ipython",
    "version": 3
   },
   "file_extension": ".py",
   "mimetype": "text/x-python",
   "name": "python",
   "nbconvert_exporter": "python",
   "pygments_lexer": "ipython3",
   "version": "3.9.1"
  },
  "vscode": {
   "interpreter": {
    "hash": "a489023c87af25c24229d102de7e6f005ce880874ba479a7a4773483224b9ac3"
   }
  }
 },
 "nbformat": 4,
 "nbformat_minor": 5
}
