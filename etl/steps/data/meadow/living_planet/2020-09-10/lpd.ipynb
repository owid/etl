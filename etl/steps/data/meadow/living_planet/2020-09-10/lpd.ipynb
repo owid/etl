{
 "cells": [
  {
   "cell_type": "markdown",
   "id": "c06822f3-2a26-45ba-a088-767c332435ff",
   "metadata": {},
   "source": [
    "## Parameters"
   ]
  },
  {
   "cell_type": "code",
   "execution_count": 1,
   "id": "bff9b629-68f9-4399-8e45-f997861105e4",
   "metadata": {
    "tags": [
     "parameters"
    ]
   },
   "outputs": [],
   "source": [
    "dest_dir = \"/tmp/lpd_20210910\""
   ]
  },
  {
   "cell_type": "markdown",
   "id": "e533ddb5-0f2b-4ec9-b373-ea81911f5cd8",
   "metadata": {},
   "source": [
    "## Imports"
   ]
  },
  {
   "cell_type": "code",
   "execution_count": 2,
   "id": "af548366-12c4-4991-9417-fac1575b4151",
   "metadata": {
    "tags": []
   },
   "outputs": [],
   "source": [
    "import zipfile\n",
    "import tempfile\n",
    "import pandas as pd\n",
    "import os\n",
    "\n",
    "from owid import walden, catalog\n",
    "from etl.steps.data import converters"
   ]
  },
  {
   "cell_type": "code",
   "execution_count": 3,
   "id": "065353c4-0a29-47af-8bb2-112bffad7d3e",
   "metadata": {},
   "outputs": [],
   "source": [
    "raw_dataset = walden.Catalog().find_one(\"living_planet\")"
   ]
  },
  {
   "cell_type": "code",
   "execution_count": 4,
   "id": "e7fbcc43-99bf-43ee-83d3-85534a36da52",
   "metadata": {},
   "outputs": [
    {
     "data": {
      "text/plain": [
       "Dataset(namespace='living_planet', short_name='lpd', name='Living Planet Database - (2020-09)', description='The Living Planet Database contains tens of thousands of vertebrate population time-series from around the world. It is the largest collection of its kind, and is publicly available, making it an invaluable tool for both research and conservation. This dataset contains time-series of population abundance data for vertebrate species spanning years between 1970 and 2016. These data were used in the Living Planet Report 2020. Confidential records that cannot be shared have been removed from this data set.', source_name='The Zoological Society of London', url='http://stats.livingplanetindex.org/', date_accessed='2021-11-22', file_extension='zip', license_url='https://livingplanetindex.org/documents/data_agreement.pdf', source_data_url=None, md5='9c16afc205cd1aff073fad6726ebbdc3', publication_year=2020, publication_date='2020-09-10', owid_data_url='http://nyc3.digitaloceanspaces.com/walden/living_planet/2020-09-10/lpd.zip', license_name=None, access_notes=None, is_public=True)"
      ]
     },
     "execution_count": 4,
     "metadata": {},
     "output_type": "execute_result"
    }
   ],
   "source": [
    "raw_dataset"
   ]
  },
  {
   "cell_type": "code",
   "execution_count": 5,
   "id": "bcf9f2d5-96bd-46ea-92a5-902111b19274",
   "metadata": {},
   "outputs": [
    {
     "data": {
      "text/plain": [
       "'/Users/mojmir/.owid/walden/living_planet/2020-09-10/lpd.zip'"
      ]
     },
     "execution_count": 5,
     "metadata": {},
     "output_type": "execute_result"
    }
   ],
   "source": [
    "raw_dataset.local_path"
   ]
  },
  {
   "cell_type": "code",
   "execution_count": 6,
   "id": "127ffeb6-c519-491d-94a3-fd73a1f46213",
   "metadata": {},
   "outputs": [],
   "source": [
    "tmp_dir = tempfile.mkdtemp(prefix=\"etl-\")"
   ]
  },
  {
   "cell_type": "code",
   "execution_count": 7,
   "id": "13944b57-63a2-4d0d-822b-dbdb1e7c8a83",
   "metadata": {},
   "outputs": [],
   "source": [
    "## Unzip"
   ]
  },
  {
   "cell_type": "markdown",
   "id": "d69a8e94-32bb-452d-b5f4-fc285bf0ac11",
   "metadata": {},
   "source": [
    " #### Must run '.venv/bin/etl data://meadow/living_planet/2021-09-10/lpd' before this stage or the file won't be in your local walden"
   ]
  },
  {
   "cell_type": "code",
   "execution_count": 8,
   "id": "5d967805-f848-4cc7-9dd1-1283b73cbabd",
   "metadata": {},
   "outputs": [],
   "source": [
    "zipfile.ZipFile(raw_dataset.local_path).extractall(tmp_dir)"
   ]
  },
  {
   "cell_type": "code",
   "execution_count": 9,
   "id": "72459f28-bbca-43be-be13-84c69225030a",
   "metadata": {},
   "outputs": [],
   "source": [
    "df = pd.read_csv(\n",
    "    os.path.join(tmp_dir, \"Public data set/LPR2020data_public.csv\"), encoding=\"latin-1\"\n",
    ")"
   ]
  },
  {
   "cell_type": "code",
   "execution_count": 10,
   "id": "85575c12-dc97-435a-a05c-7e305ef1ddb3",
   "metadata": {},
   "outputs": [
    {
     "data": {
      "text/html": [
       "<div>\n",
       "<style scoped>\n",
       "    .dataframe tbody tr th:only-of-type {\n",
       "        vertical-align: middle;\n",
       "    }\n",
       "\n",
       "    .dataframe tbody tr th {\n",
       "        vertical-align: top;\n",
       "    }\n",
       "\n",
       "    .dataframe thead th {\n",
       "        text-align: right;\n",
       "    }\n",
       "</style>\n",
       "<table border=\"1\" class=\"dataframe\">\n",
       "  <thead>\n",
       "    <tr style=\"text-align: right;\">\n",
       "      <th></th>\n",
       "      <th>ID</th>\n",
       "      <th>Binomial</th>\n",
       "      <th>Reference</th>\n",
       "      <th>Citation</th>\n",
       "      <th>Class</th>\n",
       "      <th>Order</th>\n",
       "      <th>Family</th>\n",
       "      <th>Genus</th>\n",
       "      <th>Species</th>\n",
       "      <th>Subspecies</th>\n",
       "      <th>...</th>\n",
       "      <th>2009</th>\n",
       "      <th>2010</th>\n",
       "      <th>2011</th>\n",
       "      <th>2012</th>\n",
       "      <th>2013</th>\n",
       "      <th>2014</th>\n",
       "      <th>2015</th>\n",
       "      <th>2016</th>\n",
       "      <th>2017</th>\n",
       "      <th>2018</th>\n",
       "    </tr>\n",
       "  </thead>\n",
       "  <tbody>\n",
       "    <tr>\n",
       "      <th>0</th>\n",
       "      <td>4</td>\n",
       "      <td>Copsychus_sechellarum</td>\n",
       "      <td>{Komdeur, 1996 #990}</td>\n",
       "      <td>Komdeur, J. (1996). Breeding of the Seychelles...</td>\n",
       "      <td>Aves</td>\n",
       "      <td>Passeriformes</td>\n",
       "      <td>Muscicapidae</td>\n",
       "      <td>Copsychus</td>\n",
       "      <td>sechellarum</td>\n",
       "      <td>NaN</td>\n",
       "      <td>...</td>\n",
       "      <td>NaN</td>\n",
       "      <td>NaN</td>\n",
       "      <td>NaN</td>\n",
       "      <td>NaN</td>\n",
       "      <td>NaN</td>\n",
       "      <td>NaN</td>\n",
       "      <td>NaN</td>\n",
       "      <td>NaN</td>\n",
       "      <td>NaN</td>\n",
       "      <td>NaN</td>\n",
       "    </tr>\n",
       "    <tr>\n",
       "      <th>1</th>\n",
       "      <td>5</td>\n",
       "      <td>Falco_punctatus</td>\n",
       "      <td>{Groombridge, 2001 #987}</td>\n",
       "      <td>Groombridge, J. J., Bruford, M.W., Jones, C.G,...</td>\n",
       "      <td>Aves</td>\n",
       "      <td>Falconiformes</td>\n",
       "      <td>Falconidae</td>\n",
       "      <td>Falco</td>\n",
       "      <td>punctatus</td>\n",
       "      <td>NaN</td>\n",
       "      <td>...</td>\n",
       "      <td>NaN</td>\n",
       "      <td>NaN</td>\n",
       "      <td>NaN</td>\n",
       "      <td>NaN</td>\n",
       "      <td>NaN</td>\n",
       "      <td>NaN</td>\n",
       "      <td>NaN</td>\n",
       "      <td>NaN</td>\n",
       "      <td>NaN</td>\n",
       "      <td>NaN</td>\n",
       "    </tr>\n",
       "    <tr>\n",
       "      <th>2</th>\n",
       "      <td>6</td>\n",
       "      <td>Pternistis_ochropectus</td>\n",
       "      <td>{WPA/Birdlife/ SSC Partridge, 2000 #1450}</td>\n",
       "      <td>WPA/Birdlife/ SSC Partridge, Q. a. F. S. G. (2...</td>\n",
       "      <td>Aves</td>\n",
       "      <td>Galliformes</td>\n",
       "      <td>Phasianidae</td>\n",
       "      <td>Pternistis</td>\n",
       "      <td>ochropectus</td>\n",
       "      <td>NaN</td>\n",
       "      <td>...</td>\n",
       "      <td>NaN</td>\n",
       "      <td>NaN</td>\n",
       "      <td>NaN</td>\n",
       "      <td>NaN</td>\n",
       "      <td>NaN</td>\n",
       "      <td>NaN</td>\n",
       "      <td>NaN</td>\n",
       "      <td>NaN</td>\n",
       "      <td>NaN</td>\n",
       "      <td>NaN</td>\n",
       "    </tr>\n",
       "    <tr>\n",
       "      <th>3</th>\n",
       "      <td>7</td>\n",
       "      <td>Gyps_coprotheres</td>\n",
       "      <td>{WWF-SA, 2000 #1184}</td>\n",
       "      <td>WWF-SA (2000). Cape griffon.\"\"</td>\n",
       "      <td>Aves</td>\n",
       "      <td>Accipitriformes</td>\n",
       "      <td>Accipitridae</td>\n",
       "      <td>Gyps</td>\n",
       "      <td>coprotheres</td>\n",
       "      <td>NaN</td>\n",
       "      <td>...</td>\n",
       "      <td>NaN</td>\n",
       "      <td>NaN</td>\n",
       "      <td>NaN</td>\n",
       "      <td>NaN</td>\n",
       "      <td>NaN</td>\n",
       "      <td>NaN</td>\n",
       "      <td>NaN</td>\n",
       "      <td>NaN</td>\n",
       "      <td>NaN</td>\n",
       "      <td>NaN</td>\n",
       "    </tr>\n",
       "    <tr>\n",
       "      <th>4</th>\n",
       "      <td>8</td>\n",
       "      <td>Gyps_coprotheres</td>\n",
       "      <td>{WWF-SA, 2000 #1184}</td>\n",
       "      <td>WWF-SA (2000). Cape griffon.\"\"</td>\n",
       "      <td>Aves</td>\n",
       "      <td>Accipitriformes</td>\n",
       "      <td>Accipitridae</td>\n",
       "      <td>Gyps</td>\n",
       "      <td>coprotheres</td>\n",
       "      <td>NaN</td>\n",
       "      <td>...</td>\n",
       "      <td>NaN</td>\n",
       "      <td>NaN</td>\n",
       "      <td>NaN</td>\n",
       "      <td>NaN</td>\n",
       "      <td>NaN</td>\n",
       "      <td>NaN</td>\n",
       "      <td>NaN</td>\n",
       "      <td>NaN</td>\n",
       "      <td>NaN</td>\n",
       "      <td>NaN</td>\n",
       "    </tr>\n",
       "  </tbody>\n",
       "</table>\n",
       "<p>5 rows × 98 columns</p>\n",
       "</div>"
      ],
      "text/plain": [
       "   ID                Binomial                                  Reference  \\\n",
       "0   4   Copsychus_sechellarum                       {Komdeur, 1996 #990}   \n",
       "1   5         Falco_punctatus                   {Groombridge, 2001 #987}   \n",
       "2   6  Pternistis_ochropectus  {WPA/Birdlife/ SSC Partridge, 2000 #1450}   \n",
       "3   7        Gyps_coprotheres                       {WWF-SA, 2000 #1184}   \n",
       "4   8        Gyps_coprotheres                       {WWF-SA, 2000 #1184}   \n",
       "\n",
       "                                            Citation Class            Order  \\\n",
       "0  Komdeur, J. (1996). Breeding of the Seychelles...  Aves    Passeriformes   \n",
       "1  Groombridge, J. J., Bruford, M.W., Jones, C.G,...  Aves    Falconiformes   \n",
       "2  WPA/Birdlife/ SSC Partridge, Q. a. F. S. G. (2...  Aves      Galliformes   \n",
       "3                     WWF-SA (2000). Cape griffon.\"\"  Aves  Accipitriformes   \n",
       "4                     WWF-SA (2000). Cape griffon.\"\"  Aves  Accipitriformes   \n",
       "\n",
       "         Family       Genus      Species Subspecies  ... 2009 2010 2011 2012  \\\n",
       "0  Muscicapidae   Copsychus  sechellarum        NaN  ...  NaN  NaN  NaN  NaN   \n",
       "1    Falconidae       Falco    punctatus        NaN  ...  NaN  NaN  NaN  NaN   \n",
       "2   Phasianidae  Pternistis  ochropectus        NaN  ...  NaN  NaN  NaN  NaN   \n",
       "3  Accipitridae        Gyps  coprotheres        NaN  ...  NaN  NaN  NaN  NaN   \n",
       "4  Accipitridae        Gyps  coprotheres        NaN  ...  NaN  NaN  NaN  NaN   \n",
       "\n",
       "  2013  2014  2015 2016 2017 2018  \n",
       "0  NaN   NaN   NaN  NaN  NaN  NaN  \n",
       "1  NaN   NaN   NaN  NaN  NaN  NaN  \n",
       "2  NaN   NaN   NaN  NaN  NaN  NaN  \n",
       "3  NaN   NaN   NaN  NaN  NaN  NaN  \n",
       "4  NaN   NaN   NaN  NaN  NaN  NaN  \n",
       "\n",
       "[5 rows x 98 columns]"
      ]
     },
     "execution_count": 10,
     "metadata": {},
     "output_type": "execute_result"
    }
   ],
   "source": [
    "df.head()"
   ]
  },
  {
   "cell_type": "code",
   "execution_count": 11,
   "id": "94cc4b32-f2f3-4705-90fd-1a6751c2941f",
   "metadata": {},
   "outputs": [
    {
     "data": {
      "text/plain": [
       "Index(['ID', 'Binomial', 'Reference', 'Citation', 'Class', 'Order', 'Family',\n",
       "       'Genus', 'Species', 'Subspecies', 'Common_name', 'Location', 'Country',\n",
       "       'All_countries', 'Region', 'Latitude', 'Longitude', 'Specific_location',\n",
       "       'temperate_or_tropical', 'System', 'T_realm', 'T_biome', 'FW_realm',\n",
       "       'FW_biome', 'M_realm', 'M_ocean', 'M_biome', 'Units', 'Method', '1950',\n",
       "       '1951', '1952', '1953', '1954', '1955', '1956', '1957', '1958', '1959',\n",
       "       '1960', '1961', '1962', '1963', '1964', '1965', '1966', '1967', '1968',\n",
       "       '1969', '1970', '1971', '1972', '1973', '1974', '1975', '1976', '1977',\n",
       "       '1978', '1979', '1980', '1981', '1982', '1983', '1984', '1985', '1986',\n",
       "       '1987', '1988', '1989', '1990', '1991', '1992', '1993', '1994', '1995',\n",
       "       '1996', '1997', '1998', '1999', '2000', '2001', '2002', '2003', '2004',\n",
       "       '2005', '2006', '2007', '2008', '2009', '2010', '2011', '2012', '2013',\n",
       "       '2014', '2015', '2016', '2017', '2018'],\n",
       "      dtype='object')"
      ]
     },
     "execution_count": 11,
     "metadata": {},
     "output_type": "execute_result"
    }
   ],
   "source": [
    "df.columns"
   ]
  },
  {
   "cell_type": "markdown",
   "id": "0b1279cc",
   "metadata": {},
   "source": [
    "## Cleaning data"
   ]
  },
  {
   "cell_type": "code",
   "execution_count": 13,
   "id": "be9ff801-71b2-41f9-a10f-d0b4e81e48e5",
   "metadata": {},
   "outputs": [],
   "source": [
    "df_clean = df.drop(\n",
    "    [\n",
    "        \"Reference\",\n",
    "        \"All_countries\",\n",
    "        \"Region\",\n",
    "        \"temperate_or_tropical\",\n",
    "        \"System\",\n",
    "        \"T_realm\",\n",
    "        \"T_biome\",\n",
    "        \"FW_realm\",\n",
    "        \"FW_biome\",\n",
    "        \"M_realm\",\n",
    "        \"M_ocean\",\n",
    "        \"M_biome\",\n",
    "        \"Method\",\n",
    "    ],\n",
    "    axis=1,\n",
    ")"
   ]
  },
  {
   "cell_type": "code",
   "execution_count": 14,
   "id": "3fd31836-6db4-4fe4-88ec-a8bc6373bcb4",
   "metadata": {},
   "outputs": [],
   "source": [
    "df_long = pd.melt(\n",
    "    df_clean,\n",
    "    id_vars=[\n",
    "        \"ID\",\n",
    "        \"Binomial\",\n",
    "        \"Citation\",\n",
    "        \"Class\",\n",
    "        \"Order\",\n",
    "        \"Family\",\n",
    "        \"Genus\",\n",
    "        \"Species\",\n",
    "        \"Subspecies\",\n",
    "        \"Common_name\",\n",
    "        \"Location\",\n",
    "        \"Country\",\n",
    "        \"Latitude\",\n",
    "        \"Longitude\",\n",
    "        \"Specific_location\",\n",
    "        \"Units\",\n",
    "    ],\n",
    "    value_vars=[str(i) for i in range(1950, 2019)],\n",
    ")"
   ]
  },
  {
   "cell_type": "code",
   "execution_count": 15,
   "id": "83095210-cc6a-4151-8366-2b68af722b85",
   "metadata": {},
   "outputs": [],
   "source": [
    "df_long = df_long.rename(columns={\"variable\": \"Year\"})"
   ]
  },
  {
   "cell_type": "markdown",
   "id": "63508ad7-46c1-4b37-9189-3af943337d83",
   "metadata": {},
   "source": [
    "## Making a dataset container"
   ]
  },
  {
   "cell_type": "code",
   "execution_count": 16,
   "id": "2aeb3ec1-4a48-4614-aace-179613ce588e",
   "metadata": {},
   "outputs": [],
   "source": [
    "ds = catalog.Dataset.create_empty(dest_dir)\n",
    "ds.metadata = converters.convert_walden_metadata(raw_dataset)\n",
    "ds.save()"
   ]
  },
  {
   "cell_type": "markdown",
   "id": "638adb1b-79f4-485d-a4eb-87b0c5bd359a",
   "metadata": {},
   "source": [
    "## Adding LPD table to container"
   ]
  },
  {
   "cell_type": "code",
   "execution_count": 22,
   "id": "bfffe66b-dfc9-48c6-bef5-94f353b1af2a",
   "metadata": {},
   "outputs": [],
   "source": [
    "from owid.catalog import utils\n",
    "\n",
    "t = catalog.Table(df_long)\n",
    "t.metadata.short_name = \"living_planet_database\"\n",
    "t.metadata.title = \"Living Planet Database - animal population trends 1950-2018\"\n",
    "ds.add(utils.underscore_table(t))"
   ]
  },
  {
   "cell_type": "code",
   "execution_count": null,
   "id": "55b54ffd-ed7e-4ffc-bf7f-852b77274756",
   "metadata": {},
   "outputs": [],
   "source": []
  }
 ],
 "metadata": {
  "kernelspec": {
   "display_name": "Python 3 (ipykernel)",
   "language": "python",
   "name": "python3"
  },
  "language_info": {
   "codemirror_mode": {
    "name": "ipython",
    "version": 3
   },
   "file_extension": ".py",
   "mimetype": "text/x-python",
   "name": "python",
   "nbconvert_exporter": "python",
   "pygments_lexer": "ipython3",
   "version": "3.9.10"
  }
 },
 "nbformat": 4,
 "nbformat_minor": 5
}
