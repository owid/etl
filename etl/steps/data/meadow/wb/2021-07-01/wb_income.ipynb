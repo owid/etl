{
 "cells": [
  {
   "cell_type": "markdown",
   "id": "74a8f219-8e5e-4508-b094-8f558983ea6b",
   "metadata": {},
   "source": [
    "# World Bank: Income Groups"
   ]
  },
  {
   "cell_type": "markdown",
   "id": "294420c2-0f58-49fa-aa6b-02f347b39386",
   "metadata": {},
   "source": [
    "## Parameters"
   ]
  },
  {
   "cell_type": "code",
   "execution_count": null,
   "id": "1c28e11e-030a-4fb5-b0ae-015ae30f30a4",
   "metadata": {
    "tags": [
     "parameters"
    ]
   },
   "outputs": [],
   "source": [
    "dest_dir = \"/tmp/wb_income\""
   ]
  },
  {
   "cell_type": "markdown",
   "id": "fa16133a-c9d6-4fe6-8696-16a7a3f9a9ad",
   "metadata": {},
   "source": [
    "## Imports"
   ]
  },
  {
   "cell_type": "code",
   "execution_count": null,
   "id": "63afb01d-51bb-42d1-9322-511e1b94d9c6",
   "metadata": {},
   "outputs": [],
   "source": [
    "import pandas as pd\n",
    "\n",
    "from owid.catalog import Dataset, Table\n",
    "from owid.walden import Catalog\n",
    "from etl.steps.data.converters import convert_walden_metadata"
   ]
  },
  {
   "cell_type": "markdown",
   "id": "8172c4cd-320d-4a35-b860-86af2c7e2d74",
   "metadata": {},
   "source": [
    "## Fetch walden dataset"
   ]
  },
  {
   "cell_type": "code",
   "execution_count": null,
   "id": "4099b067-cea8-4d7b-8d2a-bf154cb093f3",
   "metadata": {},
   "outputs": [],
   "source": [
    "walden_ds = Catalog().find_one(\"wb\", \"2021-07-01\", \"wb_income\")"
   ]
  },
  {
   "cell_type": "code",
   "execution_count": null,
   "id": "042f4746-3e50-4a4e-b5fa-24c629df406d",
   "metadata": {},
   "outputs": [],
   "source": [
    "walden_ds"
   ]
  },
  {
   "cell_type": "markdown",
   "id": "1790affa-f1f5-47e1-b765-1eb7cb300b1d",
   "metadata": {},
   "source": [
    "## Make a dataset"
   ]
  },
  {
   "cell_type": "code",
   "execution_count": null,
   "id": "2ecabeee-4ec8-4ab6-b7bf-069995637fc9",
   "metadata": {},
   "outputs": [],
   "source": [
    "ds = Dataset.create_empty(dest_dir)\n",
    "ds.metadata = convert_walden_metadata(walden_ds)\n",
    "ds.save()"
   ]
  },
  {
   "cell_type": "code",
   "execution_count": null,
   "id": "8f48d337-fb0c-4e9a-b2b0-990f4afdfc01",
   "metadata": {},
   "outputs": [],
   "source": [
    "ds"
   ]
  },
  {
   "cell_type": "markdown",
   "id": "43ee4975-4b4e-41cd-8104-b292049a689d",
   "metadata": {},
   "source": [
    "## Load dataset"
   ]
  },
  {
   "cell_type": "code",
   "execution_count": null,
   "id": "79a4d113-b615-44ce-b923-d6e9a7563ea3",
   "metadata": {},
   "outputs": [],
   "source": [
    "df = pd.read_excel(walden_ds.local_path)"
   ]
  },
  {
   "cell_type": "markdown",
   "id": "06c78358-f831-488d-93fb-ea4803b4f160",
   "metadata": {
    "tags": []
   },
   "source": [
    "## Clean dataset"
   ]
  },
  {
   "cell_type": "markdown",
   "id": "9a7fa483-bdbf-47e3-8870-1bbe4a7b1856",
   "metadata": {},
   "source": [
    "### Sanity checks"
   ]
  },
  {
   "cell_type": "code",
   "execution_count": null,
   "id": "5780a950-8227-49ff-bdcf-486429c5a6ab",
   "metadata": {},
   "outputs": [],
   "source": [
    "# Check nulls\n",
    "df.isnull().any()"
   ]
  },
  {
   "cell_type": "code",
   "execution_count": null,
   "id": "3cf574e3-1ad8-4045-a657-e814cfd6929f",
   "metadata": {},
   "outputs": [],
   "source": [
    "assert df.Economy.value_counts().max() == 1"
   ]
  },
  {
   "cell_type": "markdown",
   "id": "97978ba9-3788-4a09-9c5d-2244ba774d18",
   "metadata": {},
   "source": [
    "### Drop columns and set Index"
   ]
  },
  {
   "cell_type": "code",
   "execution_count": null,
   "id": "7dd3b07a-ce18-4e94-ad0c-7aea65ad7c05",
   "metadata": {},
   "outputs": [],
   "source": [
    "df.set_index(\n",
    "    [\"Economy\"],\n",
    "    inplace=True,\n",
    "    verify_integrity=True,\n",
    ")"
   ]
  },
  {
   "cell_type": "markdown",
   "id": "51df1792-f9d7-4d65-9042-ece87b0d171d",
   "metadata": {},
   "source": [
    "## Add tables"
   ]
  },
  {
   "cell_type": "code",
   "execution_count": null,
   "id": "4faace2f-bbf2-46cf-85f1-4721d377d9db",
   "metadata": {},
   "outputs": [],
   "source": [
    "from owid.catalog import utils\n",
    "\n",
    "df = df.rename(\n",
    "    columns={\n",
    "        \"Other (EMU or HIPC)\": \"other_emu_or_hipc\",\n",
    "    }\n",
    ")\n",
    "\n",
    "t = Table(df)\n",
    "t.metadata.short_name = \"wb_income_group\"\n",
    "\n",
    "ds.add(utils.underscore_table(t))"
   ]
  }
 ],
 "metadata": {
  "kernelspec": {
   "display_name": "etl",
   "language": "python",
   "name": "etl"
  },
  "language_info": {
   "codemirror_mode": {
    "name": "ipython",
    "version": 3
   },
   "file_extension": ".py",
   "mimetype": "text/x-python",
   "name": "python",
   "nbconvert_exporter": "python",
   "pygments_lexer": "ipython3",
   "version": "3.9.10"
  }
 },
 "nbformat": 4,
 "nbformat_minor": 5
}
