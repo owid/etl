{
 "cells": [
  {
   "cell_type": "code",
   "execution_count": 1,
   "metadata": {},
   "outputs": [],
   "source": [
    "from myml.nbinit import *"
   ]
  },
  {
   "cell_type": "code",
   "execution_count": null,
   "metadata": {},
   "outputs": [],
   "source": [
    "import re\n",
    "from etl.files import yaml_dump\n",
    "\n",
    "def dump_yaml_with_anchors(data):\n",
    "    \"\"\"\n",
    "    Dump a dictionary to a YAML string, converting definition keys to anchors\n",
    "    and replacing quoted alias strings with YAML aliases.\n",
    "\n",
    "    Args:\n",
    "        data (dict): The dictionary to dump.\n",
    "\n",
    "    Returns:\n",
    "        str: The YAML string with anchors and aliases.\n",
    "    \"\"\"\n",
    "    # Dump the dict to a YAML string. Using default_flow_style=False to get block style.\n",
    "    dumped = yaml_dump(data)\n",
    "\n",
    "    # For any key in the definitions block starting with \"def_\",\n",
    "    # insert an anchor. This regex finds lines with an indented key that starts with def_.\n",
    "    dumped = re.sub(\n",
    "        r\"^(\\s+)(def_[^:]+):(.*)$\",\n",
    "        lambda m: f\"{m.group(1)}{m.group(2)}: &{m.group(2)}{m.group(3)}\",\n",
    "        dumped,\n",
    "        flags=re.MULTILINE\n",
    "    )\n",
    "\n",
    "    # Replace quoted alias strings like '*def_2329260084214905053'\n",
    "    # with an unquoted alias *def_2329260084214905053.\n",
    "    dumped = re.sub(\n",
    "        r\"\"\"(['\"])(\\*def_[^'\"]+)\\1\"\"\",\n",
    "        lambda m: m.group(2),\n",
    "        dumped\n",
    "    )\n",
    "\n",
    "    return dumped"
   ]
  },
  {
   "cell_type": "code",
   "execution_count": 6,
   "metadata": {},
   "outputs": [],
   "source": [
    "import yaml\n",
    "from collections import defaultdict\n",
    "from etl.collection.explorer_migration import migrate_csv_explorer\n",
    "from etl.files import yaml_dump\n",
    "from etl.paths import EXPLORERS_DIR, STEP_DIR\n",
    "\n",
    "config = migrate_csv_explorer(\"habitat-loss\")"
   ]
  },
  {
   "cell_type": "code",
   "execution_count": null,
   "metadata": {},
   "outputs": [],
   "source": [
    "# dump explorer config\n",
    "path_new = STEP_DIR / \"export/explorers/biodiversity/latest/habitat_loss.config.yml\"\n",
    "with open(path_new, \"w\") as f:\n",
    "    f.write(dump_yaml_with_anchors(config))"
   ]
  }
 ],
 "metadata": {
  "kernelspec": {
   "display_name": ".venv",
   "language": "python",
   "name": "python3"
  },
  "language_info": {
   "codemirror_mode": {
    "name": "ipython",
    "version": 3
   },
   "file_extension": ".py",
   "mimetype": "text/x-python",
   "name": "python",
   "nbconvert_exporter": "python",
   "pygments_lexer": "ipython3",
   "version": "3.12.4"
  }
 },
 "nbformat": 4,
 "nbformat_minor": 2
}
