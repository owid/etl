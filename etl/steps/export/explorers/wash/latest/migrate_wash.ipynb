{
 "cells": [
  {
   "cell_type": "code",
   "execution_count": 1,
   "id": "337a4ffc",
   "metadata": {},
   "outputs": [],
   "source": [
    "from myml.nbinit import *"
   ]
  },
  {
   "cell_type": "code",
   "execution_count": 2,
   "id": "754b9bc7",
   "metadata": {},
   "outputs": [],
   "source": [
    "COL_MAP = {'hyg_bas_rural': 'hyg_bas__residence_rural', 'hyg_bas': 'hyg_bas__residence_total', 'hyg_bas_urban': 'hyg_bas__residence_urban', 'hyg_bas_number_rural': 'hyg_bas_pop__residence_rural', 'hyg_bas_number': 'hyg_bas_pop__residence_total', 'hyg_bas_number_urban': 'hyg_bas_pop__residence_urban', 'hyg_bas_number_without_rural': 'hyg_bas_pop_without__residence_rural', 'hyg_bas_number_without': 'hyg_bas_pop_without__residence_total', 'hyg_bas_number_without_urban': 'hyg_bas_pop_without__residence_urban', 'hyg_bas_without_rural': 'hyg_bas_without__residence_rural', 'hyg_bas_without': 'hyg_bas_without__residence_total', 'hyg_bas_without_urban': 'hyg_bas_without__residence_urban', 'hyg_lim_rural': 'hyg_lim__residence_rural', 'hyg_lim': 'hyg_lim__residence_total', 'hyg_lim_urban': 'hyg_lim__residence_urban', 'hyg_lim_number_rural': 'hyg_lim_pop__residence_rural', 'hyg_lim_number': 'hyg_lim_pop__residence_total', 'hyg_lim_number_urban': 'hyg_lim_pop__residence_urban', 'hyg_ns_rural': 'hyg_ns__residence_rural', 'hyg_ns': 'hyg_ns__residence_total', 'hyg_ns_urban': 'hyg_ns__residence_urban', 'hyg_ns_number_rural': 'hyg_ns_pop__residence_rural', 'hyg_ns_number': 'hyg_ns_pop__residence_total', 'hyg_ns_number_urban': 'hyg_ns_pop__residence_urban', 'san_basal_rural': 'san_basal__residence_rural', 'san_basal': 'san_basal__residence_total', 'san_basal_urban': 'san_basal__residence_urban', 'san_basal_number_rural': 'san_basal_pop__residence_rural', 'san_basal_number': 'san_basal_pop__residence_total', 'san_basal_number_urban': 'san_basal_pop__residence_urban', 'san_baso_rural': 'san_baso__residence_rural', 'san_baso': 'san_baso__residence_total', 'san_baso_urban': 'san_baso__residence_urban', 'san_baso_number_rural': 'san_baso_pop__residence_rural', 'san_baso_number': 'san_baso_pop__residence_total', 'san_baso_number_urban': 'san_baso_pop__residence_urban', 'san_fst_sm_rural': 'san_fst_sm__residence_rural', 'san_fst_sm': 'san_fst_sm__residence_total', 'san_fst_sm_urban': 'san_fst_sm__residence_urban', 'san_fst_sm_number_rural': 'san_fst_sm_pop__residence_rural', 'san_fst_sm_number': 'san_fst_sm_pop__residence_total', 'san_fst_sm_number_urban': 'san_fst_sm_pop__residence_urban', 'san_imp_rural': 'san_imp__residence_rural', 'san_imp': 'san_imp__residence_total', 'san_imp_urban': 'san_imp__residence_urban', 'san_imp_number_rural': 'san_imp_pop__residence_rural', 'san_imp_number': 'san_imp_pop__residence_total', 'san_imp_number_urban': 'san_imp_pop__residence_urban', 'san_imp_number_without_rural': 'san_imp_pop_without__residence_rural', 'san_imp_number_without': 'san_imp_pop_without__residence_total', 'san_imp_number_without_urban': 'san_imp_pop_without__residence_urban', 'san_imp_without_rural': 'san_imp_without__residence_rural', 'san_imp_without': 'san_imp_without__residence_total', 'san_imp_without_urban': 'san_imp_without__residence_urban', 'san_lim_rural': 'san_lim__residence_rural', 'san_lim': 'san_lim__residence_total', 'san_lim_urban': 'san_lim__residence_urban', 'san_lim_number_rural': 'san_lim_pop__residence_rural', 'san_lim_number': 'san_lim_pop__residence_total', 'san_lim_number_urban': 'san_lim_pop__residence_urban', 'san_ns_rural': 'san_ns__residence_rural', 'san_ns': 'san_ns__residence_total', 'san_ns_urban': 'san_ns__residence_urban', 'san_ns_number_rural': 'san_ns_pop__residence_rural', 'san_ns_number': 'san_ns_pop__residence_total', 'san_ns_number_urban': 'san_ns_pop__residence_urban', 'san_othimp_rural': 'san_othimp__residence_rural', 'san_othimp': 'san_othimp__residence_total', 'san_othimp_urban': 'san_othimp__residence_urban', 'san_othimp_number_rural': 'san_othimp_pop__residence_rural', 'san_othimp_number': 'san_othimp_pop__residence_total', 'san_othimp_number_urban': 'san_othimp_pop__residence_urban', 'san_sdo_sm_rural': 'san_sdo_sm__residence_rural', 'san_sdo_sm': 'san_sdo_sm__residence_total', 'san_sdo_sm_urban': 'san_sdo_sm__residence_urban', 'san_sdo_sm_number_rural': 'san_sdo_sm_pop__residence_rural', 'san_sdo_sm_number': 'san_sdo_sm_pop__residence_total', 'san_sdo_sm_number_urban': 'san_sdo_sm_pop__residence_urban', 'san_sep_rural': 'san_sep__residence_rural', 'san_sep': 'san_sep__residence_total', 'san_sep_urban': 'san_sep__residence_urban', 'san_sep_number_rural': 'san_sep_pop__residence_rural', 'san_sep_number': 'san_sep_pop__residence_total', 'san_sep_number_urban': 'san_sep_pop__residence_urban', 'san_sew_rural': 'san_sew__residence_rural', 'san_sew': 'san_sew__residence_total', 'san_sew_urban': 'san_sew__residence_urban', 'san_sew_number_rural': 'san_sew_pop__residence_rural', 'san_sew_number': 'san_sew_pop__residence_total', 'san_sew_number_urban': 'san_sew_pop__residence_urban', 'san_sew_sm_rural': 'san_sew_sm__residence_rural', 'san_sew_sm': 'san_sew_sm__residence_total', 'san_sew_sm_urban': 'san_sew_sm__residence_urban', 'san_sew_sm_number_rural': 'san_sew_sm_pop__residence_rural', 'san_sew_sm_number': 'san_sew_sm_pop__residence_total', 'san_sew_sm_number_urban': 'san_sew_sm_pop__residence_urban', 'san_sm_rural': 'san_sm__residence_rural', 'san_sm': 'san_sm__residence_total', 'san_sm_urban': 'san_sm__residence_urban', 'san_sm_number_rural': 'san_sm_pop__residence_rural', 'san_sm_number': 'san_sm_pop__residence_total', 'san_sm_number_urban': 'san_sm_pop__residence_urban', 'san_sm_number_without_rural': 'san_sm_pop_without__residence_rural', 'san_sm_number_without': 'san_sm_pop_without__residence_total', 'san_sm_number_without_urban': 'san_sm_pop_without__residence_urban', 'san_sm_without_rural': 'san_sm_without__residence_rural', 'san_sm_without': 'san_sm_without__residence_total', 'san_sm_without_urban': 'san_sm_without__residence_urban', 'san_unimp_rural': 'san_unimp__residence_rural', 'san_unimp': 'san_unimp__residence_total', 'san_unimp_urban': 'san_unimp__residence_urban', 'san_unimp_number_rural': 'san_unimp_pop__residence_rural', 'san_unimp_number': 'san_unimp_pop__residence_total', 'san_unimp_number_urban': 'san_unimp_pop__residence_urban', 'wat_basal_rural': 'wat_basal__residence_rural', 'wat_basal': 'wat_basal__residence_total', 'wat_basal_urban': 'wat_basal__residence_urban', 'wat_basal_number_rural': 'wat_basal_pop__residence_rural', 'wat_basal_number': 'wat_basal_pop__residence_total', 'wat_basal_number_urban': 'wat_basal_pop__residence_urban', 'wat_basal_number_without_rural': 'wat_basal_pop_without__residence_rural', 'wat_basal_number_without': 'wat_basal_pop_without__residence_total', 'wat_basal_number_without_urban': 'wat_basal_pop_without__residence_urban', 'wat_basal_without_rural': 'wat_basal_without__residence_rural', 'wat_basal_without': 'wat_basal_without__residence_total', 'wat_basal_without_urban': 'wat_basal_without__residence_urban', 'wat_baso_rural': 'wat_baso__residence_rural', 'wat_baso': 'wat_baso__residence_total', 'wat_baso_urban': 'wat_baso__residence_urban', 'wat_baso_number_rural': 'wat_baso_pop__residence_rural', 'wat_baso_number': 'wat_baso_pop__residence_total', 'wat_baso_number_urban': 'wat_baso_pop__residence_urban', 'wat_imp_rural': 'wat_imp__residence_rural', 'wat_imp': 'wat_imp__residence_total', 'wat_imp_urban': 'wat_imp__residence_urban', 'wat_imp_av_rural': 'wat_imp_av__residence_rural', 'wat_imp_av': 'wat_imp_av__residence_total', 'wat_imp_av_urban': 'wat_imp_av__residence_urban', 'wat_imp_av_number_rural': 'wat_imp_av_pop__residence_rural', 'wat_imp_av_number': 'wat_imp_av_pop__residence_total', 'wat_imp_av_number_urban': 'wat_imp_av_pop__residence_urban', 'wat_imp_npip_rural': 'wat_imp_npip__residence_rural', 'wat_imp_npip': 'wat_imp_npip__residence_total', 'wat_imp_npip_urban': 'wat_imp_npip__residence_urban', 'wat_imp_npip_number_rural': 'wat_imp_npip_pop__residence_rural', 'wat_imp_npip_number': 'wat_imp_npip_pop__residence_total', 'wat_imp_npip_number_urban': 'wat_imp_npip_pop__residence_urban', 'wat_imp_number_rural': 'wat_imp_pop__residence_rural', 'wat_imp_number': 'wat_imp_pop__residence_total', 'wat_imp_number_urban': 'wat_imp_pop__residence_urban', 'wat_imp_number_without_rural': 'wat_imp_pop_without__residence_rural', 'wat_imp_number_without': 'wat_imp_pop_without__residence_total', 'wat_imp_number_without_urban': 'wat_imp_pop_without__residence_urban', 'wat_imp_prem_rural': 'wat_imp_prem__residence_rural', 'wat_imp_prem': 'wat_imp_prem__residence_total', 'wat_imp_prem_urban': 'wat_imp_prem__residence_urban', 'wat_imp_prem_number_rural': 'wat_imp_prem_pop__residence_rural', 'wat_imp_prem_number': 'wat_imp_prem_pop__residence_total', 'wat_imp_prem_number_urban': 'wat_imp_prem_pop__residence_urban', 'wat_imp_qual_rural': 'wat_imp_qual__residence_rural', 'wat_imp_qual': 'wat_imp_qual__residence_total', 'wat_imp_qual_urban': 'wat_imp_qual__residence_urban', 'wat_imp_qual_number_rural': 'wat_imp_qual_pop__residence_rural', 'wat_imp_qual_number': 'wat_imp_qual_pop__residence_total', 'wat_imp_qual_number_urban': 'wat_imp_qual_pop__residence_urban', 'wat_imp_without_rural': 'wat_imp_without__residence_rural', 'wat_imp_without': 'wat_imp_without__residence_total', 'wat_imp_without_urban': 'wat_imp_without__residence_urban', 'wat_lim_rural': 'wat_lim__residence_rural', 'wat_lim': 'wat_lim__residence_total', 'wat_lim_urban': 'wat_lim__residence_urban', 'wat_lim_number_rural': 'wat_lim_pop__residence_rural', 'wat_lim_number': 'wat_lim_pop__residence_total', 'wat_lim_number_urban': 'wat_lim_pop__residence_urban', 'wat_ns_rural': 'wat_ns__residence_rural', 'wat_ns': 'wat_ns__residence_total', 'wat_ns_urban': 'wat_ns__residence_urban', 'wat_ns_number_rural': 'wat_ns_pop__residence_rural', 'wat_ns_number': 'wat_ns_pop__residence_total', 'wat_ns_number_urban': 'wat_ns_pop__residence_urban', 'wat_pip_rural': 'wat_pip__residence_rural', 'wat_pip': 'wat_pip__residence_total', 'wat_pip_urban': 'wat_pip__residence_urban', 'wat_pip_number_rural': 'wat_pip_pop__residence_rural', 'wat_pip_number': 'wat_pip_pop__residence_total', 'wat_pip_number_urban': 'wat_pip_pop__residence_urban', 'wat_sm_rural': 'wat_sm__residence_rural', 'wat_sm': 'wat_sm__residence_total', 'wat_sm_urban': 'wat_sm__residence_urban', 'wat_sm_number_rural': 'wat_sm_pop__residence_rural', 'wat_sm_number': 'wat_sm_pop__residence_total', 'wat_sm_number_urban': 'wat_sm_pop__residence_urban', 'wat_sm_number_without_rural': 'wat_sm_pop_without__residence_rural', 'wat_sm_number_without': 'wat_sm_pop_without__residence_total', 'wat_sm_number_without_urban': 'wat_sm_pop_without__residence_urban', 'wat_sm_without_rural': 'wat_sm_without__residence_rural', 'wat_sm_without': 'wat_sm_without__residence_total', 'wat_sm_without_urban': 'wat_sm_without__residence_urban', 'wat_unimp_rural': 'wat_unimp__residence_rural', 'wat_unimp': 'wat_unimp__residence_total', 'wat_unimp_urban': 'wat_unimp__residence_urban', 'wat_unimp_number_rural': 'wat_unimp_pop__residence_rural', 'wat_unimp_number': 'wat_unimp_pop__residence_total', 'wat_unimp_number_urban': 'wat_unimp_pop__residence_urban'}"
   ]
  },
  {
   "cell_type": "code",
   "execution_count": 3,
   "id": "d09b7133",
   "metadata": {},
   "outputs": [],
   "source": [
    "from etl.collections.explorer_migration import migrate_csv_explorer\n",
    "from etl.paths import STEP_DIR\n",
    "from etl.collections.utils import extract_definitions, dump_yaml_with_anchors, move_field_to_top\n",
    "from etl.config import OWIDEnv\n",
    "\n",
    "config = migrate_csv_explorer(\"water-and-sanitation\", owid_env=OWIDEnv.from_staging('master'))\n",
    "\n",
    "for view in config['views']:\n",
    "    old_catalog_path = view['indicators']['y'][0]['catalogPath']\n",
    "    tb_name, col_name = old_catalog_path.split('#')\n",
    "    new_catalog_path = f\"{tb_name}#{COL_MAP[col_name]}\"\n",
    "    view['indicators']['y'][0]['catalogPath'] = new_catalog_path\n",
    "\n",
    "    for col in ('tab', 'type', 'hasMapTab', 'yScaleToggle'):\n",
    "        del view['config'][col]\n",
    "\n",
    "    for col in ('sourceLink', 'sourceName', 'dataPublishedBy'):\n",
    "        del view['indicators']['y'][0]['display'][col]\n",
    "\n",
    "config['definitions'] = {\n",
    "    'common_views': [\n",
    "        {\n",
    "            \"config\": {\n",
    "                \"tab\": \"map\",\n",
    "                \"type\": \"LineChart\",\n",
    "                \"hasMapTab\": True,\n",
    "                \"yScaleToggle\": False\n",
    "            }\n",
    "        }\n",
    "    ]\n",
    "}\n",
    "\n",
    "config['config']['hideAnnotationFieldsInTitle'] = True\n",
    "\n",
    "# config = extract_definitions(config)\n",
    "config = move_field_to_top(config, 'definitions')"
   ]
  },
  {
   "cell_type": "code",
   "execution_count": 5,
   "id": "c38870b8",
   "metadata": {},
   "outputs": [],
   "source": [
    "# dump explorer config\n",
    "path_new = STEP_DIR / \"export/explorers/wash/latest/water_and_sanitation.config.yml\"\n",
    "path_new.parent.mkdir(parents=True, exist_ok=True)\n",
    "with open(path_new, \"w\") as f:\n",
    "    f.write(dump_yaml_with_anchors(config))"
   ]
  }
 ],
 "metadata": {
  "kernelspec": {
   "display_name": ".venv",
   "language": "python",
   "name": "python3"
  },
  "language_info": {
   "codemirror_mode": {
    "name": "ipython",
    "version": 3
   },
   "file_extension": ".py",
   "mimetype": "text/x-python",
   "name": "python",
   "nbconvert_exporter": "python",
   "pygments_lexer": "ipython3",
   "version": "3.12.4"
  }
 },
 "nbformat": 4,
 "nbformat_minor": 5
}
