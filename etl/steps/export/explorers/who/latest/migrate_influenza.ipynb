{
 "cells": [
  {
   "cell_type": "code",
   "execution_count": 1,
   "metadata": {},
   "outputs": [],
   "source": [
    "from myml.nbinit import *"
   ]
  },
  {
   "cell_type": "code",
   "execution_count": 3,
   "metadata": {},
   "outputs": [],
   "source": [
    "import re\n",
    "from etl.files import yaml_dump\n",
    "\n",
    "def move_field_to_top(data, field):\n",
    "    \"\"\"\n",
    "    Returns a new dictionary with the specified field moved to the top.\n",
    "    If the field doesn't exist, returns the original dictionary.\n",
    "    \"\"\"\n",
    "    if field not in data:\n",
    "        return data\n",
    "\n",
    "    # Create a new dictionary starting with the specified field\n",
    "    new_data = {field: data[field]}\n",
    "\n",
    "    # Add the remaining items in their original order\n",
    "    for key, value in data.items():\n",
    "        if key != field:\n",
    "            new_data[key] = value\n",
    "\n",
    "    return new_data\n",
    "\n",
    "\n",
    "def dump_yaml_with_anchors(data):\n",
    "    \"\"\"\n",
    "    Dump a dictionary to a YAML string, converting definition keys to anchors\n",
    "    and replacing quoted alias strings with YAML aliases.\n",
    "\n",
    "    Args:\n",
    "        data (dict): The dictionary to dump.\n",
    "\n",
    "    Returns:\n",
    "        str: The YAML string with anchors and aliases.\n",
    "    \"\"\"\n",
    "    # Dump the dict to a YAML string. Using default_flow_style=False to get block style.\n",
    "    dumped = yaml_dump(data)\n",
    "\n",
    "    # For any key in the definitions block starting with \"def_\",\n",
    "    # insert an anchor. This regex finds lines with an indented key that starts with def_.\n",
    "    dumped = re.sub(\n",
    "        r\"^(\\s+)(def_[^:]+):(.*)$\",\n",
    "        lambda m: f\"{m.group(1)}{m.group(2)}: &{m.group(2)}{m.group(3)}\",\n",
    "        dumped,\n",
    "        flags=re.MULTILINE\n",
    "    )\n",
    "\n",
    "    # Replace quoted alias strings like '*def_2329260084214905053'\n",
    "    # with an unquoted alias *def_2329260084214905053.\n",
    "    dumped = re.sub(\n",
    "        r\"\"\"(['\"])(\\*def_[^'\"]+)\\1\"\"\",\n",
    "        lambda m: m.group(2),\n",
    "        dumped\n",
    "    )\n",
    "\n",
    "    return dumped"
   ]
  },
  {
   "cell_type": "code",
   "execution_count": 4,
   "metadata": {},
   "outputs": [
    {
     "name": "stdout",
     "output_type": "stream",
     "text": [
      "> \u001b[0;32m/Users/mojmir/projects/etl/etl/collections/explorer_migration.py\u001b[0m(210)\u001b[0;36mextract_config\u001b[0;34m()\u001b[0m\n",
      "\u001b[0;32m    209 \u001b[0;31m                    \u001b[0m__import__\u001b[0m\u001b[0;34m(\u001b[0m\u001b[0;34m\"ipdb\"\u001b[0m\u001b[0;34m)\u001b[0m\u001b[0;34m.\u001b[0m\u001b[0mset_trace\u001b[0m\u001b[0;34m(\u001b[0m\u001b[0;34m)\u001b[0m\u001b[0;34m\u001b[0m\u001b[0;34m\u001b[0m\u001b[0m\n",
      "\u001b[0m\u001b[0;32m--> 210 \u001b[0;31m                    \u001b[0mprint\u001b[0m\u001b[0;34m(\u001b[0m\u001b[0;36m12\u001b[0m\u001b[0;34m)\u001b[0m\u001b[0;34m\u001b[0m\u001b[0;34m\u001b[0m\u001b[0m\n",
      "\u001b[0m\u001b[0;32m    211 \u001b[0;31m                \u001b[0;31m# config[key] = self._convert_special_field(key, value)\u001b[0m\u001b[0;34m\u001b[0m\u001b[0;34m\u001b[0m\u001b[0m\n",
      "\u001b[0m\n",
      "'hideAnnotationFieldsInTitle'\n",
      "'hideAnnotationFieldsInTitle'\n",
      "['true']\n"
     ]
    }
   ],
   "source": [
    "import yaml\n",
    "from collections import defaultdict\n",
    "from etl.collections.explorer_migration import migrate_csv_explorer\n",
    "from etl.files import yaml_dump\n",
    "from etl.paths import EXPLORERS_DIR, STEP_DIR\n",
    "\n",
    "config = migrate_csv_explorer(EXPLORERS_DIR / \"influenza.explorer.backup.tsv\")\n",
    "# print(yaml.dump(config))\n",
    "# config = yaml.safe_load(yaml_dump(config))\n",
    "\n",
    "definitions = defaultdict(dict)\n",
    "\n",
    "for view in config[\"views\"]:\n",
    "    # Move to common_views\n",
    "    del view['config']['timelineMinTime']\n",
    "\n",
    "    # Create shared definitions\n",
    "    for indicator in view[\"indicators\"]['y']:\n",
    "        # Strip catalogPath\n",
    "        indicator['catalogPath'] = indicator['catalogPath'].rsplit('/', 1)[1]\n",
    "\n",
    "        # Move some fields into definitions\n",
    "        display = indicator['display']\n",
    "        for key in ('additionalInfo', 'sourceLink', 'dataPublishedBy', 'sourceName'):\n",
    "            info = display[key]\n",
    "            info = info.replace('\\\\n', '\\n')\n",
    "\n",
    "            h = \"def_\" + str(abs(hash(display[key])))\n",
    "\n",
    "            definitions[key][h] = info\n",
    "            display[key] = '*' + h\n",
    "\n",
    "definitions['common_views'] = [\n",
    "    {\n",
    "        \"config\": {\n",
    "            \"timelineMinTime\": \"-4043\",\n",
    "        },\n",
    "    }\n",
    "]\n",
    "\n",
    "config[\"definitions\"] = definitions\n",
    "\n",
    "config = move_field_to_top(config, \"definitions\")"
   ]
  },
  {
   "cell_type": "code",
   "execution_count": 105,
   "metadata": {},
   "outputs": [],
   "source": [
    "new_views = []\n",
    "for view in config['views']:\n",
    "    dims = view['dimensions']\n",
    "    if dims['metric'] == 'confirmed_cases__by_surveillance_type' and dims['interval'] == 'weekly' and dims['confirmed_cases_or_symptoms'] == 'confirmed_cases':\n",
    "        new_views.append(view)\n",
    "\n",
    "config['views'] = new_views"
   ]
  },
  {
   "cell_type": "code",
   "execution_count": 8,
   "metadata": {},
   "outputs": [],
   "source": [
    "# extract display for indicators\n",
    "\n",
    "tables = defaultdict(dict)\n",
    "\n",
    "for view in config['views']:\n",
    "    for ind in view['indicators']['y']:\n",
    "        table_name, col = ind['catalogPath'].split('#')\n",
    "        if 'variables' not in tables[table_name]:\n",
    "            tables[table_name]['variables'] = {}\n",
    "        variable_entry = {\n",
    "            \"title\": col,\n",
    "            'unit': ind['display'].pop('unit')\n",
    "        }\n",
    "        variable_entry[\"display\"] = {\n",
    "            \"name\": ind['display'].pop('name')\n",
    "        }\n",
    "        if 'shortUnit' in ind['display']:\n",
    "            variable_entry['short_unit'] = ind['display'].pop('shortUnit')\n",
    "        tables[table_name]['variables'][col] = variable_entry"
   ]
  },
  {
   "cell_type": "code",
   "execution_count": 9,
   "metadata": {},
   "outputs": [],
   "source": [
    "# dump explorer config\n",
    "path_new = STEP_DIR / \"export/explorers/who/latest/influenza.config.yml\"\n",
    "with open(path_new, \"w\") as f:\n",
    "    f.write(dump_yaml_with_anchors(config))\n",
    "\n",
    "# dump metadata for the grapher step\n",
    "# path_new = STEP_DIR / \"data/grapher/who/latest/flu.meta.yml\"\n",
    "# with open(path_new, \"w\") as f:\n",
    "#     f.write(yaml_dump({\"tables\": tables}))"
   ]
  },
  {
   "cell_type": "code",
   "execution_count": null,
   "metadata": {},
   "outputs": [],
   "source": []
  },
  {
   "cell_type": "code",
   "execution_count": 45,
   "metadata": {},
   "outputs": [
    {
     "name": "stdout",
     "output_type": "stream",
     "text": [
      "**Dataset Description:** \n",
      "- FluNET is a human influenza surveillance dataset that aggregates data from (1) the Global Influenza Surveillance and Response System (GISRS), (2) other national influenza reference laboratories that collaborate with the GISRS, and (3) other influenza surveillance data uploaded from WHO regional databases.\n",
      "- Some of these samples are tested to determine whether they are influenza and whether they are influenza A or influenza B. Some surveillance centers also test the samples to identify their subtype. These are described as strains for influenza A (e.g., A H7N9) and lineages for influenza B (e.g., B Yamagata). This testing can use molecular detection, virus culture, or immunological methods.\n",
      "\n",
      "**Surveillance types:**\n",
      "- Surveillance data from each country may come from sentinel sites or non-sentinel sites.\n",
      "- Sentinel sites are health centers in a country that are selected to perform high-quality testing of cases: they test for flu subtypes and lineages in a routine and timely manner.\n",
      "- They are also selected in a way that is aimed to be representative of the population. For example, they include health centers in both urban and rural areas, are general hospitals rather than specialist centers, and cater to a wide range of demographics.\n",
      "- The WHO provides guidelines to countries for selecting centers which will be sentinel sites, using these criteria. The selection also depends on which centers have the resources for data collection, testing and reporting.\n",
      "- Sentinel data can give a representative picture of trends across time in the country. But, since not all health centers and clinics are included, the data does not tell us about the total number of infections across the country. See also: World Health Organization. (1999). WHO Recommended Surveillance Standards. Second edition. https://web.archive.org/web/20220121021824/http://www.who.int/csr/resources/publications/surveillance/whocdscsrisr992.pdf\n",
      "- Data on flu can also come from 'non-sentinel' sites. This includes other kinds of testing, which may be done at point of care, in universal testing, or during outbreak investigation. \n",
      "-Some samples are not categorized as either sentinel or non-sentinel surveillance. These are included in the data for 'all types' of surveillance.\n",
      "\n",
      "**Data preparation steps:**\n",
      "-  Remove rows where confirmed cases by influenza strain do not sum as expected. Specifically:\n",
      "  · Where all the influenza A strains do not sum to the total value given for influenza A\n",
      "  · Where all the influenza B strains do not sum to the total value given for influenza B\n",
      "  · Where influenza A + influenza B does not equal total influenza confirmed cases\n",
      "- We follow the WHO’s method to calculate the ‘Share of tests that test positive (%).’ They suggest using three possible denominators, in order of preference: \n",
      "  · Number of negative influenza tests + number of positive tests\n",
      "  · Number of specimens processed\n",
      "  · Number of specimens received\n",
      "-  We follow the above approach at the country level. At the regional level, we do not consider the number of negative influenza tests as, historically, there is not much data available for this variable.\n",
      "  · For example, there are many weeks where only one country has a value for negative influenza tests. Instead, we use specimens processed as the primary denominator as data for this is much more plentiful.\n",
      "-  We set the negative tests to NA where the sum of negative tests is 0, and the sum of the negative and positive tests does not equal the number of processed tests.\n",
      "-  We calculate an aggregate for the UK by summing data for England, N.Ireland, Scotland, and Wales. \n",
      "-  We calculate global and hemisphere aggregates by summing count variables and averaging rate variables.\n",
      "-  We calculate monthly from weekly variables by aggregating all weeks commencing in a particular month to that month. \n",
      "-  We remove all values for years with less than 10 data points.\n",
      "-  We remove all values for time series where the only values are 0 or NA.\n",
      "-  We do not show data for the most recent 21 days. Data covering the most recent 21 days is often adjusted and updated in the weeks following its release.\n"
     ]
    }
   ],
   "source": [
    "print(info.replace('\\\\n', '\\n'))"
   ]
  },
  {
   "cell_type": "code",
   "execution_count": 29,
   "metadata": {},
   "outputs": [
    {
     "data": {
      "text/plain": [
       "{'-2329260084214905053': \"**Dataset Description:** \\\\n- FluNET is a human influenza surveillance dataset that aggregates data from (1) the Global Influenza Surveillance and Response System (GISRS), (2) other national influenza reference laboratories that collaborate with the GISRS, and (3) other influenza surveillance data uploaded from WHO regional databases.\\\\n- Some of these samples are tested to determine whether they are influenza and whether they are influenza A or influenza B. Some surveillance centers also test the samples to identify their subtype. These are described as strains for influenza A (e.g., A H7N9) and lineages for influenza B (e.g., B Yamagata). This testing can use molecular detection, virus culture, or immunological methods.\\\\n\\\\n**Surveillance types:**\\\\n- Surveillance data from each country may come from sentinel sites or non-sentinel sites.\\\\n- Sentinel sites are health centers in a country that are selected to perform high-quality testing of cases: they test for flu subtypes and lineages in a routine and timely manner.\\\\n- They are also selected in a way that is aimed to be representative of the population. For example, they include health centers in both urban and rural areas, are general hospitals rather than specialist centers, and cater to a wide range of demographics.\\\\n- The WHO provides guidelines to countries for selecting centers which will be sentinel sites, using these criteria. The selection also depends on which centers have the resources for data collection, testing and reporting.\\\\n- Sentinel data can give a representative picture of trends across time in the country. But, since not all health centers and clinics are included, the data does not tell us about the total number of infections across the country. See also: World Health Organization. (1999). WHO Recommended Surveillance Standards. Second edition. https://web.archive.org/web/20220121021824/http://www.who.int/csr/resources/publications/surveillance/whocdscsrisr992.pdf\\\\n- Data on flu can also come from 'non-sentinel' sites. This includes other kinds of testing, which may be done at point of care, in universal testing, or during outbreak investigation. \\\\n-Some samples are not categorized as either sentinel or non-sentinel surveillance. These are included in the data for 'all types' of surveillance.\\\\n\\\\n**Data preparation steps:**\\\\n-  Remove rows where confirmed cases by influenza strain do not sum as expected. Specifically:\\\\n  · Where all the influenza A strains do not sum to the total value given for influenza A\\\\n  · Where all the influenza B strains do not sum to the total value given for influenza B\\\\n  · Where influenza A + influenza B does not equal total influenza confirmed cases\\\\n- We follow the WHO’s method to calculate the ‘Share of tests that test positive (%).’ They suggest using three possible denominators, in order of preference: \\\\n  · Number of negative influenza tests + number of positive tests\\\\n  · Number of specimens processed\\\\n  · Number of specimens received\\\\n-  We follow the above approach at the country level. At the regional level, we do not consider the number of negative influenza tests as, historically, there is not much data available for this variable.\\\\n  · For example, there are many weeks where only one country has a value for negative influenza tests. Instead, we use specimens processed as the primary denominator as data for this is much more plentiful.\\\\n-  We set the negative tests to NA where the sum of negative tests is 0, and the sum of the negative and positive tests does not equal the number of processed tests.\\\\n-  We calculate an aggregate for the UK by summing data for England, N.Ireland, Scotland, and Wales. \\\\n-  We calculate global and hemisphere aggregates by summing count variables and averaging rate variables.\\\\n-  We calculate monthly from weekly variables by aggregating all weeks commencing in a particular month to that month. \\\\n-  We remove all values for years with less than 10 data points.\\\\n-  We remove all values for time series where the only values are 0 or NA.\\\\n-  We do not show data for the most recent 21 days. Data covering the most recent 21 days is often adjusted and updated in the weeks following its release.\",\n",
       " '4261566543251430931': \"**Dataset Description:**\\\\n- FluNET is a human influenza surveillance dataset that aggregates data from (1) the Global Influenza Surveillance and Response System (GISRS), (2) other national influenza reference laboratories that collaborate with the GISRS, and (3) other influenza surveillance data uploaded from WHO regional databases.\\\\n-Some of these samples are tested to determine whether they are influenza and whether they are influenza A or influenza B. Some surveillance centers also test the samples to identify their subtype. These are described as strains for influenza A (e.g., A H7N9) and lineages for influenza B (e.g., B Yamagata). This testing can use molecular detection, virus culture, or immunological methods.\\\\n\\\\n**Surveillance types:**\\\\n- Surveillance data from each country may come from sentinel sites or non-sentinel sites.\\\\n- Sentinel sites are health centers in a country that are selected to perform high-quality testing of cases: they test for flu subtypes and lineages in a routine and timely manner.\\\\n- They are also selected in a way that is aimed to be representative of the population. For example, they include health centers in both urban and rural areas, are general hospitals rather than specialist centers, and cater to a wide range of demographics.\\\\n- The WHO provides guidelines to countries for selecting centers which will be sentinel sites, using these criteria. The selection also depends on which centers have the resources for data collection, testing and reporting.\\\\n- Sentinel data can give a representative picture of trends across time in the country. But, since not all health centers and clinics are included, the data does not tell us about the total number of infections across the country. See also: World Health Organization. (1999). WHO Recommended Surveillance Standards. Second edition. https://web.archive.org/web/20220121021824/http://www.who.int/csr/resources/publications/surveillance/whocdscsrisr992.pdf\\\\n- Data on flu can also come from 'non-sentinel' sites. This includes other kinds of testing, which may be done at point of care, in universal testing, or during outbreak investigation.\\\\n-Some samples are not categorized as either sentinel or non-sentinel surveillance. These are included in the data for 'all types' of surveillance.\\\\n\\\\n**Data preparation steps:**\\\\n-  Remove rows where confirmed cases by influenza strain do not sum as expected. Specifically:\\\\n  · Where all the influenza A strains do not sum to the total value given for influenza A\\\\n  · Where all the influenza B strains do not sum to the total value given for influenza B\\\\n  · Where influenza A + influenza B does not equal total influenza confirmed cases\\\\n\\\\n- We follow the WHO’s method to calculate the ‘Share of tests that test positive (%).’ They suggest using three possible denominators, in order of preference: \\\\n  · Number of negative influenza tests + number of positive tests\\\\n  · Number of specimens processed\\\\n  · Number of specimens received\\\\n-  We follow the above approach at the country level. At the regional level, we do not consider the number of negative influenza tests as, historically, there is not much data available for this variable.\\\\n  · For example, there are many weeks where only one country has a value for negative influenza tests. Instead, we use specimens processed as the primary denominator as data for this is much more plentiful.\\\\n\\\\n-  We set the negative tests to NA where the sum of negative tests is 0, and the sum of the negative and positive tests does not equal the number of processed tests.\\\\n-  We calculate an aggregate for the UK by summing data for England, N.Ireland, Scotland, and Wales.\\\\n-  We calculate global and hemisphere aggregates by summing count variables and averaging rate variables.\\\\n-  We calculate monthly from weekly variables by aggregating all weeks commencing in a particular month to that month.\\\\n-  We remove all values for years with less than 10 data points.\\\\n-  We remove all values for time series where the only values are 0 or NA.\\\\n-  We do not show data for the most recent 21 days. Data covering the most recent 21 days is often adjusted and updated in the weeks following its release.\",\n",
       " '5685630473740812518': '**Dataset Description**:\\\\n- FluID is a global human influenza surveillance dataset from the WHO that aggregates weekly data. Data comes from national influenza surveillance and regional networks such as EUROFlu.\\\\n- The WHO defines acute respiratory illnesses (ARIs) as sudden/acute onset of ≥1 of the following symptoms: cough, sore throat, shortness of breath, rhinitis, and were judged by a clinician to be due to an infection.\\\\n- The WHO defines influenza-like illnesses (ILIs) as acute respiratory infections with a fever ≥38ºC, a cough, and onset of symptoms within the last ten days.\\\\n- The WHO defines severe acute respiratory infections (SARIs) as acute respiratory infections with a history of fever or measured fever of ≥38 C°, cough, with onset within the last ten days, requiring hospitalization.\\\\n- Some countries use older definitions of these conditions.\\\\n- Surveillance data from each country may come from sentinel sites, non-sentinel sites, or universal testing. However, the FluID dataset does not list the data under these separate categories, so we show them together.\\\\n- You can find more detail on the surveillance strategies, sampling methods, and definitions used by each country here: https://apps.who.int/iris/bitstream/handle/10665/352183/WHO-EURO-2022-4760-44523-63025-eng.pdf?sequence=1&isAllowed=y  \\\\n\\\\n**Data preparation steps**:\\\\n- We remove values where the number of SARI cases is below the number of inpatients - by definition SARI cases should also be inpatients so there should always be more inpatients than SARI cases.\\\\n- We remove values where the number of ILIs or ARIs per 1000 outpatients is ≥ 1000.\\\\n- We remove values where the number of SARIs per 100 inpatients is ≥ 100.\\\\n- We remove all values for the time-series of ILIs or ARIs per 1000 outpatients where all values are ≤ 1 or ≥ 999.\\\\n- We remove all values for the time-series of SARIs per 100 inpatients where all values are ≤ 1 or ≥ 99.\\\\n- We calculate regional aggregates by summing count variables.\\\\n- We calculate monthly variables from weekly variables - all weeks commencing in a particular month are aggregated to that month.\\\\n- We remove all values for years with less than 10 data points.\\\\n- We do not show data for the most recent 21 days. Data covering the most recent 21 days is often adjusted and updated in the weeks following its release.',\n",
       " '2620805854952122498': '**Dataset Description:**\\\\n- FluID is a global human influenza surveillance dataset from the WHO that aggregates weekly data. Data comes from national influenza surveillance and regional networks such as EUROFlu.\\\\n- The WHO defines acute respiratory illnesses (ARIs) as sudden/acute onset of ≥1 of the following symptoms: cough, sore throat, shortness of breath, coryza, and were judged by a clinician to be due to an infection.\\\\n- The WHO defines influenza-like illnesses (ILIs) as acute respiratory infections with a fever ≥38ºC, a cough, and onset of symptoms within the last ten days.\\\\n- The WHO defines severe acute respiratory infections (SARIs) as acute respiratory infections with a history of fever or measured fever of ≥38 C°, cough, with onset within the last ten days, requiring hospitalization.\\\\n- Some countries use older definitions of these conditions.\\\\n- Surveillance data from each country may come from sentinel sites, non-sentinel sites, or universal testing. However, the FluID dataset does not list the data under these separate categories, so we show them together.\\\\n- You can find more detail on the surveillance strategies, sampling methods, and definitions used by each country here: https://apps.who.int/iris/bitstream/handle/10665/352183/WHO-EURO-2022-4760-44523-63025-eng.pdf?sequence=1&isAllowed=y \\\\n\\\\n**Data preparation steps:**\\\\n- We remove values where the number of SARI cases is below the number of inpatients - by definition SARI cases should also be inpatients so there should always be more inpatients than SARI cases. \\\\n- We remove values where the number of ILIs or ARIs per 1000 outpatients is ≥ 1000.\\\\n- We remove values where the number of SARIs per 100 inpatients is ≥ 100.\\\\n- We remove all values for the time-series of ILIs or ARIs per 1000 outpatients where all values are ≤ 1 or ≥ 999.\\\\n- We remove all values for the time-series of SARIs per 100 inpatients where all values are ≤ 1 or ≥ 99.\\\\n- We calculate regional aggregates by summing count variables.\\\\n- We calculate monthly variables from weekly variables - all weeks commencing in a particular month are aggregated to that month.\\\\n- We remove all values for years with less than 10 data points.\\\\n- We do not show data for the most recent 21 days. Data covering the most recent 21 days is often adjusted and updated in the weeks following its release.'}"
      ]
     },
     "execution_count": 29,
     "metadata": {},
     "output_type": "execute_result"
    }
   ],
   "source": [
    "definitions"
   ]
  },
  {
   "cell_type": "code",
   "execution_count": null,
   "metadata": {},
   "outputs": [],
   "source": [
    "# import yaml\n",
    "\n",
    "# from etl.files import yaml_dump\n",
    "\n",
    "# config = migrate_csv_explorer(\"/home/lucas/repos/owid-content/explorers/monkeypox.explorer.tsv\")\n",
    "# # print(yaml.dump(config))\n",
    "# with open(\"/home/lucas/repos/etl/etl/steps/export/explorers/who/latest/monkeypox2.config.yml\", \"w\") as f:\n",
    "#     yaml_dump(config, f)\n",
    "\n",
    "# path_new = \"\"\n",
    "# with open(path_new, \"w\"):\n",
    "#     yaml.safe_dump(config, default_flow_style=False, sort_keys=False, width=float(\"inf\"))\n",
    "\n",
    "# 2/ Read all explorers, more raw experimenting\n",
    "# import pandas as pd\n",
    "\n",
    "# # Read and parse all config\n",
    "# explorers = {}\n",
    "# explorer_dir = Path(\"/home/lucas/repos/owid-content/explorers/\")\n",
    "# explorers_path = explorer_dir.glob(\"*.explorer.tsv\")\n",
    "# explorers_path = sorted(list(explorers_path))\n",
    "# for path in explorers_path:\n",
    "#     name = Path(path.stem).stem\n",
    "#     print(name)\n",
    "#     explorer_json = parse_explorer(name, path)\n",
    "#     explorers[name] = explorer_json\n",
    "\n",
    "# Filter and keep public ones\n",
    "# explorers = {k: v for k, v in explorers.items() if v[\"isPublished\"] == \"true\"}\n",
    "\n",
    "\n",
    "# analysis = []\n",
    "# types_rename = {\n",
    "#     \"grapher\": \"G\",\n",
    "#     \"indicator\": \"I\",\n",
    "#     \"csv\": \"C\",\n",
    "# }\n",
    "# settings = []\n",
    "# for name, explorer in explorers.items():\n",
    "#     if name in {\"global-food\"}:\n",
    "#         continue\n",
    "#     migration = ExplorerMigration(explorer, name)\n",
    "#     try:\n",
    "#         settings_ = migration.run()\n",
    "#     except TableURLNotInCataloException as e:\n",
    "#         print(f\"{name}: {e}\")\n",
    "#     except NotSupportedException as e:\n",
    "#         print(f\"{name}: {e}\")\n",
    "#     else:\n",
    "#         settings.append(settings_)\n",
    "\n",
    "# df = pd.DataFrame(analysis).sort_values(\"name\")"
   ]
  }
 ],
 "metadata": {
  "kernelspec": {
   "display_name": ".venv",
   "language": "python",
   "name": "python3"
  },
  "language_info": {
   "codemirror_mode": {
    "name": "ipython",
    "version": 3
   },
   "file_extension": ".py",
   "mimetype": "text/x-python",
   "name": "python",
   "nbconvert_exporter": "python",
   "pygments_lexer": "ipython3",
   "version": "3.12.4"
  }
 },
 "nbformat": 4,
 "nbformat_minor": 2
}
