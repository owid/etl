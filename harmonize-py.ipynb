{
 "cells": [
  {
   "cell_type": "code",
   "execution_count": 1,
   "metadata": {},
   "outputs": [],
   "source": [
    "from owid.catalog import Dataset\n",
    "from etl.harmonize import harmonize_ipython\n",
    "from etl.paths import DATA_DIR"
   ]
  },
  {
   "cell_type": "code",
   "execution_count": 2,
   "metadata": {},
   "outputs": [],
   "source": [
    "ds = Dataset(DATA_DIR / \"meadow\" / \"un\" / \"2022-07-11\" / \"un_wpp\")\n",
    "tb = ds[\"population\"].reset_index()"
   ]
  },
  {
   "cell_type": "code",
   "execution_count": 3,
   "metadata": {},
   "outputs": [
    {
     "name": "stdout",
     "output_type": "stream",
     "text": [
      "Resuming from existing mapping...\n",
      "\n",
      "256 countries/regions to harmonize\n",
      "  └ 256 automatically matched\n",
      "  └ 0 ambiguous countries/regions\n",
      "\n"
     ]
    }
   ],
   "source": [
    "harmonize_ipython(tb, \"location\", \"here.json\")"
   ]
  }
 ],
 "metadata": {
  "kernelspec": {
   "display_name": ".venv",
   "language": "python",
   "name": "python3"
  },
  "language_info": {
   "codemirror_mode": {
    "name": "ipython",
    "version": 3
   },
   "file_extension": ".py",
   "mimetype": "text/x-python",
   "name": "python",
   "nbconvert_exporter": "python",
   "pygments_lexer": "ipython3",
   "version": "3.11.1"
  }
 },
 "nbformat": 4,
 "nbformat_minor": 2
}
