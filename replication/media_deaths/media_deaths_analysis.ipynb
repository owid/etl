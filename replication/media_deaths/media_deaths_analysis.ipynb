{
 "cells": [
  {
   "cell_type": "markdown",
   "id": "a69e27c1",
   "metadata": {},
   "source": [
    "This notebook runs all the code to create the data for the analysis of mentions for causes of death in the media\n",
    "\n",
    "It can be run as part of the OWID etl repo or locally. Changes in code between these two versions are clearly marked. "
   ]
  },
  {
   "cell_type": "code",
   "execution_count": 18,
   "id": "7a6beeed",
   "metadata": {},
   "outputs": [],
   "source": [
    "import datetime as dt\n",
    "from pathlib import Path\n",
    "import click\n",
    "import mediacloud.api\n",
    "import pandas as pd\n",
    "from query_generation import create_full_queries, create_queries\n",
    "import time\n"
   ]
  },
  {
   "cell_type": "markdown",
   "id": "8f959d1e",
   "metadata": {},
   "source": [
    "## Set overall variables for analysis"
   ]
  },
  {
   "cell_type": "code",
   "execution_count": 19,
   "id": "e218a319",
   "metadata": {},
   "outputs": [],
   "source": [
    "YEAR = 2023\n",
    "VERBOSE = True\n",
    "\n",
    "# These are the causes of death we are using for the 2023 version.\n",
    "# They are based on the 12 leading causes of death in the US for 2023, plus drug overdoses, homicides, and terrorism\n",
    "CAUSES_OF_DEATH = [\n",
    "    \"heart disease\",\n",
    "    \"cancer\",\n",
    "    \"accidents\",\n",
    "    \"stroke\",\n",
    "    \"respiratory\",\n",
    "    \"alzheimers\",\n",
    "    \"diabetes\",\n",
    "    \"kidney\",\n",
    "    \"liver\",\n",
    "    \"covid\",\n",
    "    \"suicide\",\n",
    "    \"influenza\",\n",
    "    \"drug overdose\",\n",
    "    \"homicide\",\n",
    "    \"terrorism\",\n",
    "]"
   ]
  },
  {
   "cell_type": "markdown",
   "id": "3c3bbd48",
   "metadata": {},
   "source": [
    "## Get deaths for each cause of death"
   ]
  },
  {
   "cell_type": "code",
   "execution_count": null,
   "id": "b12f34cf",
   "metadata": {},
   "outputs": [],
   "source": []
  },
  {
   "cell_type": "markdown",
   "id": "27530e15",
   "metadata": {},
   "source": [
    "## Get Media Mentions from Media Cloud\n",
    "To get the number of articles that mention each cause of death for three major newspapers (the New York Times, the Washington Post and Fox News) we use the open-source database [Media Cloud](https://www.mediacloud.org/). \n",
    "\n",
    "Before you can run this code you need to create a free account on Media Cloud [here](https://search.mediacloud.org/sign-up) and create an [API token](https://github.com/mediacloud/api-tutorial-notebooks/blob/main/MC01%20-%20setup.ipynb). This API token should be pasted below, so you can access the database."
   ]
  },
  {
   "cell_type": "code",
   "execution_count": 20,
   "id": "11a19499",
   "metadata": {},
   "outputs": [],
   "source": [
    "#TODO remove this part:\n",
    "from dotenv import load_dotenv\n",
    "import os\n",
    "\n",
    "load_dotenv()\n",
    "\n",
    "MC_API_TOKEN = os.getenv(\"MC_API_TOKEN\") #paste your API TOKEN here e.g. \"46971fa7d873b615238234a777c2d867fbbb444b\" - this is NOT a valid token\n",
    "search_api = mediacloud.api.SearchApi(MC_API_TOKEN)\n",
    "\n",
    "# source IDs for each newspaper\n",
    "NYT_ID = 1\n",
    "WAPO_ID = 2\n",
    "FOX_ID = 1092\n",
    "US_COLLECTION_ID = 34412234\n",
    "\n",
    "# create queries - see query_generation.py\n",
    "QUERIES = create_queries()\n",
    "STR_QUERIES = create_full_queries()"
   ]
  },
  {
   "cell_type": "code",
   "execution_count": null,
   "id": "56edf212",
   "metadata": {},
   "outputs": [],
   "source": [
    "def get_start_end(year):\n",
    "    return (dt.date(year, 1, 1), dt.date(year, 12, 31))\n",
    "\n",
    "# helper function to use Media Cloud API\n",
    "def query_results(query, source_ids, year, collection_ids=None):\n",
    "    start_date, end_date = get_start_end(year)\n",
    "    if collection_ids:\n",
    "        results = search_api.story_count(\n",
    "            query=query, start_date=start_date, end_date=end_date, collection_ids=collection_ids\n",
    "        )\n",
    "    else:\n",
    "        results = search_api.story_count(query=query, start_date=start_date, end_date=end_date, source_ids=source_ids)\n",
    "    return results[\"relevant\"]\n",
    "\n",
    "# function to get mentions from a specific source\n",
    "def get_mentions_from_source(\n",
    "    source_ids: list,\n",
    "    source_name: str,\n",
    "    queries: dict,\n",
    "    year=YEAR,\n",
    "    collection_ids=None,\n",
    "):\n",
    "    \"\"\"\n",
    "    Get mentions of causes of death from a specific source.\n",
    "    Args:\n",
    "        source_ids (list): List of source IDs to query.\n",
    "        source_name (str): Name of the source.\n",
    "        queries (dict): Dictionary of queries to run.\n",
    "        year (int): Year to query for.\n",
    "        collection_ids (list): List of collection IDs to query.\n",
    "    Returns:\n",
    "        pd.DataFrame: DataFrame containing the results of the queries.\"\"\"\n",
    "    query_count = []\n",
    "    for name, query in queries.items():\n",
    "        time.sleep(30) # wait for 30 seconds to avoid hitting API rate limits\n",
    "        start_time = time.time()\n",
    "        cnt = query_results(query, source_ids, collection_ids=collection_ids, year=year)\n",
    "        if VERBOSE:\n",
    "            print(f\"Querying: {source_name} for CoD {name}\")\n",
    "            print(f\"Query: {query}\")\n",
    "            print(f\"Count: {cnt} mentions for {name} in the {source_name} in {year} - retrieved in {time.time() - start_time:.2f} seconds\")\n",
    "            print(\"-\" * 40)\n",
    "        query_count.append(\n",
    "            {\n",
    "                \"cause\": name,\n",
    "                \"mentions\": cnt,\n",
    "                \"source\": source_name,\n",
    "                \"year\": year,\n",
    "            }\n",
    "        )\n",
    "    return pd.DataFrame(query_count)\n"
   ]
  },
  {
   "cell_type": "code",
   "execution_count": null,
   "id": "80c29c5d",
   "metadata": {},
   "outputs": [
    {
     "name": "stdout",
     "output_type": "stream",
     "text": [
      "Querying: The New York Times for CoD heart disease\n",
      "Query: (\"heart disease heart\"~1000 OR \"heart attack heart\"~1000 OR \"heart cardiac\"~1000 OR \"cardiac cardiac\"~1000 OR \"heart infarct artery\"~1000 OR \"heart coronary artery\"~1000 OR \"cardiac coronary artery\"~1000 OR \"heart arrhythmia\"~1000 OR \"arrhythmia cardiac\"~1000 OR \"heart failure heart\"~1000 OR \"heart failure cardiac\"~1000 OR \"heart pericarditis\"~1000 OR \"heart endocarditis\"~1000 OR \"heart cardiomyopathy\"~1000 OR \"heart hypotension\"~1000 OR \"cardiac hypertension\"~1000 OR \"heart infection heart\"~1000 OR \"heart cardiology\"~1000 OR \"heart cardiologist\"~1000 OR \"heart disease blood pressure\"~1000 OR \"heart attack blood pressure\"~1000) AND (\"heart disease\" OR \"heart attack\" OR \"cardiac arrest\" OR \"infarct\" OR \"coronary artery disease\" OR \"arrhythmia\" OR \"heart failure\" OR \"pericarditis\" OR \"endocarditis\" OR \"cardiomyopathy\" OR \"high blood pressure\" OR \"hypertension\" OR \"heart infection\" OR \"cardiology\" OR \"cardiologist\")\n",
      "Count: 436 mentions for heart disease in the The New York Times in 2023 - retrieved in 0.41350507736206055 seconds\n",
      "----------------------------------------\n",
      "Querying: The New York Times for CoD cancer\n",
      "Query: (\"cancer cancer\"~1000 OR \"cancer tumor\"~1000 OR \"cancer tumour\"~1000 OR \"cancer carcinoma\"~1000 OR \"cancer sarcoma\"~1000 OR \"cancer leukemia\"~1000 OR \"cancer lymphoma\"~1000 OR \"cancer melanoma\"~1000 OR \"cancer oncology\"~1000 OR \"cancer chemotherapy\"~1000 OR \"cancer radiation therapy\"~1000 OR \"cancer immunotherapy\"~1000 OR \"cancer targeted therapy\"~1000 OR \"cancer biopsy\"~1000 OR \"cancer remission\"~1000 OR \"cancer carcinogen\"~1000) AND (\"cancer\" OR \"tumor\" OR \"tumour\" OR \"carcinoma\" OR \"sarcoma\" OR \"leukemia\" OR \"lymphoma\" OR \"melanoma\" OR \"oncology\" OR \"oncologist\" OR \"chemotherapy\" OR \"radiation therapy\" OR \"immunotherapy\" OR \"targeted therapy\" OR \"biopsy\" OR \"oncogene\" OR \"carcinogenesis\" OR \"metastasis\" OR \"remission\" OR \"carcinogenic\" OR \"carcinogen\")\n",
      "Count: 625 mentions for cancer in the The New York Times in 2023 - retrieved in 0.20831894874572754 seconds\n",
      "----------------------------------------\n",
      "Querying: The New York Times for CoD accidents\n",
      "Query: (\"accident accident \"~1000 OR \"crash accident \"~1000 OR \"crash crash\"~1000 OR \"crash collision\"~1000 OR \"collision collision\"~1000 OR \"car accident car\"~1000 OR \"motorcycle accident motorcycle\"~1000 OR \"hit and run accident\"~1000 OR \"plane crash plane\"~1000 OR \"plane accident plane\"~1000 OR \"train accident train\"~1000 OR \"boat accident boat\"~1000 OR \"electrocution electric\"~1000 OR \"burn burn\"~1000 OR \"drowning drown\"~1000 OR \"fire fire died\"~1000 OR \"fire fire dead\"~1000 OR \"fire fire killed\"~1000 OR \"fire fire burn injury\"~1000) AND (\"road accident\" OR \"car crash\" OR \"vehicle accident\" OR \"traffic collision\" OR \"car accident\" OR \"motorcycle accident\" OR \"hit and run\" OR \"plane crash\" OR \"train accident\" OR \"boat accident\" OR \"plane accident\" OR \"industrial accident\" OR \"workplace accident\" OR \"electrocution\" OR \"burn injury\" OR \"drowning\" OR \"drowned\" OR \"house fire\" OR \"blaze\" OR \"burns\" OR \"burning\" OR \"burned\")\n",
      "Count: 1489 mentions for accidents in the The New York Times in 2023 - retrieved in 0.20923709869384766 seconds\n",
      "----------------------------------------\n",
      "Querying: The New York Times for CoD stroke\n",
      "Query: (\"stroke stroke\"~1000 OR \"stroke cerebrovascular\"~1000 OR \"stroke brain attack\"~1000 OR \"stroke transient ischemic attack\"~1000 OR \"stroke cerebral\"~1000 OR \"stroke hemorrhage\"~1000 OR \"stroke neurology\"~1000 OR \"stroke neurologist\"~1000 OR \"thrombosis brain\"~1000 OR \"thrombosis stroke\"~1000 OR \"embolism brain\"~1000 OR \"embolism stroke\"~1000 OR \"brain ischemia\"~1000 OR \"stroke ischemia\"~1000) AND (\"stroke\" OR \"brain attack\" OR \"transient ischemic attack\" OR \"brain hemorrhage\" OR \"embolism\" OR \"ischemia\" OR \"brain injury\" OR \"neurology\") NOT (\"golf\" OR \"golfing\")\n",
      "Count: 119 mentions for stroke in the The New York Times in 2023 - retrieved in 33.17417502403259 seconds\n",
      "----------------------------------------\n",
      "Querying: The New York Times for CoD respiratory\n",
      "Query: (\"COPD COPD\"~1000 OR \"COPD lung\"~1000 OR \"COPD respiratory\"~1000 OR \"COPD pulmonary\"~1000 OR \"COPD chronic bronchitis\"~1000 OR \"COPD emphysema\"~1000 OR \"COPD asthma\"~1000 OR \"C.O.P.D. C.O.P.D.\"~1000 OR \"C.O.P.D. lung\"~1000 OR \"C.O.P.D. respiratory\"~1000 OR \"C.O.P.D. pulmonary\"~1000 OR \"C.O.P.D. chronic bronchitis\"~1000 OR \"C.O.P.D. emphysema\"~1000 OR \"C.O.P.D. asthma\"~1000 OR \"chronic bronchitis bronchitis\"~1000 OR \"chronic bronchitis lung\"~1000 OR \"chronic bronchitis respiratory\"~1000 OR \"chronic bronchitis pulmonary\"~1000 OR \"chronic bronchitis emphysema\"~1000 OR \"chronic bronchitis asthma\"~1000 OR \"emphysema emphysema\"~1000 OR \"emphysema lung\"~1000 OR \"emphysema respiratory\"~1000 OR \"emphysema pulmonary\"~1000 OR \"emphysema asthma\"~1000 OR \"asthma asthma\"~1000 OR \"asthma lung\"~1000 OR \"asthma respiratory\"~1000 OR \"asthma pulmonary\"~1000 OR \"respiratory respiratory\"~1000 OR \"respiratory lung\"~1000 OR \"respiratory pulmonary\"~1000 OR \"pulmonary pulmonary\"~1000 OR \"pulmonary lung\"~1000 OR \"lung lung\"~1000) AND (\"chronic obstructive pulmonary disease\" OR \"COPD\" OR \"C.O.P.D.\" OR \"chronic bronchitis\" OR \"emphysema\" OR \"asthma\" OR \"respiratory failure\" OR \"lung disease\" OR \"pulmonary disease\" OR \"respiratory illness\" OR \"respiratory disease\" OR \"respiratory tract infection\")\n",
      "Count: 212 mentions for respiratory in the The New York Times in 2023 - retrieved in 28.57507014274597 seconds\n",
      "----------------------------------------\n",
      "Querying: The New York Times for CoD alzheimers\n",
      "Query: (\"Alzheimer Alzheimer\"~1000 OR \"Alzheimer’s Alzheimer’s\"~1000 OR \"Alzheimer's Alzheimer's\"~1000 OR \"Alzheimers Alzheimers\"~1000 OR \"Alzheimers dementia\"~1000 OR \"Alzheimer’s dementia\"~1000 OR \"Alzheimer's dementia\"~1000 OR \"dementia dementia\"~1000 OR \"Alzheimer dementia\"~1000) AND (\"Alzheimer\" OR \"Alzheimers\" OR \"Alzheimer’s\" OR \"Alzheimer's\" OR \"dementia\")\n",
      "Count: 131 mentions for alzheimers in the The New York Times in 2023 - retrieved in 3.5869719982147217 seconds\n",
      "----------------------------------------\n",
      "Querying: The New York Times for CoD diabetes\n",
      "Query: (\"diabetes diabetes\"~1000 OR \"hyperglycemia hyperglycemia\"~1000 OR \"diabetic diabetic\"~1000 OR \"diabetes insulin\"~1000 OR \"diabetes diabetic\"~1000 OR \"insulin diabetic\"~1000) AND (\"diabetes\" OR \"insulin\" OR \"hyperglycemia\" OR \"diabetic\")\n",
      "Count: 220 mentions for diabetes in the The New York Times in 2023 - retrieved in 6.039167881011963 seconds\n",
      "----------------------------------------\n",
      "Querying: The New York Times for CoD kidney\n",
      "Query: (\"kidney disease kidney\"~1000 OR \"kidney renal failure\"~1000 OR \"renal renal\"~1000 OR \"kidney chronic kidney disease\"~1000 OR \"kidney dialysis\"~1000 OR \"renal dialysis\"~1000 OR \"kidney nephrology\"~1000 OR \"kidney nephrologist\"~1000) AND (\"kidney disease\" OR \"renal disease\" OR \"renal failure\" OR \"kidney failure\" OR \"dialysis\" OR \"nephropathy\" OR \"nephrology\" OR \"nephrologist\")\n",
      "Count: 63 mentions for kidney in the The New York Times in 2023 - retrieved in 21.494343996047974 seconds\n",
      "----------------------------------------\n"
     ]
    }
   ],
   "source": [
    "assert MC_API_TOKEN is not None, \"Get API key from https://www.mediacloud.org/ in order to access this data\"\n",
    "source_ids = [NYT_ID, WAPO_ID, FOX_ID]\n",
    "sources = [\"The New York Times\", \"The Washington Post\", \"Fox News\"]\n",
    "\n",
    "mentions_ls = []\n",
    "\n",
    "queries_in_use = {q: q_str for q, q_str in STR_QUERIES.items() if q in CAUSES_OF_DEATH}\n",
    "\n",
    "for s_id, s_name in zip(source_ids, sources):\n",
    "    mentions = get_mentions_from_source([s_id], s_name, queries_in_use, year=YEAR)\n",
    "    mentions_ls.append(mentions.copy(deep=True))\n",
    "\n",
    "# add mentions for US collection\n",
    "collection_mentions = get_mentions_from_source(\n",
    "        source_ids=[],\n",
    "        source_name=\"US Collection\",\n",
    "        queries=queries_in_use,\n",
    "        year=YEAR,\n",
    "        collection_ids=[US_COLLECTION_ID],\n",
    "    )\n",
    "mentions_ls.append(collection_mentions.copy(deep=True))\n",
    "\n",
    "# concatenate all mentions into a single DataFrame\n",
    "mentions_df = pd.concat(mentions_ls, ignore_index=True)"
   ]
  }
 ],
 "metadata": {
  "kernelspec": {
   "display_name": "etl-py3.11",
   "language": "python",
   "name": "python3"
  },
  "language_info": {
   "codemirror_mode": {
    "name": "ipython",
    "version": 3
   },
   "file_extension": ".py",
   "mimetype": "text/x-python",
   "name": "python",
   "nbconvert_exporter": "python",
   "pygments_lexer": "ipython3",
   "version": "3.11.3"
  }
 },
 "nbformat": 4,
 "nbformat_minor": 5
}
