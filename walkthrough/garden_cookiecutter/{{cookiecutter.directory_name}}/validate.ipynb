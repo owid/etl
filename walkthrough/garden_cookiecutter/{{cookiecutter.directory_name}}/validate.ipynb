{
 "cells": [
  {
   "cell_type": "code",
   "execution_count": null,
   "metadata": {},
   "outputs": [],
   "source": [
    "from owid.catalog import Dataset\n",
    "from etl.paths import DATA_DIR\n",
    "\n",
    "ds = Dataset(\n",
    "    DATA_DIR\n",
    "    / \"garden\"\n",
    "    / \"{{cookiecutter.namespace}}\"\n",
    "    / \"{{cookiecutter.version}}\"\n",
    "    / \"{{cookiecutter.short_name}}\"\n",
    ")\n",
    "print(ds.table_names)"
   ]
  },
  {
   "cell_type": "code",
   "execution_count": null,
   "metadata": {},
   "outputs": [],
   "source": [
    "df = ds[\"{{cookiecutter.short_name}}\"]\n",
    "df.head()"
   ]
  }
 ],
 "metadata": {
  "kernelspec": {
   "display_name": "Python 3.9.12 ('.venv': poetry)",
   "language": "python",
   "name": "python3"
  },
  "language_info": {
   "codemirror_mode": {
    "name": "ipython",
    "version": 3
   },
   "file_extension": ".py",
   "mimetype": "text/x-python",
   "name": "python",
   "nbconvert_exporter": "python",
   "pygments_lexer": "ipython3",
   "version": "3.9.12"
  },
  "orig_nbformat": 4,
  "vscode": {
   "interpreter": {
    "hash": "844e7496ece5f279b92e860ee31795b4810a8e6a6d9b1dd318e3a60c64167b55"
   }
  }
 },
 "nbformat": 4,
 "nbformat_minor": 2
}
