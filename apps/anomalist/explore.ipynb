{
 "cells": [
  {
   "cell_type": "code",
   "execution_count": null,
   "metadata": {},
   "outputs": [],
   "source": [
    "# from myml.nbinit import *\n",
    "import pandas as pd\n",
    "from apps.anomalist.gp_anomaly import GPAnomalyDetector\n",
    "from apps.anomalist.cli import load_data_for_variable\n",
    "from etl.db import get_engine\n",
    "from etl import grapher_model as gm\n",
    "from sqlalchemy.orm import Session\n",
    "\n",
    "engine = get_engine()\n",
    "\n",
    "# get random dataset and random variable\n",
    "q = \"\"\"\n",
    "with t as (\n",
    "  select id from datasets order by rand() limit 1\n",
    ")\n",
    "select id from variables\n",
    "where datasetId in (select id from t)\n",
    "order by rand()\n",
    "limit 1\n",
    "\"\"\"\n",
    "\n",
    "mf = pd.read_sql(q, engine)\n",
    "variable_id = mf.id[0]\n",
    "\n",
    "with Session(engine) as session:\n",
    "    variable = gm.Variable.load_variable(session, variable_id)\n",
    "df = load_data_for_variable(engine, variable)\n",
    "\n",
    "gp = GPAnomalyDetector()\n",
    "gp.viz(df, variable)"
   ]
  }
 ],
 "metadata": {
  "language_info": {
   "name": "python"
  }
 },
 "nbformat": 4,
 "nbformat_minor": 2
}
