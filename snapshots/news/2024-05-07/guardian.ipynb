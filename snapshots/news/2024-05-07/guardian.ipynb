{
 "cells": [
  {
   "cell_type": "code",
   "execution_count": 1,
   "metadata": {},
   "outputs": [],
   "source": [
    "from guardian_mentions import get_pages_from_mentions,  get_number_pages, get_data_by_raw_mention, get_country_name_variations\n",
    "import ast\n",
    "import os\n",
    "import pathlib\n",
    "import time\n",
    "from pathlib import Path\n",
    "from typing import Any, Dict, List, Optional, Set, Tuple\n",
    "\n",
    "import click\n",
    "import numpy as np\n",
    "import pandas as pd\n",
    "import requests\n",
    "import yaml\n",
    "from owid.catalog import Dataset\n",
    "\n",
    "from etl.paths import DATA_DIR\n",
    "from etl.snapshot import Snapshot\n",
    "\n",
    "# Version for current snapshot dataset.\n",
    "\n",
    "# FILE TO COUNTRY FILES\n",
    "\n",
    "# Year range\n",
    "YEAR_START = 2016\n",
    "YEAR_END = 2024\n",
    "\n",
    "# Guardian API\n",
    "API_KEY = \"41277bb5-41e0-4662-9c41-3bde7fe082d3\"\n",
    "API_CONTENT_URL = \"https://content.guardianapis.com/search\"\n",
    "API_TAGS_URL = \"https://content.guardianapis.com/tags\"\n"
   ]
  },
  {
   "cell_type": "code",
   "execution_count": 2,
   "metadata": {},
   "outputs": [],
   "source": [
    "country_names = get_country_name_variations({\"Jordan\"})"
   ]
  },
  {
   "cell_type": "code",
   "execution_count": 3,
   "metadata": {},
   "outputs": [
    {
     "name": "stdout",
     "output_type": "stream",
     "text": [
      "Jordan\n",
      "Jordan\n",
      "Jordan\n",
      "Jordan\n",
      "Jordan\n",
      "Jordan\n",
      "Jordan\n",
      "Jordan\n",
      "Jordan\n",
      "Jordan\n"
     ]
    },
    {
     "data": {
      "text/plain": [
       "[{'country': 'Jordan', 'year': 2014, 'num_pages': 1841},\n",
       " {'country': 'Jordan', 'year': 2015, 'num_pages': 2121},\n",
       " {'country': 'Jordan', 'year': 2016, 'num_pages': 1969},\n",
       " {'country': 'Jordan', 'year': 2017, 'num_pages': 1653},\n",
       " {'country': 'Jordan', 'year': 2018, 'num_pages': 1652},\n",
       " {'country': 'Jordan', 'year': 2019, 'num_pages': 1632},\n",
       " {'country': 'Jordan', 'year': 2020, 'num_pages': 1434},\n",
       " {'country': 'Jordan', 'year': 2021, 'num_pages': 1596},\n",
       " {'country': 'Jordan', 'year': 2022, 'num_pages': 1531},\n",
       " {'country': 'Jordan', 'year': 2023, 'num_pages': 1927}]"
      ]
     },
     "execution_count": 3,
     "metadata": {},
     "output_type": "execute_result"
    }
   ],
   "source": [
    "get_data_by_raw_mention(country_names, range(2014, 2024))"
   ]
  },
  {
   "cell_type": "code",
   "execution_count": 5,
   "metadata": {},
   "outputs": [
    {
     "data": {
      "text/plain": [
       "[{'country': 'Total', 'year': 2013, 'num_pages': 125536}]"
      ]
     },
     "execution_count": 5,
     "metadata": {},
     "output_type": "execute_result"
    }
   ],
   "source": [
    "get_number_pages([2013], output_file=\"num_pages_total.csv\")"
   ]
  },
  {
   "cell_type": "code",
   "execution_count": 2,
   "metadata": {},
   "outputs": [],
   "source": [
    "params = {\n",
    "    \"api-key\": API_KEY,\n",
    "    \"q\": \"\",\n",
    "    \"page-size\": 200,\n",
    "    \"from-date\": \"2020-01-01\",\n",
    "    \"to-date\": \"2020-12-31\",\n",
    "}\n",
    "data = requests.get(API_CONTENT_URL, params=params).json()"
   ]
  },
  {
   "cell_type": "code",
   "execution_count": 14,
   "metadata": {},
   "outputs": [
    {
     "data": {
      "text/plain": [
       "78925"
      ]
     },
     "execution_count": 14,
     "metadata": {},
     "output_type": "execute_result"
    }
   ],
   "source": [
    "data[\"response\"][\"total\"]"
   ]
  },
  {
   "cell_type": "code",
   "execution_count": 3,
   "metadata": {},
   "outputs": [
    {
     "data": {
      "text/plain": [
       "78925"
      ]
     },
     "execution_count": 3,
     "metadata": {},
     "output_type": "execute_result"
    }
   ],
   "source": [
    "get_pages_from_mentions(\"\", 2020)"
   ]
  },
  {
   "cell_type": "code",
   "execution_count": 4,
   "metadata": {},
   "outputs": [
    {
     "data": {
      "text/plain": [
       "3622"
      ]
     },
     "execution_count": 4,
     "metadata": {},
     "output_type": "execute_result"
    }
   ],
   "source": [
    "get_pages_from_mentions(\"Spain\", 2020)"
   ]
  },
  {
   "cell_type": "code",
   "execution_count": 4,
   "metadata": {},
   "outputs": [
    {
     "name": "stdout",
     "output_type": "stream",
     "text": [
      "1 2\n",
      "3 4\n"
     ]
    }
   ],
   "source": [
    "params = [\n",
    "    (1,2),\n",
    "    (3,4)\n",
    "]\n",
    "\n",
    "for i, j in params:\n",
    "    print(i,j)"
   ]
  },
  {
   "cell_type": "code",
   "execution_count": null,
   "metadata": {},
   "outputs": [],
   "source": []
  }
 ],
 "metadata": {
  "kernelspec": {
   "display_name": ".venv",
   "language": "python",
   "name": "python3"
  },
  "language_info": {
   "codemirror_mode": {
    "name": "ipython",
    "version": 3
   },
   "file_extension": ".py",
   "mimetype": "text/x-python",
   "name": "python",
   "nbconvert_exporter": "python",
   "pygments_lexer": "ipython3",
   "version": "3.11.1"
  }
 },
 "nbformat": 4,
 "nbformat_minor": 2
}
