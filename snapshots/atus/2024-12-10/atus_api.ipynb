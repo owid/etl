{
 "cells": [
  {
   "cell_type": "code",
   "execution_count": 1,
   "metadata": {},
   "outputs": [],
   "source": [
    "import requests\n",
    "import json\n",
    "import prettytable"
   ]
  },
  {
   "cell_type": "code",
   "execution_count": 23,
   "metadata": {},
   "outputs": [],
   "source": [
    "# get all ATUS series\n",
    "p = requests.get(\"https://api.bls.gov/publicAPI/v2/timeseries/popular?survey=TU\")\n",
    "json_data = json.loads(p.text)\n",
    "#json_data\n",
    "headers = {\n",
    "    \"Content-Type\": \"application/json\"\n",
    "}\n",
    "series_id = [el[\"seriesID\"] for el in json_data[\"Results\"][\"series\"]]\n",
    "series_id\n",
    "payload = {\n",
    "    \"seriesid\": series_id,\n",
    "    \"startyear\": \"2019\",\n",
    "    \"endyear\": \"2023\",\n",
    "}"
   ]
  },
  {
   "cell_type": "code",
   "execution_count": 28,
   "metadata": {},
   "outputs": [],
   "source": [
    "resp = requests.post(\"https://api.bls.gov/publicAPI/v2/timeseries/data.xlsx\", headers=headers, data=json.dumps(payload))\n",
    "#json.loads(resp.text)"
   ]
  },
  {
   "cell_type": "code",
   "execution_count": 29,
   "metadata": {},
   "outputs": [],
   "source": [
    "with open(\"/Users/tunaacisu/Data/data_tu_bls.xlsx\", \"wb\") as file:\n",
    "        file.write(resp.content)"
   ]
  }
 ],
 "metadata": {
  "kernelspec": {
   "display_name": ".venv",
   "language": "python",
   "name": "python3"
  },
  "language_info": {
   "codemirror_mode": {
    "name": "ipython",
    "version": 3
   },
   "file_extension": ".py",
   "mimetype": "text/x-python",
   "name": "python",
   "nbconvert_exporter": "python",
   "pygments_lexer": "ipython3",
   "version": "3.11.3"
  }
 },
 "nbformat": 4,
 "nbformat_minor": 2
}
