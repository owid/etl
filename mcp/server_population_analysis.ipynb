{
 "cells": [
  {
   "cell_type": "markdown",
   "id": "e363e36e",
   "metadata": {},
   "source": [
    "# Import Required Libraries\n",
    "This section imports pandas for data handling and matplotlib for plotting."
   ]
  },
  {
   "cell_type": "code",
   "execution_count": 25,
   "id": "09321b6e",
   "metadata": {},
   "outputs": [],
   "source": [
    "import pandas as pd\n",
    "import plotly.express as px"
   ]
  },
  {
   "cell_type": "markdown",
   "id": "fff05f9c",
   "metadata": {},
   "source": [
    "# Load Population Data from Feather File\n",
    "This section loads the UN WPP population data from the provided feather file using pandas."
   ]
  },
  {
   "cell_type": "code",
   "execution_count": 7,
   "id": "33bd4e17",
   "metadata": {},
   "outputs": [],
   "source": [
    "# Load the population data\n",
    "population_data = pd.read_feather('https://catalog.ourworldindata.org/garden/un/2024-07-12/un_wpp/population.feather')"
   ]
  },
  {
   "cell_type": "markdown",
   "id": "5d1bc6ad",
   "metadata": {},
   "source": [
    "# Display Data Overview\n",
    "This section displays the first few rows and basic info of the loaded dataset to understand its structure."
   ]
  },
  {
   "cell_type": "code",
   "execution_count": 8,
   "id": "2590096c",
   "metadata": {},
   "outputs": [
    {
     "name": "stdout",
     "output_type": "stream",
     "text": [
      "       country  year  sex   age    variant  population  population_change  \\\n",
      "0  Afghanistan  1950  all     0  estimates      315817               <NA>   \n",
      "1  Afghanistan  1950  all  0-14  estimates     3191673               <NA>   \n",
      "2  Afghanistan  1950  all  0-24  estimates     4672833               <NA>   \n",
      "3  Afghanistan  1950  all   0-4  estimates     1300029               <NA>   \n",
      "4  Afghanistan  1950  all     1  estimates      269174               <NA>   \n",
      "\n",
      "   population_density  \n",
      "0                <NA>  \n",
      "1                <NA>  \n",
      "2                <NA>  \n",
      "3                <NA>  \n",
      "4                <NA>  \n",
      "<class 'pandas.core.frame.DataFrame'>\n",
      "RangeIndex: 12321792 entries, 0 to 12321791\n",
      "Data columns (total 8 columns):\n",
      " #   Column              Dtype   \n",
      "---  ------              -----   \n",
      " 0   country             category\n",
      " 1   year                UInt16  \n",
      " 2   sex                 category\n",
      " 3   age                 category\n",
      " 4   variant             category\n",
      " 5   population          Int64   \n",
      " 6   population_change   Int32   \n",
      " 7   population_density  Float32 \n",
      "dtypes: Float32(1), Int32(1), Int64(1), UInt16(1), category(4)\n",
      "memory usage: 317.3 MB\n",
      "None\n"
     ]
    }
   ],
   "source": [
    "# Display the first few rows and basic info\n",
    "print(population_data.head())\n",
    "print(population_data.info())"
   ]
  },
  {
   "cell_type": "markdown",
   "id": "5d8a909e",
   "metadata": {},
   "source": [
    "# Filter Data for Poland\n",
    "This section filters the dataset to include only rows where the country is Poland."
   ]
  },
  {
   "cell_type": "code",
   "execution_count": 16,
   "id": "1aa3cdce",
   "metadata": {},
   "outputs": [],
   "source": [
    "# Filter the data for Poland\n",
    "poland_data = population_data[population_data['country'] == 'Poland']"
   ]
  },
  {
   "cell_type": "code",
   "execution_count": null,
   "id": "c5a86a61",
   "metadata": {},
   "outputs": [],
   "source": [
    "# Filter for overall population (medium variant is used for main estimates)\n",
    "poland_data_overall = poland_data[(poland_data['sex'] == 'all') &\n",
    "                                 (poland_data['age'] == 'all') &\n",
    "                                 (poland_data['variant'] == 'medium')]"
   ]
  },
  {
   "cell_type": "code",
   "execution_count": null,
   "id": "fb64fc73",
   "metadata": {},
   "outputs": [],
   "source": [
    "# Filter for Germany overall population\n",
    "germany_data = population_data[population_data['country'] == 'Germany']\n",
    "germany_data_overall = germany_data[(germany_data['sex'] == 'all') &\n",
    "                                   (germany_data['age'] == 'all') &\n",
    "                                   (germany_data['variant'] == 'medium')]\n",
    "\n",
    "# Combine Poland and Germany data for comparison\n",
    "combined_data = pd.concat([poland_data_overall, germany_data_overall], ignore_index=True)"
   ]
  },
  {
   "cell_type": "markdown",
   "id": "3845999a",
   "metadata": {},
   "source": [
    "# Visualize Poland's Population\n",
    "This section plots the population of Poland over time using matplotlib."
   ]
  },
  {
   "cell_type": "markdown",
   "id": "a0f871dd",
   "metadata": {},
   "source": [
    "## Using Historical Population Data\n",
    "\n",
    "Let's now switch to using actual historical population data instead of projections. We'll use the demography/population/historical dataset which contains historical estimates."
   ]
  },
  {
   "cell_type": "code",
   "execution_count": 30,
   "id": "8b71cc18",
   "metadata": {},
   "outputs": [
    {
     "name": "stdout",
     "output_type": "stream",
     "text": [
      "Historical population data shape: (59177, 6)\n",
      "\n",
      "Columns: ['country', 'year', 'population_historical', 'world_pop_share_historical', 'population_density_historical', 'growth_rate_historical']\n",
      "\n",
      "First few rows:\n",
      "       country    year  population_historical  world_pop_share_historical  \\\n",
      "0  Afghanistan  -10000                  14737                    0.327405   \n",
      "1  Afghanistan   -9000                  20405                    0.358793   \n",
      "2  Afghanistan   -8000                  28253                    0.386254   \n",
      "3  Afghanistan   -7000                  39120                    0.405317   \n",
      "4  Afghanistan   -6000                  54166                    0.407928   \n",
      "\n",
      "   population_density_historical  growth_rate_historical  \n",
      "0                       0.022595                    <NA>  \n",
      "1                       0.031285                    <NA>  \n",
      "2                       0.043318                    <NA>  \n",
      "3                       0.059979                    <NA>  \n",
      "4                       0.083047                    <NA>  \n",
      "\n",
      "Countries available (first 20):\n",
      "['Afghanistan', 'Africa', 'Africa (UN)', 'Akrotiri and Dhekelia', 'Albania', 'Algeria', 'American Samoa', 'Americas (UN)', 'Andorra', 'Angola', 'Anguilla', 'Antigua and Barbuda', 'Argentina', 'Armenia', 'Aruba', 'Asia', 'Asia (UN)', 'Asia (excl. China and India)', 'Australia', 'Austria']\n",
      "\n",
      "Year range: -10000 to 2023\n"
     ]
    }
   ],
   "source": [
    "# Load historical population data (not projections)\n",
    "historical_population_url = \"https://catalog.ourworldindata.org/garden/demography/2024-07-15/population/historical.feather\"\n",
    "\n",
    "# Read the historical data\n",
    "historical_data = pd.read_feather(historical_population_url)\n",
    "\n",
    "print(\"Historical population data shape:\", historical_data.shape)\n",
    "print(\"\\nColumns:\", historical_data.columns.tolist())\n",
    "print(\"\\nFirst few rows:\")\n",
    "print(historical_data.head())\n",
    "print(\"\\nCountries available (first 20):\")\n",
    "print(sorted(historical_data['country'].unique())[:20])\n",
    "print(\"\\nYear range:\", historical_data['year'].min(), \"to\", historical_data['year'].max())"
   ]
  },
  {
   "cell_type": "code",
   "execution_count": 31,
   "id": "06e4ac3c",
   "metadata": {},
   "outputs": [
    {
     "name": "stdout",
     "output_type": "stream",
     "text": [
      "Poland historical data points: 261\n",
      "Poland year range: -10000 to 2023\n",
      "\n",
      "Germany historical data points: 261\n",
      "Germany year range: -10000 to 2023\n",
      "\n",
      "Poland data from 1900 onwards: 124 data points\n",
      "Germany data from 1900 onwards: 124 data points\n"
     ]
    }
   ],
   "source": [
    "# Filter for Poland and Germany in the historical data\n",
    "poland_historical = historical_data[historical_data['country'] == 'Poland'].copy()\n",
    "germany_historical = historical_data[historical_data['country'] == 'Germany'].copy()\n",
    "\n",
    "print(\"Poland historical data points:\", len(poland_historical))\n",
    "print(\"Poland year range:\", poland_historical['year'].min(), \"to\", poland_historical['year'].max())\n",
    "print(\"\\nGermany historical data points:\", len(germany_historical))\n",
    "print(\"Germany year range:\", germany_historical['year'].min(), \"to\", germany_historical['year'].max())\n",
    "\n",
    "# Let's look at recent historical data (say, from 1900 onwards)\n",
    "poland_recent = poland_historical[poland_historical['year'] >= 1900]\n",
    "germany_recent = germany_historical[germany_historical['year'] >= 1900]\n",
    "\n",
    "print(f\"\\nPoland data from 1900 onwards: {len(poland_recent)} data points\")\n",
    "print(f\"Germany data from 1900 onwards: {len(germany_recent)} data points\")"
   ]
  },
  {
   "cell_type": "code",
   "execution_count": 32,
   "id": "affcd834",
   "metadata": {},
   "outputs": [
    {
     "data": {
      "application/vnd.plotly.v1+json": {
       "config": {
        "plotlyServerURL": "https://plot.ly"
       },
       "data": [
        {
         "hovertemplate": "country=Poland<br>Year=%{x}<br>Population=%{y}<extra></extra>",
         "legendgroup": "Poland",
         "line": {
          "color": "#636efa",
          "dash": "solid"
         },
         "marker": {
          "symbol": "circle"
         },
         "mode": "lines",
         "name": "Poland",
         "orientation": "v",
         "showlegend": true,
         "type": "scatter",
         "x": {
          "bdata": "bAdtB24HbwdwB3EHcgdzB3QHdQd2B3cHeAd5B3oHewd8B30Hfgd/B4AHgQeCB4MHhAeFB4YHhweIB4kHigeLB4wHjQeOB48HkAeRB5IHkweUB5UHlgeXB5gHmQeaB5sHnAedB54HnwegB6EHogejB6QHpQemB6cHqAepB6oHqwesB60HrgevB7AHsQeyB7MHtAe1B7YHtwe4B7kHuge7B7wHvQe+B78HwAfBB8IHwwfEB8UHxgfHB8gHyQfKB8sHzAfNB84HzwfQB9EH0gfTB9QH1QfWB9cH2AfZB9oH2wfcB90H3gffB+AH4QfiB+MH5AflB+YH5wc=",
          "dtype": "i2"
         },
         "xaxis": "x",
         "y": {
          "bdata": "bvtyAQivdQFEXHgB/wJ7AX+ufQHNXoAB8RODAfTNhQHejIgBKOOJAWHSiQEUXIgBwIGFAdxEgQHDE30BU+54AW3UdAHwxXAB+eNsARz5agEjCGsB8BNtAYIfcQH0LXcB1VV9AZKXgwGW84kBUWqQATL8lgFYz5wBQ9+hAV8npgEDo6kBb02sASD8rgEfr7EBcma0AR8itwEu4rkB2We6AV+6uAHZ4LQBNuKuAT7FpgFiz54B5v+WAQ9WjwEo0YcBgXCAAa3newFYHXoB792AAdi6hwFIqI4B2byVASf1nAGtKKQBnWmsAQoRtQHDhrwB8UrDAfhzyQH/684BOwzUAcPq2AHma90BYrHhAWeq5QEHeukBrzTtAXiP8AG1DPQBES74AfGf/AGzVwECMkEGAvBSCwJyYxACmQ0VAs3YGQKS2h4Cv80jAr7gKALaES4CDyMzAp2jNwIVezsCe7s+AtgNQQJ840IC7K1EAsIqRgLsZUcCMlVIAkIWSQLWZUkCR1BJAt8lSQJv0EgCLzlIAmnFRwKNm0cCbVVHAlTwRgLhY0YCLbtFAlTrRAIQJUQCTsVDArzdQwLISUUCVQRHAoydRwIOykcC6OBHApvlRwKj2UcCPLlHAvmCRwKsR0cCTnFGArxyRAIZuEkCLHlPAg==",
          "dtype": "i4"
         },
         "yaxis": "y"
        },
        {
         "hovertemplate": "country=Germany<br>Year=%{x}<br>Population=%{y}<extra></extra>",
         "legendgroup": "Germany",
         "line": {
          "color": "#EF553B",
          "dash": "solid"
         },
         "marker": {
          "symbol": "circle"
         },
         "mode": "lines",
         "name": "Germany",
         "orientation": "v",
         "showlegend": true,
         "type": "scatter",
         "x": {
          "bdata": "bAdtB24HbwdwB3EHcgdzB3QHdQd2B3cHeAd5B3oHewd8B30Hfgd/B4AHgQeCB4MHhAeFB4YHhweIB4kHigeLB4wHjQeOB48HkAeRB5IHkweUB5UHlgeXB5gHmQeaB5sHnAedB54HnwegB6EHogejB6QHpQemB6cHqAepB6oHqwesB60HrgevB7AHsQeyB7MHtAe1B7YHtwe4B7kHuge7B7wHvQe+B78HwAfBB8IHwwfEB8UHxgfHB8gHyQfKB8sHzAfNB84HzwfQB9EH0gfTB9QH1QfWB9cH2AfZB9oH2wfcB90H3gffB+AH4QfiB+MH5AflB+YH5wc=",
          "dtype": "i2"
         },
         "xaxis": "x",
         "y": {
          "bdata": "nxBTA1WEXwOqW2wD3Zh5AzUJhwN4rZQDb4aiA+WUsAOo2b4DINDJA4xt0QMBp9UDaXHWA4LB0wNuE9EDLGfOA7q8ywMYFMkDnPfFA4nDxAOMecUDVxvIA56qzAMcKdMDs7LZA3dH4AN65+YD0JLtA4xJ9ANzIPsD4BcCBDIwCQTGaRAE+8QXBIEtHwRvoyYE3yYuBOi3NQSkVj0Euv1CBLOqRgQSW0gEVAxIBPO7RQTTbEME8R5BBE/SPgTqhjwEwzw6BBSrOQSqyikE8MkoBEt5KQTbHysE/rUtBJI2MQRdezUE3Lc8BCH5RQQMUk4ERwRXBD6hXwSfGmkE58xzBB0xfQTRKYcEp/2QBP96lgQT1JsEsVSlBINQqQRhdqsEgSuxBJvwtASoZLUE8eSwBCS/qwQqBKkE5/GnBAZxqARB/6oEdgWtBBExrATSmqkEQiimBMsZpASxBaUEviKnBBsTrAQfjbUECT/ABCZUyQTL99IEg2PbBPvD3wQKhuMEaDznBEwq6QTrZuMEkk/eBFAg4AQJNuIEOkPkBEfs5ARyouQE3O7jBCGs3gRDhNgEzqbVBDb50gSUYdEE58rRBHOv0gR1mNQEJLPZBDpn5AR10e4E1BD0BAga+ATXAvsEdRL8BIcd/QSgDQMFWBoKBQ==",
          "dtype": "i4"
         },
         "yaxis": "y"
        }
       ],
       "layout": {
        "height": 500,
        "legend": {
         "title": {
          "text": "Country"
         },
         "tracegroupgap": 0
        },
        "template": {
         "data": {
          "bar": [
           {
            "error_x": {
             "color": "#2a3f5f"
            },
            "error_y": {
             "color": "#2a3f5f"
            },
            "marker": {
             "line": {
              "color": "#E5ECF6",
              "width": 0.5
             },
             "pattern": {
              "fillmode": "overlay",
              "size": 10,
              "solidity": 0.2
             }
            },
            "type": "bar"
           }
          ],
          "barpolar": [
           {
            "marker": {
             "line": {
              "color": "#E5ECF6",
              "width": 0.5
             },
             "pattern": {
              "fillmode": "overlay",
              "size": 10,
              "solidity": 0.2
             }
            },
            "type": "barpolar"
           }
          ],
          "carpet": [
           {
            "aaxis": {
             "endlinecolor": "#2a3f5f",
             "gridcolor": "white",
             "linecolor": "white",
             "minorgridcolor": "white",
             "startlinecolor": "#2a3f5f"
            },
            "baxis": {
             "endlinecolor": "#2a3f5f",
             "gridcolor": "white",
             "linecolor": "white",
             "minorgridcolor": "white",
             "startlinecolor": "#2a3f5f"
            },
            "type": "carpet"
           }
          ],
          "choropleth": [
           {
            "colorbar": {
             "outlinewidth": 0,
             "ticks": ""
            },
            "type": "choropleth"
           }
          ],
          "contour": [
           {
            "colorbar": {
             "outlinewidth": 0,
             "ticks": ""
            },
            "colorscale": [
             [
              0,
              "#0d0887"
             ],
             [
              0.1111111111111111,
              "#46039f"
             ],
             [
              0.2222222222222222,
              "#7201a8"
             ],
             [
              0.3333333333333333,
              "#9c179e"
             ],
             [
              0.4444444444444444,
              "#bd3786"
             ],
             [
              0.5555555555555556,
              "#d8576b"
             ],
             [
              0.6666666666666666,
              "#ed7953"
             ],
             [
              0.7777777777777778,
              "#fb9f3a"
             ],
             [
              0.8888888888888888,
              "#fdca26"
             ],
             [
              1,
              "#f0f921"
             ]
            ],
            "type": "contour"
           }
          ],
          "contourcarpet": [
           {
            "colorbar": {
             "outlinewidth": 0,
             "ticks": ""
            },
            "type": "contourcarpet"
           }
          ],
          "heatmap": [
           {
            "colorbar": {
             "outlinewidth": 0,
             "ticks": ""
            },
            "colorscale": [
             [
              0,
              "#0d0887"
             ],
             [
              0.1111111111111111,
              "#46039f"
             ],
             [
              0.2222222222222222,
              "#7201a8"
             ],
             [
              0.3333333333333333,
              "#9c179e"
             ],
             [
              0.4444444444444444,
              "#bd3786"
             ],
             [
              0.5555555555555556,
              "#d8576b"
             ],
             [
              0.6666666666666666,
              "#ed7953"
             ],
             [
              0.7777777777777778,
              "#fb9f3a"
             ],
             [
              0.8888888888888888,
              "#fdca26"
             ],
             [
              1,
              "#f0f921"
             ]
            ],
            "type": "heatmap"
           }
          ],
          "histogram": [
           {
            "marker": {
             "pattern": {
              "fillmode": "overlay",
              "size": 10,
              "solidity": 0.2
             }
            },
            "type": "histogram"
           }
          ],
          "histogram2d": [
           {
            "colorbar": {
             "outlinewidth": 0,
             "ticks": ""
            },
            "colorscale": [
             [
              0,
              "#0d0887"
             ],
             [
              0.1111111111111111,
              "#46039f"
             ],
             [
              0.2222222222222222,
              "#7201a8"
             ],
             [
              0.3333333333333333,
              "#9c179e"
             ],
             [
              0.4444444444444444,
              "#bd3786"
             ],
             [
              0.5555555555555556,
              "#d8576b"
             ],
             [
              0.6666666666666666,
              "#ed7953"
             ],
             [
              0.7777777777777778,
              "#fb9f3a"
             ],
             [
              0.8888888888888888,
              "#fdca26"
             ],
             [
              1,
              "#f0f921"
             ]
            ],
            "type": "histogram2d"
           }
          ],
          "histogram2dcontour": [
           {
            "colorbar": {
             "outlinewidth": 0,
             "ticks": ""
            },
            "colorscale": [
             [
              0,
              "#0d0887"
             ],
             [
              0.1111111111111111,
              "#46039f"
             ],
             [
              0.2222222222222222,
              "#7201a8"
             ],
             [
              0.3333333333333333,
              "#9c179e"
             ],
             [
              0.4444444444444444,
              "#bd3786"
             ],
             [
              0.5555555555555556,
              "#d8576b"
             ],
             [
              0.6666666666666666,
              "#ed7953"
             ],
             [
              0.7777777777777778,
              "#fb9f3a"
             ],
             [
              0.8888888888888888,
              "#fdca26"
             ],
             [
              1,
              "#f0f921"
             ]
            ],
            "type": "histogram2dcontour"
           }
          ],
          "mesh3d": [
           {
            "colorbar": {
             "outlinewidth": 0,
             "ticks": ""
            },
            "type": "mesh3d"
           }
          ],
          "parcoords": [
           {
            "line": {
             "colorbar": {
              "outlinewidth": 0,
              "ticks": ""
             }
            },
            "type": "parcoords"
           }
          ],
          "pie": [
           {
            "automargin": true,
            "type": "pie"
           }
          ],
          "scatter": [
           {
            "fillpattern": {
             "fillmode": "overlay",
             "size": 10,
             "solidity": 0.2
            },
            "type": "scatter"
           }
          ],
          "scatter3d": [
           {
            "line": {
             "colorbar": {
              "outlinewidth": 0,
              "ticks": ""
             }
            },
            "marker": {
             "colorbar": {
              "outlinewidth": 0,
              "ticks": ""
             }
            },
            "type": "scatter3d"
           }
          ],
          "scattercarpet": [
           {
            "marker": {
             "colorbar": {
              "outlinewidth": 0,
              "ticks": ""
             }
            },
            "type": "scattercarpet"
           }
          ],
          "scattergeo": [
           {
            "marker": {
             "colorbar": {
              "outlinewidth": 0,
              "ticks": ""
             }
            },
            "type": "scattergeo"
           }
          ],
          "scattergl": [
           {
            "marker": {
             "colorbar": {
              "outlinewidth": 0,
              "ticks": ""
             }
            },
            "type": "scattergl"
           }
          ],
          "scattermap": [
           {
            "marker": {
             "colorbar": {
              "outlinewidth": 0,
              "ticks": ""
             }
            },
            "type": "scattermap"
           }
          ],
          "scattermapbox": [
           {
            "marker": {
             "colorbar": {
              "outlinewidth": 0,
              "ticks": ""
             }
            },
            "type": "scattermapbox"
           }
          ],
          "scatterpolar": [
           {
            "marker": {
             "colorbar": {
              "outlinewidth": 0,
              "ticks": ""
             }
            },
            "type": "scatterpolar"
           }
          ],
          "scatterpolargl": [
           {
            "marker": {
             "colorbar": {
              "outlinewidth": 0,
              "ticks": ""
             }
            },
            "type": "scatterpolargl"
           }
          ],
          "scatterternary": [
           {
            "marker": {
             "colorbar": {
              "outlinewidth": 0,
              "ticks": ""
             }
            },
            "type": "scatterternary"
           }
          ],
          "surface": [
           {
            "colorbar": {
             "outlinewidth": 0,
             "ticks": ""
            },
            "colorscale": [
             [
              0,
              "#0d0887"
             ],
             [
              0.1111111111111111,
              "#46039f"
             ],
             [
              0.2222222222222222,
              "#7201a8"
             ],
             [
              0.3333333333333333,
              "#9c179e"
             ],
             [
              0.4444444444444444,
              "#bd3786"
             ],
             [
              0.5555555555555556,
              "#d8576b"
             ],
             [
              0.6666666666666666,
              "#ed7953"
             ],
             [
              0.7777777777777778,
              "#fb9f3a"
             ],
             [
              0.8888888888888888,
              "#fdca26"
             ],
             [
              1,
              "#f0f921"
             ]
            ],
            "type": "surface"
           }
          ],
          "table": [
           {
            "cells": {
             "fill": {
              "color": "#EBF0F8"
             },
             "line": {
              "color": "white"
             }
            },
            "header": {
             "fill": {
              "color": "#C8D4E3"
             },
             "line": {
              "color": "white"
             }
            },
            "type": "table"
           }
          ]
         },
         "layout": {
          "annotationdefaults": {
           "arrowcolor": "#2a3f5f",
           "arrowhead": 0,
           "arrowwidth": 1
          },
          "autotypenumbers": "strict",
          "coloraxis": {
           "colorbar": {
            "outlinewidth": 0,
            "ticks": ""
           }
          },
          "colorscale": {
           "diverging": [
            [
             0,
             "#8e0152"
            ],
            [
             0.1,
             "#c51b7d"
            ],
            [
             0.2,
             "#de77ae"
            ],
            [
             0.3,
             "#f1b6da"
            ],
            [
             0.4,
             "#fde0ef"
            ],
            [
             0.5,
             "#f7f7f7"
            ],
            [
             0.6,
             "#e6f5d0"
            ],
            [
             0.7,
             "#b8e186"
            ],
            [
             0.8,
             "#7fbc41"
            ],
            [
             0.9,
             "#4d9221"
            ],
            [
             1,
             "#276419"
            ]
           ],
           "sequential": [
            [
             0,
             "#0d0887"
            ],
            [
             0.1111111111111111,
             "#46039f"
            ],
            [
             0.2222222222222222,
             "#7201a8"
            ],
            [
             0.3333333333333333,
             "#9c179e"
            ],
            [
             0.4444444444444444,
             "#bd3786"
            ],
            [
             0.5555555555555556,
             "#d8576b"
            ],
            [
             0.6666666666666666,
             "#ed7953"
            ],
            [
             0.7777777777777778,
             "#fb9f3a"
            ],
            [
             0.8888888888888888,
             "#fdca26"
            ],
            [
             1,
             "#f0f921"
            ]
           ],
           "sequentialminus": [
            [
             0,
             "#0d0887"
            ],
            [
             0.1111111111111111,
             "#46039f"
            ],
            [
             0.2222222222222222,
             "#7201a8"
            ],
            [
             0.3333333333333333,
             "#9c179e"
            ],
            [
             0.4444444444444444,
             "#bd3786"
            ],
            [
             0.5555555555555556,
             "#d8576b"
            ],
            [
             0.6666666666666666,
             "#ed7953"
            ],
            [
             0.7777777777777778,
             "#fb9f3a"
            ],
            [
             0.8888888888888888,
             "#fdca26"
            ],
            [
             1,
             "#f0f921"
            ]
           ]
          },
          "colorway": [
           "#636efa",
           "#EF553B",
           "#00cc96",
           "#ab63fa",
           "#FFA15A",
           "#19d3f3",
           "#FF6692",
           "#B6E880",
           "#FF97FF",
           "#FECB52"
          ],
          "font": {
           "color": "#2a3f5f"
          },
          "geo": {
           "bgcolor": "white",
           "lakecolor": "white",
           "landcolor": "#E5ECF6",
           "showlakes": true,
           "showland": true,
           "subunitcolor": "white"
          },
          "hoverlabel": {
           "align": "left"
          },
          "hovermode": "closest",
          "mapbox": {
           "style": "light"
          },
          "paper_bgcolor": "white",
          "plot_bgcolor": "#E5ECF6",
          "polar": {
           "angularaxis": {
            "gridcolor": "white",
            "linecolor": "white",
            "ticks": ""
           },
           "bgcolor": "#E5ECF6",
           "radialaxis": {
            "gridcolor": "white",
            "linecolor": "white",
            "ticks": ""
           }
          },
          "scene": {
           "xaxis": {
            "backgroundcolor": "#E5ECF6",
            "gridcolor": "white",
            "gridwidth": 2,
            "linecolor": "white",
            "showbackground": true,
            "ticks": "",
            "zerolinecolor": "white"
           },
           "yaxis": {
            "backgroundcolor": "#E5ECF6",
            "gridcolor": "white",
            "gridwidth": 2,
            "linecolor": "white",
            "showbackground": true,
            "ticks": "",
            "zerolinecolor": "white"
           },
           "zaxis": {
            "backgroundcolor": "#E5ECF6",
            "gridcolor": "white",
            "gridwidth": 2,
            "linecolor": "white",
            "showbackground": true,
            "ticks": "",
            "zerolinecolor": "white"
           }
          },
          "shapedefaults": {
           "line": {
            "color": "#2a3f5f"
           }
          },
          "ternary": {
           "aaxis": {
            "gridcolor": "white",
            "linecolor": "white",
            "ticks": ""
           },
           "baxis": {
            "gridcolor": "white",
            "linecolor": "white",
            "ticks": ""
           },
           "bgcolor": "#E5ECF6",
           "caxis": {
            "gridcolor": "white",
            "linecolor": "white",
            "ticks": ""
           }
          },
          "title": {
           "x": 0.05
          },
          "xaxis": {
           "automargin": true,
           "gridcolor": "white",
           "linecolor": "white",
           "ticks": "",
           "title": {
            "standoff": 15
           },
           "zerolinecolor": "white",
           "zerolinewidth": 2
          },
          "yaxis": {
           "automargin": true,
           "gridcolor": "white",
           "linecolor": "white",
           "ticks": "",
           "title": {
            "standoff": 15
           },
           "zerolinecolor": "white",
           "zerolinewidth": 2
          }
         }
        },
        "title": {
         "text": "Historical Population: Poland vs Germany (1900-2023)"
        },
        "width": 800,
        "xaxis": {
         "anchor": "y",
         "domain": [
          0,
          1
         ],
         "title": {
          "text": "Year"
         }
        },
        "yaxis": {
         "anchor": "x",
         "domain": [
          0,
          1
         ],
         "rangemode": "tozero",
         "title": {
          "text": "Population"
         }
        }
       }
      }
     },
     "metadata": {},
     "output_type": "display_data"
    }
   ],
   "source": [
    "# Combine data for both countries (from 1900 onwards)\n",
    "historical_combined = pd.concat([\n",
    "    poland_recent.assign(country='Poland'),\n",
    "    germany_recent.assign(country='Germany')\n",
    "])\n",
    "\n",
    "# Create interactive plot using plotly\n",
    "fig_historical = px.line(\n",
    "    historical_combined,\n",
    "    x='year',\n",
    "    y='population_historical',\n",
    "    color='country',\n",
    "    title='Historical Population: Poland vs Germany (1900-2023)',\n",
    "    labels={\n",
    "        'population_historical': 'Population',\n",
    "        'year': 'Year'\n",
    "    },\n",
    "    width=800,\n",
    "    height=500\n",
    ")\n",
    "\n",
    "# Update layout\n",
    "fig_historical.update_layout(\n",
    "    yaxis=dict(rangemode='tozero'),\n",
    "    xaxis=dict(title='Year'),\n",
    "    yaxis_title='Population',\n",
    "    legend=dict(title='Country')\n",
    ")\n",
    "\n",
    "# Show the plot\n",
    "fig_historical.show()"
   ]
  },
  {
   "cell_type": "code",
   "execution_count": 33,
   "id": "c7ed3bdb",
   "metadata": {},
   "outputs": [
    {
     "data": {
      "application/vnd.plotly.v1+json": {
       "config": {
        "plotlyServerURL": "https://plot.ly"
       },
       "data": [
        {
         "hovertemplate": "country=Poland<br>Year=%{x}<br>Population=%{y}<extra></extra>",
         "legendgroup": "Poland",
         "line": {
          "color": "#636efa",
          "dash": "solid"
         },
         "marker": {
          "symbol": "circle"
         },
         "mode": "lines",
         "name": "Poland",
         "orientation": "v",
         "showlegend": true,
         "type": "scatter",
         "x": {
          "bdata": "ZADIACwBkAH0AVgCvAIgA4QD6ANMBLAEFAV4BdwFQAakBq4GuAbCBswG1gbgBuoG9Ab+BggHCQcKBwsHDAcNBw4HDwcQBxEHEgcTBxQHFQcWBxcHGAcZBxoHGwccBx0HHgcfByAHIQciByMHJAclByYHJwcoBykHKgcrBywHLQcuBy8HMAcxBzIHMwc0BzUHNgc3BzgHOQc6BzsHPAc9Bz4HPwdAB0EHQgdDB0QHRQdGB0cHSAdJB0oHSwdMB00HTgdPB1AHUQdSB1MHVAdVB1YHVwdYB1kHWgdbB1wHXQdeB18HYAdhB2IHYwdkB2UHZgdnB2gHaQdqB2sHbAdtB24HbwdwB3EHcgdzB3QHdQd2B3cHeAd5B3oHewd8B30Hfgd/B4AHgQeCB4MHhAeFB4YHhweIB4kHigeLB4wHjQeOB48HkAeRB5IHkweUB5UHlgeXB5gHmQeaB5sHnAedB54HnwegB6EHogejB6QHpQemB6cHqAepB6oHqwesB60HrgevB7AHsQeyB7MHtAe1B7YHtwe4B7kHuge7B7wHvQe+B78HwAfBB8IHwwfEB8UHxgfHB8gHyQfKB8sHzAfNB84HzwfQB9EH0gfTB9QH1QfWB9cH2AfZB9oH2wfcB90H3gffB+AH4QfiB+MH5AflB+YH5wc=",
          "dtype": "i2"
         },
         "xaxis": "x",
         "y": {
          "bdata": "cGQIAMAnCQBgrgoAADUMAGCuCgDAJwkAADUMAEBCDwCIKhEA0BITAGDjFgAQVSIA4Gc1AOBnNQAACT0AQEtMAICNWwDFYl8Aku1jAL2vaADrq20A3uRyAHpdeADJGH4A+BmEAFlkigBAVIkAvVeKACVdiwB6ZIwAwW2NAP14jgAyho8AZJWQAJamkQDNuZIAF9GTAGXolADDAZYANR2XAL46mABjWpkAJ3yaAA+gmwAexpwAW+6dAMoYnwBvRaAATnShAGylogDK2KMAbQ6lAFlGpgCSgKcAHr2oAP/7qQA7PasA14CsANbGrQA8D68AEFqwAFWnsQAP97IAREm0APidtQAw9bYA8U64AD+ruQAfCrsAlmu8AKnPvQBeNr8AuJ/AAL0LwgBxesMA7SXFAGUPxwAtJskA/nzLAAkVzgCKtdAAnF7TAFoQ1gDiytgAT47bAL9a3gBPMOEAHQ/kAEf35gDr6OkAKOTsAB7p7wDr9/IAshD2AJAz+QCYffwAte//ANeKAwH0TwcBBkALASk/DwGXTRMBiWsXAT2ZGwHt1h8B1yQkATmDKAFS8iwBYnIxAaoDNgFrpjoB6Fo/AWYhRAEp+kgBd+VNAd1iUgHHb1YBlAlaAZYtXQEW2V8BzYliAcU/ZQEI+2cBortqAZuBbQGUQXABbvtyAQivdQFEXHgB/wJ7AX+ufQHNXoAB8RODAfTNhQHejIgBKOOJAWHSiQEUXIgBwIGFAdxEgQHDE30BU+54AW3UdAHwxXAB+eNsARz5agEjCGsB8BNtAYIfcQH0LXcB1VV9AZKXgwGW84kBUWqQATL8lgFYz5wBQ9+hAV8npgEDo6kBb02sASD8rgEfr7EBcma0AR8itwEu4rkB2We6AV+6uAHZ4LQBNuKuAT7FpgFiz54B5v+WAQ9WjwEo0YcBgXCAAa3newFYHXoB792AAdi6hwFIqI4B2byVASf1nAGtKKQBnWmsAQoRtQHDhrwB8UrDAfhzyQH/684BOwzUAcPq2AHma90BYrHhAWeq5QEHeukBrzTtAXiP8AG1DPQBES74AfGf/AGzVwECMkEGAvBSCwJyYxACmQ0VAs3YGQKS2h4Cv80jAr7gKALaES4CDyMzAp2jNwIVezsCe7s+AtgNQQJ840IC7K1EAsIqRgLsZUcCMlVIAkIWSQLWZUkCR1BJAt8lSQJv0EgCLzlIAmnFRwKNm0cCbVVHAlTwRgLhY0YCLbtFAlTrRAIQJUQCTsVDArzdQwLISUUCVQRHAoydRwIOykcC6OBHApvlRwKj2UcCPLlHAvmCRwKsR0cCTnFGArxyRAIZuEkCLHlPAg==",
          "dtype": "i4"
         },
         "yaxis": "y"
        },
        {
         "hovertemplate": "country=Germany<br>Year=%{x}<br>Population=%{y}<extra></extra>",
         "legendgroup": "Germany",
         "line": {
          "color": "#EF553B",
          "dash": "solid"
         },
         "marker": {
          "symbol": "circle"
         },
         "mode": "lines",
         "name": "Germany",
         "orientation": "v",
         "showlegend": true,
         "type": "scatter",
         "x": {
          "bdata": "ZADIACwBkAH0AVgCvAIgA4QD6ANMBLAEFAV4BdwFQAakBq4GuAbCBswG1gbgBuoG9Ab+BggHCQcKBwsHDAcNBw4HDwcQBxEHEgcTBxQHFQcWBxcHGAcZBxoHGwccBx0HHgcfByAHIQciByMHJAclByYHJwcoBykHKgcrBywHLQcuBy8HMAcxBzIHMwc0BzUHNgc3BzgHOQc6BzsHPAc9Bz4HPwdAB0EHQgdDB0QHRQdGB0cHSAdJB0oHSwdMB00HTgdPB1AHUQdSB1MHVAdVB1YHVwdYB1kHWgdbB1wHXQdeB18HYAdhB2IHYwdkB2UHZgdnB2gHaQdqB2sHbAdtB24HbwdwB3EHcgdzB3QHdQd2B3cHeAd5B3oHewd8B30Hfgd/B4AHgQeCB4MHhAeFB4YHhweIB4kHigeLB4wHjQeOB48HkAeRB5IHkweUB5UHlgeXB5gHmQeaB5sHnAedB54HnwegB6EHogejB6QHpQemB6cHqAepB6oHqwesB60HrgevB7AHsQeyB7MHtAe1B7YHtwe4B7kHuge7B7wHvQe+B78HwAfBB8IHwwfEB8UHxgfHB8gHyQfKB8sHzAfNB84HzwfQB9EH0gfTB9QH1QfWB9cH2AfZB9oH2wfcB90H3gffB+AH4QfiB+MH5AflB+YH5wc=",
          "dtype": "i2"
         },
         "xaxis": "x",
         "y": {
          "bdata": "UJcxAOBnNQDgZzUA4Gc1AFCXMQDAxi0ACK8vAFCXMQCYfzMA4Gc1AAAJPQCAjVsAQFSJAKAuYwBAVIkAABu3AEBdxgDzS9UAGTzkAM8t8wAwIQIBWhYRAXxEIAGeci8BwKA+AeLOTQGAqBIBVCcXAf64GwHNXSABEhYlAR3iKQFBwi4B1LYzASnAOAGZ3j0BSShDAVRySAGI0k0BQ0lTAeLWWAHGe14BUDhkAeQMagHl+W8Br6l1ATkaewFxSYABODWFAWHbiQHCj44BhlKTAdkjmAHnA50B3fKhAcXQpgESnasBOlewAav+tAHVkrkBRjO+ASDgwgGFmccBll/MAXUy0QHM2NUBrVHaASac3gFBt+IBBKLmAeqU6gEEkO4BZJPyARmf9gE2s/oBfaj+AWp+AgKtdQYCdU0KAiwFDgKiwxEC4YgVAvdUGQLvJx0C1gEhAqcXJQJPaikCv/otAunJMgLD2DcCOPM8AmIZQgJbS0cCPolMAijTUQKcY1cC5ztdAltdYwJLyWkCFIFwAoZLdwLWKH4COBmFAuEcjAIFNJMCWzGaAiQUoQKh26cCDoeuAqUVtQI5tLsC8mLCAvYhyQJu8c8CgdHWAvZm3gLkteYCeMLvAvCQ+QKcJQQD3t8OAzzAGQM9xyQDafUvA0xLOwNU/kYDnxBTA1WEXwOqW2wD3Zh5AzUJhwN4rZQDb4aiA+WUsAOo2b4DINDJA4xt0QMBp9UDaXHWA4LB0wNuE9EDLGfOA7q8ywMYFMkDnPfFA4nDxAOMecUDVxvIA56qzAMcKdMDs7LZA3dH4AN65+YD0JLtA4xJ9ANzIPsD4BcCBDIwCQTGaRAE+8QXBIEtHwRvoyYE3yYuBOi3NQSkVj0Euv1CBLOqRgQSW0gEVAxIBPO7RQTTbEME8R5BBE/SPgTqhjwEwzw6BBSrOQSqyikE8MkoBEt5KQTbHysE/rUtBJI2MQRdezUE3Lc8BCH5RQQMUk4ERwRXBD6hXwSfGmkE58xzBB0xfQTRKYcEp/2QBP96lgQT1JsEsVSlBINQqQRhdqsEgSuxBJvwtASoZLUE8eSwBCS/qwQqBKkE5/GnBAZxqARB/6oEdgWtBBExrATSmqkEQiimBMsZpASxBaUEviKnBBsTrAQfjbUECT/ABCZUyQTL99IEg2PbBPvD3wQKhuMEaDznBEwq6QTrZuMEkk/eBFAg4AQJNuIEOkPkBEfs5ARyouQE3O7jBCGs3gRDhNgEzqbVBDb50gSUYdEE58rRBHOv0gR1mNQEJLPZBDpn5AR10e4E1BD0BAga+ATXAvsEdRL8BIcd/QSgDQMFWBoKBQ==",
          "dtype": "i4"
         },
         "yaxis": "y"
        }
       ],
       "layout": {
        "height": 500,
        "legend": {
         "title": {
          "text": "Country"
         },
         "tracegroupgap": 0
        },
        "template": {
         "data": {
          "bar": [
           {
            "error_x": {
             "color": "#2a3f5f"
            },
            "error_y": {
             "color": "#2a3f5f"
            },
            "marker": {
             "line": {
              "color": "#E5ECF6",
              "width": 0.5
             },
             "pattern": {
              "fillmode": "overlay",
              "size": 10,
              "solidity": 0.2
             }
            },
            "type": "bar"
           }
          ],
          "barpolar": [
           {
            "marker": {
             "line": {
              "color": "#E5ECF6",
              "width": 0.5
             },
             "pattern": {
              "fillmode": "overlay",
              "size": 10,
              "solidity": 0.2
             }
            },
            "type": "barpolar"
           }
          ],
          "carpet": [
           {
            "aaxis": {
             "endlinecolor": "#2a3f5f",
             "gridcolor": "white",
             "linecolor": "white",
             "minorgridcolor": "white",
             "startlinecolor": "#2a3f5f"
            },
            "baxis": {
             "endlinecolor": "#2a3f5f",
             "gridcolor": "white",
             "linecolor": "white",
             "minorgridcolor": "white",
             "startlinecolor": "#2a3f5f"
            },
            "type": "carpet"
           }
          ],
          "choropleth": [
           {
            "colorbar": {
             "outlinewidth": 0,
             "ticks": ""
            },
            "type": "choropleth"
           }
          ],
          "contour": [
           {
            "colorbar": {
             "outlinewidth": 0,
             "ticks": ""
            },
            "colorscale": [
             [
              0,
              "#0d0887"
             ],
             [
              0.1111111111111111,
              "#46039f"
             ],
             [
              0.2222222222222222,
              "#7201a8"
             ],
             [
              0.3333333333333333,
              "#9c179e"
             ],
             [
              0.4444444444444444,
              "#bd3786"
             ],
             [
              0.5555555555555556,
              "#d8576b"
             ],
             [
              0.6666666666666666,
              "#ed7953"
             ],
             [
              0.7777777777777778,
              "#fb9f3a"
             ],
             [
              0.8888888888888888,
              "#fdca26"
             ],
             [
              1,
              "#f0f921"
             ]
            ],
            "type": "contour"
           }
          ],
          "contourcarpet": [
           {
            "colorbar": {
             "outlinewidth": 0,
             "ticks": ""
            },
            "type": "contourcarpet"
           }
          ],
          "heatmap": [
           {
            "colorbar": {
             "outlinewidth": 0,
             "ticks": ""
            },
            "colorscale": [
             [
              0,
              "#0d0887"
             ],
             [
              0.1111111111111111,
              "#46039f"
             ],
             [
              0.2222222222222222,
              "#7201a8"
             ],
             [
              0.3333333333333333,
              "#9c179e"
             ],
             [
              0.4444444444444444,
              "#bd3786"
             ],
             [
              0.5555555555555556,
              "#d8576b"
             ],
             [
              0.6666666666666666,
              "#ed7953"
             ],
             [
              0.7777777777777778,
              "#fb9f3a"
             ],
             [
              0.8888888888888888,
              "#fdca26"
             ],
             [
              1,
              "#f0f921"
             ]
            ],
            "type": "heatmap"
           }
          ],
          "histogram": [
           {
            "marker": {
             "pattern": {
              "fillmode": "overlay",
              "size": 10,
              "solidity": 0.2
             }
            },
            "type": "histogram"
           }
          ],
          "histogram2d": [
           {
            "colorbar": {
             "outlinewidth": 0,
             "ticks": ""
            },
            "colorscale": [
             [
              0,
              "#0d0887"
             ],
             [
              0.1111111111111111,
              "#46039f"
             ],
             [
              0.2222222222222222,
              "#7201a8"
             ],
             [
              0.3333333333333333,
              "#9c179e"
             ],
             [
              0.4444444444444444,
              "#bd3786"
             ],
             [
              0.5555555555555556,
              "#d8576b"
             ],
             [
              0.6666666666666666,
              "#ed7953"
             ],
             [
              0.7777777777777778,
              "#fb9f3a"
             ],
             [
              0.8888888888888888,
              "#fdca26"
             ],
             [
              1,
              "#f0f921"
             ]
            ],
            "type": "histogram2d"
           }
          ],
          "histogram2dcontour": [
           {
            "colorbar": {
             "outlinewidth": 0,
             "ticks": ""
            },
            "colorscale": [
             [
              0,
              "#0d0887"
             ],
             [
              0.1111111111111111,
              "#46039f"
             ],
             [
              0.2222222222222222,
              "#7201a8"
             ],
             [
              0.3333333333333333,
              "#9c179e"
             ],
             [
              0.4444444444444444,
              "#bd3786"
             ],
             [
              0.5555555555555556,
              "#d8576b"
             ],
             [
              0.6666666666666666,
              "#ed7953"
             ],
             [
              0.7777777777777778,
              "#fb9f3a"
             ],
             [
              0.8888888888888888,
              "#fdca26"
             ],
             [
              1,
              "#f0f921"
             ]
            ],
            "type": "histogram2dcontour"
           }
          ],
          "mesh3d": [
           {
            "colorbar": {
             "outlinewidth": 0,
             "ticks": ""
            },
            "type": "mesh3d"
           }
          ],
          "parcoords": [
           {
            "line": {
             "colorbar": {
              "outlinewidth": 0,
              "ticks": ""
             }
            },
            "type": "parcoords"
           }
          ],
          "pie": [
           {
            "automargin": true,
            "type": "pie"
           }
          ],
          "scatter": [
           {
            "fillpattern": {
             "fillmode": "overlay",
             "size": 10,
             "solidity": 0.2
            },
            "type": "scatter"
           }
          ],
          "scatter3d": [
           {
            "line": {
             "colorbar": {
              "outlinewidth": 0,
              "ticks": ""
             }
            },
            "marker": {
             "colorbar": {
              "outlinewidth": 0,
              "ticks": ""
             }
            },
            "type": "scatter3d"
           }
          ],
          "scattercarpet": [
           {
            "marker": {
             "colorbar": {
              "outlinewidth": 0,
              "ticks": ""
             }
            },
            "type": "scattercarpet"
           }
          ],
          "scattergeo": [
           {
            "marker": {
             "colorbar": {
              "outlinewidth": 0,
              "ticks": ""
             }
            },
            "type": "scattergeo"
           }
          ],
          "scattergl": [
           {
            "marker": {
             "colorbar": {
              "outlinewidth": 0,
              "ticks": ""
             }
            },
            "type": "scattergl"
           }
          ],
          "scattermap": [
           {
            "marker": {
             "colorbar": {
              "outlinewidth": 0,
              "ticks": ""
             }
            },
            "type": "scattermap"
           }
          ],
          "scattermapbox": [
           {
            "marker": {
             "colorbar": {
              "outlinewidth": 0,
              "ticks": ""
             }
            },
            "type": "scattermapbox"
           }
          ],
          "scatterpolar": [
           {
            "marker": {
             "colorbar": {
              "outlinewidth": 0,
              "ticks": ""
             }
            },
            "type": "scatterpolar"
           }
          ],
          "scatterpolargl": [
           {
            "marker": {
             "colorbar": {
              "outlinewidth": 0,
              "ticks": ""
             }
            },
            "type": "scatterpolargl"
           }
          ],
          "scatterternary": [
           {
            "marker": {
             "colorbar": {
              "outlinewidth": 0,
              "ticks": ""
             }
            },
            "type": "scatterternary"
           }
          ],
          "surface": [
           {
            "colorbar": {
             "outlinewidth": 0,
             "ticks": ""
            },
            "colorscale": [
             [
              0,
              "#0d0887"
             ],
             [
              0.1111111111111111,
              "#46039f"
             ],
             [
              0.2222222222222222,
              "#7201a8"
             ],
             [
              0.3333333333333333,
              "#9c179e"
             ],
             [
              0.4444444444444444,
              "#bd3786"
             ],
             [
              0.5555555555555556,
              "#d8576b"
             ],
             [
              0.6666666666666666,
              "#ed7953"
             ],
             [
              0.7777777777777778,
              "#fb9f3a"
             ],
             [
              0.8888888888888888,
              "#fdca26"
             ],
             [
              1,
              "#f0f921"
             ]
            ],
            "type": "surface"
           }
          ],
          "table": [
           {
            "cells": {
             "fill": {
              "color": "#EBF0F8"
             },
             "line": {
              "color": "white"
             }
            },
            "header": {
             "fill": {
              "color": "#C8D4E3"
             },
             "line": {
              "color": "white"
             }
            },
            "type": "table"
           }
          ]
         },
         "layout": {
          "annotationdefaults": {
           "arrowcolor": "#2a3f5f",
           "arrowhead": 0,
           "arrowwidth": 1
          },
          "autotypenumbers": "strict",
          "coloraxis": {
           "colorbar": {
            "outlinewidth": 0,
            "ticks": ""
           }
          },
          "colorscale": {
           "diverging": [
            [
             0,
             "#8e0152"
            ],
            [
             0.1,
             "#c51b7d"
            ],
            [
             0.2,
             "#de77ae"
            ],
            [
             0.3,
             "#f1b6da"
            ],
            [
             0.4,
             "#fde0ef"
            ],
            [
             0.5,
             "#f7f7f7"
            ],
            [
             0.6,
             "#e6f5d0"
            ],
            [
             0.7,
             "#b8e186"
            ],
            [
             0.8,
             "#7fbc41"
            ],
            [
             0.9,
             "#4d9221"
            ],
            [
             1,
             "#276419"
            ]
           ],
           "sequential": [
            [
             0,
             "#0d0887"
            ],
            [
             0.1111111111111111,
             "#46039f"
            ],
            [
             0.2222222222222222,
             "#7201a8"
            ],
            [
             0.3333333333333333,
             "#9c179e"
            ],
            [
             0.4444444444444444,
             "#bd3786"
            ],
            [
             0.5555555555555556,
             "#d8576b"
            ],
            [
             0.6666666666666666,
             "#ed7953"
            ],
            [
             0.7777777777777778,
             "#fb9f3a"
            ],
            [
             0.8888888888888888,
             "#fdca26"
            ],
            [
             1,
             "#f0f921"
            ]
           ],
           "sequentialminus": [
            [
             0,
             "#0d0887"
            ],
            [
             0.1111111111111111,
             "#46039f"
            ],
            [
             0.2222222222222222,
             "#7201a8"
            ],
            [
             0.3333333333333333,
             "#9c179e"
            ],
            [
             0.4444444444444444,
             "#bd3786"
            ],
            [
             0.5555555555555556,
             "#d8576b"
            ],
            [
             0.6666666666666666,
             "#ed7953"
            ],
            [
             0.7777777777777778,
             "#fb9f3a"
            ],
            [
             0.8888888888888888,
             "#fdca26"
            ],
            [
             1,
             "#f0f921"
            ]
           ]
          },
          "colorway": [
           "#636efa",
           "#EF553B",
           "#00cc96",
           "#ab63fa",
           "#FFA15A",
           "#19d3f3",
           "#FF6692",
           "#B6E880",
           "#FF97FF",
           "#FECB52"
          ],
          "font": {
           "color": "#2a3f5f"
          },
          "geo": {
           "bgcolor": "white",
           "lakecolor": "white",
           "landcolor": "#E5ECF6",
           "showlakes": true,
           "showland": true,
           "subunitcolor": "white"
          },
          "hoverlabel": {
           "align": "left"
          },
          "hovermode": "closest",
          "mapbox": {
           "style": "light"
          },
          "paper_bgcolor": "white",
          "plot_bgcolor": "#E5ECF6",
          "polar": {
           "angularaxis": {
            "gridcolor": "white",
            "linecolor": "white",
            "ticks": ""
           },
           "bgcolor": "#E5ECF6",
           "radialaxis": {
            "gridcolor": "white",
            "linecolor": "white",
            "ticks": ""
           }
          },
          "scene": {
           "xaxis": {
            "backgroundcolor": "#E5ECF6",
            "gridcolor": "white",
            "gridwidth": 2,
            "linecolor": "white",
            "showbackground": true,
            "ticks": "",
            "zerolinecolor": "white"
           },
           "yaxis": {
            "backgroundcolor": "#E5ECF6",
            "gridcolor": "white",
            "gridwidth": 2,
            "linecolor": "white",
            "showbackground": true,
            "ticks": "",
            "zerolinecolor": "white"
           },
           "zaxis": {
            "backgroundcolor": "#E5ECF6",
            "gridcolor": "white",
            "gridwidth": 2,
            "linecolor": "white",
            "showbackground": true,
            "ticks": "",
            "zerolinecolor": "white"
           }
          },
          "shapedefaults": {
           "line": {
            "color": "#2a3f5f"
           }
          },
          "ternary": {
           "aaxis": {
            "gridcolor": "white",
            "linecolor": "white",
            "ticks": ""
           },
           "baxis": {
            "gridcolor": "white",
            "linecolor": "white",
            "ticks": ""
           },
           "bgcolor": "#E5ECF6",
           "caxis": {
            "gridcolor": "white",
            "linecolor": "white",
            "ticks": ""
           }
          },
          "title": {
           "x": 0.05
          },
          "xaxis": {
           "automargin": true,
           "gridcolor": "white",
           "linecolor": "white",
           "ticks": "",
           "title": {
            "standoff": 15
           },
           "zerolinecolor": "white",
           "zerolinewidth": 2
          },
          "yaxis": {
           "automargin": true,
           "gridcolor": "white",
           "linecolor": "white",
           "ticks": "",
           "title": {
            "standoff": 15
           },
           "zerolinecolor": "white",
           "zerolinewidth": 2
          }
         }
        },
        "title": {
         "text": "Long-term Historical Population: Poland vs Germany (1 CE - 2023)"
        },
        "width": 800,
        "xaxis": {
         "anchor": "y",
         "domain": [
          0,
          1
         ],
         "title": {
          "text": "Year"
         }
        },
        "yaxis": {
         "anchor": "x",
         "domain": [
          0,
          1
         ],
         "rangemode": "tozero",
         "title": {
          "text": "Population"
         }
        }
       }
      }
     },
     "metadata": {},
     "output_type": "display_data"
    }
   ],
   "source": [
    "# Let's also create a longer-term historical view (from year 1 CE onwards)\n",
    "poland_longterm = poland_historical[poland_historical['year'] >= 1]\n",
    "germany_longterm = germany_historical[germany_historical['year'] >= 1]\n",
    "\n",
    "historical_longterm = pd.concat([\n",
    "    poland_longterm.assign(country='Poland'),\n",
    "    germany_longterm.assign(country='Germany')\n",
    "])\n",
    "\n",
    "# Create interactive plot for the long-term view\n",
    "fig_longterm = px.line(\n",
    "    historical_longterm,\n",
    "    x='year',\n",
    "    y='population_historical',\n",
    "    color='country',\n",
    "    title='Long-term Historical Population: Poland vs Germany (1 CE - 2023)',\n",
    "    labels={\n",
    "        'population_historical': 'Population',\n",
    "        'year': 'Year'\n",
    "    },\n",
    "    width=800,\n",
    "    height=500\n",
    ")\n",
    "\n",
    "# Update layout\n",
    "fig_longterm.update_layout(\n",
    "    yaxis=dict(rangemode='tozero'),\n",
    "    xaxis=dict(title='Year'),\n",
    "    yaxis_title='Population',\n",
    "    legend=dict(title='Country')\n",
    ")\n",
    "\n",
    "# Show the plot\n",
    "fig_longterm.show()"
   ]
  },
  {
   "cell_type": "markdown",
   "id": "2f646294",
   "metadata": {},
   "source": [
    "## Summary: Historical vs Projection Data\n",
    "\n",
    "We've now explored population data using two different datasets:\n",
    "\n",
    "1. **UN WPP Projections**: These include estimates and projections, with data categorized by variant (medium, high, low), sex, and age groups. This is more detailed for recent years but focuses on future projections.\n",
    "\n",
    "2. **Historical Population Data**: This provides a long-term historical perspective going back thousands of years, showing actual historical estimates rather than projections. This dataset is simpler (just country, year, and population) but covers a much longer time span.\n",
    "\n",
    "Both datasets show the population trends for Poland and Germany, but the historical dataset gives us a much broader perspective on demographic changes over time, while the projection dataset provides more detailed breakdowns and future estimates."
   ]
  },
  {
   "cell_type": "code",
   "execution_count": 29,
   "id": "4e4e2f78",
   "metadata": {},
   "outputs": [
    {
     "data": {
      "application/vnd.plotly.v1+json": {
       "config": {
        "plotlyServerURL": "https://plot.ly"
       },
       "data": [
        {
         "hovertemplate": "country=Poland<br>Year=%{x}<br>Population=%{y}<extra></extra>",
         "legendgroup": "Poland",
         "line": {
          "color": "#636efa",
          "dash": "solid"
         },
         "marker": {
          "symbol": "circle"
         },
         "mode": "lines",
         "name": "Poland",
         "orientation": "v",
         "showlegend": true,
         "type": "scatter",
         "x": {
          "bdata": "6AfpB+oH6wfsB+0H7gfvB/AH8QfyB/MH9Af1B/YH9wf4B/kH+gf7B/wH/Qf+B/8HAAgBCAIIAwgECAUIBggHCAgICQgKCAsIDAgNCA4IDwgQCBEIEggTCBQIFQgWCBcIGAgZCBoIGwgcCB0IHggfCCAIIQgiCCMIJAglCCYIJwgoCCkIKggrCCwILQguCC8IMAgxCDIIMwg0CA==",
          "dtype": "u2"
         },
         "xaxis": "x",
         "y": {
          "bdata": "kA9MAsj7RQLNcEEC+i0/ApfJPAJDQToCmJo3Am/ZNAKZ/zECExQvAtQWLAIbCSkC6eglAs23IgLKeB8CjikcAvDLGAIAZBUCu+4RAnxqDgI+3QoCpkUHAjujAwIG9/8BgUH8ARKB+AHas/QBHNnwAWT07AGNA+kBGQPlAUH14AFk2NwB/q7YAb961AE4NtAB7OLLAW6BxwHXD8MBdY2+Afr4uQGmVrUBhaewAULsqwH1J6cBAl6iAQ+RnQECwpgBrPGTAVIijwF9WYoBrJyFAcXsgAFlSHwBP7Z3AUE3cwEXyW4BlG9qAXoqZgFQ/GEBouddAVrsWQGACFYB4jpSATCDTgFg4koB1FZHAQ/eQwEkd0ABGSA9AbXWOQFSmzYBVWozAalBMAF6IS0BWwcqAQLzJgE=",
          "dtype": "i4"
         },
         "yaxis": "y"
        },
        {
         "hovertemplate": "country=Germany<br>Year=%{x}<br>Population=%{y}<extra></extra>",
         "legendgroup": "Germany",
         "line": {
          "color": "#EF553B",
          "dash": "solid"
         },
         "marker": {
          "symbol": "circle"
         },
         "mode": "lines",
         "name": "Germany",
         "orientation": "v",
         "showlegend": true,
         "type": "scatter",
         "x": {
          "bdata": "6AfpB+oH6wfsB+0H7gfvB/AH8QfyB/MH9Af1B/YH9wf4B/kH+gf7B/wH/Qf+B/8HAAgBCAIIAwgECAUIBggHCAgICQgKCAsIDAgNCA4IDwgQCBEIEggTCBQIFQgWCBcIGAgZCBoIGwgcCB0IHggfCCAIIQgiCCMIJAglCCYIJwgoCCkIKggrCCwILQguCC8IMAgxCDIIMwg0CA==",
          "dtype": "u2"
         },
         "xaxis": "x",
         "y": {
          "bdata": "/ikKBRDiAgUtT/wE4jv5BGn59QTNj/IE+yLvBEKm6wSsKOgE873kBOht4QTfLt4EFrraBFdF1wSV3tMEtHPQBAwfzQT/+ckESfrGBMzRwwSUbMAEl/K8BJJ6uQSE97UEd0GyBClwrgQjrqoEgOymBIAlowTlKZ8E7N+aBBB5lgRrJpIE++SNBCOjiQRWjYUES6KBBJjsfQQ+aHoESQd3BGjbcwQm03AEKNxtBLjyagRGPWgE5rBlBLFJYwRn52AELX5eBAoZXAQGqlkEF21XBMItVQS3w1IEQXpQBKFbTgROWUwEZ39KBLjSSAQGNEcEWqRFBG4qRASBrEIEqEhBBMQxQARGUz8EZW4+BHCYPQRpCj0E1a48BG5gPATREjwEM607BNIcOwQRqDoELlE6BGbYOQQ=",
          "dtype": "i4"
         },
         "yaxis": "y"
        }
       ],
       "layout": {
        "legend": {
         "title": {
          "text": "country"
         },
         "tracegroupgap": 0
        },
        "template": {
         "data": {
          "bar": [
           {
            "error_x": {
             "color": "#2a3f5f"
            },
            "error_y": {
             "color": "#2a3f5f"
            },
            "marker": {
             "line": {
              "color": "#E5ECF6",
              "width": 0.5
             },
             "pattern": {
              "fillmode": "overlay",
              "size": 10,
              "solidity": 0.2
             }
            },
            "type": "bar"
           }
          ],
          "barpolar": [
           {
            "marker": {
             "line": {
              "color": "#E5ECF6",
              "width": 0.5
             },
             "pattern": {
              "fillmode": "overlay",
              "size": 10,
              "solidity": 0.2
             }
            },
            "type": "barpolar"
           }
          ],
          "carpet": [
           {
            "aaxis": {
             "endlinecolor": "#2a3f5f",
             "gridcolor": "white",
             "linecolor": "white",
             "minorgridcolor": "white",
             "startlinecolor": "#2a3f5f"
            },
            "baxis": {
             "endlinecolor": "#2a3f5f",
             "gridcolor": "white",
             "linecolor": "white",
             "minorgridcolor": "white",
             "startlinecolor": "#2a3f5f"
            },
            "type": "carpet"
           }
          ],
          "choropleth": [
           {
            "colorbar": {
             "outlinewidth": 0,
             "ticks": ""
            },
            "type": "choropleth"
           }
          ],
          "contour": [
           {
            "colorbar": {
             "outlinewidth": 0,
             "ticks": ""
            },
            "colorscale": [
             [
              0,
              "#0d0887"
             ],
             [
              0.1111111111111111,
              "#46039f"
             ],
             [
              0.2222222222222222,
              "#7201a8"
             ],
             [
              0.3333333333333333,
              "#9c179e"
             ],
             [
              0.4444444444444444,
              "#bd3786"
             ],
             [
              0.5555555555555556,
              "#d8576b"
             ],
             [
              0.6666666666666666,
              "#ed7953"
             ],
             [
              0.7777777777777778,
              "#fb9f3a"
             ],
             [
              0.8888888888888888,
              "#fdca26"
             ],
             [
              1,
              "#f0f921"
             ]
            ],
            "type": "contour"
           }
          ],
          "contourcarpet": [
           {
            "colorbar": {
             "outlinewidth": 0,
             "ticks": ""
            },
            "type": "contourcarpet"
           }
          ],
          "heatmap": [
           {
            "colorbar": {
             "outlinewidth": 0,
             "ticks": ""
            },
            "colorscale": [
             [
              0,
              "#0d0887"
             ],
             [
              0.1111111111111111,
              "#46039f"
             ],
             [
              0.2222222222222222,
              "#7201a8"
             ],
             [
              0.3333333333333333,
              "#9c179e"
             ],
             [
              0.4444444444444444,
              "#bd3786"
             ],
             [
              0.5555555555555556,
              "#d8576b"
             ],
             [
              0.6666666666666666,
              "#ed7953"
             ],
             [
              0.7777777777777778,
              "#fb9f3a"
             ],
             [
              0.8888888888888888,
              "#fdca26"
             ],
             [
              1,
              "#f0f921"
             ]
            ],
            "type": "heatmap"
           }
          ],
          "histogram": [
           {
            "marker": {
             "pattern": {
              "fillmode": "overlay",
              "size": 10,
              "solidity": 0.2
             }
            },
            "type": "histogram"
           }
          ],
          "histogram2d": [
           {
            "colorbar": {
             "outlinewidth": 0,
             "ticks": ""
            },
            "colorscale": [
             [
              0,
              "#0d0887"
             ],
             [
              0.1111111111111111,
              "#46039f"
             ],
             [
              0.2222222222222222,
              "#7201a8"
             ],
             [
              0.3333333333333333,
              "#9c179e"
             ],
             [
              0.4444444444444444,
              "#bd3786"
             ],
             [
              0.5555555555555556,
              "#d8576b"
             ],
             [
              0.6666666666666666,
              "#ed7953"
             ],
             [
              0.7777777777777778,
              "#fb9f3a"
             ],
             [
              0.8888888888888888,
              "#fdca26"
             ],
             [
              1,
              "#f0f921"
             ]
            ],
            "type": "histogram2d"
           }
          ],
          "histogram2dcontour": [
           {
            "colorbar": {
             "outlinewidth": 0,
             "ticks": ""
            },
            "colorscale": [
             [
              0,
              "#0d0887"
             ],
             [
              0.1111111111111111,
              "#46039f"
             ],
             [
              0.2222222222222222,
              "#7201a8"
             ],
             [
              0.3333333333333333,
              "#9c179e"
             ],
             [
              0.4444444444444444,
              "#bd3786"
             ],
             [
              0.5555555555555556,
              "#d8576b"
             ],
             [
              0.6666666666666666,
              "#ed7953"
             ],
             [
              0.7777777777777778,
              "#fb9f3a"
             ],
             [
              0.8888888888888888,
              "#fdca26"
             ],
             [
              1,
              "#f0f921"
             ]
            ],
            "type": "histogram2dcontour"
           }
          ],
          "mesh3d": [
           {
            "colorbar": {
             "outlinewidth": 0,
             "ticks": ""
            },
            "type": "mesh3d"
           }
          ],
          "parcoords": [
           {
            "line": {
             "colorbar": {
              "outlinewidth": 0,
              "ticks": ""
             }
            },
            "type": "parcoords"
           }
          ],
          "pie": [
           {
            "automargin": true,
            "type": "pie"
           }
          ],
          "scatter": [
           {
            "fillpattern": {
             "fillmode": "overlay",
             "size": 10,
             "solidity": 0.2
            },
            "type": "scatter"
           }
          ],
          "scatter3d": [
           {
            "line": {
             "colorbar": {
              "outlinewidth": 0,
              "ticks": ""
             }
            },
            "marker": {
             "colorbar": {
              "outlinewidth": 0,
              "ticks": ""
             }
            },
            "type": "scatter3d"
           }
          ],
          "scattercarpet": [
           {
            "marker": {
             "colorbar": {
              "outlinewidth": 0,
              "ticks": ""
             }
            },
            "type": "scattercarpet"
           }
          ],
          "scattergeo": [
           {
            "marker": {
             "colorbar": {
              "outlinewidth": 0,
              "ticks": ""
             }
            },
            "type": "scattergeo"
           }
          ],
          "scattergl": [
           {
            "marker": {
             "colorbar": {
              "outlinewidth": 0,
              "ticks": ""
             }
            },
            "type": "scattergl"
           }
          ],
          "scattermap": [
           {
            "marker": {
             "colorbar": {
              "outlinewidth": 0,
              "ticks": ""
             }
            },
            "type": "scattermap"
           }
          ],
          "scattermapbox": [
           {
            "marker": {
             "colorbar": {
              "outlinewidth": 0,
              "ticks": ""
             }
            },
            "type": "scattermapbox"
           }
          ],
          "scatterpolar": [
           {
            "marker": {
             "colorbar": {
              "outlinewidth": 0,
              "ticks": ""
             }
            },
            "type": "scatterpolar"
           }
          ],
          "scatterpolargl": [
           {
            "marker": {
             "colorbar": {
              "outlinewidth": 0,
              "ticks": ""
             }
            },
            "type": "scatterpolargl"
           }
          ],
          "scatterternary": [
           {
            "marker": {
             "colorbar": {
              "outlinewidth": 0,
              "ticks": ""
             }
            },
            "type": "scatterternary"
           }
          ],
          "surface": [
           {
            "colorbar": {
             "outlinewidth": 0,
             "ticks": ""
            },
            "colorscale": [
             [
              0,
              "#0d0887"
             ],
             [
              0.1111111111111111,
              "#46039f"
             ],
             [
              0.2222222222222222,
              "#7201a8"
             ],
             [
              0.3333333333333333,
              "#9c179e"
             ],
             [
              0.4444444444444444,
              "#bd3786"
             ],
             [
              0.5555555555555556,
              "#d8576b"
             ],
             [
              0.6666666666666666,
              "#ed7953"
             ],
             [
              0.7777777777777778,
              "#fb9f3a"
             ],
             [
              0.8888888888888888,
              "#fdca26"
             ],
             [
              1,
              "#f0f921"
             ]
            ],
            "type": "surface"
           }
          ],
          "table": [
           {
            "cells": {
             "fill": {
              "color": "#EBF0F8"
             },
             "line": {
              "color": "white"
             }
            },
            "header": {
             "fill": {
              "color": "#C8D4E3"
             },
             "line": {
              "color": "white"
             }
            },
            "type": "table"
           }
          ]
         },
         "layout": {
          "annotationdefaults": {
           "arrowcolor": "#2a3f5f",
           "arrowhead": 0,
           "arrowwidth": 1
          },
          "autotypenumbers": "strict",
          "coloraxis": {
           "colorbar": {
            "outlinewidth": 0,
            "ticks": ""
           }
          },
          "colorscale": {
           "diverging": [
            [
             0,
             "#8e0152"
            ],
            [
             0.1,
             "#c51b7d"
            ],
            [
             0.2,
             "#de77ae"
            ],
            [
             0.3,
             "#f1b6da"
            ],
            [
             0.4,
             "#fde0ef"
            ],
            [
             0.5,
             "#f7f7f7"
            ],
            [
             0.6,
             "#e6f5d0"
            ],
            [
             0.7,
             "#b8e186"
            ],
            [
             0.8,
             "#7fbc41"
            ],
            [
             0.9,
             "#4d9221"
            ],
            [
             1,
             "#276419"
            ]
           ],
           "sequential": [
            [
             0,
             "#0d0887"
            ],
            [
             0.1111111111111111,
             "#46039f"
            ],
            [
             0.2222222222222222,
             "#7201a8"
            ],
            [
             0.3333333333333333,
             "#9c179e"
            ],
            [
             0.4444444444444444,
             "#bd3786"
            ],
            [
             0.5555555555555556,
             "#d8576b"
            ],
            [
             0.6666666666666666,
             "#ed7953"
            ],
            [
             0.7777777777777778,
             "#fb9f3a"
            ],
            [
             0.8888888888888888,
             "#fdca26"
            ],
            [
             1,
             "#f0f921"
            ]
           ],
           "sequentialminus": [
            [
             0,
             "#0d0887"
            ],
            [
             0.1111111111111111,
             "#46039f"
            ],
            [
             0.2222222222222222,
             "#7201a8"
            ],
            [
             0.3333333333333333,
             "#9c179e"
            ],
            [
             0.4444444444444444,
             "#bd3786"
            ],
            [
             0.5555555555555556,
             "#d8576b"
            ],
            [
             0.6666666666666666,
             "#ed7953"
            ],
            [
             0.7777777777777778,
             "#fb9f3a"
            ],
            [
             0.8888888888888888,
             "#fdca26"
            ],
            [
             1,
             "#f0f921"
            ]
           ]
          },
          "colorway": [
           "#636efa",
           "#EF553B",
           "#00cc96",
           "#ab63fa",
           "#FFA15A",
           "#19d3f3",
           "#FF6692",
           "#B6E880",
           "#FF97FF",
           "#FECB52"
          ],
          "font": {
           "color": "#2a3f5f"
          },
          "geo": {
           "bgcolor": "white",
           "lakecolor": "white",
           "landcolor": "#E5ECF6",
           "showlakes": true,
           "showland": true,
           "subunitcolor": "white"
          },
          "hoverlabel": {
           "align": "left"
          },
          "hovermode": "closest",
          "mapbox": {
           "style": "light"
          },
          "paper_bgcolor": "white",
          "plot_bgcolor": "#E5ECF6",
          "polar": {
           "angularaxis": {
            "gridcolor": "white",
            "linecolor": "white",
            "ticks": ""
           },
           "bgcolor": "#E5ECF6",
           "radialaxis": {
            "gridcolor": "white",
            "linecolor": "white",
            "ticks": ""
           }
          },
          "scene": {
           "xaxis": {
            "backgroundcolor": "#E5ECF6",
            "gridcolor": "white",
            "gridwidth": 2,
            "linecolor": "white",
            "showbackground": true,
            "ticks": "",
            "zerolinecolor": "white"
           },
           "yaxis": {
            "backgroundcolor": "#E5ECF6",
            "gridcolor": "white",
            "gridwidth": 2,
            "linecolor": "white",
            "showbackground": true,
            "ticks": "",
            "zerolinecolor": "white"
           },
           "zaxis": {
            "backgroundcolor": "#E5ECF6",
            "gridcolor": "white",
            "gridwidth": 2,
            "linecolor": "white",
            "showbackground": true,
            "ticks": "",
            "zerolinecolor": "white"
           }
          },
          "shapedefaults": {
           "line": {
            "color": "#2a3f5f"
           }
          },
          "ternary": {
           "aaxis": {
            "gridcolor": "white",
            "linecolor": "white",
            "ticks": ""
           },
           "baxis": {
            "gridcolor": "white",
            "linecolor": "white",
            "ticks": ""
           },
           "bgcolor": "#E5ECF6",
           "caxis": {
            "gridcolor": "white",
            "linecolor": "white",
            "ticks": ""
           }
          },
          "title": {
           "x": 0.05
          },
          "xaxis": {
           "automargin": true,
           "gridcolor": "white",
           "linecolor": "white",
           "ticks": "",
           "title": {
            "standoff": 15
           },
           "zerolinecolor": "white",
           "zerolinewidth": 2
          },
          "yaxis": {
           "automargin": true,
           "gridcolor": "white",
           "linecolor": "white",
           "ticks": "",
           "title": {
            "standoff": 15
           },
           "zerolinecolor": "white",
           "zerolinewidth": 2
          }
         }
        },
        "title": {
         "text": "Population of Poland and Germany Over Time"
        },
        "xaxis": {
         "anchor": "y",
         "domain": [
          0,
          1
         ],
         "title": {
          "text": "Year"
         }
        },
        "yaxis": {
         "anchor": "x",
         "domain": [
          0,
          1
         ],
         "range": [
          0,
          93007409.00000001
         ],
         "title": {
          "text": "Population"
         }
        }
       }
      }
     },
     "metadata": {},
     "output_type": "display_data"
    }
   ],
   "source": [
    "# Plot Poland and Germany population over time using plotly express\n",
    "fig = px.line(combined_data, x='year', y='population', color='country',\n",
    "              title='Population of Poland and Germany Over Time',\n",
    "              labels={'population': 'Population', 'year': 'Year'})\n",
    "fig.update_layout(yaxis_range=[0, combined_data['population'].max() * 1.1])\n",
    "fig.show()"
   ]
  }
 ],
 "metadata": {
  "kernelspec": {
   "display_name": "etl",
   "language": "python",
   "name": "python3"
  },
  "language_info": {
   "codemirror_mode": {
    "name": "ipython",
    "version": 3
   },
   "file_extension": ".py",
   "mimetype": "text/x-python",
   "name": "python",
   "nbconvert_exporter": "python",
   "pygments_lexer": "ipython3",
   "version": "3.12.4"
  }
 },
 "nbformat": 4,
 "nbformat_minor": 5
}
